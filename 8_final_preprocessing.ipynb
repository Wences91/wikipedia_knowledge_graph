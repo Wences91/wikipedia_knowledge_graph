{
 "cells": [
  {
   "cell_type": "markdown",
   "id": "293486ca",
   "metadata": {},
   "source": [
    "# Preprocessing"
   ]
  },
  {
   "cell_type": "code",
   "execution_count": null,
   "id": "c061d1ba",
   "metadata": {},
   "outputs": [],
   "source": []
  },
  {
   "cell_type": "code",
   "execution_count": null,
   "id": "ed049a4b",
   "metadata": {},
   "outputs": [],
   "source": [
    "import pandas as pd\n",
    "import csv\n",
    "import random"
   ]
  },
  {
   "cell_type": "markdown",
   "id": "0528c722",
   "metadata": {},
   "source": [
    "## 1. Categories"
   ]
  },
  {
   "cell_type": "code",
   "execution_count": null,
   "id": "be960ea3",
   "metadata": {},
   "outputs": [],
   "source": [
    "df_cat = pd.read_csv('category/wikipedia_category.tsv', sep='\\t')\n",
    "df_cat"
   ]
  },
  {
   "cell_type": "code",
   "execution_count": null,
   "id": "6b50b395",
   "metadata": {
    "tags": []
   },
   "outputs": [],
   "source": [
    "df_cat.rename(columns={'cat_id': 'category_id',\n",
    "                       'cat_title': 'title',\n",
    "                       'cat_pages': 'pages',\n",
    "                       'cat_subcats': 'subcats',\n",
    "                       'cat_files': 'files'},\n",
    "              inplace=True)\n",
    "df_cat"
   ]
  },
  {
   "cell_type": "code",
   "execution_count": null,
   "id": "d389e051",
   "metadata": {},
   "outputs": [],
   "source": [
    "cat_names = df_cat[['category_id', 'category_title']].drop_duplicates()\n",
    "cat_names"
   ]
  },
  {
   "cell_type": "code",
   "execution_count": null,
   "id": "181339ba",
   "metadata": {},
   "outputs": [],
   "source": [
    "df_cat.to_csv('data/category.tsv', sep='\\t', index=False)"
   ]
  },
  {
   "cell_type": "markdown",
   "id": "8c44d121",
   "metadata": {},
   "source": [
    "## 2. Category links"
   ]
  },
  {
   "cell_type": "code",
   "execution_count": null,
   "id": "f0a0d12f",
   "metadata": {},
   "outputs": [],
   "source": [
    "df_cl = pd.read_csv('categorylinks/wikipedia_page_category.tsv', sep='\\t')\n",
    "df_cl"
   ]
  },
  {
   "cell_type": "code",
   "execution_count": null,
   "id": "05c09236",
   "metadata": {},
   "outputs": [],
   "source": [
    "df_cl = pd.merge(df_cl, cat_names, how='inner', left_on='cl_to', right_on='category_title')\n",
    "df_cl = df_cl[['cl_from', 'category_id', 'cl_type']].drop_duplicates()\n",
    "df_cl.rename(columns={'cl_from': 'page_id',\n",
    "                   'cl_type': 'type'},\n",
    "         inplace=True)\n",
    "df_cl"
   ]
  },
  {
   "cell_type": "code",
   "execution_count": null,
   "id": "b235774d",
   "metadata": {},
   "outputs": [],
   "source": [
    "df_cl.to_csv('data/page_category.tsv', sep='\\t', index=False)"
   ]
  },
  {
   "cell_type": "markdown",
   "id": "79a64a1d",
   "metadata": {},
   "source": [
    "## 3. References"
   ]
  },
  {
   "cell_type": "code",
   "execution_count": null,
   "id": "36270142",
   "metadata": {},
   "outputs": [],
   "source": [
    "df_ref = pd.read_csv('references/wp_ref.tsv', sep='\\t')\n",
    "df_ref.rename(columns={'id': 'page_id',\n",
    "                       'r_id': 'identifier',\n",
    "                       'type': 'identifier_type'},\n",
    "             inplace=True)\n",
    "df_ref"
   ]
  },
  {
   "cell_type": "code",
   "execution_count": null,
   "id": "b4faa4d3",
   "metadata": {},
   "outputs": [],
   "source": [
    "df_ref['identifier_type'] = df_ref['identifier_type'].str.lower()\n",
    "df_ref['identifier'] = df_ref['identifier'].str.lower()\n",
    "df_pub = df_ref[['pub_id', 'identifier_type', 'identifier']].drop_duplicates()\n",
    "df_pub"
   ]
  },
  {
   "cell_type": "code",
   "execution_count": null,
   "id": "d4130d06",
   "metadata": {},
   "outputs": [],
   "source": [
    "df_pub = df_pub.pivot(index='pub_id', columns='identifier_type', values='identifier')\n",
    "df_pub.fillna('', inplace=True)\n",
    "df_pub"
   ]
  },
  {
   "cell_type": "code",
   "execution_count": null,
   "id": "bf85e2b0",
   "metadata": {},
   "outputs": [],
   "source": [
    "df_pub['id'] = (df_pub['arxiv'].astype(str) + '|' +\n",
    "                df_pub['asin'].astype(str) +  '|' +\n",
    "                df_pub['bibcode'].astype(str) +  '|' +\n",
    "                df_pub['doi'].astype(str) + '|' +\n",
    "                df_pub['isbn'].astype(str) + '|' +\n",
    "                df_pub['ismn'].astype(str) + '|' +\n",
    "                df_pub['jfm'].astype(str) + '|' +\n",
    "                df_pub['jstor'].astype(str) + '|' +\n",
    "                df_pub['lccn'].astype(str) + '|' +\n",
    "                df_pub['mr'].astype(str) + '|' +\n",
    "                df_pub['oclc'].astype(str) + '|' +\n",
    "                df_pub['ol'].astype(str) + '|' +\n",
    "                df_pub['osti'].astype(str) + '|' +\n",
    "                df_pub['pmc'].astype(str) + '|' +\n",
    "                df_pub['pmid'].astype(str) + '|' +\n",
    "                df_pub['rfc'].astype(str) + '|' +\n",
    "                df_pub['ssrn'].astype(str) + '|' +\n",
    "                df_pub['url'].astype(str) + '|' +\n",
    "                df_pub['usenetid'].astype(str) + '|' +\n",
    "                df_pub['zbl'].astype(str))\n",
    "df_pub"
   ]
  },
  {
   "cell_type": "code",
   "execution_count": null,
   "id": "5fe760b8",
   "metadata": {},
   "outputs": [],
   "source": [
    "df_pub.reset_index(inplace=True)\n",
    "df_pub"
   ]
  },
  {
   "cell_type": "code",
   "execution_count": null,
   "id": "a5d9776b",
   "metadata": {},
   "outputs": [],
   "source": [
    "len(set(df_pub['id'].tolist()))"
   ]
  },
  {
   "cell_type": "code",
   "execution_count": null,
   "id": "d6da1c95",
   "metadata": {},
   "outputs": [],
   "source": [
    "df_pub[['id']]"
   ]
  },
  {
   "cell_type": "code",
   "execution_count": null,
   "id": "c8d83475",
   "metadata": {},
   "outputs": [],
   "source": [
    "df_ref = pd.merge(df_ref, df_pub[['pub_id', 'id']], left_on='pub_id', right_on='pub_id')\n",
    "df_ref"
   ]
  },
  {
   "cell_type": "code",
   "execution_count": null,
   "id": "3370565d",
   "metadata": {},
   "outputs": [],
   "source": [
    "df_pub.drop('pub_id', axis=1, inplace=True)\n",
    "df_pub = df_pub.drop_duplicates()\n",
    "df_pub"
   ]
  },
  {
   "cell_type": "code",
   "execution_count": null,
   "id": "7751cfd4",
   "metadata": {},
   "outputs": [],
   "source": [
    "df_pub['pub_id'] = range(1,df_pub.shape[0]+1)\n",
    "df_pub"
   ]
  },
  {
   "cell_type": "code",
   "execution_count": null,
   "id": "9d460387",
   "metadata": {},
   "outputs": [],
   "source": [
    "df_ref = pd.merge(df_ref[['page_id', 'id', 'identifier_type', 'identifier']], df_pub[['pub_id', 'id']], left_on='id', right_on='id')\n",
    "df_ref = df_ref[['page_id', 'pub_id']].drop_duplicates()\n",
    "df_ref"
   ]
  },
  {
   "cell_type": "code",
   "execution_count": null,
   "id": "e1f90c35",
   "metadata": {},
   "outputs": [],
   "source": [
    "df_ref.to_csv('data/page_pub.tsv', sep='\\t', index=False)"
   ]
  },
  {
   "cell_type": "code",
   "execution_count": null,
   "id": "37f241f4",
   "metadata": {},
   "outputs": [],
   "source": [
    "df_pub = df_pub[['pub_id', 'arxiv', 'asin', 'bibcode', 'doi', 'isbn','ismn', 'jfm', 'jstor', 'lccn', 'mr', 'oclc', 'ol', 'osti', 'pmc', 'pmid', 'rfc', 'ssrn', 'url', 'usenetid', 'zbl']]\n",
    "df_pub = df_pub.drop_duplicates()\n",
    "df_pub"
   ]
  },
  {
   "cell_type": "code",
   "execution_count": null,
   "id": "9b629273",
   "metadata": {},
   "outputs": [],
   "source": [
    "df_pub.to_csv('data/pub.tsv', sep='\\t', index=False)"
   ]
  },
  {
   "cell_type": "markdown",
   "id": "a0ad95d9",
   "metadata": {},
   "source": [
    "## 4. Pagelinks"
   ]
  },
  {
   "cell_type": "code",
   "execution_count": null,
   "id": "5921e25d",
   "metadata": {},
   "outputs": [],
   "source": [
    "df_pl = pd.read_csv('pagelinks/wp_pagelinks.tsv', sep='\\t')\n",
    "df_pl"
   ]
  },
  {
   "cell_type": "markdown",
   "id": "65675ec9",
   "metadata": {},
   "source": [
    "### 4.1. Pages"
   ]
  },
  {
   "cell_type": "markdown",
   "id": "feb8e351",
   "metadata": {},
   "source": [
    "Reduce Wikipedia pages to articles (namespace=0)."
   ]
  },
  {
   "cell_type": "code",
   "execution_count": null,
   "id": "b5389b3f",
   "metadata": {},
   "outputs": [],
   "source": [
    "df_pages = pd.read_csv('page/page.tsv', sep='\\t')\n",
    "df_pages = df_pages[df_pages['page_namespace']==0]\n",
    "df_pages = df_pages[['page_id', 'page_title']]\n",
    "df_pages"
   ]
  },
  {
   "cell_type": "code",
   "execution_count": null,
   "id": "58517968",
   "metadata": {},
   "outputs": [],
   "source": [
    "df_pl = pd.merge(df_pl, df_pages, how='inner', left_on='pl_title', right_on='page_title')\n",
    "df_pl"
   ]
  },
  {
   "cell_type": "code",
   "execution_count": null,
   "id": "0eec9749",
   "metadata": {},
   "outputs": [],
   "source": [
    "a = df_pages['page_title'].tolist()\n",
    "b = df_pages['page_id'].tolist()"
   ]
  },
  {
   "cell_type": "code",
   "execution_count": null,
   "id": "507f324f",
   "metadata": {},
   "outputs": [],
   "source": [
    "df_pl = df_pl[df_pl['pl_title'].isin(a)]\n",
    "df_pl"
   ]
  },
  {
   "cell_type": "code",
   "execution_count": null,
   "id": "c769e043",
   "metadata": {},
   "outputs": [],
   "source": [
    "df_pl = df_pl[df_pl['pl_from'].isin(b)]\n",
    "df_pl"
   ]
  },
  {
   "cell_type": "code",
   "execution_count": null,
   "id": "e9d8cea4",
   "metadata": {},
   "outputs": [],
   "source": [
    "c = df_pl['pl_title'][0:5]\n",
    "c"
   ]
  },
  {
   "cell_type": "code",
   "execution_count": null,
   "id": "df25a0be",
   "metadata": {},
   "outputs": [],
   "source": [
    "replacement_map = {i1: i2 for i1, i2 in zip(a, b)}\n",
    "c.map(replacement_map)"
   ]
  },
  {
   "cell_type": "code",
   "execution_count": null,
   "id": "0a94ec04",
   "metadata": {},
   "outputs": [],
   "source": [
    "df_pl['pl_title'] = df_pl['pl_title'].map(replacement_map)\n",
    "df_pl"
   ]
  },
  {
   "cell_type": "code",
   "execution_count": null,
   "id": "8f598ea6",
   "metadata": {},
   "outputs": [],
   "source": [
    "df_pl.rename(columns={'pl_from': 'page_id',\n",
    "                      'pl_title': 'linked_page_id'},\n",
    "            inplace=True)\n",
    "df_pl"
   ]
  },
  {
   "cell_type": "code",
   "execution_count": null,
   "id": "19e9953b",
   "metadata": {},
   "outputs": [],
   "source": [
    "df_pl.to_csv('data/page_link.tsv', sep='\\t', index=False)"
   ]
  },
  {
   "cell_type": "markdown",
   "id": "d78ccad3",
   "metadata": {},
   "source": [
    "## 5. Pages"
   ]
  },
  {
   "cell_type": "markdown",
   "id": "703d6209",
   "metadata": {},
   "source": [
    "Merging with other datasets (views and edits)."
   ]
  },
  {
   "cell_type": "code",
   "execution_count": null,
   "id": "a20bcf2a",
   "metadata": {},
   "outputs": [],
   "source": [
    "df_pages = pd.read_csv('page/page.tsv', sep='\\t')\n",
    "df_pages"
   ]
  },
  {
   "cell_type": "markdown",
   "id": "abc53248",
   "metadata": {},
   "source": [
    "### 5.1. Views"
   ]
  },
  {
   "cell_type": "code",
   "execution_count": null,
   "id": "8e8c64fd",
   "metadata": {},
   "outputs": [],
   "source": [
    "df_pv = pd.read_csv('pageviews/page_views.tsv', sep='\\t', quoting=csv.QUOTE_NONE)\n",
    "df_pv.rename(columns={'title':'page_title',\n",
    "                      'daily_total': 'views'},\n",
    "            inplace=True)\n",
    "df_pv"
   ]
  },
  {
   "cell_type": "code",
   "execution_count": null,
   "id": "460efca5",
   "metadata": {},
   "outputs": [],
   "source": [
    "df_pv[df_pv['page_title']=='Magnolia_(film)']"
   ]
  },
  {
   "cell_type": "code",
   "execution_count": null,
   "id": "4e6c155e",
   "metadata": {},
   "outputs": [],
   "source": [
    "df_pv[~ df_pv['page_title'].isin(df_pages['page_title'].tolist())].head(50)"
   ]
  },
  {
   "cell_type": "code",
   "execution_count": null,
   "id": "b64a0934",
   "metadata": {},
   "outputs": [],
   "source": [
    "df_pages[df_pages['page_title']=='\"Weird_Al\"_Yankovic_songs']"
   ]
  },
  {
   "cell_type": "code",
   "execution_count": null,
   "id": "beb9f777",
   "metadata": {},
   "outputs": [],
   "source": [
    "df_pages = pd.merge(df_pages, df_pv, how='left', on='page_title')\n",
    "df_pages"
   ]
  },
  {
   "cell_type": "code",
   "execution_count": null,
   "id": "a8e11811",
   "metadata": {},
   "outputs": [],
   "source": [
    "df_pages['views'] = df_pages['views'].astype('Int64')\n",
    "df_pages"
   ]
  },
  {
   "cell_type": "code",
   "execution_count": null,
   "id": "ab90c962",
   "metadata": {},
   "outputs": [],
   "source": [
    "df_pages['page_links_updated'] = df_pages['page_links_updated'].astype('Int64')\n",
    "df_pages"
   ]
  },
  {
   "cell_type": "markdown",
   "id": "a9569344",
   "metadata": {},
   "source": [
    "### 5.2. Edits"
   ]
  },
  {
   "cell_type": "code",
   "execution_count": null,
   "id": "17cbf83b",
   "metadata": {},
   "outputs": [],
   "source": [
    "df_pr = pd.read_csv('edits/page_edits.tsv', sep='\\t')\n",
    "df_pr"
   ]
  },
  {
   "cell_type": "code",
   "execution_count": null,
   "id": "da0722d2",
   "metadata": {},
   "outputs": [],
   "source": [
    "df_pr[~ df_pr['page_id'].isin(df_pages['page_id'].tolist())]"
   ]
  },
  {
   "cell_type": "code",
   "execution_count": null,
   "id": "143dad3b",
   "metadata": {},
   "outputs": [],
   "source": [
    "df_pages = pd.merge(df_pages, df_pr, how='left', on='page_id')\n",
    "df_pages"
   ]
  },
  {
   "cell_type": "code",
   "execution_count": null,
   "id": "40a70786",
   "metadata": {},
   "outputs": [],
   "source": [
    "df_pages['count'] = df_pages['count'].astype('Int64')\n",
    "df_pages['contributor'] = df_pages['contributor'].astype('Int64')\n",
    "df_pages"
   ]
  },
  {
   "cell_type": "code",
   "execution_count": null,
   "id": "6c8dc754",
   "metadata": {},
   "outputs": [],
   "source": [
    "df_pages.rename(columns={'page_namespace': 'namespace',\n",
    "                         'page_title': 'title',\n",
    "                         'page_restrictions': 'restrictions',\n",
    "                         'page_is_redirect': 'is_redirect',\n",
    "                         'page_is_new': 'is_new',\n",
    "                         'page_touched': 'touched',\n",
    "                         'page_links_updated': 'links_updated',\n",
    "                         'page_latest': 'latest',\n",
    "                         'page_len': 'len',\n",
    "                         'page_content_model': 'content_model',\n",
    "                         'count': 'edits',\n",
    "                         'time': 'creation',\n",
    "                         'contributor': 'editors'},\n",
    "               inplace=True)\n",
    "df_pages"
   ]
  },
  {
   "cell_type": "code",
   "execution_count": null,
   "id": "5f107e55",
   "metadata": {},
   "outputs": [],
   "source": [
    "df_pages.to_csv('data/page.tsv', sep='\\t', index=False, quoting=csv.QUOTE_NONE)"
   ]
  },
  {
   "cell_type": "markdown",
   "id": "f3789450",
   "metadata": {},
   "source": [
    "## 6. Page_props"
   ]
  },
  {
   "cell_type": "code",
   "execution_count": null,
   "id": "b5b7320d",
   "metadata": {},
   "outputs": [],
   "source": [
    "df_pp = pd.read_csv('page_props/wp_page_props.tsv', sep='\\t')\n",
    "df_pp.rename(columns={'pp_page':'page_id',\n",
    "                      'pp_propname': 'property_name',\n",
    "                      'pp_value': 'property'},\n",
    "            inplace=True)\n",
    "df_pp"
   ]
  },
  {
   "cell_type": "code",
   "execution_count": null,
   "id": "436ee78b",
   "metadata": {},
   "outputs": [],
   "source": [
    "df_pp.to_csv('data/page_property.tsv', sep='\\t', index=False)"
   ]
  },
  {
   "cell_type": "markdown",
   "id": "3b1c8839",
   "metadata": {},
   "source": [
    "## 7. Page URL"
   ]
  },
  {
   "cell_type": "code",
   "execution_count": null,
   "id": "cec6c886",
   "metadata": {},
   "outputs": [],
   "source": [
    "df_purl = pd.read_csv('url_normalization/page_url.tsv', sep='\\t')\n",
    "df_purl"
   ]
  },
  {
   "cell_type": "code",
   "execution_count": null,
   "id": "7e11b469",
   "metadata": {},
   "outputs": [],
   "source": [
    "df_purl.rename(columns={'ref': 'in_reference'},\n",
    "               inplace=True)\n",
    "df_purl"
   ]
  },
  {
   "cell_type": "code",
   "execution_count": null,
   "id": "38703543",
   "metadata": {},
   "outputs": [],
   "source": [
    "df_purl.to_csv('data/page_url.tsv', sep='\\t', index=False, quoting=csv.QUOTE_NONE)"
   ]
  }
 ],
 "metadata": {
  "kernelspec": {
   "display_name": "Python 3 (ipykernel)",
   "language": "python",
   "name": "python3"
  },
  "language_info": {
   "codemirror_mode": {
    "name": "ipython",
    "version": 3
   },
   "file_extension": ".py",
   "mimetype": "text/x-python",
   "name": "python",
   "nbconvert_exporter": "python",
   "pygments_lexer": "ipython3",
   "version": "3.8.8"
  }
 },
 "nbformat": 4,
 "nbformat_minor": 5
}
