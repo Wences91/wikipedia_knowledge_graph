{
 "cells": [
  {
   "cell_type": "markdown",
   "metadata": {},
   "source": [
    "# URL normalization (all)"
   ]
  },
  {
   "cell_type": "markdown",
   "metadata": {},
   "source": [
    "In this Notebook, the normalization of external URLs is carried out."
   ]
  },
  {
   "cell_type": "code",
   "execution_count": 1,
   "metadata": {},
   "outputs": [],
   "source": [
    "import re\n",
    "import urllib\n",
    "from url_normalize import url_normalize\n",
    "from scrapy.utils.url import canonicalize_url\n",
    "import pandas as pd"
   ]
  },
  {
   "cell_type": "markdown",
   "metadata": {},
   "source": [
    "# 0. Import the dataset"
   ]
  },
  {
   "cell_type": "markdown",
   "metadata": {},
   "source": [
    "The full dataset of references is imported."
   ]
  },
  {
   "cell_type": "code",
   "execution_count": 2,
   "metadata": {},
   "outputs": [
    {
     "data": {
      "text/html": [
       "<div>\n",
       "<style scoped>\n",
       "    .dataframe tbody tr th:only-of-type {\n",
       "        vertical-align: middle;\n",
       "    }\n",
       "\n",
       "    .dataframe tbody tr th {\n",
       "        vertical-align: top;\n",
       "    }\n",
       "\n",
       "    .dataframe thead th {\n",
       "        text-align: right;\n",
       "    }\n",
       "</style>\n",
       "<table border=\"1\" class=\"dataframe\">\n",
       "  <thead>\n",
       "    <tr style=\"text-align: right;\">\n",
       "      <th></th>\n",
       "      <th>el_from</th>\n",
       "      <th>el_to</th>\n",
       "    </tr>\n",
       "  </thead>\n",
       "  <tbody>\n",
       "    <tr>\n",
       "      <th>0</th>\n",
       "      <td>3850540</td>\n",
       "      <td>http://www.housing.berkeley.edu/housing/</td>\n",
       "    </tr>\n",
       "    <tr>\n",
       "      <th>1</th>\n",
       "      <td>3850540</td>\n",
       "      <td>http://www.freebornhall.com/History/ResidenceH...</td>\n",
       "    </tr>\n",
       "    <tr>\n",
       "      <th>2</th>\n",
       "      <td>3802986</td>\n",
       "      <td>http://www.usdoj.gov/usao/iln/osc/documents/ag...</td>\n",
       "    </tr>\n",
       "    <tr>\n",
       "      <th>3</th>\n",
       "      <td>3834458</td>\n",
       "      <td>http://worlddmc.ohiolink.edu/OMP/NewDetails?oi...</td>\n",
       "    </tr>\n",
       "    <tr>\n",
       "      <th>4</th>\n",
       "      <td>840171</td>\n",
       "      <td>http://www.kloster-einsiedeln.ch</td>\n",
       "    </tr>\n",
       "    <tr>\n",
       "      <th>...</th>\n",
       "      <td>...</td>\n",
       "      <td>...</td>\n",
       "    </tr>\n",
       "    <tr>\n",
       "      <th>161719035</th>\n",
       "      <td>67938919</td>\n",
       "      <td>https://ui.adsabs.harvard.edu/abs/2016JHEP...0...</td>\n",
       "    </tr>\n",
       "    <tr>\n",
       "      <th>161719036</th>\n",
       "      <td>67938919</td>\n",
       "      <td>https://api.semanticscholar.org/CorpusID:11920...</td>\n",
       "    </tr>\n",
       "    <tr>\n",
       "      <th>161719037</th>\n",
       "      <td>67666683</td>\n",
       "      <td>https://cluebotng.toolforge.org/?page=View&amp;id=...</td>\n",
       "    </tr>\n",
       "    <tr>\n",
       "      <th>161719038</th>\n",
       "      <td>32439342</td>\n",
       "      <td>https://en.wikisource.org/wiki/Eminent_Chinese...</td>\n",
       "    </tr>\n",
       "    <tr>\n",
       "      <th>161719039</th>\n",
       "      <td>68060851</td>\n",
       "      <td>https://www.birthday.se/Agrin-Rahmani-Azer/Sto...</td>\n",
       "    </tr>\n",
       "  </tbody>\n",
       "</table>\n",
       "<p>161719040 rows × 2 columns</p>\n",
       "</div>"
      ],
      "text/plain": [
       "            el_from                                              el_to\n",
       "0           3850540           http://www.housing.berkeley.edu/housing/\n",
       "1           3850540  http://www.freebornhall.com/History/ResidenceH...\n",
       "2           3802986  http://www.usdoj.gov/usao/iln/osc/documents/ag...\n",
       "3           3834458  http://worlddmc.ohiolink.edu/OMP/NewDetails?oi...\n",
       "4            840171                   http://www.kloster-einsiedeln.ch\n",
       "...             ...                                                ...\n",
       "161719035  67938919  https://ui.adsabs.harvard.edu/abs/2016JHEP...0...\n",
       "161719036  67938919  https://api.semanticscholar.org/CorpusID:11920...\n",
       "161719037  67666683  https://cluebotng.toolforge.org/?page=View&id=...\n",
       "161719038  32439342  https://en.wikisource.org/wiki/Eminent_Chinese...\n",
       "161719039  68060851  https://www.birthday.se/Agrin-Rahmani-Azer/Sto...\n",
       "\n",
       "[161719040 rows x 2 columns]"
      ]
     },
     "execution_count": 2,
     "metadata": {},
     "output_type": "execute_result"
    }
   ],
   "source": [
    "df = pd.read_csv('url_normalization/enwiki-20210701-externallinks.csv')\n",
    "df"
   ]
  },
  {
   "cell_type": "markdown",
   "metadata": {},
   "source": [
    "These are all the external links included in the Wikipedia page of The Strokes."
   ]
  },
  {
   "cell_type": "code",
   "execution_count": 3,
   "metadata": {},
   "outputs": [
    {
     "data": {
      "text/html": [
       "<div>\n",
       "<style scoped>\n",
       "    .dataframe tbody tr th:only-of-type {\n",
       "        vertical-align: middle;\n",
       "    }\n",
       "\n",
       "    .dataframe tbody tr th {\n",
       "        vertical-align: top;\n",
       "    }\n",
       "\n",
       "    .dataframe thead th {\n",
       "        text-align: right;\n",
       "    }\n",
       "</style>\n",
       "<table border=\"1\" class=\"dataframe\">\n",
       "  <thead>\n",
       "    <tr style=\"text-align: right;\">\n",
       "      <th></th>\n",
       "      <th>el_from</th>\n",
       "      <th>el_to</th>\n",
       "    </tr>\n",
       "  </thead>\n",
       "  <tbody>\n",
       "    <tr>\n",
       "      <th>11662364</th>\n",
       "      <td>148546</td>\n",
       "      <td>http://thestrokes.com</td>\n",
       "    </tr>\n",
       "    <tr>\n",
       "      <th>17246254</th>\n",
       "      <td>148546</td>\n",
       "      <td>http://www.clashmusic.com/artists/the-strokes</td>\n",
       "    </tr>\n",
       "    <tr>\n",
       "      <th>17796240</th>\n",
       "      <td>148546</td>\n",
       "      <td>http://www.mtve.com/article.php?ArticleId=4690</td>\n",
       "    </tr>\n",
       "    <tr>\n",
       "      <th>17796241</th>\n",
       "      <td>148546</td>\n",
       "      <td>http://www.clashmusic.com/news/the-strokes-dis...</td>\n",
       "    </tr>\n",
       "    <tr>\n",
       "      <th>17796242</th>\n",
       "      <td>148546</td>\n",
       "      <td>http://www.hitquarters.com/index.php3?page=int...</td>\n",
       "    </tr>\n",
       "    <tr>\n",
       "      <th>...</th>\n",
       "      <td>...</td>\n",
       "      <td>...</td>\n",
       "    </tr>\n",
       "    <tr>\n",
       "      <th>136754505</th>\n",
       "      <td>148546</td>\n",
       "      <td>https://variety.com/2020/tv/news/saturday-nigh...</td>\n",
       "    </tr>\n",
       "    <tr>\n",
       "      <th>137090067</th>\n",
       "      <td>148546</td>\n",
       "      <td>https://www.nme.com/news/music/watch-the-strok...</td>\n",
       "    </tr>\n",
       "    <tr>\n",
       "      <th>147425416</th>\n",
       "      <td>148546</td>\n",
       "      <td>https://www.nme.com/news/music/the-strokes-tal...</td>\n",
       "    </tr>\n",
       "    <tr>\n",
       "      <th>151968272</th>\n",
       "      <td>148546</td>\n",
       "      <td>https://pitchfork.com/news/the-strokes-win-bes...</td>\n",
       "    </tr>\n",
       "    <tr>\n",
       "      <th>160787575</th>\n",
       "      <td>148546</td>\n",
       "      <td>https://www.rollingstone.com/music/music-news/...</td>\n",
       "    </tr>\n",
       "  </tbody>\n",
       "</table>\n",
       "<p>109 rows × 2 columns</p>\n",
       "</div>"
      ],
      "text/plain": [
       "           el_from                                              el_to\n",
       "11662364    148546                              http://thestrokes.com\n",
       "17246254    148546      http://www.clashmusic.com/artists/the-strokes\n",
       "17796240    148546     http://www.mtve.com/article.php?ArticleId=4690\n",
       "17796241    148546  http://www.clashmusic.com/news/the-strokes-dis...\n",
       "17796242    148546  http://www.hitquarters.com/index.php3?page=int...\n",
       "...            ...                                                ...\n",
       "136754505   148546  https://variety.com/2020/tv/news/saturday-nigh...\n",
       "137090067   148546  https://www.nme.com/news/music/watch-the-strok...\n",
       "147425416   148546  https://www.nme.com/news/music/the-strokes-tal...\n",
       "151968272   148546  https://pitchfork.com/news/the-strokes-win-bes...\n",
       "160787575   148546  https://www.rollingstone.com/music/music-news/...\n",
       "\n",
       "[109 rows x 2 columns]"
      ]
     },
     "execution_count": 3,
     "metadata": {},
     "output_type": "execute_result"
    }
   ],
   "source": [
    "df[df['el_from'] == 148546]"
   ]
  },
  {
   "cell_type": "markdown",
   "metadata": {},
   "source": [
    "Due to the huge size of the dataset is necessary to reduce the external links to only from Wikipedia pages. To do it, the Wikipedia page dataset es imported."
   ]
  },
  {
   "cell_type": "code",
   "execution_count": 10,
   "metadata": {},
   "outputs": [
    {
     "data": {
      "text/html": [
       "<div>\n",
       "<style scoped>\n",
       "    .dataframe tbody tr th:only-of-type {\n",
       "        vertical-align: middle;\n",
       "    }\n",
       "\n",
       "    .dataframe tbody tr th {\n",
       "        vertical-align: top;\n",
       "    }\n",
       "\n",
       "    .dataframe thead th {\n",
       "        text-align: right;\n",
       "    }\n",
       "</style>\n",
       "<table border=\"1\" class=\"dataframe\">\n",
       "  <thead>\n",
       "    <tr style=\"text-align: right;\">\n",
       "      <th></th>\n",
       "      <th>page_id</th>\n",
       "      <th>page_namespace</th>\n",
       "      <th>page_title</th>\n",
       "      <th>page_restrictions</th>\n",
       "      <th>page_is_redirect</th>\n",
       "      <th>page_is_new</th>\n",
       "      <th>page_touched</th>\n",
       "      <th>page_links_updated</th>\n",
       "      <th>page_latest</th>\n",
       "      <th>page_len</th>\n",
       "      <th>page_content_model</th>\n",
       "    </tr>\n",
       "  </thead>\n",
       "  <tbody>\n",
       "    <tr>\n",
       "      <th>0</th>\n",
       "      <td>10</td>\n",
       "      <td>0</td>\n",
       "      <td>AccessibleComputing</td>\n",
       "      <td>NaN</td>\n",
       "      <td>1</td>\n",
       "      <td>0</td>\n",
       "      <td>20210607122734</td>\n",
       "      <td>2.021061e+13</td>\n",
       "      <td>1002250816</td>\n",
       "      <td>111</td>\n",
       "      <td>wikitext</td>\n",
       "    </tr>\n",
       "    <tr>\n",
       "      <th>1</th>\n",
       "      <td>12</td>\n",
       "      <td>0</td>\n",
       "      <td>Anarchism</td>\n",
       "      <td>NaN</td>\n",
       "      <td>0</td>\n",
       "      <td>0</td>\n",
       "      <td>20210701093040</td>\n",
       "      <td>2.021070e+13</td>\n",
       "      <td>1030472204</td>\n",
       "      <td>96584</td>\n",
       "      <td>wikitext</td>\n",
       "    </tr>\n",
       "    <tr>\n",
       "      <th>2</th>\n",
       "      <td>13</td>\n",
       "      <td>0</td>\n",
       "      <td>AfghanistanHistory</td>\n",
       "      <td>NaN</td>\n",
       "      <td>1</td>\n",
       "      <td>0</td>\n",
       "      <td>20210629133822</td>\n",
       "      <td>2.021061e+13</td>\n",
       "      <td>783865149</td>\n",
       "      <td>90</td>\n",
       "      <td>wikitext</td>\n",
       "    </tr>\n",
       "    <tr>\n",
       "      <th>3</th>\n",
       "      <td>14</td>\n",
       "      <td>0</td>\n",
       "      <td>AfghanistanGeography</td>\n",
       "      <td>NaN</td>\n",
       "      <td>1</td>\n",
       "      <td>0</td>\n",
       "      <td>20210607122734</td>\n",
       "      <td>2.021061e+13</td>\n",
       "      <td>783865160</td>\n",
       "      <td>92</td>\n",
       "      <td>wikitext</td>\n",
       "    </tr>\n",
       "    <tr>\n",
       "      <th>4</th>\n",
       "      <td>15</td>\n",
       "      <td>0</td>\n",
       "      <td>AfghanistanPeople</td>\n",
       "      <td>NaN</td>\n",
       "      <td>1</td>\n",
       "      <td>0</td>\n",
       "      <td>20210629123442</td>\n",
       "      <td>2.021061e+13</td>\n",
       "      <td>783865293</td>\n",
       "      <td>95</td>\n",
       "      <td>wikitext</td>\n",
       "    </tr>\n",
       "    <tr>\n",
       "      <th>...</th>\n",
       "      <td>...</td>\n",
       "      <td>...</td>\n",
       "      <td>...</td>\n",
       "      <td>...</td>\n",
       "      <td>...</td>\n",
       "      <td>...</td>\n",
       "      <td>...</td>\n",
       "      <td>...</td>\n",
       "      <td>...</td>\n",
       "      <td>...</td>\n",
       "      <td>...</td>\n",
       "    </tr>\n",
       "    <tr>\n",
       "      <th>53710509</th>\n",
       "      <td>68103359</td>\n",
       "      <td>0</td>\n",
       "      <td>Carrie_Flemmer</td>\n",
       "      <td>NaN</td>\n",
       "      <td>0</td>\n",
       "      <td>1</td>\n",
       "      <td>20210701094546</td>\n",
       "      <td>2.021070e+13</td>\n",
       "      <td>1031387168</td>\n",
       "      <td>1300</td>\n",
       "      <td>wikitext</td>\n",
       "    </tr>\n",
       "    <tr>\n",
       "      <th>53710510</th>\n",
       "      <td>68103360</td>\n",
       "      <td>0</td>\n",
       "      <td>US_des_Forces_Armees</td>\n",
       "      <td>NaN</td>\n",
       "      <td>1</td>\n",
       "      <td>1</td>\n",
       "      <td>20210701094549</td>\n",
       "      <td>2.021070e+13</td>\n",
       "      <td>1031387177</td>\n",
       "      <td>35</td>\n",
       "      <td>wikitext</td>\n",
       "    </tr>\n",
       "    <tr>\n",
       "      <th>53710512</th>\n",
       "      <td>68103362</td>\n",
       "      <td>0</td>\n",
       "      <td>Carrie_Flemmer-Marshall</td>\n",
       "      <td>NaN</td>\n",
       "      <td>1</td>\n",
       "      <td>1</td>\n",
       "      <td>20210701094611</td>\n",
       "      <td>2.021070e+13</td>\n",
       "      <td>1031387212</td>\n",
       "      <td>27</td>\n",
       "      <td>wikitext</td>\n",
       "    </tr>\n",
       "    <tr>\n",
       "      <th>53710515</th>\n",
       "      <td>68103365</td>\n",
       "      <td>0</td>\n",
       "      <td>Dapp_Browsers</td>\n",
       "      <td>NaN</td>\n",
       "      <td>0</td>\n",
       "      <td>1</td>\n",
       "      <td>20210701094630</td>\n",
       "      <td>2.021070e+13</td>\n",
       "      <td>1031387241</td>\n",
       "      <td>2682</td>\n",
       "      <td>wikitext</td>\n",
       "    </tr>\n",
       "    <tr>\n",
       "      <th>53710523</th>\n",
       "      <td>68103373</td>\n",
       "      <td>0</td>\n",
       "      <td>Ratsitatanina</td>\n",
       "      <td>NaN</td>\n",
       "      <td>0</td>\n",
       "      <td>1</td>\n",
       "      <td>20210701094740</td>\n",
       "      <td>2.021070e+13</td>\n",
       "      <td>1031387355</td>\n",
       "      <td>1592</td>\n",
       "      <td>wikitext</td>\n",
       "    </tr>\n",
       "  </tbody>\n",
       "</table>\n",
       "<p>15973778 rows × 11 columns</p>\n",
       "</div>"
      ],
      "text/plain": [
       "           page_id  page_namespace               page_title  \\\n",
       "0               10               0      AccessibleComputing   \n",
       "1               12               0                Anarchism   \n",
       "2               13               0       AfghanistanHistory   \n",
       "3               14               0     AfghanistanGeography   \n",
       "4               15               0        AfghanistanPeople   \n",
       "...            ...             ...                      ...   \n",
       "53710509  68103359               0           Carrie_Flemmer   \n",
       "53710510  68103360               0     US_des_Forces_Armees   \n",
       "53710512  68103362               0  Carrie_Flemmer-Marshall   \n",
       "53710515  68103365               0            Dapp_Browsers   \n",
       "53710523  68103373               0            Ratsitatanina   \n",
       "\n",
       "          page_restrictions  page_is_redirect  page_is_new    page_touched  \\\n",
       "0                       NaN                 1            0  20210607122734   \n",
       "1                       NaN                 0            0  20210701093040   \n",
       "2                       NaN                 1            0  20210629133822   \n",
       "3                       NaN                 1            0  20210607122734   \n",
       "4                       NaN                 1            0  20210629123442   \n",
       "...                     ...               ...          ...             ...   \n",
       "53710509                NaN                 0            1  20210701094546   \n",
       "53710510                NaN                 1            1  20210701094549   \n",
       "53710512                NaN                 1            1  20210701094611   \n",
       "53710515                NaN                 0            1  20210701094630   \n",
       "53710523                NaN                 0            1  20210701094740   \n",
       "\n",
       "          page_links_updated  page_latest  page_len page_content_model  \n",
       "0               2.021061e+13   1002250816       111           wikitext  \n",
       "1               2.021070e+13   1030472204     96584           wikitext  \n",
       "2               2.021061e+13    783865149        90           wikitext  \n",
       "3               2.021061e+13    783865160        92           wikitext  \n",
       "4               2.021061e+13    783865293        95           wikitext  \n",
       "...                      ...          ...       ...                ...  \n",
       "53710509        2.021070e+13   1031387168      1300           wikitext  \n",
       "53710510        2.021070e+13   1031387177        35           wikitext  \n",
       "53710512        2.021070e+13   1031387212        27           wikitext  \n",
       "53710515        2.021070e+13   1031387241      2682           wikitext  \n",
       "53710523        2.021070e+13   1031387355      1592           wikitext  \n",
       "\n",
       "[15973778 rows x 11 columns]"
      ]
     },
     "execution_count": 10,
     "metadata": {},
     "output_type": "execute_result"
    }
   ],
   "source": [
    "pages = pd.read_csv('page/page.tsv', sep='\\t')\n",
    "pages = pages[pages['page_namespace']==0]\n",
    "pages"
   ]
  },
  {
   "cell_type": "code",
   "execution_count": 11,
   "metadata": {},
   "outputs": [],
   "source": [
    "pages_id = pages['page_id'].tolist()"
   ]
  },
  {
   "cell_type": "code",
   "execution_count": 12,
   "metadata": {},
   "outputs": [
    {
     "data": {
      "text/html": [
       "<div>\n",
       "<style scoped>\n",
       "    .dataframe tbody tr th:only-of-type {\n",
       "        vertical-align: middle;\n",
       "    }\n",
       "\n",
       "    .dataframe tbody tr th {\n",
       "        vertical-align: top;\n",
       "    }\n",
       "\n",
       "    .dataframe thead th {\n",
       "        text-align: right;\n",
       "    }\n",
       "</style>\n",
       "<table border=\"1\" class=\"dataframe\">\n",
       "  <thead>\n",
       "    <tr style=\"text-align: right;\">\n",
       "      <th></th>\n",
       "      <th>el_from</th>\n",
       "      <th>el_to</th>\n",
       "    </tr>\n",
       "  </thead>\n",
       "  <tbody>\n",
       "    <tr>\n",
       "      <th>0</th>\n",
       "      <td>3850540</td>\n",
       "      <td>http://www.housing.berkeley.edu/housing/</td>\n",
       "    </tr>\n",
       "    <tr>\n",
       "      <th>1</th>\n",
       "      <td>3850540</td>\n",
       "      <td>http://www.freebornhall.com/History/ResidenceH...</td>\n",
       "    </tr>\n",
       "    <tr>\n",
       "      <th>4</th>\n",
       "      <td>840171</td>\n",
       "      <td>http://www.kloster-einsiedeln.ch</td>\n",
       "    </tr>\n",
       "    <tr>\n",
       "      <th>5</th>\n",
       "      <td>1290279</td>\n",
       "      <td>http://www.erbzine.com/mag1/0117.html</td>\n",
       "    </tr>\n",
       "    <tr>\n",
       "      <th>6</th>\n",
       "      <td>3856533</td>\n",
       "      <td>http://freepages.genealogy.rootsweb.com/~vanrc...</td>\n",
       "    </tr>\n",
       "    <tr>\n",
       "      <th>...</th>\n",
       "      <td>...</td>\n",
       "      <td>...</td>\n",
       "    </tr>\n",
       "    <tr>\n",
       "      <th>161719030</th>\n",
       "      <td>3889279</td>\n",
       "      <td>https://www.rnz.co.nz/news/political/419769/pr...</td>\n",
       "    </tr>\n",
       "    <tr>\n",
       "      <th>161719031</th>\n",
       "      <td>67209044</td>\n",
       "      <td>https://www.thewi.org.uk/about-us/history-of-t...</td>\n",
       "    </tr>\n",
       "    <tr>\n",
       "      <th>161719032</th>\n",
       "      <td>851024</td>\n",
       "      <td>https://www.imdb.com/name/nm0004133/</td>\n",
       "    </tr>\n",
       "    <tr>\n",
       "      <th>161719033</th>\n",
       "      <td>851024</td>\n",
       "      <td>https://www.imdb.com/name/nm6662944/</td>\n",
       "    </tr>\n",
       "    <tr>\n",
       "      <th>161719038</th>\n",
       "      <td>32439342</td>\n",
       "      <td>https://en.wikisource.org/wiki/Eminent_Chinese...</td>\n",
       "    </tr>\n",
       "  </tbody>\n",
       "</table>\n",
       "<p>91197718 rows × 2 columns</p>\n",
       "</div>"
      ],
      "text/plain": [
       "            el_from                                              el_to\n",
       "0           3850540           http://www.housing.berkeley.edu/housing/\n",
       "1           3850540  http://www.freebornhall.com/History/ResidenceH...\n",
       "4            840171                   http://www.kloster-einsiedeln.ch\n",
       "5           1290279              http://www.erbzine.com/mag1/0117.html\n",
       "6           3856533  http://freepages.genealogy.rootsweb.com/~vanrc...\n",
       "...             ...                                                ...\n",
       "161719030   3889279  https://www.rnz.co.nz/news/political/419769/pr...\n",
       "161719031  67209044  https://www.thewi.org.uk/about-us/history-of-t...\n",
       "161719032    851024               https://www.imdb.com/name/nm0004133/\n",
       "161719033    851024               https://www.imdb.com/name/nm6662944/\n",
       "161719038  32439342  https://en.wikisource.org/wiki/Eminent_Chinese...\n",
       "\n",
       "[91197718 rows x 2 columns]"
      ]
     },
     "execution_count": 12,
     "metadata": {},
     "output_type": "execute_result"
    }
   ],
   "source": [
    "df = df[df['el_from'].isin(pages_id)]\n",
    "df"
   ]
  },
  {
   "cell_type": "markdown",
   "metadata": {},
   "source": [
    "# 1. Preprocessing"
   ]
  },
  {
   "cell_type": "markdown",
   "metadata": {},
   "source": [
    "The dataset it si filter to only URL mentions. Also this URLs are reviewed to remove erroneous strings assigned as URL."
   ]
  },
  {
   "cell_type": "code",
   "execution_count": 13,
   "metadata": {},
   "outputs": [
    {
     "data": {
      "text/html": [
       "<div>\n",
       "<style scoped>\n",
       "    .dataframe tbody tr th:only-of-type {\n",
       "        vertical-align: middle;\n",
       "    }\n",
       "\n",
       "    .dataframe tbody tr th {\n",
       "        vertical-align: top;\n",
       "    }\n",
       "\n",
       "    .dataframe thead th {\n",
       "        text-align: right;\n",
       "    }\n",
       "</style>\n",
       "<table border=\"1\" class=\"dataframe\">\n",
       "  <thead>\n",
       "    <tr style=\"text-align: right;\">\n",
       "      <th></th>\n",
       "      <th>el_from</th>\n",
       "      <th>el_to</th>\n",
       "    </tr>\n",
       "  </thead>\n",
       "  <tbody>\n",
       "    <tr>\n",
       "      <th>0</th>\n",
       "      <td>3850540</td>\n",
       "      <td>http://www.housing.berkeley.edu/housing/</td>\n",
       "    </tr>\n",
       "    <tr>\n",
       "      <th>1</th>\n",
       "      <td>3850540</td>\n",
       "      <td>http://www.freebornhall.com/History/ResidenceH...</td>\n",
       "    </tr>\n",
       "    <tr>\n",
       "      <th>4</th>\n",
       "      <td>840171</td>\n",
       "      <td>http://www.kloster-einsiedeln.ch</td>\n",
       "    </tr>\n",
       "    <tr>\n",
       "      <th>5</th>\n",
       "      <td>1290279</td>\n",
       "      <td>http://www.erbzine.com/mag1/0117.html</td>\n",
       "    </tr>\n",
       "    <tr>\n",
       "      <th>6</th>\n",
       "      <td>3856533</td>\n",
       "      <td>http://freepages.genealogy.rootsweb.com/~vanrc...</td>\n",
       "    </tr>\n",
       "  </tbody>\n",
       "</table>\n",
       "</div>"
      ],
      "text/plain": [
       "   el_from                                              el_to\n",
       "0  3850540           http://www.housing.berkeley.edu/housing/\n",
       "1  3850540  http://www.freebornhall.com/History/ResidenceH...\n",
       "4   840171                   http://www.kloster-einsiedeln.ch\n",
       "5  1290279              http://www.erbzine.com/mag1/0117.html\n",
       "6  3856533  http://freepages.genealogy.rootsweb.com/~vanrc..."
      ]
     },
     "execution_count": 13,
     "metadata": {},
     "output_type": "execute_result"
    }
   ],
   "source": [
    "df = df[df[['el_from', 'el_to']].notnull().all(axis=1)]\n",
    "df = df[['el_from', 'el_to']]\n",
    "df = df[df.el_to.str.contains('^http|^www[0-9]{0,2}')]\n",
    "df.head()"
   ]
  },
  {
   "cell_type": "markdown",
   "metadata": {},
   "source": [
    "Before obtaining the domains or modify the URLs the top [web archives](https://en.wikipedia.org/wiki/Wikipedia:List_of_web_archives_on_Wikipedia) URLs are transformed in order to take into account the real URLs. Then, all the URLs are filtered to remove erroenous URLs."
   ]
  },
  {
   "cell_type": "markdown",
   "metadata": {},
   "source": [
    "## 1.1 Web archive"
   ]
  },
  {
   "cell_type": "code",
   "execution_count": 14,
   "metadata": {},
   "outputs": [],
   "source": [
    "df['el_to'] = [re.sub('http[s]{0,1}://(web\\.archive|waybackmachine)\\.org/.*http', 'http', x) for x in df['el_to']]\n",
    "df['el_to'] = [re.sub('http[s]{0,1}://(web\\.archive|waybackmachine)\\.org/.*www', 'www', x) for x in df['el_to']]\n",
    "df['el_to'] = [re.sub('http[s]{0,1}://(web\\.archive|waybackmachine)\\.org/web/([0-9a-z]*|[0-9a-z]*\\*|\\*)/|http[s]{0,1}://(web\\.archive|waybackmachine)\\.org/\\*/', '', x) for x in df['el_to']]"
   ]
  },
  {
   "cell_type": "markdown",
   "metadata": {},
   "source": [
    "## 1.2 archive.today"
   ]
  },
  {
   "cell_type": "markdown",
   "metadata": {},
   "source": [
    "It should be noticed that not all URLs are encoded in the same way. Whereas some URLs include the archived URL others do not. There are also multiple domains."
   ]
  },
  {
   "cell_type": "code",
   "execution_count": 15,
   "metadata": {},
   "outputs": [],
   "source": [
    "df['el_to'] = [re.sub('http[s]{0,1}://archive\\.(today|is|fo|li|vn|md)/.*http', 'http', x) for x in df['el_to']]\n",
    "df['el_to'] = [re.sub('http[s]{0,1}://archive\\.(today|is|fo|li|vn|md)/.*www', 'www', x) for x in df['el_to']]"
   ]
  },
  {
   "cell_type": "markdown",
   "metadata": {},
   "source": [
    "## 1.3 Webcitation"
   ]
  },
  {
   "cell_type": "markdown",
   "metadata": {},
   "source": [
    "In this case, most of them does not include the archived URL."
   ]
  },
  {
   "cell_type": "code",
   "execution_count": 16,
   "metadata": {},
   "outputs": [],
   "source": [
    "df['el_to'] = [re.sub('http[s]{0,1}://((www\\.)?)webcitation\\.org/.*http', 'http', x) for x in df['el_to']]\n",
    "df['el_to'] = [re.sub('http[s]{0,1}://((www\\.)?)webcitation\\.org/.*www', 'www', x) for x in df['el_to']]"
   ]
  },
  {
   "cell_type": "markdown",
   "metadata": {},
   "source": [
    "Finally, they are cleaned to get only URLs strings."
   ]
  },
  {
   "cell_type": "code",
   "execution_count": 17,
   "metadata": {},
   "outputs": [],
   "source": [
    "df = df[df.el_to.str.contains('^http|^www[0-9]{0,2}')]"
   ]
  },
  {
   "cell_type": "markdown",
   "metadata": {},
   "source": [
    "Before the preprocessing, there are 53,520,188 unique URLs."
   ]
  },
  {
   "cell_type": "code",
   "execution_count": 18,
   "metadata": {},
   "outputs": [
    {
     "data": {
      "text/plain": [
       "53520188"
      ]
     },
     "execution_count": 18,
     "metadata": {},
     "output_type": "execute_result"
    }
   ],
   "source": [
    "len(df.groupby('el_to').count().index)"
   ]
  },
  {
   "cell_type": "markdown",
   "metadata": {},
   "source": [
    "A new column is created to normalize the URLs, and all URLs are transformed to lowercase."
   ]
  },
  {
   "cell_type": "code",
   "execution_count": 19,
   "metadata": {},
   "outputs": [
    {
     "data": {
      "text/html": [
       "<div>\n",
       "<style scoped>\n",
       "    .dataframe tbody tr th:only-of-type {\n",
       "        vertical-align: middle;\n",
       "    }\n",
       "\n",
       "    .dataframe tbody tr th {\n",
       "        vertical-align: top;\n",
       "    }\n",
       "\n",
       "    .dataframe thead th {\n",
       "        text-align: right;\n",
       "    }\n",
       "</style>\n",
       "<table border=\"1\" class=\"dataframe\">\n",
       "  <thead>\n",
       "    <tr style=\"text-align: right;\">\n",
       "      <th></th>\n",
       "      <th>el_from</th>\n",
       "      <th>el_to</th>\n",
       "      <th>URL_n</th>\n",
       "    </tr>\n",
       "  </thead>\n",
       "  <tbody>\n",
       "    <tr>\n",
       "      <th>0</th>\n",
       "      <td>3850540</td>\n",
       "      <td>http://www.housing.berkeley.edu/housing/</td>\n",
       "      <td>http://www.housing.berkeley.edu/housing/</td>\n",
       "    </tr>\n",
       "    <tr>\n",
       "      <th>1</th>\n",
       "      <td>3850540</td>\n",
       "      <td>http://www.freebornhall.com/History/ResidenceH...</td>\n",
       "      <td>http://www.freebornhall.com/History/ResidenceH...</td>\n",
       "    </tr>\n",
       "    <tr>\n",
       "      <th>4</th>\n",
       "      <td>840171</td>\n",
       "      <td>http://www.kloster-einsiedeln.ch</td>\n",
       "      <td>http://www.kloster-einsiedeln.ch</td>\n",
       "    </tr>\n",
       "    <tr>\n",
       "      <th>5</th>\n",
       "      <td>1290279</td>\n",
       "      <td>http://www.erbzine.com/mag1/0117.html</td>\n",
       "      <td>http://www.erbzine.com/mag1/0117.html</td>\n",
       "    </tr>\n",
       "    <tr>\n",
       "      <th>6</th>\n",
       "      <td>3856533</td>\n",
       "      <td>http://freepages.genealogy.rootsweb.com/~vanrc...</td>\n",
       "      <td>http://freepages.genealogy.rootsweb.com/~vanrc...</td>\n",
       "    </tr>\n",
       "  </tbody>\n",
       "</table>\n",
       "</div>"
      ],
      "text/plain": [
       "   el_from                                              el_to  \\\n",
       "0  3850540           http://www.housing.berkeley.edu/housing/   \n",
       "1  3850540  http://www.freebornhall.com/History/ResidenceH...   \n",
       "4   840171                   http://www.kloster-einsiedeln.ch   \n",
       "5  1290279              http://www.erbzine.com/mag1/0117.html   \n",
       "6  3856533  http://freepages.genealogy.rootsweb.com/~vanrc...   \n",
       "\n",
       "                                               URL_n  \n",
       "0           http://www.housing.berkeley.edu/housing/  \n",
       "1  http://www.freebornhall.com/History/ResidenceH...  \n",
       "4                   http://www.kloster-einsiedeln.ch  \n",
       "5              http://www.erbzine.com/mag1/0117.html  \n",
       "6  http://freepages.genealogy.rootsweb.com/~vanrc...  "
      ]
     },
     "execution_count": 19,
     "metadata": {},
     "output_type": "execute_result"
    }
   ],
   "source": [
    "df['URL_n'] = [re.sub('^http://www[0-9]{0,2}\\\\.|^http://|^https://www[0-9]{0,2}\\\\.|^https://|^//www[0-9]{0,2}\\\\.', '', x) for x in df['el_to']]\n",
    "df['URL_n'] = [re.sub('^http[s]{0,1}%3A%2F%2F((www\\.)?)', '', x) for x in df['el_to']]\n",
    "#df.loc[:,'URL_n']  = df.loc[:,'URL_n'].str.lower()\n",
    "df.head()"
   ]
  },
  {
   "cell_type": "markdown",
   "metadata": {},
   "source": [
    "There are some characters that usually appear at the end of the URL, so they are removed."
   ]
  },
  {
   "cell_type": "code",
   "execution_count": 20,
   "metadata": {},
   "outputs": [
    {
     "data": {
      "text/html": [
       "<div>\n",
       "<style scoped>\n",
       "    .dataframe tbody tr th:only-of-type {\n",
       "        vertical-align: middle;\n",
       "    }\n",
       "\n",
       "    .dataframe tbody tr th {\n",
       "        vertical-align: top;\n",
       "    }\n",
       "\n",
       "    .dataframe thead th {\n",
       "        text-align: right;\n",
       "    }\n",
       "</style>\n",
       "<table border=\"1\" class=\"dataframe\">\n",
       "  <thead>\n",
       "    <tr style=\"text-align: right;\">\n",
       "      <th></th>\n",
       "      <th>el_from</th>\n",
       "      <th>el_to</th>\n",
       "      <th>URL_n</th>\n",
       "    </tr>\n",
       "  </thead>\n",
       "  <tbody>\n",
       "    <tr>\n",
       "      <th>0</th>\n",
       "      <td>3850540</td>\n",
       "      <td>http://www.housing.berkeley.edu/housing/</td>\n",
       "      <td>http://www.housing.berkeley.edu/housing</td>\n",
       "    </tr>\n",
       "    <tr>\n",
       "      <th>1</th>\n",
       "      <td>3850540</td>\n",
       "      <td>http://www.freebornhall.com/History/ResidenceH...</td>\n",
       "      <td>http://www.freebornhall.com/History/ResidenceH...</td>\n",
       "    </tr>\n",
       "    <tr>\n",
       "      <th>4</th>\n",
       "      <td>840171</td>\n",
       "      <td>http://www.kloster-einsiedeln.ch</td>\n",
       "      <td>http://www.kloster-einsiedeln.ch</td>\n",
       "    </tr>\n",
       "    <tr>\n",
       "      <th>5</th>\n",
       "      <td>1290279</td>\n",
       "      <td>http://www.erbzine.com/mag1/0117.html</td>\n",
       "      <td>http://www.erbzine.com/mag1/0117.html</td>\n",
       "    </tr>\n",
       "    <tr>\n",
       "      <th>6</th>\n",
       "      <td>3856533</td>\n",
       "      <td>http://freepages.genealogy.rootsweb.com/~vanrc...</td>\n",
       "      <td>http://freepages.genealogy.rootsweb.com/~vanrc...</td>\n",
       "    </tr>\n",
       "  </tbody>\n",
       "</table>\n",
       "</div>"
      ],
      "text/plain": [
       "   el_from                                              el_to  \\\n",
       "0  3850540           http://www.housing.berkeley.edu/housing/   \n",
       "1  3850540  http://www.freebornhall.com/History/ResidenceH...   \n",
       "4   840171                   http://www.kloster-einsiedeln.ch   \n",
       "5  1290279              http://www.erbzine.com/mag1/0117.html   \n",
       "6  3856533  http://freepages.genealogy.rootsweb.com/~vanrc...   \n",
       "\n",
       "                                               URL_n  \n",
       "0            http://www.housing.berkeley.edu/housing  \n",
       "1  http://www.freebornhall.com/History/ResidenceH...  \n",
       "4                   http://www.kloster-einsiedeln.ch  \n",
       "5              http://www.erbzine.com/mag1/0117.html  \n",
       "6  http://freepages.genealogy.rootsweb.com/~vanrc...  "
      ]
     },
     "execution_count": 20,
     "metadata": {},
     "output_type": "execute_result"
    }
   ],
   "source": [
    "#df['URL_n'] = [re.sub('#.*$', '', x) for x in df['URL_n']]\n",
    "df['URL_n'] = [re.sub('((\\\\\\\\[ntr])+)$|\\\\\\\\+$', '', x) for x in df['URL_n']]\n",
    "df['URL_n'] = [re.sub('/+$', '', x) for x in df['URL_n']]\n",
    "#df['URL_n'] = [re.sub('\\\\.[s]{0,1}(htm|html|xml)$|\\\\.[s]{0,1}(htm|html|xml)$|\\\\.[s]{0,1}(htm|html|xml)/+$|\\\\.[s]{0,1}(htm|html|xml)/+$', '', x) for x in df['URL_n']]\n",
    "df.head()"
   ]
  },
  {
   "cell_type": "markdown",
   "metadata": {},
   "source": [
    "Some URLs appear encoded whereas others do not, so all are decoded."
   ]
  },
  {
   "cell_type": "code",
   "execution_count": 21,
   "metadata": {},
   "outputs": [],
   "source": [
    "df['URL_n'] = [urllib.parse.unquote(x) for x in df['URL_n']]"
   ]
  },
  {
   "cell_type": "markdown",
   "metadata": {},
   "source": [
    "Then all URLs are normalized using two similar Python packages (url_normalize and scrapy). If an error is returned no transformation is carried out. However, there are a few cases, as it is showed. Sometimes these erroneous URLs work but their structure is a bit strange, for this reason they are not removed."
   ]
  },
  {
   "cell_type": "code",
   "execution_count": 22,
   "metadata": {},
   "outputs": [
    {
     "name": "stdout",
     "output_type": "stream",
     "text": [
      "420\n"
     ]
    }
   ],
   "source": [
    "urls = df['URL_n'].tolist()\n",
    "err_urls = []\n",
    "\n",
    "for x in range(len(urls)):\n",
    "    try:\n",
    "        urls[x] = url_normalize(urls[x])\n",
    "    except:\n",
    "        err_urls.append(urls[x])\n",
    "\n",
    "print(len(err_urls))"
   ]
  },
  {
   "cell_type": "code",
   "execution_count": 23,
   "metadata": {},
   "outputs": [],
   "source": [
    "df['URL_n'] = urls"
   ]
  },
  {
   "cell_type": "code",
   "execution_count": 24,
   "metadata": {},
   "outputs": [],
   "source": [
    "df['URL_n'] = [re.sub('^http://www[0-9]{0,2}\\\\.|^http://|^https://www[0-9]{0,2}\\\\.|^https://|^//www[0-9]{0,2}\\\\.', '', x) for x in df['URL_n']]"
   ]
  },
  {
   "cell_type": "markdown",
   "metadata": {},
   "source": [
    "## 2. Domains"
   ]
  },
  {
   "cell_type": "markdown",
   "metadata": {},
   "source": [
    "Domain are obtained and the entire data.frame is filtered by normalized URL. Erroneous domains are removed."
   ]
  },
  {
   "cell_type": "code",
   "execution_count": 25,
   "metadata": {},
   "outputs": [
    {
     "data": {
      "text/html": [
       "<div>\n",
       "<style scoped>\n",
       "    .dataframe tbody tr th:only-of-type {\n",
       "        vertical-align: middle;\n",
       "    }\n",
       "\n",
       "    .dataframe tbody tr th {\n",
       "        vertical-align: top;\n",
       "    }\n",
       "\n",
       "    .dataframe thead th {\n",
       "        text-align: right;\n",
       "    }\n",
       "</style>\n",
       "<table border=\"1\" class=\"dataframe\">\n",
       "  <thead>\n",
       "    <tr style=\"text-align: right;\">\n",
       "      <th></th>\n",
       "      <th>el_from</th>\n",
       "      <th>el_to</th>\n",
       "      <th>URL_n</th>\n",
       "      <th>domain</th>\n",
       "    </tr>\n",
       "  </thead>\n",
       "  <tbody>\n",
       "    <tr>\n",
       "      <th>0</th>\n",
       "      <td>3850540</td>\n",
       "      <td>http://www.housing.berkeley.edu/housing/</td>\n",
       "      <td>housing.berkeley.edu/housing</td>\n",
       "      <td>housing.berkeley.edu</td>\n",
       "    </tr>\n",
       "    <tr>\n",
       "      <th>1</th>\n",
       "      <td>3850540</td>\n",
       "      <td>http://www.freebornhall.com/History/ResidenceH...</td>\n",
       "      <td>freebornhall.com/History/ResidenceHalls</td>\n",
       "      <td>freebornhall.com</td>\n",
       "    </tr>\n",
       "    <tr>\n",
       "      <th>4</th>\n",
       "      <td>840171</td>\n",
       "      <td>http://www.kloster-einsiedeln.ch</td>\n",
       "      <td>kloster-einsiedeln.ch/</td>\n",
       "      <td>kloster-einsiedeln.ch</td>\n",
       "    </tr>\n",
       "    <tr>\n",
       "      <th>5</th>\n",
       "      <td>1290279</td>\n",
       "      <td>http://www.erbzine.com/mag1/0117.html</td>\n",
       "      <td>erbzine.com/mag1/0117.html</td>\n",
       "      <td>erbzine.com</td>\n",
       "    </tr>\n",
       "    <tr>\n",
       "      <th>6</th>\n",
       "      <td>3856533</td>\n",
       "      <td>http://freepages.genealogy.rootsweb.com/~vanrc...</td>\n",
       "      <td>freepages.genealogy.rootsweb.com/~vanrcwisner/...</td>\n",
       "      <td>freepages.genealogy.rootsweb.com</td>\n",
       "    </tr>\n",
       "  </tbody>\n",
       "</table>\n",
       "</div>"
      ],
      "text/plain": [
       "   el_from                                              el_to  \\\n",
       "0  3850540           http://www.housing.berkeley.edu/housing/   \n",
       "1  3850540  http://www.freebornhall.com/History/ResidenceH...   \n",
       "4   840171                   http://www.kloster-einsiedeln.ch   \n",
       "5  1290279              http://www.erbzine.com/mag1/0117.html   \n",
       "6  3856533  http://freepages.genealogy.rootsweb.com/~vanrc...   \n",
       "\n",
       "                                               URL_n  \\\n",
       "0                       housing.berkeley.edu/housing   \n",
       "1            freebornhall.com/History/ResidenceHalls   \n",
       "4                             kloster-einsiedeln.ch/   \n",
       "5                         erbzine.com/mag1/0117.html   \n",
       "6  freepages.genealogy.rootsweb.com/~vanrcwisner/...   \n",
       "\n",
       "                             domain  \n",
       "0              housing.berkeley.edu  \n",
       "1                  freebornhall.com  \n",
       "4             kloster-einsiedeln.ch  \n",
       "5                       erbzine.com  \n",
       "6  freepages.genealogy.rootsweb.com  "
      ]
     },
     "execution_count": 25,
     "metadata": {},
     "output_type": "execute_result"
    }
   ],
   "source": [
    "df['domain'] = [re.sub('/.*', '', x) for x in df['URL_n']]\n",
    "df = df[df['domain'] != '']\n",
    "df = df[df['domain'].str.contains('.', regex=False)]\n",
    "df.head()"
   ]
  },
  {
   "cell_type": "markdown",
   "metadata": {},
   "source": [
    "## 3. Top domains modifications"
   ]
  },
  {
   "cell_type": "markdown",
   "metadata": {},
   "source": [
    "Taking into account the most mentioned domain, the following modifications have been carried out."
   ]
  },
  {
   "cell_type": "code",
   "execution_count": 26,
   "metadata": {},
   "outputs": [
    {
     "data": {
      "text/html": [
       "<div>\n",
       "<style scoped>\n",
       "    .dataframe tbody tr th:only-of-type {\n",
       "        vertical-align: middle;\n",
       "    }\n",
       "\n",
       "    .dataframe tbody tr th {\n",
       "        vertical-align: top;\n",
       "    }\n",
       "\n",
       "    .dataframe thead th {\n",
       "        text-align: right;\n",
       "    }\n",
       "</style>\n",
       "<table border=\"1\" class=\"dataframe\">\n",
       "  <thead>\n",
       "    <tr style=\"text-align: right;\">\n",
       "      <th></th>\n",
       "      <th>index</th>\n",
       "      <th>domain</th>\n",
       "    </tr>\n",
       "  </thead>\n",
       "  <tbody>\n",
       "    <tr>\n",
       "      <th>0</th>\n",
       "      <td>wikidata.org</td>\n",
       "      <td>1568914</td>\n",
       "    </tr>\n",
       "    <tr>\n",
       "      <th>1</th>\n",
       "      <td>books.google.com</td>\n",
       "      <td>1561114</td>\n",
       "    </tr>\n",
       "    <tr>\n",
       "      <th>2</th>\n",
       "      <td>worldcat.org</td>\n",
       "      <td>1055887</td>\n",
       "    </tr>\n",
       "    <tr>\n",
       "      <th>3</th>\n",
       "      <td>viaf.org</td>\n",
       "      <td>926592</td>\n",
       "    </tr>\n",
       "    <tr>\n",
       "      <th>4</th>\n",
       "      <td>archive.org</td>\n",
       "      <td>879754</td>\n",
       "    </tr>\n",
       "    <tr>\n",
       "      <th>5</th>\n",
       "      <td>jstor.org</td>\n",
       "      <td>731514</td>\n",
       "    </tr>\n",
       "    <tr>\n",
       "      <th>6</th>\n",
       "      <td>id.loc.gov</td>\n",
       "      <td>675470</td>\n",
       "    </tr>\n",
       "    <tr>\n",
       "      <th>7</th>\n",
       "      <td>ssd.jpl.nasa.gov</td>\n",
       "      <td>665722</td>\n",
       "    </tr>\n",
       "    <tr>\n",
       "      <th>8</th>\n",
       "      <td>minorplanetcenter.net</td>\n",
       "      <td>636808</td>\n",
       "    </tr>\n",
       "    <tr>\n",
       "      <th>9</th>\n",
       "      <td>isni.org</td>\n",
       "      <td>521135</td>\n",
       "    </tr>\n",
       "    <tr>\n",
       "      <th>10</th>\n",
       "      <td>nytimes.com</td>\n",
       "      <td>474442</td>\n",
       "    </tr>\n",
       "    <tr>\n",
       "      <th>11</th>\n",
       "      <td>imdb.com</td>\n",
       "      <td>460167</td>\n",
       "    </tr>\n",
       "    <tr>\n",
       "      <th>12</th>\n",
       "      <td>ncbi.nlm.nih.gov</td>\n",
       "      <td>447279</td>\n",
       "    </tr>\n",
       "    <tr>\n",
       "      <th>13</th>\n",
       "      <td>youtube.com</td>\n",
       "      <td>426024</td>\n",
       "    </tr>\n",
       "    <tr>\n",
       "      <th>14</th>\n",
       "      <td>d-nb.info</td>\n",
       "      <td>401735</td>\n",
       "    </tr>\n",
       "    <tr>\n",
       "      <th>15</th>\n",
       "      <td>gbif.org</td>\n",
       "      <td>387810</td>\n",
       "    </tr>\n",
       "    <tr>\n",
       "      <th>16</th>\n",
       "      <td>bbc.co.uk</td>\n",
       "      <td>377268</td>\n",
       "    </tr>\n",
       "    <tr>\n",
       "      <th>17</th>\n",
       "      <td>billboard.com</td>\n",
       "      <td>371601</td>\n",
       "    </tr>\n",
       "    <tr>\n",
       "      <th>18</th>\n",
       "      <td>api.semanticscholar.org</td>\n",
       "      <td>340835</td>\n",
       "    </tr>\n",
       "    <tr>\n",
       "      <th>19</th>\n",
       "      <td>musicbrainz.org</td>\n",
       "      <td>320211</td>\n",
       "    </tr>\n",
       "    <tr>\n",
       "      <th>20</th>\n",
       "      <td>data.bnf.fr</td>\n",
       "      <td>303491</td>\n",
       "    </tr>\n",
       "    <tr>\n",
       "      <th>21</th>\n",
       "      <td>catalogue.bnf.fr</td>\n",
       "      <td>301746</td>\n",
       "    </tr>\n",
       "    <tr>\n",
       "      <th>22</th>\n",
       "      <td>npgallery.nps.gov</td>\n",
       "      <td>299780</td>\n",
       "    </tr>\n",
       "    <tr>\n",
       "      <th>23</th>\n",
       "      <td>theguardian.com</td>\n",
       "      <td>295608</td>\n",
       "    </tr>\n",
       "    <tr>\n",
       "      <th>24</th>\n",
       "      <td>amigo.geneontology.org</td>\n",
       "      <td>295243</td>\n",
       "    </tr>\n",
       "    <tr>\n",
       "      <th>25</th>\n",
       "      <td>irmng.org</td>\n",
       "      <td>291261</td>\n",
       "    </tr>\n",
       "    <tr>\n",
       "      <th>26</th>\n",
       "      <td>ui.adsabs.harvard.edu</td>\n",
       "      <td>289039</td>\n",
       "    </tr>\n",
       "    <tr>\n",
       "      <th>27</th>\n",
       "      <td>news.bbc.co.uk</td>\n",
       "      <td>270890</td>\n",
       "    </tr>\n",
       "    <tr>\n",
       "      <th>28</th>\n",
       "      <td>inaturalist.org</td>\n",
       "      <td>262782</td>\n",
       "    </tr>\n",
       "    <tr>\n",
       "      <th>29</th>\n",
       "      <td>newspapers.com</td>\n",
       "      <td>254774</td>\n",
       "    </tr>\n",
       "    <tr>\n",
       "      <th>30</th>\n",
       "      <td>eol.org</td>\n",
       "      <td>253544</td>\n",
       "    </tr>\n",
       "    <tr>\n",
       "      <th>31</th>\n",
       "      <td>sports-reference.com</td>\n",
       "      <td>248570</td>\n",
       "    </tr>\n",
       "    <tr>\n",
       "      <th>32</th>\n",
       "      <td>idref.fr</td>\n",
       "      <td>241081</td>\n",
       "    </tr>\n",
       "    <tr>\n",
       "      <th>33</th>\n",
       "      <td>allmusic.com</td>\n",
       "      <td>240964</td>\n",
       "    </tr>\n",
       "    <tr>\n",
       "      <th>34</th>\n",
       "      <td>data.bibliotheken.nl</td>\n",
       "      <td>224182</td>\n",
       "    </tr>\n",
       "    <tr>\n",
       "      <th>35</th>\n",
       "      <td>census.gov</td>\n",
       "      <td>224028</td>\n",
       "    </tr>\n",
       "    <tr>\n",
       "      <th>36</th>\n",
       "      <td>id.worldcat.org</td>\n",
       "      <td>212743</td>\n",
       "    </tr>\n",
       "    <tr>\n",
       "      <th>37</th>\n",
       "      <td>news.google.com</td>\n",
       "      <td>171834</td>\n",
       "    </tr>\n",
       "    <tr>\n",
       "      <th>38</th>\n",
       "      <td>aleph.nkp.cz</td>\n",
       "      <td>170746</td>\n",
       "    </tr>\n",
       "    <tr>\n",
       "      <th>39</th>\n",
       "      <td>int.soccerway.com</td>\n",
       "      <td>169908</td>\n",
       "    </tr>\n",
       "    <tr>\n",
       "      <th>40</th>\n",
       "      <td>espncricinfo.com</td>\n",
       "      <td>167184</td>\n",
       "    </tr>\n",
       "    <tr>\n",
       "      <th>41</th>\n",
       "      <td>itis.gov</td>\n",
       "      <td>164098</td>\n",
       "    </tr>\n",
       "    <tr>\n",
       "      <th>42</th>\n",
       "      <td>baseball-reference.com</td>\n",
       "      <td>160500</td>\n",
       "    </tr>\n",
       "    <tr>\n",
       "      <th>43</th>\n",
       "      <td>nla.gov.au</td>\n",
       "      <td>160190</td>\n",
       "    </tr>\n",
       "    <tr>\n",
       "      <th>44</th>\n",
       "      <td>tvbythenumbers.zap2it.com</td>\n",
       "      <td>154111</td>\n",
       "    </tr>\n",
       "    <tr>\n",
       "      <th>45</th>\n",
       "      <td>geonames.usgs.gov</td>\n",
       "      <td>153880</td>\n",
       "    </tr>\n",
       "    <tr>\n",
       "      <th>46</th>\n",
       "      <td>twitter.com</td>\n",
       "      <td>150883</td>\n",
       "    </tr>\n",
       "    <tr>\n",
       "      <th>47</th>\n",
       "      <td>geohack.toolforge.org</td>\n",
       "      <td>150094</td>\n",
       "    </tr>\n",
       "    <tr>\n",
       "      <th>48</th>\n",
       "      <td>washingtonpost.com</td>\n",
       "      <td>135915</td>\n",
       "    </tr>\n",
       "    <tr>\n",
       "      <th>49</th>\n",
       "      <td>historicengland.org.uk</td>\n",
       "      <td>135489</td>\n",
       "    </tr>\n",
       "  </tbody>\n",
       "</table>\n",
       "</div>"
      ],
      "text/plain": [
       "                        index   domain\n",
       "0                wikidata.org  1568914\n",
       "1            books.google.com  1561114\n",
       "2                worldcat.org  1055887\n",
       "3                    viaf.org   926592\n",
       "4                 archive.org   879754\n",
       "5                   jstor.org   731514\n",
       "6                  id.loc.gov   675470\n",
       "7            ssd.jpl.nasa.gov   665722\n",
       "8       minorplanetcenter.net   636808\n",
       "9                    isni.org   521135\n",
       "10                nytimes.com   474442\n",
       "11                   imdb.com   460167\n",
       "12           ncbi.nlm.nih.gov   447279\n",
       "13                youtube.com   426024\n",
       "14                  d-nb.info   401735\n",
       "15                   gbif.org   387810\n",
       "16                  bbc.co.uk   377268\n",
       "17              billboard.com   371601\n",
       "18    api.semanticscholar.org   340835\n",
       "19            musicbrainz.org   320211\n",
       "20                data.bnf.fr   303491\n",
       "21           catalogue.bnf.fr   301746\n",
       "22          npgallery.nps.gov   299780\n",
       "23            theguardian.com   295608\n",
       "24     amigo.geneontology.org   295243\n",
       "25                  irmng.org   291261\n",
       "26      ui.adsabs.harvard.edu   289039\n",
       "27             news.bbc.co.uk   270890\n",
       "28            inaturalist.org   262782\n",
       "29             newspapers.com   254774\n",
       "30                    eol.org   253544\n",
       "31       sports-reference.com   248570\n",
       "32                   idref.fr   241081\n",
       "33               allmusic.com   240964\n",
       "34       data.bibliotheken.nl   224182\n",
       "35                 census.gov   224028\n",
       "36            id.worldcat.org   212743\n",
       "37            news.google.com   171834\n",
       "38               aleph.nkp.cz   170746\n",
       "39          int.soccerway.com   169908\n",
       "40           espncricinfo.com   167184\n",
       "41                   itis.gov   164098\n",
       "42     baseball-reference.com   160500\n",
       "43                 nla.gov.au   160190\n",
       "44  tvbythenumbers.zap2it.com   154111\n",
       "45          geonames.usgs.gov   153880\n",
       "46                twitter.com   150883\n",
       "47      geohack.toolforge.org   150094\n",
       "48         washingtonpost.com   135915\n",
       "49     historicengland.org.uk   135489"
      ]
     },
     "execution_count": 26,
     "metadata": {},
     "output_type": "execute_result"
    }
   ],
   "source": [
    "domains_freq = pd.value_counts(df.domain).to_frame().reset_index()\n",
    "domains_freq[0:50]"
   ]
  },
  {
   "cell_type": "markdown",
   "metadata": {},
   "source": [
    "The top 50 most mentioned domains represent the 28% of mentions."
   ]
  },
  {
   "cell_type": "code",
   "execution_count": 27,
   "metadata": {},
   "outputs": [
    {
     "data": {
      "text/plain": [
       "27.696590018936167"
      ]
     },
     "execution_count": 27,
     "metadata": {},
     "output_type": "execute_result"
    }
   ],
   "source": [
    "100*sum(pd.value_counts(df.domain).to_frame().reset_index()['domain'][0:50])/sum(pd.value_counts(df.domain).to_frame().reset_index()['domain'])"
   ]
  },
  {
   "cell_type": "markdown",
   "metadata": {},
   "source": [
    "There are a total of 3,069,254 different domains."
   ]
  },
  {
   "cell_type": "code",
   "execution_count": 28,
   "metadata": {},
   "outputs": [
    {
     "data": {
      "text/plain": [
       "3069254"
      ]
     },
     "execution_count": 28,
     "metadata": {},
     "output_type": "execute_result"
    }
   ],
   "source": [
    "len(pd.value_counts(df.domain).to_frame().reset_index())"
   ]
  },
  {
   "cell_type": "markdown",
   "metadata": {},
   "source": [
    "This is not an exhaustive process. Not all URLs are examinated to detec all failures and normalize in a exhaustive way. In fact an alogithm was considered to clean all URLs, but i tas not possible."
   ]
  },
  {
   "cell_type": "markdown",
   "metadata": {},
   "source": [
    "It could lead to some relevan mistakes, for instance un the case os http://www.jstor.org."
   ]
  },
  {
   "cell_type": "markdown",
   "metadata": {},
   "source": [
    "## Temporal files"
   ]
  },
  {
   "cell_type": "code",
   "execution_count": 29,
   "metadata": {},
   "outputs": [],
   "source": [
    "df.to_csv('url_normalization/temp_ext.csv', index=False)"
   ]
  },
  {
   "cell_type": "code",
   "execution_count": null,
   "metadata": {},
   "outputs": [],
   "source": [
    "df = pd.read_csv('url_normalization/temp_ext.csv')\n",
    "df"
   ]
  },
  {
   "cell_type": "code",
   "execution_count": null,
   "metadata": {},
   "outputs": [],
   "source": [
    "df['el_to'] = df['el_to'].astype(str)\n",
    "df['URL_n'] = df['URL_n'].astype(str)"
   ]
  },
  {
   "cell_type": "code",
   "execution_count": null,
   "metadata": {},
   "outputs": [],
   "source": [
    "df[df['el_from'] == 37852327]"
   ]
  },
  {
   "cell_type": "markdown",
   "metadata": {},
   "source": [
    "### 1. wikidata.org"
   ]
  },
  {
   "cell_type": "markdown",
   "metadata": {},
   "source": [
    "Minor changes related to the language."
   ]
  },
  {
   "cell_type": "code",
   "execution_count": 30,
   "metadata": {},
   "outputs": [
    {
     "data": {
      "text/plain": [
       "['wikidata.org/wiki/Special:WhatLinksHere/Property:P496',\n",
       " 'wikidata.org/wiki/Property:P827',\n",
       " 'wikidata.org/wiki/Q5749041',\n",
       " 'wikidata.org/wiki/Q12198',\n",
       " 'wikidata.org/wiki/Q19828893']"
      ]
     },
     "execution_count": 30,
     "metadata": {},
     "output_type": "execute_result"
    }
   ],
   "source": [
    "list(df.loc[df['domain'] == 'wikidata.org', 'URL_n'])[0:5]"
   ]
  },
  {
   "cell_type": "code",
   "execution_count": 31,
   "metadata": {},
   "outputs": [],
   "source": [
    "df.loc[df['domain'] == 'wikidata.org', 'URL_n'] = [re.sub('\\?uselang=.*#', '#', x, flags=re.IGNORECASE) for x in df.loc[df['domain'] == 'wikidata.org', 'URL_n']]\n",
    "df.loc[df['domain'] == 'wikidata.org', 'URL_n'] = [re.sub('\\?uselang=.*', '', x, flags=re.IGNORECASE) for x in df.loc[df['domain'] == 'wikidata.org', 'URL_n']]"
   ]
  },
  {
   "cell_type": "code",
   "execution_count": 32,
   "metadata": {},
   "outputs": [
    {
     "data": {
      "text/plain": [
       "['wikidata.org/wiki/Special:WhatLinksHere/Property:P496',\n",
       " 'wikidata.org/wiki/Property:P827',\n",
       " 'wikidata.org/wiki/Q5749041',\n",
       " 'wikidata.org/wiki/Q12198',\n",
       " 'wikidata.org/wiki/Q19828893']"
      ]
     },
     "execution_count": 32,
     "metadata": {},
     "output_type": "execute_result"
    }
   ],
   "source": [
    "list(df.loc[df['domain'] == 'wikidata.org', 'URL_n'])[0:5]"
   ]
  },
  {
   "cell_type": "markdown",
   "metadata": {},
   "source": [
    "### 2. books.google.com"
   ]
  },
  {
   "cell_type": "markdown",
   "metadata": {},
   "source": [
    "These URLs require a lot of transformations to be reduced."
   ]
  },
  {
   "cell_type": "code",
   "execution_count": 33,
   "metadata": {},
   "outputs": [
    {
     "data": {
      "text/plain": [
       "['books.google.com/books?oi=spell&q=Demetrius+Hondros%20&spell=1',\n",
       " 'books.google.com/books?vid=OCLC02621211',\n",
       " 'books.google.com/books?hl=fr&id=nuoBAAAAYAAJ',\n",
       " 'books.google.com/books?id=k561uXI-uPgC&printsec',\n",
       " 'books.google.com/books?id=kFpd86J8PLsC&printsec']"
      ]
     },
     "execution_count": 33,
     "metadata": {},
     "output_type": "execute_result"
    }
   ],
   "source": [
    "list(df.loc[df['domain'] == 'books.google.com', 'URL_n'])[0:5]"
   ]
  },
  {
   "cell_type": "code",
   "execution_count": 35,
   "metadata": {},
   "outputs": [],
   "source": [
    "df.loc[df['domain'] == 'books.google.com', 'URL_n'] = [re.sub('\\?.*&id=', '?id=', x, flags=re.IGNORECASE) for x in df.loc[df['domain'] == 'books.google.com', 'URL_n']]\n",
    "df.loc[df['domain'] == 'books.google.com', 'URL_n'] = [re.sub('(\\?id=.*?&)(.*)', r'\\1', x, flags=re.IGNORECASE) for x in df.loc[df['domain'] == 'books.google.com', 'URL_n']]\n",
    "df.loc[df['domain'] == 'books.google.com', 'URL_n'] = [re.sub('\\?.*&q=', '?q=', x, flags=re.IGNORECASE) for x in df.loc[df['domain'] == 'books.google.com', 'URL_n']]\n",
    "df.loc[df['domain'] == 'books.google.com', 'URL_n'] = [re.sub('ngrams/graph\\?.*&content=', 'ngrams/graph?content=', x, flags=re.IGNORECASE) for x in df.loc[df['domain'] == 'books.google.com', 'URL_n']]\n",
    "df.loc[df['domain'] == 'books.google.com', 'URL_n'] = [re.sub('&.*', '', x, flags=re.IGNORECASE) for x in df.loc[df['domain'] == 'books.google.com', 'URL_n']]\n",
    "df.loc[df['domain'] == 'books.google.com', 'URL_n'] = [re.sub('/books.*\\?id=', '/?id=', x, flags=re.IGNORECASE) for x in df.loc[df['domain'] == 'books.google.com', 'URL_n']]\n",
    "df.loc[df['domain'] == 'books.google.com', 'URL_n'] = [re.sub('/books.*\\?vid=', '/?vid=', x, flags=re.IGNORECASE) for x in df.loc[df['domain'] == 'books.google.com', 'URL_n']]\n",
    "df.loc[df['domain'] == 'books.google.com', 'URL_n'] = [re.sub('/books.*\\?q=', '/?q=', x, flags=re.IGNORECASE) for x in df.loc[df['domain'] == 'books.google.com', 'URL_n']]\n",
    "df.loc[df['domain'] == 'books.google.com', 'URL_n'] = [re.sub('#(v|search).*', '', x, flags=re.IGNORECASE) for x in df.loc[df['domain'] == 'books.google.com', 'URL_n']]"
   ]
  },
  {
   "cell_type": "code",
   "execution_count": 37,
   "metadata": {},
   "outputs": [
    {
     "data": {
      "text/plain": [
       "['books.google.com/?q=Demetrius+Hondros%20',\n",
       " 'books.google.com/?vid=OCLC02621211',\n",
       " 'books.google.com/?id=nuoBAAAAYAAJ',\n",
       " 'books.google.com/?id=k561uXI-uPgC',\n",
       " 'books.google.com/?id=kFpd86J8PLsC']"
      ]
     },
     "execution_count": 37,
     "metadata": {},
     "output_type": "execute_result"
    }
   ],
   "source": [
    "list(df.loc[df['domain'] == 'books.google.com', 'URL_n'])[0:5]"
   ]
  },
  {
   "cell_type": "markdown",
   "metadata": {},
   "source": [
    "### 3. worldcat.org"
   ]
  },
  {
   "cell_type": "markdown",
   "metadata": {},
   "source": [
    "Some tags are removed."
   ]
  },
  {
   "cell_type": "code",
   "execution_count": 38,
   "metadata": {},
   "outputs": [
    {
     "data": {
      "text/plain": [
       "['worldcat.org/',\n",
       " 'worldcat.org/search?fq=yr:1906&q=Butmi&qt=faceted',\n",
       " 'worldcat.org/search?fq=yr:1907&q=Butmi&qt=faceted',\n",
       " 'worldcat.org/oclc/33311040&tab=editions',\n",
       " 'worldcat.org/search?q=su:Seventh-Day+Adventists+Periodicals.&qt=hot_subject']"
      ]
     },
     "execution_count": 38,
     "metadata": {},
     "output_type": "execute_result"
    }
   ],
   "source": [
    "list(df[df['domain'] == 'worldcat.org']['URL_n'])[0:5]"
   ]
  },
  {
   "cell_type": "code",
   "execution_count": 39,
   "metadata": {},
   "outputs": [],
   "source": [
    "df.loc[df['domain'] == 'worldcat.org', 'URL_n'] = [re.sub('(referer=|tab=|ht=|qt=|submit=).*?(&|$)', '', x, flags=re.IGNORECASE) for x in df.loc[df['domain'] == 'worldcat.org', 'URL_n']]\n",
    "df.loc[df['domain'] == 'worldcat.org', 'URL_n'] = [re.sub('(\\?$|\\?&+$|&+$)', '', x, flags=re.IGNORECASE) for x in df.loc[df['domain'] == 'worldcat.org', 'URL_n']]"
   ]
  },
  {
   "cell_type": "code",
   "execution_count": 40,
   "metadata": {},
   "outputs": [
    {
     "data": {
      "text/plain": [
       "['worldcat.org/',\n",
       " 'worldcat.org/search?fq=yr:1906&q=Butmi',\n",
       " 'worldcat.org/search?fq=yr:1907&q=Butmi',\n",
       " 'worldcat.org/oclc/33311040',\n",
       " 'worldcat.org/search?q=su:Seventh-Day+Adventists+Periodicals.']"
      ]
     },
     "execution_count": 40,
     "metadata": {},
     "output_type": "execute_result"
    }
   ],
   "source": [
    "list(df[df['domain'] == 'worldcat.org']['URL_n'])[0:5]"
   ]
  },
  {
   "cell_type": "markdown",
   "metadata": {},
   "source": [
    "### 4. viaf.org"
   ]
  },
  {
   "cell_type": "markdown",
   "metadata": {},
   "source": [
    "Some tags are removed."
   ]
  },
  {
   "cell_type": "code",
   "execution_count": 41,
   "metadata": {},
   "outputs": [
    {
     "data": {
      "text/plain": [
       "['viaf.org/viaf/54944866',\n",
       " 'viaf.org/processed/NUKAT%7Cn%202010124544',\n",
       " 'viaf.org/viaf/21283575/#Glover%2C_Stephen%2C_1813-1870',\n",
       " 'viaf.org/viaf/105950421',\n",
       " 'viaf.org/viaf/83649420/#Aguera_y_Arcas%2C_Blaise']"
      ]
     },
     "execution_count": 41,
     "metadata": {},
     "output_type": "execute_result"
    }
   ],
   "source": [
    "list(df[df['domain'] == 'viaf.org']['URL_n'])[0:5]"
   ]
  },
  {
   "cell_type": "code",
   "execution_count": 42,
   "metadata": {},
   "outputs": [],
   "source": [
    "df.loc[df['domain'] == 'viaf.org', 'URL_n'] = [re.sub('&sortkeys=.*', '', x, flags=re.IGNORECASE) for x in df.loc[df['domain'] == 'viaf.org', 'URL_n']]\n",
    "df.loc[df['domain'] == 'viaf.org', 'URL_n'] = [re.sub('/#.*', '', x, flags=re.IGNORECASE) for x in df.loc[df['domain'] == 'viaf.org', 'URL_n']]"
   ]
  },
  {
   "cell_type": "code",
   "execution_count": 43,
   "metadata": {},
   "outputs": [
    {
     "data": {
      "text/plain": [
       "['viaf.org/viaf/54944866',\n",
       " 'viaf.org/processed/NUKAT%7Cn%202010124544',\n",
       " 'viaf.org/viaf/21283575',\n",
       " 'viaf.org/viaf/105950421',\n",
       " 'viaf.org/viaf/83649420']"
      ]
     },
     "execution_count": 43,
     "metadata": {},
     "output_type": "execute_result"
    }
   ],
   "source": [
    "list(df[df['domain'] == 'viaf.org']['URL_n'])[0:5]"
   ]
  },
  {
   "cell_type": "markdown",
   "metadata": {},
   "source": [
    "### 5. archive.org"
   ]
  },
  {
   "cell_type": "markdown",
   "metadata": {},
   "source": [
    "Some tags are removed."
   ]
  },
  {
   "cell_type": "code",
   "execution_count": 44,
   "metadata": {},
   "outputs": [
    {
     "data": {
      "text/plain": [
       "['archive.org/details/historyofbowling008027mbp',\n",
       " 'archive.org/details/lightshipslighth00talbuoft',\n",
       " 'archive.org/details/jimconnolly00schl',\n",
       " 'archive.org/details/aramaicpapyrioff00ahikuoft',\n",
       " 'archive.org/stream/flyingforfrancewmcco#page%2F42%2Fmode%2F2up']"
      ]
     },
     "execution_count": 44,
     "metadata": {},
     "output_type": "execute_result"
    }
   ],
   "source": [
    "list(df.loc[df['domain'] == 'archive.org', 'URL_n'])[0:5]"
   ]
  },
  {
   "cell_type": "code",
   "execution_count": 45,
   "metadata": {},
   "outputs": [],
   "source": [
    "df.loc[df['domain'] == 'archive.org', 'URL_n'] = [re.sub('/page/.*', '', x, flags=re.IGNORECASE) for x in df.loc[df['domain'] == 'archive.org', 'URL_n']]\n",
    "df.loc[df['domain'] == 'archive.org', 'URL_n'] = [re.sub('#(page|mode|start).*', '', x, flags=re.IGNORECASE) for x in df.loc[df['domain'] == 'archive.org', 'URL_n']]"
   ]
  },
  {
   "cell_type": "code",
   "execution_count": 46,
   "metadata": {},
   "outputs": [
    {
     "data": {
      "text/plain": [
       "['archive.org/details/historyofbowling008027mbp',\n",
       " 'archive.org/details/lightshipslighth00talbuoft',\n",
       " 'archive.org/details/jimconnolly00schl',\n",
       " 'archive.org/details/aramaicpapyrioff00ahikuoft',\n",
       " 'archive.org/stream/flyingforfrancewmcco']"
      ]
     },
     "execution_count": 46,
     "metadata": {},
     "output_type": "execute_result"
    }
   ],
   "source": [
    "list(df.loc[df['domain'] == 'archive.org', 'URL_n'])[0:5]"
   ]
  },
  {
   "cell_type": "markdown",
   "metadata": {},
   "source": [
    "### 6. jstor.org"
   ]
  },
  {
   "cell_type": "markdown",
   "metadata": {},
   "source": [
    "Some tags are removed."
   ]
  },
  {
   "cell_type": "code",
   "execution_count": 47,
   "metadata": {},
   "outputs": [
    {
     "data": {
      "text/plain": [
       "['jstor.org/',\n",
       " 'jstor.org/pss/189392',\n",
       " 'jstor.org/pss/607190',\n",
       " 'jstor.org/pss/772442',\n",
       " 'jstor.org/stable/1144537?seq=1']"
      ]
     },
     "execution_count": 47,
     "metadata": {},
     "output_type": "execute_result"
    }
   ],
   "source": [
    "list(df.loc[df['domain'] == 'jstor.org', 'URL_n'])[0:5]"
   ]
  },
  {
   "cell_type": "code",
   "execution_count": 48,
   "metadata": {},
   "outputs": [],
   "source": [
    "df.loc[df['domain'] == 'jstor.org', 'URL_n'] = [re.sub('([0-9])(\\?(seq=|sid=|cookieSet=|origin=|ref=).*)', r'\\1', x, flags=re.IGNORECASE) for x in df.loc[df['domain'] == 'jstor.org', 'URL_n']]\n",
    "df.loc[df['domain'] == 'jstor.org', 'URL_n'] = [re.sub('#(page|meta|fndtn).*', '', x, flags=re.IGNORECASE) for x in df.loc[df['domain'] == 'jstor.org', 'URL_n']]"
   ]
  },
  {
   "cell_type": "code",
   "execution_count": 49,
   "metadata": {},
   "outputs": [
    {
     "data": {
      "text/plain": [
       "['jstor.org/',\n",
       " 'jstor.org/pss/189392',\n",
       " 'jstor.org/pss/607190',\n",
       " 'jstor.org/pss/772442',\n",
       " 'jstor.org/stable/1144537']"
      ]
     },
     "execution_count": 49,
     "metadata": {},
     "output_type": "execute_result"
    }
   ],
   "source": [
    "list(df.loc[df['domain'] == 'jstor.org', 'URL_n'])[0:5]"
   ]
  },
  {
   "cell_type": "markdown",
   "metadata": {},
   "source": [
    "### 7. id.loc.gov"
   ]
  },
  {
   "cell_type": "markdown",
   "metadata": {},
   "source": [
    "No changes required."
   ]
  },
  {
   "cell_type": "code",
   "execution_count": 50,
   "metadata": {},
   "outputs": [
    {
     "data": {
      "text/plain": [
       "['id.loc.gov/authorities/sh2006000275',\n",
       " 'id.loc.gov/authorities/about.html',\n",
       " 'id.loc.gov/authorities/sh2006000391#concept',\n",
       " 'id.loc.gov/authorities/sh2006000395#concept',\n",
       " 'id.loc.gov/authorities/sh91003975#concept']"
      ]
     },
     "execution_count": 50,
     "metadata": {},
     "output_type": "execute_result"
    }
   ],
   "source": [
    "list(df.loc[df['domain'] == 'id.loc.gov', 'URL_n'])[0:5]"
   ]
  },
  {
   "cell_type": "markdown",
   "metadata": {},
   "source": [
    "### 8. ssd.jpl.nasa.gov"
   ]
  },
  {
   "cell_type": "markdown",
   "metadata": {},
   "source": [
    "No changes required."
   ]
  },
  {
   "cell_type": "code",
   "execution_count": 51,
   "metadata": {},
   "outputs": [
    {
     "data": {
      "text/plain": [
       "['ssd.jpl.nasa.gov/horizons.html',\n",
       " 'ssd.jpl.nasa.gov/?sat_phys_par',\n",
       " 'ssd.jpl.nasa.gov/?great_comets',\n",
       " 'ssd.jpl.nasa.gov/great_comets.html',\n",
       " 'ssd.jpl.nasa.gov/horizons.cgi']"
      ]
     },
     "execution_count": 51,
     "metadata": {},
     "output_type": "execute_result"
    }
   ],
   "source": [
    "list(df.loc[df['domain'] == 'ssd.jpl.nasa.gov', 'URL_n'])[0:5]"
   ]
  },
  {
   "cell_type": "markdown",
   "metadata": {},
   "source": [
    "### 9. minorplanetcenter.net"
   ]
  },
  {
   "cell_type": "markdown",
   "metadata": {},
   "source": [
    "One minor tag removed."
   ]
  },
  {
   "cell_type": "code",
   "execution_count": 52,
   "metadata": {},
   "outputs": [
    {
     "data": {
      "text/plain": [
       "['minorplanetcenter.net/mpec/K06/K06N38.html',\n",
       " 'minorplanetcenter.net/iau/Ephemerides/Comets',\n",
       " 'minorplanetcenter.net/iau/Ephemerides/Comets',\n",
       " 'minorplanetcenter.net/iau/Ephemerides/Comets',\n",
       " 'minorplanetcenter.net/iau/Ephemerides/Comets']"
      ]
     },
     "execution_count": 52,
     "metadata": {},
     "output_type": "execute_result"
    }
   ],
   "source": [
    "list(df.loc[df['domain'] == 'minorplanetcenter.net', 'URL_n'])[0:5]"
   ]
  },
  {
   "cell_type": "code",
   "execution_count": 53,
   "metadata": {},
   "outputs": [],
   "source": [
    "df.loc[df['domain'] == 'minorplanetcenter.net', 'URL_n'] = [re.sub('commit=show&', '', x, flags=re.IGNORECASE) for x in df.loc[df['domain'] == 'minorplanetcenter.net', 'URL_n']]"
   ]
  },
  {
   "cell_type": "code",
   "execution_count": 54,
   "metadata": {},
   "outputs": [
    {
     "data": {
      "text/plain": [
       "['minorplanetcenter.net/mpec/K06/K06N38.html',\n",
       " 'minorplanetcenter.net/iau/Ephemerides/Comets',\n",
       " 'minorplanetcenter.net/iau/Ephemerides/Comets',\n",
       " 'minorplanetcenter.net/iau/Ephemerides/Comets',\n",
       " 'minorplanetcenter.net/iau/Ephemerides/Comets']"
      ]
     },
     "execution_count": 54,
     "metadata": {},
     "output_type": "execute_result"
    }
   ],
   "source": [
    "list(df.loc[df['domain'] == 'minorplanetcenter.net', 'URL_n'])[0:5]"
   ]
  },
  {
   "cell_type": "markdown",
   "metadata": {},
   "source": [
    "### 10. isni.org"
   ]
  },
  {
   "cell_type": "markdown",
   "metadata": {},
   "source": [
    "No changes required."
   ]
  },
  {
   "cell_type": "code",
   "execution_count": 55,
   "metadata": {},
   "outputs": [
    {
     "data": {
      "text/plain": [
       "['isni.org/content/orcid-begin-using-ringgold-registration-agency',\n",
       " 'isni.org/0000000115679704',\n",
       " 'isni.org/isni_and_orcid',\n",
       " 'isni.org/',\n",
       " 'isni.org/about']"
      ]
     },
     "execution_count": 55,
     "metadata": {},
     "output_type": "execute_result"
    }
   ],
   "source": [
    "list(df.loc[df['domain'] == 'isni.org', 'URL_n'])[0:5]"
   ]
  },
  {
   "cell_type": "markdown",
   "metadata": {},
   "source": [
    "### 11. nytimes.com"
   ]
  },
  {
   "cell_type": "markdown",
   "metadata": {},
   "source": [
    "Removed after the .html."
   ]
  },
  {
   "cell_type": "code",
   "execution_count": 56,
   "metadata": {},
   "outputs": [
    {
     "data": {
      "text/plain": [
       "['nytimes.com/2006/02/17/business/17richOBT.html',\n",
       " 'nytimes.com/2002/06/02/international/asia/02HEPA.html?ei=5070&en=3d41c410bad15410&ex=1157169600',\n",
       " 'nytimes.com/aponline/us/AP-Ancient-Bee.html',\n",
       " 'nytimes.com/2007/01/27/obituaries/27christensen.html',\n",
       " 'nytimes.com/2007/05/15/world/middleeast/15embed.html']"
      ]
     },
     "execution_count": 56,
     "metadata": {},
     "output_type": "execute_result"
    }
   ],
   "source": [
    "list(df.loc[df['domain'] == 'nytimes.com', 'URL_n'])[0:5]"
   ]
  },
  {
   "cell_type": "code",
   "execution_count": 57,
   "metadata": {},
   "outputs": [],
   "source": [
    "df.loc[df['domain'] == 'nytimes.com', 'URL_n'] = [re.sub('\\.html\\?.*', '.html', x, flags=re.IGNORECASE) for x in df.loc[df['domain'] == 'nytimes.com', 'URL_n']]\n",
    "df.loc[df['domain'] == 'nytimes.com', 'URL_n'] = [re.sub('\\.html#.*', '.html', x, flags=re.IGNORECASE) for x in df.loc[df['domain'] == 'nytimes.com', 'URL_n']]"
   ]
  },
  {
   "cell_type": "code",
   "execution_count": 58,
   "metadata": {},
   "outputs": [
    {
     "data": {
      "text/plain": [
       "['nytimes.com/2006/02/17/business/17richOBT.html',\n",
       " 'nytimes.com/2002/06/02/international/asia/02HEPA.html',\n",
       " 'nytimes.com/aponline/us/AP-Ancient-Bee.html',\n",
       " 'nytimes.com/2007/01/27/obituaries/27christensen.html',\n",
       " 'nytimes.com/2007/05/15/world/middleeast/15embed.html']"
      ]
     },
     "execution_count": 58,
     "metadata": {},
     "output_type": "execute_result"
    }
   ],
   "source": [
    "list(df.loc[df['domain'] == 'nytimes.com', 'URL_n'])[0:5]"
   ]
  },
  {
   "cell_type": "markdown",
   "metadata": {},
   "source": [
    "### 12. imdb.com"
   ]
  },
  {
   "cell_type": "markdown",
   "metadata": {},
   "source": [
    "Here sometimes the same resource are linked but pointing to different sections of it, for example a specific year of awards or the cast of a movie."
   ]
  },
  {
   "cell_type": "code",
   "execution_count": 59,
   "metadata": {},
   "outputs": [
    {
     "data": {
      "text/plain": [
       "['imdb.com/title/tt0353168',\n",
       " 'imdb.com/title/tt0224837',\n",
       " 'imdb.com/title/tt0079878',\n",
       " 'imdb.com/title/tt0107414',\n",
       " 'imdb.com/wga']"
      ]
     },
     "execution_count": 59,
     "metadata": {},
     "output_type": "execute_result"
    }
   ],
   "source": [
    "list(df.loc[df['domain'] == 'imdb.com', 'URL_n'])[0:5]"
   ]
  },
  {
   "cell_type": "code",
   "execution_count": 60,
   "metadata": {},
   "outputs": [],
   "source": [
    "df.loc[df['domain'] == 'imdb.com', 'URL_n'] = [re.sub('\\?(ref_|ref)=[a-z0-9_]+&', '?', x, flags=re.IGNORECASE) for x in df.loc[df['domain'] == 'imdb.com', 'URL_n']]\n",
    "df.loc[df['domain'] == 'imdb.com', 'URL_n'] = [re.sub('&(ref_|ref)=[a-z0-9_]+&', '', x, flags=re.IGNORECASE) for x in df.loc[df['domain'] == 'imdb.com', 'URL_n']]\n",
    "df.loc[df['domain'] == 'imdb.com', 'URL_n'] = [re.sub('(\\?|&)(ref_|ref)=[a-z0-9_]+#', '#', x, flags=re.IGNORECASE) for x in df.loc[df['domain'] == 'imdb.com', 'URL_n']]\n",
    "df.loc[df['domain'] == 'imdb.com', 'URL_n'] = [re.sub('(\\?|&)(ref_|ref)=[a-z0-9_]+$', '', x, flags=re.IGNORECASE) for x in df.loc[df['domain'] == 'imdb.com', 'URL_n']]\n",
    "df.loc[df['domain'] == 'imdb.com', 'URL_n'] = [re.sub('\\?mode=[a-z]+&', '?', x, flags=re.IGNORECASE) for x in df.loc[df['domain'] == 'imdb.com', 'URL_n']]\n",
    "df.loc[df['domain'] == 'imdb.com', 'URL_n'] = [re.sub('&mode=[a-z]+&', '&', x, flags=re.IGNORECASE) for x in df.loc[df['domain'] == 'imdb.com', 'URL_n']]\n",
    "df.loc[df['domain'] == 'imdb.com', 'URL_n'] = [re.sub('(\\?|&)mode=[a-z]+#', '#', x, flags=re.IGNORECASE) for x in df.loc[df['domain'] == 'imdb.com', 'URL_n']]\n",
    "df.loc[df['domain'] == 'imdb.com', 'URL_n'] = [re.sub('(\\?|&)mode=[a-z]+$', '', x, flags=re.IGNORECASE) for x in df.loc[df['domain'] == 'imdb.com', 'URL_n']]\n",
    "df.loc[df['domain'] == 'imdb.com', 'URL_n'] = [re.sub('\\?(&+)', '?', x, flags=re.IGNORECASE) for x in df.loc[df['domain'] == 'imdb.com', 'URL_n']]"
   ]
  },
  {
   "cell_type": "code",
   "execution_count": 61,
   "metadata": {},
   "outputs": [
    {
     "data": {
      "text/plain": [
       "['imdb.com/title/tt0353168',\n",
       " 'imdb.com/title/tt0224837',\n",
       " 'imdb.com/title/tt0079878',\n",
       " 'imdb.com/title/tt0107414',\n",
       " 'imdb.com/wga']"
      ]
     },
     "execution_count": 61,
     "metadata": {},
     "output_type": "execute_result"
    }
   ],
   "source": [
    "list(df.loc[df['domain'] == 'imdb.com', 'URL_n'])[0:5]"
   ]
  },
  {
   "cell_type": "markdown",
   "metadata": {},
   "source": [
    "### 13. ncbi.nlm.nih.gov"
   ]
  },
  {
   "cell_type": "markdown",
   "metadata": {},
   "source": [
    "One minor tag removed"
   ]
  },
  {
   "cell_type": "code",
   "execution_count": 62,
   "metadata": {},
   "outputs": [
    {
     "data": {
      "text/plain": [
       "['ncbi.nlm.nih.gov/entrez/viewer.fcgi?db=protein&val=90101392',\n",
       " 'ncbi.nlm.nih.gov/About/model',\n",
       " 'ncbi.nlm.nih.gov/pmc/articles/PMC1242907/?page=1',\n",
       " 'ncbi.nlm.nih.gov/entrez/dispomim.cgi?id=112600',\n",
       " 'ncbi.nlm.nih.gov/mapview/maps.cgi?chr=Y&taxid=9606']"
      ]
     },
     "execution_count": 62,
     "metadata": {},
     "output_type": "execute_result"
    }
   ],
   "source": [
    "list(df.loc[df['domain'] == 'ncbi.nlm.nih.gov', 'URL_n'])[0:5]"
   ]
  },
  {
   "cell_type": "code",
   "execution_count": 63,
   "metadata": {},
   "outputs": [],
   "source": [
    "df.loc[df['domain'] == 'ncbi.nlm.nih.gov', 'URL_n'] = [re.sub('/\\?page.*', '', x, flags=re.IGNORECASE) for x in df.loc[df['domain'] == 'ncbi.nlm.nih.gov', 'URL_n']]"
   ]
  },
  {
   "cell_type": "code",
   "execution_count": 64,
   "metadata": {},
   "outputs": [
    {
     "data": {
      "text/plain": [
       "['ncbi.nlm.nih.gov/entrez/viewer.fcgi?db=protein&val=90101392',\n",
       " 'ncbi.nlm.nih.gov/About/model',\n",
       " 'ncbi.nlm.nih.gov/pmc/articles/PMC1242907',\n",
       " 'ncbi.nlm.nih.gov/entrez/dispomim.cgi?id=112600',\n",
       " 'ncbi.nlm.nih.gov/mapview/maps.cgi?chr=Y&taxid=9606']"
      ]
     },
     "execution_count": 64,
     "metadata": {},
     "output_type": "execute_result"
    }
   ],
   "source": [
    "list(df.loc[df['domain'] == 'ncbi.nlm.nih.gov', 'URL_n'])[0:5]"
   ]
  },
  {
   "cell_type": "markdown",
   "metadata": {},
   "source": [
    "### 14. youtube.com"
   ]
  },
  {
   "cell_type": "markdown",
   "metadata": {},
   "source": [
    "Specific time parameter and unuseful parameters are removed."
   ]
  },
  {
   "cell_type": "code",
   "execution_count": 65,
   "metadata": {},
   "outputs": [
    {
     "data": {
      "text/plain": [
       "['youtube.com/watch?mode=user&search=&v=utyPmSlounc',\n",
       " 'youtube.com/watch?feature=PlayList&index=2&p=C890829FE50FA652&v=EUj9FrGLfsc',\n",
       " 'youtube.com/watch?feature=channel&v=rpBBCd8wxiM',\n",
       " 'youtube.com/watch?v=7SLiN6yXeZs',\n",
       " 'youtube.com/greenhatangel']"
      ]
     },
     "execution_count": 65,
     "metadata": {},
     "output_type": "execute_result"
    }
   ],
   "source": [
    "list(df.loc[df['domain'] == 'youtube.com', 'URL_n'])[0:5]"
   ]
  },
  {
   "cell_type": "code",
   "execution_count": 66,
   "metadata": {},
   "outputs": [],
   "source": [
    "df.loc[df['domain'] == 'youtube.com', 'URL_n'] = [re.sub('\\?t=.*&', '?', x, flags=re.IGNORECASE) for x in df.loc[df['domain'] == 'youtube.com', 'URL_n']]\n",
    "df.loc[df['domain'] == 'youtube.com', 'URL_n'] = [re.sub('\\?t=.*$', '', x, flags=re.IGNORECASE) for x in df.loc[df['domain'] == 'youtube.com', 'URL_n']]\n",
    "df.loc[df['domain'] == 'youtube.com', 'URL_n'] = [re.sub('\\?.*&v=', '?v=', x, flags=re.IGNORECASE) for x in df.loc[df['domain'] == 'youtube.com', 'URL_n']]\n",
    "df.loc[df['domain'] == 'youtube.com', 'URL_n'] = [re.sub('\\?.*&search_query=', '?search_query=', x, flags=re.IGNORECASE) for x in df.loc[df['domain'] == 'youtube.com', 'URL_n']]\n",
    "df.loc[df['domain'] == 'youtube.com', 'URL_n'] = [re.sub('&.*', '', x, flags=re.IGNORECASE) for x in df.loc[df['domain'] == 'youtube.com', 'URL_n']]\n",
    "df.loc[df['domain'] == 'youtube.com', 'URL_n'] = [re.sub('\\?(flow|feat).*', '', x, flags=re.IGNORECASE) for x in df.loc[df['domain'] == 'youtube.com', 'URL_n']]\n",
    "df.loc[df['domain'] == 'youtube.com', 'URL_n'] = [re.sub('(;t=|#t|#at).*', '', x, flags=re.IGNORECASE) for x in df.loc[df['domain'] == 'youtube.com', 'URL_n']]"
   ]
  },
  {
   "cell_type": "code",
   "execution_count": 67,
   "metadata": {},
   "outputs": [
    {
     "data": {
      "text/plain": [
       "['youtube.com/watch?v=utyPmSlounc',\n",
       " 'youtube.com/watch?v=EUj9FrGLfsc',\n",
       " 'youtube.com/watch?v=rpBBCd8wxiM',\n",
       " 'youtube.com/watch?v=7SLiN6yXeZs',\n",
       " 'youtube.com/greenhatangel']"
      ]
     },
     "execution_count": 67,
     "metadata": {},
     "output_type": "execute_result"
    }
   ],
   "source": [
    "list(df.loc[df['domain'] == 'youtube.com', 'URL_n'])[0:5]"
   ]
  },
  {
   "cell_type": "markdown",
   "metadata": {},
   "source": [
    "### 15. d-nb.info"
   ]
  },
  {
   "cell_type": "markdown",
   "metadata": {},
   "source": [
    "No changes required."
   ]
  },
  {
   "cell_type": "code",
   "execution_count": 68,
   "metadata": {},
   "outputs": [
    {
     "data": {
      "text/plain": [
       "['d-nb.info/850838274',\n",
       " 'd-nb.info/831224622',\n",
       " 'd-nb.info/57228621X',\n",
       " 'd-nb.info/365594431',\n",
       " 'd-nb.info/572286309']"
      ]
     },
     "execution_count": 68,
     "metadata": {},
     "output_type": "execute_result"
    }
   ],
   "source": [
    "list(df.loc[df['domain'] == 'd-nb.info', 'URL_n'])[0:5]"
   ]
  },
  {
   "cell_type": "markdown",
   "metadata": {},
   "source": [
    "### 16. gbif.org"
   ]
  },
  {
   "cell_type": "markdown",
   "metadata": {},
   "source": [
    "No changes required."
   ]
  },
  {
   "cell_type": "code",
   "execution_count": 69,
   "metadata": {},
   "outputs": [
    {
     "data": {
      "text/plain": [
       "['gbif.org/UsesPrimaryData.pdf',\n",
       " 'gbif.org/species/124789228',\n",
       " 'gbif.org/species/2286534',\n",
       " 'gbif.org/species/7022067',\n",
       " 'gbif.org/species/7022098']"
      ]
     },
     "execution_count": 69,
     "metadata": {},
     "output_type": "execute_result"
    }
   ],
   "source": [
    "list(df.loc[df['domain'] == 'gbif.org', 'URL_n'])[0:5]"
   ]
  },
  {
   "cell_type": "markdown",
   "metadata": {},
   "source": [
    "### 17. bbc.co.uk"
   ]
  },
  {
   "cell_type": "markdown",
   "metadata": {},
   "source": [
    "Some old URLs can include parameters, but they cannot be removed."
   ]
  },
  {
   "cell_type": "code",
   "execution_count": 70,
   "metadata": {},
   "outputs": [
    {
     "data": {
      "text/plain": [
       "['bbc.co.uk/nature/wildfacts/factfiles/608.shtml',\n",
       " 'bbc.co.uk/radio4/womanshour/2004_48_mon_01.shtml',\n",
       " 'bbc.co.uk/comedy/coupling',\n",
       " 'bbc.co.uk/wales/music/sites/datblygu/pages/datblygu_biography.shtml',\n",
       " 'bbc.co.uk/radio4/markthomaspresents/pip/2f6i0']"
      ]
     },
     "execution_count": 70,
     "metadata": {},
     "output_type": "execute_result"
    }
   ],
   "source": [
    "list(df.loc[df['domain'] == 'bbc.co.uk', 'URL_n'])[0:5]"
   ]
  },
  {
   "cell_type": "code",
   "execution_count": 71,
   "metadata": {},
   "outputs": [],
   "source": [
    "df.loc[df['domain'] == 'bbc.co.uk', 'URL_n'] = [re.sub('\\?(ocid|intlink|print|ns_).*', '', x, flags=re.IGNORECASE) for x in df.loc[df['domain'] == 'bbc.co.uk', 'URL_n']]\n",
    "df.loc[df['domain'] == 'bbc.co.uk', 'URL_n'] = [re.sub('#TWEET.*', '', x, flags=re.IGNORECASE) for x in df.loc[df['domain'] == 'bbc.co.uk', 'URL_n']]"
   ]
  },
  {
   "cell_type": "code",
   "execution_count": 72,
   "metadata": {},
   "outputs": [
    {
     "data": {
      "text/plain": [
       "['bbc.co.uk/nature/wildfacts/factfiles/608.shtml',\n",
       " 'bbc.co.uk/radio4/womanshour/2004_48_mon_01.shtml',\n",
       " 'bbc.co.uk/comedy/coupling',\n",
       " 'bbc.co.uk/wales/music/sites/datblygu/pages/datblygu_biography.shtml',\n",
       " 'bbc.co.uk/radio4/markthomaspresents/pip/2f6i0']"
      ]
     },
     "execution_count": 72,
     "metadata": {},
     "output_type": "execute_result"
    }
   ],
   "source": [
    "list(df.loc[df['domain'] == 'bbc.co.uk', 'URL_n'])[0:5]"
   ]
  },
  {
   "cell_type": "markdown",
   "metadata": {},
   "source": [
    "### 18. billboard.com"
   ]
  },
  {
   "cell_type": "markdown",
   "metadata": {},
   "source": [
    "chart/?f= is used to select charts, it cannot be removed. There are also other parameters, such as order, begin page or rank, that can alter the page."
   ]
  },
  {
   "cell_type": "code",
   "execution_count": 73,
   "metadata": {},
   "outputs": [
    {
     "data": {
      "text/plain": [
       "['billboard.com/bb/reviews/album_article_display.jsp?vnu_content_id=1001262309',\n",
       " 'billboard.com/bb/daily/article_display.jsp?vnu_content_id=1000550918',\n",
       " 'billboard.com/bbcom/news/article_display.jsp?imw=Y&vnu_content_id=1001433922',\n",
       " 'billboard.com/bbcom/bio/index.jsp?cr=artist&kw=pray%20for%20the%20soul%20of%20betty&or=ASCENDING&pid=659311&sf=length',\n",
       " 'billboard.com/bbcom/retrieve_chart_history.do?model.vnuAlbumId=703015&model.vnuArtistId=664010']"
      ]
     },
     "execution_count": 73,
     "metadata": {},
     "output_type": "execute_result"
    }
   ],
   "source": [
    "list(df.loc[df['domain'] == 'billboard.com', 'URL_n'])[0:5]"
   ]
  },
  {
   "cell_type": "markdown",
   "metadata": {},
   "source": [
    "### 19. api.semanticscholar.org"
   ]
  },
  {
   "cell_type": "markdown",
   "metadata": {},
   "source": [
    "No changes required."
   ]
  },
  {
   "cell_type": "code",
   "execution_count": 74,
   "metadata": {},
   "outputs": [
    {
     "data": {
      "text/plain": [
       "['api.semanticscholar.org/CorpusID:63576455',\n",
       " 'api.semanticscholar.org/CorpusID:120313863',\n",
       " 'api.semanticscholar.org/CorpusID:33224883',\n",
       " 'api.semanticscholar.org/CorpusID:1749330',\n",
       " 'api.semanticscholar.org/CorpusID:18918768']"
      ]
     },
     "execution_count": 74,
     "metadata": {},
     "output_type": "execute_result"
    }
   ],
   "source": [
    "list(df.loc[df['domain'] == 'api.semanticscholar.org', 'URL_n'])[0:5]"
   ]
  },
  {
   "cell_type": "markdown",
   "metadata": {},
   "source": [
    "### 20. musicbrainz.org"
   ]
  },
  {
   "cell_type": "markdown",
   "metadata": {},
   "source": [
    "No changes required."
   ]
  },
  {
   "cell_type": "code",
   "execution_count": 75,
   "metadata": {},
   "outputs": [
    {
     "data": {
      "text/plain": [
       "['musicbrainz.org/artist/08874e35-f5de-4864-88aa-cdc4248a7138.html',\n",
       " 'musicbrainz.org/artist/86864388-ecf6-4d80-b22a-692f38023563.html',\n",
       " 'musicbrainz.org/artist/93266cca-6c66-4b82-84a1-7eae5bc35b09.html',\n",
       " 'musicbrainz.org/artist/63f5e91e-6407-4eac-b3c3-0bfb82ef5951.html',\n",
       " 'musicbrainz.org/artist/c6b0db5a-d750-4ed8-9caa-ddcfb75dcb0a.html']"
      ]
     },
     "execution_count": 75,
     "metadata": {},
     "output_type": "execute_result"
    }
   ],
   "source": [
    "list(df.loc[df['domain'] == 'musicbrainz.org', 'URL_n'])[0:5]"
   ]
  },
  {
   "cell_type": "markdown",
   "metadata": {},
   "source": [
    "### 21. data.bnf.fr"
   ]
  },
  {
   "cell_type": "markdown",
   "metadata": {},
   "source": [
    "No changes required."
   ]
  },
  {
   "cell_type": "code",
   "execution_count": 76,
   "metadata": {},
   "outputs": [
    {
     "data": {
      "text/plain": [
       "['data.bnf.fr/12179004/pedro_de_aguado',\n",
       " 'data.bnf.fr/12361945/nyoro__peuple_d_afrique_',\n",
       " 'data.bnf.fr/12488303/nkole__peuple_d_afrique_',\n",
       " 'data.bnf.fr/15742308/ngata__peuple_d_afrique_',\n",
       " 'data.bnf.fr/semanticweb']"
      ]
     },
     "execution_count": 76,
     "metadata": {},
     "output_type": "execute_result"
    }
   ],
   "source": [
    "list(df.loc[df['domain'] == 'data.bnf.fr', 'URL_n'])[0:5]"
   ]
  },
  {
   "cell_type": "markdown",
   "metadata": {},
   "source": [
    "### 22. catalogue.bnf.fr"
   ]
  },
  {
   "cell_type": "markdown",
   "metadata": {},
   "source": [
    "No changes required."
   ]
  },
  {
   "cell_type": "code",
   "execution_count": 77,
   "metadata": {},
   "outputs": [
    {
     "data": {
      "text/plain": [
       "['catalogue.bnf.fr/',\n",
       " 'catalogue.bnf.fr/',\n",
       " 'catalogue.bnf.fr/',\n",
       " 'catalogue.bnf.fr/',\n",
       " 'catalogue.bnf.fr/ark:/12148/bpt6k200978m.table']"
      ]
     },
     "execution_count": 77,
     "metadata": {},
     "output_type": "execute_result"
    }
   ],
   "source": [
    "list(df.loc[df['domain'] == 'catalogue.bnf.fr', 'URL_n'])[0:5]"
   ]
  },
  {
   "cell_type": "markdown",
   "metadata": {},
   "source": [
    "### 23. npgallery.nps.gov"
   ]
  },
  {
   "cell_type": "markdown",
   "metadata": {},
   "source": [
    "One minor tag removed"
   ]
  },
  {
   "cell_type": "code",
   "execution_count": 78,
   "metadata": {},
   "outputs": [
    {
     "data": {
      "text/plain": [
       "['npgallery.nps.gov/nrhp/Download?path=/natreg/docs/All_Data.html',\n",
       " 'npgallery.nps.gov/nrhp',\n",
       " 'npgallery.nps.gov/nrhp/GetAsset?assetID=984b4b46-d5ec-47a5-a4dd-43e575a397bf',\n",
       " 'npgallery.nps.gov/pdfhost/docs/NRHP/Text/85002566.pdf',\n",
       " 'npgallery.nps.gov/nrhp/AssetDetail?assetID=8d915fd4-3677-4864-bd1a-933b1d3c92a9']"
      ]
     },
     "execution_count": 78,
     "metadata": {},
     "output_type": "execute_result"
    }
   ],
   "source": [
    "list(df.loc[df['domain'] == 'npgallery.nps.gov', 'URL_n'])[0:5]"
   ]
  },
  {
   "cell_type": "code",
   "execution_count": 79,
   "metadata": {},
   "outputs": [],
   "source": [
    "df.loc[df['domain'] == 'npgallery.nps.gov', 'URL_n'] = [re.sub('#page.*', '', x, flags=re.IGNORECASE) for x in df.loc[df['domain'] == 'npgallery.nps.gov', 'URL_n']]"
   ]
  },
  {
   "cell_type": "code",
   "execution_count": 80,
   "metadata": {},
   "outputs": [
    {
     "data": {
      "text/plain": [
       "['npgallery.nps.gov/nrhp/Download?path=/natreg/docs/All_Data.html',\n",
       " 'npgallery.nps.gov/nrhp',\n",
       " 'npgallery.nps.gov/nrhp/GetAsset?assetID=984b4b46-d5ec-47a5-a4dd-43e575a397bf',\n",
       " 'npgallery.nps.gov/pdfhost/docs/NRHP/Text/85002566.pdf',\n",
       " 'npgallery.nps.gov/nrhp/AssetDetail?assetID=8d915fd4-3677-4864-bd1a-933b1d3c92a9']"
      ]
     },
     "execution_count": 80,
     "metadata": {},
     "output_type": "execute_result"
    }
   ],
   "source": [
    "list(df.loc[df['domain'] == 'npgallery.nps.gov', 'URL_n'])[0:5]"
   ]
  },
  {
   "cell_type": "markdown",
   "metadata": {},
   "source": [
    "### 24. theguardian.com"
   ]
  },
  {
   "cell_type": "markdown",
   "metadata": {},
   "source": [
    "Some parameters are not useful."
   ]
  },
  {
   "cell_type": "code",
   "execution_count": 81,
   "metadata": {},
   "outputs": [
    {
     "data": {
      "text/plain": [
       "['theguardian.com/profile/jesscartnermorley',\n",
       " 'theguardian.com/music/series/newbandoftheday',\n",
       " 'theguardian.com/uk-news/2013/jul/24/alan-partridge-norwich-alpha-papa-movie-premiere',\n",
       " 'theguardian.com/music/2013/sep/06/metamono-new-band-of-day',\n",
       " 'theguardian.com/culture/2013/oct/22/how-we-made-sandman-gaiman?INTCMP=ILCNETTXT3487']"
      ]
     },
     "execution_count": 81,
     "metadata": {},
     "output_type": "execute_result"
    }
   ],
   "source": [
    "list(df.loc[df['domain'] == 'theguardian.com', 'URL_n'])[0:5]"
   ]
  },
  {
   "cell_type": "code",
   "execution_count": 82,
   "metadata": {},
   "outputs": [],
   "source": [
    "df.loc[df['domain'] == 'theguardian.com', 'URL_n'] = [re.sub('\\?(INTCMP=|newsfeed=|cmp=|feed=).*#', '#', x, flags=re.IGNORECASE) for x in df.loc[df['domain'] == 'theguardian.com', 'URL_n']]\n",
    "df.loc[df['domain'] == 'theguardian.com', 'URL_n'] = [re.sub('\\?(INTCMP=|newsfeed=|cmp=|feed=).*', '', x, flags=re.IGNORECASE) for x in df.loc[df['domain'] == 'theguardian.com', 'URL_n']]"
   ]
  },
  {
   "cell_type": "code",
   "execution_count": 83,
   "metadata": {},
   "outputs": [
    {
     "data": {
      "text/plain": [
       "['theguardian.com/profile/jesscartnermorley',\n",
       " 'theguardian.com/music/series/newbandoftheday',\n",
       " 'theguardian.com/uk-news/2013/jul/24/alan-partridge-norwich-alpha-papa-movie-premiere',\n",
       " 'theguardian.com/music/2013/sep/06/metamono-new-band-of-day',\n",
       " 'theguardian.com/culture/2013/oct/22/how-we-made-sandman-gaiman']"
      ]
     },
     "execution_count": 83,
     "metadata": {},
     "output_type": "execute_result"
    }
   ],
   "source": [
    "list(df.loc[df['domain'] == 'theguardian.com', 'URL_n'])[0:5]"
   ]
  },
  {
   "cell_type": "markdown",
   "metadata": {},
   "source": [
    "### 25. amigo.geneontology.org"
   ]
  },
  {
   "cell_type": "markdown",
   "metadata": {},
   "source": [
    "One minor error is fixed."
   ]
  },
  {
   "cell_type": "code",
   "execution_count": 84,
   "metadata": {},
   "outputs": [
    {
     "data": {
      "text/plain": [
       "['amigo.geneontology.org/cgi-bin/amigo/go.cgi?depth=0&query=8373&search_constraint=terms&view=details',\n",
       " 'amigo.geneontology.org/cgi-bin/amigo/gp-assoc.cgi?gp=MGI:MGI:2387648&session_id=9844amigo1367648742',\n",
       " 'amigo.geneontology.org/cgi-bin/amigo/term_details?term=GO:0016006',\n",
       " 'amigo.geneontology.org/amigo/term/GO:0001664',\n",
       " 'amigo.geneontology.org/amigo/term/GO:0005102']"
      ]
     },
     "execution_count": 84,
     "metadata": {},
     "output_type": "execute_result"
    }
   ],
   "source": [
    "list(df.loc[df['domain'] == 'amigo.geneontology.org', 'URL_n'])[0:5]"
   ]
  },
  {
   "cell_type": "code",
   "execution_count": 85,
   "metadata": {},
   "outputs": [],
   "source": [
    "df.loc[df['domain'] == 'amigo.geneontology.org', 'URL_n'] = [re.sub(',$', '', x, flags=re.IGNORECASE) for x in df.loc[df['domain'] == 'amigo.geneontology.org', 'URL_n']]"
   ]
  },
  {
   "cell_type": "code",
   "execution_count": 86,
   "metadata": {},
   "outputs": [
    {
     "data": {
      "text/plain": [
       "['amigo.geneontology.org/cgi-bin/amigo/go.cgi?depth=0&query=8373&search_constraint=terms&view=details',\n",
       " 'amigo.geneontology.org/cgi-bin/amigo/gp-assoc.cgi?gp=MGI:MGI:2387648&session_id=9844amigo1367648742',\n",
       " 'amigo.geneontology.org/cgi-bin/amigo/term_details?term=GO:0016006',\n",
       " 'amigo.geneontology.org/amigo/term/GO:0001664',\n",
       " 'amigo.geneontology.org/amigo/term/GO:0005102']"
      ]
     },
     "execution_count": 86,
     "metadata": {},
     "output_type": "execute_result"
    }
   ],
   "source": [
    "list(df.loc[df['domain'] == 'amigo.geneontology.org', 'URL_n'])[0:5]"
   ]
  },
  {
   "cell_type": "markdown",
   "metadata": {},
   "source": [
    "### 26. irmng.org"
   ]
  },
  {
   "cell_type": "markdown",
   "metadata": {},
   "source": [
    "No changes required."
   ]
  },
  {
   "cell_type": "code",
   "execution_count": 87,
   "metadata": {},
   "outputs": [
    {
     "data": {
      "text/plain": [
       "['irmng.org/aphia.php?id=10360369&p=taxdetails',\n",
       " 'irmng.org/aphia.php?id=11043809&p=taxdetails',\n",
       " 'irmng.org/aphia.php?id=10537593&p=taxdetails',\n",
       " 'irmng.org/aphia.php?id=10537593&p=taxdetails',\n",
       " 'irmng.org/aphia.php?id=11321007&p=taxdetails']"
      ]
     },
     "execution_count": 87,
     "metadata": {},
     "output_type": "execute_result"
    }
   ],
   "source": [
    "list(df.loc[df['domain'] == 'irmng.org', 'URL_n'])[0:5]"
   ]
  },
  {
   "cell_type": "markdown",
   "metadata": {},
   "source": [
    "### 27. ui.adsabs.harvard.edu"
   ]
  },
  {
   "cell_type": "markdown",
   "metadata": {},
   "source": [
    "By default it goes to \"abstract\"."
   ]
  },
  {
   "cell_type": "code",
   "execution_count": 88,
   "metadata": {},
   "outputs": [
    {
     "data": {
      "text/plain": [
       "['ui.adsabs.harvard.edu/',\n",
       " 'ui.adsabs.harvard.edu/',\n",
       " 'ui.adsabs.harvard.edu/#abs%2F1989A%26A...219..125M',\n",
       " 'ui.adsabs.harvard.edu/#abs%2F2012BASI...40...51K',\n",
       " 'ui.adsabs.harvard.edu/#abs%2F2000A%26A...361..945L']"
      ]
     },
     "execution_count": 88,
     "metadata": {},
     "output_type": "execute_result"
    }
   ],
   "source": [
    "list(df.loc[df['domain'] == 'ui.adsabs.harvard.edu', 'URL_n'])[0:5]"
   ]
  },
  {
   "cell_type": "code",
   "execution_count": 89,
   "metadata": {},
   "outputs": [],
   "source": [
    "df.loc[df['domain'] == 'ui.adsabs.harvard.edu', 'URL_n'] = [re.sub('/abstract$', '', x, flags=re.IGNORECASE) for x in df.loc[df['domain'] == 'ui.adsabs.harvard.edu', 'URL_n']]"
   ]
  },
  {
   "cell_type": "code",
   "execution_count": 90,
   "metadata": {},
   "outputs": [
    {
     "data": {
      "text/plain": [
       "['ui.adsabs.harvard.edu/',\n",
       " 'ui.adsabs.harvard.edu/',\n",
       " 'ui.adsabs.harvard.edu/#abs%2F1989A%26A...219..125M',\n",
       " 'ui.adsabs.harvard.edu/#abs%2F2012BASI...40...51K',\n",
       " 'ui.adsabs.harvard.edu/#abs%2F2000A%26A...361..945L']"
      ]
     },
     "execution_count": 90,
     "metadata": {},
     "output_type": "execute_result"
    }
   ],
   "source": [
    "list(df.loc[df['domain'] == 'ui.adsabs.harvard.edu', 'URL_n'])[0:5]"
   ]
  },
  {
   "cell_type": "markdown",
   "metadata": {},
   "source": [
    "### 28. news.bbc.co.uk"
   ]
  },
  {
   "cell_type": "markdown",
   "metadata": {},
   "source": [
    "Some parameters are not useful."
   ]
  },
  {
   "cell_type": "code",
   "execution_count": 91,
   "metadata": {},
   "outputs": [
    {
     "data": {
      "text/plain": [
       "['news.bbc.co.uk/sport2/hi/football/africa/4636552.stm',\n",
       " 'news.bbc.co.uk/sport2/hi/football/africa/4636562.stm',\n",
       " 'news.bbc.co.uk/sport2/hi/football/africa/4634824.stm',\n",
       " 'news.bbc.co.uk/sport2/hi/football/africa/4634982.stm',\n",
       " 'news.bbc.co.uk/sport2/hi/other_sports/snooker/4637756.stm']"
      ]
     },
     "execution_count": 91,
     "metadata": {},
     "output_type": "execute_result"
    }
   ],
   "source": [
    "list(df.loc[df['domain'] == 'news.bbc.co.uk', 'URL_n'])[0:5]"
   ]
  },
  {
   "cell_type": "code",
   "execution_count": 92,
   "metadata": {},
   "outputs": [],
   "source": [
    "df.loc[df['domain'] == 'news.bbc.co.uk', 'URL_n'] = [re.sub('\\?([a-zA-Z]{1,3}$|rss=.*|from=.*)', '', x, flags=re.IGNORECASE) for x in df.loc[df['domain'] == 'news.bbc.co.uk', 'URL_n']]"
   ]
  },
  {
   "cell_type": "code",
   "execution_count": 93,
   "metadata": {},
   "outputs": [
    {
     "data": {
      "text/plain": [
       "['news.bbc.co.uk/sport2/hi/football/africa/4636552.stm',\n",
       " 'news.bbc.co.uk/sport2/hi/football/africa/4636562.stm',\n",
       " 'news.bbc.co.uk/sport2/hi/football/africa/4634824.stm',\n",
       " 'news.bbc.co.uk/sport2/hi/football/africa/4634982.stm',\n",
       " 'news.bbc.co.uk/sport2/hi/other_sports/snooker/4637756.stm']"
      ]
     },
     "execution_count": 93,
     "metadata": {},
     "output_type": "execute_result"
    }
   ],
   "source": [
    "list(df.loc[df['domain'] == 'news.bbc.co.uk', 'URL_n'])[0:5]"
   ]
  },
  {
   "cell_type": "markdown",
   "metadata": {},
   "source": [
    "### 29. inaturalist.org"
   ]
  },
  {
   "cell_type": "markdown",
   "metadata": {},
   "source": [
    "No changes required."
   ]
  },
  {
   "cell_type": "code",
   "execution_count": 94,
   "metadata": {},
   "outputs": [
    {
     "data": {
      "text/plain": [
       "['inaturalist.org/taxa/Cnemaspis_scalpensis',\n",
       " 'inaturalist.org/taxa/160690-Clematis-morefieldii',\n",
       " 'inaturalist.org/observations/1630409',\n",
       " 'inaturalist.org/observations/1917484',\n",
       " 'inaturalist.org/projects/reptiles-of-the-horn-of-africa-iucn-redlist-forum/assessments/122-agama-robecchii']"
      ]
     },
     "execution_count": 94,
     "metadata": {},
     "output_type": "execute_result"
    }
   ],
   "source": [
    "list(df.loc[df['domain'] == 'inaturalist.org', 'URL_n'])[0:5]"
   ]
  },
  {
   "cell_type": "markdown",
   "metadata": {},
   "source": [
    "### 30. newspapers.com"
   ]
  },
  {
   "cell_type": "markdown",
   "metadata": {},
   "source": [
    "In this case some URLs can include parameters"
   ]
  },
  {
   "cell_type": "code",
   "execution_count": 95,
   "metadata": {},
   "outputs": [
    {
     "data": {
      "text/plain": [
       "['newspapers.com/',\n",
       " 'newspapers.com/',\n",
       " 'newspapers.com/image/67360166',\n",
       " 'newspapers.com/image/47396396',\n",
       " 'newspapers.com/image/6923243']"
      ]
     },
     "execution_count": 95,
     "metadata": {},
     "output_type": "execute_result"
    }
   ],
   "source": [
    "list(df.loc[df['domain'] == 'newspapers.com', 'URL_n'])[0:5]"
   ]
  },
  {
   "cell_type": "code",
   "execution_count": 96,
   "metadata": {},
   "outputs": [],
   "source": [
    "df.loc[df['domain'] == 'newspapers.com', 'URL_n'] = [re.sub('(/[0-9].*/)([a-zA-Z0-9?].*$)', r'\\1', x, flags=re.IGNORECASE) for x in df.loc[df['domain'] == 'newspapers.com', 'URL_n']]\n",
    "df.loc[df['domain'] == 'newspapers.com', 'URL_n'] = [re.sub('fcfToken=.*?&', '', x, flags=re.IGNORECASE) for x in df.loc[df['domain'] == 'newspapers.com', 'URL_n']]\n",
    "df.loc[df['domain'] == 'newspapers.com', 'URL_n'] = [re.sub('&fcfToken=.*', '', x, flags=re.IGNORECASE) for x in df.loc[df['domain'] == 'newspapers.com', 'URL_n']]\n",
    "df.loc[df['domain'] == 'newspapers.com', 'URL_n'] = [re.sub('/$', '', x, flags=re.IGNORECASE) for x in df.loc[df['domain'] == 'newspapers.com', 'URL_n']]"
   ]
  },
  {
   "cell_type": "code",
   "execution_count": 97,
   "metadata": {},
   "outputs": [
    {
     "data": {
      "text/plain": [
       "['newspapers.com',\n",
       " 'newspapers.com',\n",
       " 'newspapers.com/image/67360166',\n",
       " 'newspapers.com/image/47396396',\n",
       " 'newspapers.com/image/6923243']"
      ]
     },
     "execution_count": 97,
     "metadata": {},
     "output_type": "execute_result"
    }
   ],
   "source": [
    "list(df.loc[df['domain'] == 'newspapers.com', 'URL_n'])[0:5]"
   ]
  },
  {
   "cell_type": "markdown",
   "metadata": {},
   "source": [
    "### 31. eol.org"
   ]
  },
  {
   "cell_type": "markdown",
   "metadata": {},
   "source": [
    "One parameter is removed."
   ]
  },
  {
   "cell_type": "code",
   "execution_count": 101,
   "metadata": {},
   "outputs": [
    {
     "data": {
      "text/plain": [
       "['eol.org/',\n",
       " 'eol.org/',\n",
       " 'eol.org/',\n",
       " 'eol.org/search?q=Hyla&search_image=',\n",
       " 'eol.org/']"
      ]
     },
     "execution_count": 101,
     "metadata": {},
     "output_type": "execute_result"
    }
   ],
   "source": [
    "list(df.loc[df['domain'] == 'eol.org', 'URL_n'])[0:5]"
   ]
  },
  {
   "cell_type": "code",
   "execution_count": 102,
   "metadata": {},
   "outputs": [],
   "source": [
    "df.loc[df['domain'] == 'eol.org', 'URL_n'] = [re.sub('\\?category_id.*', '', x, flags=re.IGNORECASE) for x in df.loc[df['domain'] == 'eol.org', 'URL_n']]"
   ]
  },
  {
   "cell_type": "code",
   "execution_count": 103,
   "metadata": {},
   "outputs": [
    {
     "data": {
      "text/plain": [
       "['eol.org/',\n",
       " 'eol.org/',\n",
       " 'eol.org/',\n",
       " 'eol.org/search?q=Hyla&search_image=',\n",
       " 'eol.org/']"
      ]
     },
     "execution_count": 103,
     "metadata": {},
     "output_type": "execute_result"
    }
   ],
   "source": [
    "list(df.loc[df['domain'] == 'eol.org', 'URL_n'])[0:5]"
   ]
  },
  {
   "cell_type": "markdown",
   "metadata": {},
   "source": [
    "### 32. sports-reference.com"
   ]
  },
  {
   "cell_type": "markdown",
   "metadata": {},
   "source": [
    "No changes required."
   ]
  },
  {
   "cell_type": "code",
   "execution_count": 104,
   "metadata": {},
   "outputs": [
    {
     "data": {
      "text/plain": [
       "['sports-reference.com/cbb/conferences/NJNY',\n",
       " 'sports-reference.com/cbb/conferences/AMSO',\n",
       " 'sports-reference.com/olympics/athletes/th/micheen-thornycroft-1.html',\n",
       " 'sports-reference.com/cfb/coaches/james-horne-1.html',\n",
       " 'sports-reference.com/cfb/coaches/james-sheldon-1.html']"
      ]
     },
     "execution_count": 104,
     "metadata": {},
     "output_type": "execute_result"
    }
   ],
   "source": [
    "list(df.loc[df['domain'] == 'sports-reference.com', 'URL_n'])[0:5]"
   ]
  },
  {
   "cell_type": "markdown",
   "metadata": {},
   "source": [
    "### 33. idref.fr"
   ]
  },
  {
   "cell_type": "markdown",
   "metadata": {},
   "source": [
    "No changes required."
   ]
  },
  {
   "cell_type": "code",
   "execution_count": 105,
   "metadata": {},
   "outputs": [
    {
     "data": {
      "text/plain": [
       "['idref.fr/028329600',\n",
       " 'idref.fr/030795834',\n",
       " 'idref.fr/077803418',\n",
       " 'idref.fr/112923844',\n",
       " 'idref.fr/026975238']"
      ]
     },
     "execution_count": 105,
     "metadata": {},
     "output_type": "execute_result"
    }
   ],
   "source": [
    "list(df.loc[df['domain'] == 'idref.fr', 'URL_n'])[0:5]"
   ]
  },
  {
   "cell_type": "markdown",
   "metadata": {},
   "source": [
    "### 34. allmusic.com"
   ]
  },
  {
   "cell_type": "markdown",
   "metadata": {},
   "source": [
    "One tag is removed."
   ]
  },
  {
   "cell_type": "code",
   "execution_count": 106,
   "metadata": {},
   "outputs": [
    {
     "data": {
      "text/plain": [
       "['allmusic.com/cg/x.dll?p=amg&sql=B6185',\n",
       " 'allmusic.com/',\n",
       " 'allmusic.com/',\n",
       " 'allmusic.com/cg/amg.dll?p=amg',\n",
       " 'allmusic.com/']"
      ]
     },
     "execution_count": 106,
     "metadata": {},
     "output_type": "execute_result"
    }
   ],
   "source": [
    "list(df.loc[df['domain'] == 'allmusic.com', 'URL_n'])[0:5]"
   ]
  },
  {
   "cell_type": "code",
   "execution_count": 107,
   "metadata": {},
   "outputs": [],
   "source": [
    "df.loc[df['domain'] == 'allmusic.com', 'URL_n'] = [re.sub('#no-js$', '', x, flags=re.IGNORECASE) for x in df.loc[df['domain'] == 'allmusic.com', 'URL_n']]"
   ]
  },
  {
   "cell_type": "code",
   "execution_count": 108,
   "metadata": {},
   "outputs": [
    {
     "data": {
      "text/plain": [
       "['allmusic.com/cg/x.dll?p=amg&sql=B6185',\n",
       " 'allmusic.com/',\n",
       " 'allmusic.com/',\n",
       " 'allmusic.com/cg/amg.dll?p=amg',\n",
       " 'allmusic.com/']"
      ]
     },
     "execution_count": 108,
     "metadata": {},
     "output_type": "execute_result"
    }
   ],
   "source": [
    "list(df.loc[df['domain'] == 'allmusic.com', 'URL_n'])[0:5]"
   ]
  },
  {
   "cell_type": "markdown",
   "metadata": {},
   "source": [
    "### 35. data.bibliotheken.nl"
   ]
  },
  {
   "cell_type": "markdown",
   "metadata": {},
   "source": [
    "No changes required."
   ]
  },
  {
   "cell_type": "code",
   "execution_count": 109,
   "metadata": {},
   "outputs": [
    {
     "data": {
      "text/plain": [
       "['data.bibliotheken.nl/id/thes/p072610212',\n",
       " 'data.bibliotheken.nl/id/thes/p170985776',\n",
       " 'data.bibliotheken.nl/id/thes/p070845352',\n",
       " 'data.bibliotheken.nl/id/thes/p06874949X',\n",
       " 'data.bibliotheken.nl/id/thes/p40744727X']"
      ]
     },
     "execution_count": 109,
     "metadata": {},
     "output_type": "execute_result"
    }
   ],
   "source": [
    "list(df.loc[df['domain'] == 'data.bibliotheken.nl', 'URL_n'])[0:5]"
   ]
  },
  {
   "cell_type": "markdown",
   "metadata": {},
   "source": [
    "### 36. census.gov"
   ]
  },
  {
   "cell_type": "markdown",
   "metadata": {},
   "source": [
    "No changes required."
   ]
  },
  {
   "cell_type": "code",
   "execution_count": 110,
   "metadata": {},
   "outputs": [
    {
     "data": {
      "text/plain": [
       "['census.gov/geo/maps/urbanarea/uaoutline/UC2000/uc59923/uc59923_01.pdf',\n",
       " 'census.gov/prod2/decennial/documents/1880a_v1-01.pdf',\n",
       " 'census.gov/geo/maps/tribaltract2000/1125_FondduLac/CTN1125_001.pdf',\n",
       " 'census.gov/geo/maps/tribaltract2000/4595_WhiteEarth/CTN4595_001.pdf',\n",
       " 'census.gov/prod2/decennial/documents/33405927v1ch02.pdf']"
      ]
     },
     "execution_count": 110,
     "metadata": {},
     "output_type": "execute_result"
    }
   ],
   "source": [
    "list(df.loc[df['domain'] == 'census.gov', 'URL_n'])[0:5]"
   ]
  },
  {
   "cell_type": "markdown",
   "metadata": {},
   "source": [
    "### 37. id.worldcat.org"
   ]
  },
  {
   "cell_type": "markdown",
   "metadata": {},
   "source": [
    "No changes required."
   ]
  },
  {
   "cell_type": "code",
   "execution_count": 111,
   "metadata": {},
   "outputs": [
    {
     "data": {
      "text/plain": [
       "['id.worldcat.org/fast/1917405',\n",
       " 'id.worldcat.org/fast/393538',\n",
       " 'id.worldcat.org/fast/1532152',\n",
       " 'id.worldcat.org/fast/629264',\n",
       " 'id.worldcat.org/fast/128702']"
      ]
     },
     "execution_count": 111,
     "metadata": {},
     "output_type": "execute_result"
    }
   ],
   "source": [
    "list(df.loc[df['domain'] == 'id.worldcat.org', 'URL_n'])[0:5]"
   ]
  },
  {
   "cell_type": "markdown",
   "metadata": {},
   "source": [
    "### 38. news.google.com"
   ]
  },
  {
   "cell_type": "markdown",
   "metadata": {},
   "source": [
    "In this case, there is not a clear parameter, because if sjid, nid or id are removed the URL not works. For example in news.google.com/newspapers?nid=1873&dat=19610313&id=qpkoAAAAIBAJ&sjid=h8wEAAAAIBAJ&pg=6269,2359408. But the language can be removed."
   ]
  },
  {
   "cell_type": "code",
   "execution_count": 112,
   "metadata": {},
   "outputs": [
    {
     "data": {
      "text/plain": [
       "['news.google.com/newspapers?dq==dan+healy&hl=n&id=hVxMAAAAIBAAJ&pg=3484,5915299&sjid=rOADAAAAIBAJ',\n",
       " 'news.google.com/newspapers?id=P41ZAAAAIBAJ&pg=5323,4708879&sjid=Z0kNAAAAIBAJ',\n",
       " 'news.google.com/newspapers?id=fPEcAAAAIBAJ&pg=5935,1532525&sjid=tmgEAAAAIBAJ',\n",
       " 'news.google.com/newspapers?id=UTQiAAAAIBAJ&pg=1048,4560722&sjid=F6cFAAAAIBAJ',\n",
       " 'news.google.com/newspapers?id=3fhTAAAAIBAJ&pg=6729,2620754&sjid=Ao0DAAAAIBAJ']"
      ]
     },
     "execution_count": 112,
     "metadata": {},
     "output_type": "execute_result"
    }
   ],
   "source": [
    "list(df.loc[df['domain'] == 'news.google.com', 'URL_n'])[0:5]"
   ]
  },
  {
   "cell_type": "code",
   "execution_count": 113,
   "metadata": {},
   "outputs": [],
   "source": [
    "df.loc[df['domain'] == 'news.google.com', 'URL_n'] = [re.sub('(hl=.*?&|&hl=[a-zA-Z-]{2,6}$)', '', x, flags=re.IGNORECASE) for x in df.loc[df['domain'] == 'news.google.com', 'URL_n']]\n",
    "df.loc[df['domain'] == 'news.google.com', 'URL_n'] = [re.sub('\\?dq=.*?&', '?', x, flags=re.IGNORECASE) for x in df.loc[df['domain'] == 'news.google.com', 'URL_n']]"
   ]
  },
  {
   "cell_type": "code",
   "execution_count": 114,
   "metadata": {},
   "outputs": [
    {
     "data": {
      "text/plain": [
       "['news.google.com/newspapers?id=hVxMAAAAIBAAJ&pg=3484,5915299&sjid=rOADAAAAIBAJ',\n",
       " 'news.google.com/newspapers?id=P41ZAAAAIBAJ&pg=5323,4708879&sjid=Z0kNAAAAIBAJ',\n",
       " 'news.google.com/newspapers?id=fPEcAAAAIBAJ&pg=5935,1532525&sjid=tmgEAAAAIBAJ',\n",
       " 'news.google.com/newspapers?id=UTQiAAAAIBAJ&pg=1048,4560722&sjid=F6cFAAAAIBAJ',\n",
       " 'news.google.com/newspapers?id=3fhTAAAAIBAJ&pg=6729,2620754&sjid=Ao0DAAAAIBAJ']"
      ]
     },
     "execution_count": 114,
     "metadata": {},
     "output_type": "execute_result"
    }
   ],
   "source": [
    "list(df.loc[df['domain'] == 'news.google.com', 'URL_n'])[0:5]"
   ]
  },
  {
   "cell_type": "markdown",
   "metadata": {},
   "source": [
    "### 39. aleph.nkp.cz"
   ]
  },
  {
   "cell_type": "markdown",
   "metadata": {},
   "source": [
    "No changes required."
   ]
  },
  {
   "cell_type": "code",
   "execution_count": 115,
   "metadata": {},
   "outputs": [
    {
     "data": {
      "text/plain": [
       "['aleph.nkp.cz/F/CRBKIKHD3PPMUQ5IIAX1H1JVC4AY2F3FPFSHPHNNG6AIY6BK5J-27038?acc_sequence=000121710&func=FIND-ACC',\n",
       " 'aleph.nkp.cz/F/4F68MISLEVADC8E66Y75CPM6FIYJ5EG9D9D6H99DYTG961GQRH-34741?acc_sequence=000121710&func=accref',\n",
       " 'aleph.nkp.cz/F/?CON_LNG=ENG&ccl_term=wau=jn20000728817+or+wkw=jn20000728817&func=find-c&local_base=nkc',\n",
       " 'aleph.nkp.cz/F/?ccl_term=wau=jk01040550+or+wkw=jk01040550&func=find-c&local_base=nkc',\n",
       " 'aleph.nkp.cz/F/?ccl_term=wau=jk01151786+or+wkw=jk01151786&func=find-c&local_base=nkc']"
      ]
     },
     "execution_count": 115,
     "metadata": {},
     "output_type": "execute_result"
    }
   ],
   "source": [
    "list(df.loc[df['domain'] == 'aleph.nkp.cz', 'URL_n'])[0:5]"
   ]
  },
  {
   "cell_type": "markdown",
   "metadata": {},
   "source": [
    "### 40. int.soccerway.com"
   ]
  },
  {
   "cell_type": "markdown",
   "metadata": {},
   "source": [
    "One parameter is removed."
   ]
  },
  {
   "cell_type": "code",
   "execution_count": 119,
   "metadata": {},
   "outputs": [
    {
     "data": {
      "text/plain": [
       "['int.soccerway.com/national/maldives/dhiraagu-dhivehi-league/2014/championship-round/r28159',\n",
       " 'int.soccerway.com/teams/dominican-republic/barcelona/8534',\n",
       " 'int.soccerway.com/venues/dominican-republic/cancha-municipal-puerto-plata/v20519',\n",
       " 'int.soccerway.com/players/rahul-jaiswal/267434',\n",
       " 'int.soccerway.com/matches/2009/08/08/italy/super-cup/fc-internazionale-milano/ss-lazio-roma/786439']"
      ]
     },
     "execution_count": 119,
     "metadata": {},
     "output_type": "execute_result"
    }
   ],
   "source": [
    "list(df.loc[df['domain'] == 'int.soccerway.com', 'URL_n'])[0:5]"
   ]
  },
  {
   "cell_type": "code",
   "execution_count": 120,
   "metadata": {},
   "outputs": [],
   "source": [
    "df.loc[df['domain'] == 'int.soccerway.com', 'URL_n'] = [re.sub('/\\?icid=.*', '', x, flags=re.IGNORECASE) for x in df.loc[df['domain'] == 'int.soccerway.com', 'URL_n']]"
   ]
  },
  {
   "cell_type": "code",
   "execution_count": 121,
   "metadata": {},
   "outputs": [
    {
     "data": {
      "text/plain": [
       "['int.soccerway.com/national/maldives/dhiraagu-dhivehi-league/2014/championship-round/r28159',\n",
       " 'int.soccerway.com/teams/dominican-republic/barcelona/8534',\n",
       " 'int.soccerway.com/venues/dominican-republic/cancha-municipal-puerto-plata/v20519',\n",
       " 'int.soccerway.com/players/rahul-jaiswal/267434',\n",
       " 'int.soccerway.com/matches/2009/08/08/italy/super-cup/fc-internazionale-milano/ss-lazio-roma/786439']"
      ]
     },
     "execution_count": 121,
     "metadata": {},
     "output_type": "execute_result"
    }
   ],
   "source": [
    "list(df.loc[df['domain'] == 'int.soccerway.com', 'URL_n'])[0:5]"
   ]
  },
  {
   "cell_type": "markdown",
   "metadata": {},
   "source": [
    "### 41. espncricinfo.com"
   ]
  },
  {
   "cell_type": "markdown",
   "metadata": {},
   "source": [
    "In this case, if \".html\" is removed, the URL does not work, but it allows to unify. Only specific parameters can be removed."
   ]
  },
  {
   "cell_type": "code",
   "execution_count": 116,
   "metadata": {},
   "outputs": [
    {
     "data": {
      "text/plain": [
       "['espncricinfo.com/southafrica/content/story/472149.html',\n",
       " 'espncricinfo.com/afghanistan/content/story/486563.html',\n",
       " 'espncricinfo.com/wisdenalmanack/content/story/228030.html',\n",
       " 'espncricinfo.com/ci/content/player/20324.html',\n",
       " 'espncricinfo.com/wisdenalmanack/content/story/227835.html']"
      ]
     },
     "execution_count": 116,
     "metadata": {},
     "output_type": "execute_result"
    }
   ],
   "source": [
    "list(df.loc[df['domain'] == 'espncricinfo.com', 'URL_n'])[0:5]"
   ]
  },
  {
   "cell_type": "code",
   "execution_count": 117,
   "metadata": {},
   "outputs": [],
   "source": [
    "df.loc[df['domain'] == 'espncricinfo.com', 'URL_n'] = [re.sub('(\\.html\\?template|\\.html\\?view|\\.html\\?cmp|\\.html\\?version|\\.html\\?comments|\\.html\\?ex_cid|\\.html\\?innings|\\.html\\?index).*#', '.html#', x, flags=re.IGNORECASE) for x in df.loc[df['domain'] == 'espncricinfo.com', 'URL_n']]\n",
    "df.loc[df['domain'] == 'espncricinfo.com', 'URL_n'] = [re.sub('(\\.html\\?template|\\.html\\?view|\\.html\\?cmp|\\.html\\?version|\\.html\\?comments|\\.html\\?ex_cid|\\.html\\?innings|\\.html\\?index).*', '.html', x, flags=re.IGNORECASE) for x in df.loc[df['domain'] == 'espncricinfo.com', 'URL_n']]"
   ]
  },
  {
   "cell_type": "code",
   "execution_count": 118,
   "metadata": {},
   "outputs": [
    {
     "data": {
      "text/plain": [
       "['espncricinfo.com/southafrica/content/story/472149.html',\n",
       " 'espncricinfo.com/afghanistan/content/story/486563.html',\n",
       " 'espncricinfo.com/wisdenalmanack/content/story/228030.html',\n",
       " 'espncricinfo.com/ci/content/player/20324.html',\n",
       " 'espncricinfo.com/wisdenalmanack/content/story/227835.html']"
      ]
     },
     "execution_count": 118,
     "metadata": {},
     "output_type": "execute_result"
    }
   ],
   "source": [
    "list(df.loc[df['domain'] == 'espncricinfo.com', 'URL_n'])[0:5]"
   ]
  },
  {
   "cell_type": "markdown",
   "metadata": {},
   "source": [
    "### 42. itis.gov"
   ]
  },
  {
   "cell_type": "markdown",
   "metadata": {},
   "source": [
    "Some parameters are removed"
   ]
  },
  {
   "cell_type": "code",
   "execution_count": 123,
   "metadata": {},
   "outputs": [
    {
     "data": {
      "text/plain": [
       "['itis.gov/servlet/SingleRpt/SingleRpt?search_topic=TSN&search_value=161216',\n",
       " 'itis.gov/servlet/SingleRpt/SingleRpt?search_topic=TSN&search_value=593668',\n",
       " 'itis.gov/servlet/SingleRpt/SingleRpt?search_topic=TSN&search_value=550347',\n",
       " 'itis.gov/servlet/SingleRpt/SingleRpt?search_topic=TSN&search_value=77709',\n",
       " 'itis.gov/servlet/SingleRpt/SingleRpt?search_topic=TSN&search_value=44014']"
      ]
     },
     "execution_count": 123,
     "metadata": {},
     "output_type": "execute_result"
    }
   ],
   "source": [
    "list(df.loc[df['domain'] == 'itis.gov', 'URL_n'])[0:5]"
   ]
  },
  {
   "cell_type": "code",
   "execution_count": 124,
   "metadata": {},
   "outputs": [],
   "source": [
    "df.loc[df['domain'] == 'itis.gov', 'URL_n'] = [re.sub('#null$', '', x, flags=re.IGNORECASE) for x in df.loc[df['domain'] == 'itis.gov', 'URL_n']]\n",
    "df.loc[df['domain'] == 'itis.gov', 'URL_n'] = [re.sub('(print_version=prt&|&source=(to_print|from_print|html)$)', '', x, flags=re.IGNORECASE) for x in df.loc[df['domain'] == 'itis.gov', 'URL_n']]"
   ]
  },
  {
   "cell_type": "code",
   "execution_count": 125,
   "metadata": {},
   "outputs": [
    {
     "data": {
      "text/plain": [
       "['itis.gov/servlet/SingleRpt/SingleRpt?search_topic=TSN&search_value=161216',\n",
       " 'itis.gov/servlet/SingleRpt/SingleRpt?search_topic=TSN&search_value=593668',\n",
       " 'itis.gov/servlet/SingleRpt/SingleRpt?search_topic=TSN&search_value=550347',\n",
       " 'itis.gov/servlet/SingleRpt/SingleRpt?search_topic=TSN&search_value=77709',\n",
       " 'itis.gov/servlet/SingleRpt/SingleRpt?search_topic=TSN&search_value=44014']"
      ]
     },
     "execution_count": 125,
     "metadata": {},
     "output_type": "execute_result"
    }
   ],
   "source": [
    "list(df.loc[df['domain'] == 'itis.gov', 'URL_n'])[0:5]"
   ]
  },
  {
   "cell_type": "markdown",
   "metadata": {},
   "source": [
    "### 43. baseball-reference.com"
   ]
  },
  {
   "cell_type": "markdown",
   "metadata": {},
   "source": [
    "No changes required. Some # have change and they do not work."
   ]
  },
  {
   "cell_type": "code",
   "execution_count": 126,
   "metadata": {},
   "outputs": [
    {
     "data": {
      "text/plain": [
       "['baseball-reference.com/leaders/RC_career.shtml',\n",
       " 'baseball-reference.com/leaders/RC_season.shtml',\n",
       " 'baseball-reference.com/leaders/RC_active.shtml',\n",
       " 'baseball-reference.com/leaders/RC_leagues.shtml',\n",
       " 'baseball-reference.com/teams/ROK/1871.shtml']"
      ]
     },
     "execution_count": 126,
     "metadata": {},
     "output_type": "execute_result"
    }
   ],
   "source": [
    "list(df.loc[df['domain'] == 'baseball-reference.com', 'URL_n'])[0:5]"
   ]
  },
  {
   "cell_type": "markdown",
   "metadata": {},
   "source": [
    "### 44. nla.gov.au"
   ]
  },
  {
   "cell_type": "markdown",
   "metadata": {},
   "source": [
    "Some parameters are only use to highlight some terms."
   ]
  },
  {
   "cell_type": "code",
   "execution_count": 127,
   "metadata": {},
   "outputs": [
    {
     "data": {
      "text/plain": [
       "['nla.gov.au/nla.pic-an23386505',\n",
       " 'nla.gov.au/nla.pic-an23386438',\n",
       " 'nla.gov.au/nla.map-erpc1',\n",
       " 'nla.gov.au/guides/federation/people/lawsonl.html',\n",
       " 'nla.gov.au/nla.pic-vn3046935']"
      ]
     },
     "execution_count": 127,
     "metadata": {},
     "output_type": "execute_result"
    }
   ],
   "source": [
    "list(df.loc[df['domain'] == 'nla.gov.au', 'URL_n'])[0:5]"
   ]
  },
  {
   "cell_type": "code",
   "execution_count": 128,
   "metadata": {},
   "outputs": [],
   "source": [
    "df.loc[df['domain'] == 'nla.gov.au', 'URL_n'] = [re.sub('(#page|#pstart).*', '', x, flags=re.IGNORECASE) for x in df.loc[df['domain'] == 'nla.gov.au', 'URL_n']]\n",
    "df.loc[df['domain'] == 'nla.gov.au', 'URL_n'] = [re.sub('(\\?search|\\?zoom|/view).*#', '#', x, flags=re.IGNORECASE) for x in df.loc[df['domain'] == 'nla.gov.au', 'URL_n']]\n",
    "df.loc[df['domain'] == 'nla.gov.au', 'URL_n'] = [re.sub('(\\?search|\\?zoom|/view).*', '', x, flags=re.IGNORECASE) for x in df.loc[df['domain'] == 'nla.gov.au', 'URL_n']]"
   ]
  },
  {
   "cell_type": "code",
   "execution_count": 129,
   "metadata": {},
   "outputs": [
    {
     "data": {
      "text/plain": [
       "['nla.gov.au/nla.pic-an23386505',\n",
       " 'nla.gov.au/nla.pic-an23386438',\n",
       " 'nla.gov.au/nla.map-erpc1',\n",
       " 'nla.gov.au/guides/federation/people/lawsonl.html',\n",
       " 'nla.gov.au/nla.pic-vn3046935']"
      ]
     },
     "execution_count": 129,
     "metadata": {},
     "output_type": "execute_result"
    }
   ],
   "source": [
    "list(df.loc[df['domain'] == 'nla.gov.au', 'URL_n'])[0:5]"
   ]
  },
  {
   "cell_type": "markdown",
   "metadata": {},
   "source": [
    "### 45. tvbythenumbers.zap2it.com"
   ]
  },
  {
   "cell_type": "markdown",
   "metadata": {},
   "source": [
    "No changes required."
   ]
  },
  {
   "cell_type": "code",
   "execution_count": 130,
   "metadata": {},
   "outputs": [
    {
     "data": {
      "text/plain": [
       "['tvbythenumbers.zap2it.com/2010/05/19/cws-melrose-place-canceled/51848',\n",
       " 'tvbythenumbers.zap2it.com/2010/11/12/thursday-final-ratings-fringe-community-30-rock-outsourced-the-office-adjusted-down-bones-my-dad-says-adjusted-up/71871',\n",
       " 'tvbythenumbers.zap2it.com/2010/11/12/thursday-final-ratings-fringe-community-30-rock-outsourced-the-office-adjusted-down-bones-my-dad-says-adjusted-up/71871',\n",
       " 'tvbythenumbers.zap2it.com/2010/11/12/thursday-final-ratings-fringe-community-30-rock-outsourced-the-office-adjusted-down-bones-my-dad-says-adjusted-up/71871',\n",
       " 'tvbythenumbers.zap2it.com/2010/11/12/thursday-final-ratings-fringe-community-30-rock-outsourced-the-office-adjusted-down-bones-my-dad-says-adjusted-up/71871']"
      ]
     },
     "execution_count": 130,
     "metadata": {},
     "output_type": "execute_result"
    }
   ],
   "source": [
    "list(df.loc[df['domain'] == 'tvbythenumbers.zap2it.com', 'URL_n'])[0:5]"
   ]
  },
  {
   "cell_type": "markdown",
   "metadata": {},
   "source": [
    "### 46. geonames.usgs.gov"
   ]
  },
  {
   "cell_type": "markdown",
   "metadata": {},
   "source": [
    "Tags are removed."
   ]
  },
  {
   "cell_type": "code",
   "execution_count": 131,
   "metadata": {},
   "outputs": [
    {
     "data": {
      "text/plain": [
       "['geonames.usgs.gov/antex.html',\n",
       " 'geonames.usgs.gov/',\n",
       " 'geonames.usgs.gov/fips55/fips55down.html',\n",
       " 'geonames.usgs.gov/redirect.html',\n",
       " 'geonames.usgs.gov/domestic/index.html']"
      ]
     },
     "execution_count": 131,
     "metadata": {},
     "output_type": "execute_result"
    }
   ],
   "source": [
    "list(df.loc[df['domain'] == 'geonames.usgs.gov', 'URL_n'])[0:5]"
   ]
  },
  {
   "cell_type": "code",
   "execution_count": 132,
   "metadata": {},
   "outputs": [],
   "source": [
    "df.loc[df['domain'] == 'geonames.usgs.gov', 'URL_n'] = [re.sub('#.*', '', x, flags=re.IGNORECASE) for x in df.loc[df['domain'] == 'geonames.usgs.gov', 'URL_n']]"
   ]
  },
  {
   "cell_type": "code",
   "execution_count": 133,
   "metadata": {},
   "outputs": [
    {
     "data": {
      "text/plain": [
       "['geonames.usgs.gov/antex.html',\n",
       " 'geonames.usgs.gov/',\n",
       " 'geonames.usgs.gov/fips55/fips55down.html',\n",
       " 'geonames.usgs.gov/redirect.html',\n",
       " 'geonames.usgs.gov/domestic/index.html']"
      ]
     },
     "execution_count": 133,
     "metadata": {},
     "output_type": "execute_result"
    }
   ],
   "source": [
    "list(df.loc[df['domain'] == 'geonames.usgs.gov', 'URL_n'])[0:5]"
   ]
  },
  {
   "cell_type": "markdown",
   "metadata": {},
   "source": [
    "### 47. twitter.com"
   ]
  },
  {
   "cell_type": "markdown",
   "metadata": {},
   "source": [
    "Some parameters are removed."
   ]
  },
  {
   "cell_type": "code",
   "execution_count": 134,
   "metadata": {},
   "outputs": [
    {
     "data": {
      "text/plain": [
       "['twitter.com/justinmj/status/1395983675',\n",
       " 'twitter.com/pleasetouch/status/1348070565',\n",
       " 'twitter.com/socialcode',\n",
       " 'twitter.com/Astro_127',\n",
       " 'twitter.com/nasa']"
      ]
     },
     "execution_count": 134,
     "metadata": {},
     "output_type": "execute_result"
    }
   ],
   "source": [
    "list(df.loc[df['domain'] == 'twitter.com', 'URL_n'])[0:5]"
   ]
  },
  {
   "cell_type": "code",
   "execution_count": 135,
   "metadata": {},
   "outputs": [],
   "source": [
    "df.loc[df['domain'] == 'twitter.com', 'URL_n'] = [re.sub('\\?.*q=', '?q=', x, flags=re.IGNORECASE) for x in df.loc[df['domain'] == 'twitter.com', 'URL_n']]\n",
    "df.loc[df['domain'] == 'twitter.com', 'URL_n'] = [re.sub('\\?(lang|ref|s=|p=|tw_e=|dec).*', '', x, flags=re.IGNORECASE) for x in df.loc[df['domain'] == 'twitter.com', 'URL_n']]\n",
    "df.loc[df['domain'] == 'twitter.com', 'URL_n'] = [re.sub('\\.html$', '', x, flags=re.IGNORECASE) for x in df.loc[df['domain'] == 'twitter.com', 'URL_n']]"
   ]
  },
  {
   "cell_type": "code",
   "execution_count": 136,
   "metadata": {},
   "outputs": [
    {
     "data": {
      "text/plain": [
       "['twitter.com/justinmj/status/1395983675',\n",
       " 'twitter.com/pleasetouch/status/1348070565',\n",
       " 'twitter.com/socialcode',\n",
       " 'twitter.com/Astro_127',\n",
       " 'twitter.com/nasa']"
      ]
     },
     "execution_count": 136,
     "metadata": {},
     "output_type": "execute_result"
    }
   ],
   "source": [
    "list(df.loc[df['domain'] == 'twitter.com', 'URL_n'])[0:5]"
   ]
  },
  {
   "cell_type": "markdown",
   "metadata": {},
   "source": [
    "### 48. geohack.toolforge.org"
   ]
  },
  {
   "cell_type": "markdown",
   "metadata": {},
   "source": [
    "No changes required."
   ]
  },
  {
   "cell_type": "code",
   "execution_count": 137,
   "metadata": {},
   "outputs": [
    {
     "data": {
      "text/plain": [
       "['geohack.toolforge.org/geohack.php?pagename=River_Itchen,_Hampshire&params=51.042044148996_N_1.1612396354662_W_region:GB_scale:100000',\n",
       " 'geohack.toolforge.org/geohack.php?pagename=River_Itchen,_Hampshire&params=50.883389996042_N_1.3886940272936_W_region:GB_scale:100000',\n",
       " 'geohack.toolforge.org/geohack.php?pagename=Croagh_Patrick&params=53.760062662731_N_9.6595264818095_W_region:IE_scale:25000',\n",
       " 'geohack.toolforge.org/geohack.php?pagename=Ballard_Down&params=50.630493379119_N_1.9660143715323_W_region:GB_scale:25000',\n",
       " 'geohack.toolforge.org/geohack.php?pagename=Turlough_Hill&params=53.024236643604_N_6.4165234583946_W_region:IE_scale:25000']"
      ]
     },
     "execution_count": 137,
     "metadata": {},
     "output_type": "execute_result"
    }
   ],
   "source": [
    "list(df.loc[df['domain'] == 'geohack.toolforge.org', 'URL_n'])[0:5]"
   ]
  },
  {
   "cell_type": "markdown",
   "metadata": {},
   "source": [
    "### 49. washingtonpost.com"
   ]
  },
  {
   "cell_type": "markdown",
   "metadata": {},
   "source": [
    "Some parameters are removed."
   ]
  },
  {
   "cell_type": "code",
   "execution_count": 138,
   "metadata": {},
   "outputs": [
    {
     "data": {
      "text/plain": [
       "['washingtonpost.com/wp-dyn/content/article/2005/07/29/AR2005072902133_pf.html',\n",
       " 'washingtonpost.com/ac2/wp-dyn?contentId=A43118-2001Mar8&node=&pagename=article',\n",
       " 'washingtonpost.com/wp-dyn/content/article/2007/04/24/AR2007042401973.html',\n",
       " 'washingtonpost.com/ac2/wp-dyn/A44371-2004Jun15?language=printer',\n",
       " 'washingtonpost.com/ac2/wp-dyn/A45442-2004Jul12?language=printer']"
      ]
     },
     "execution_count": 138,
     "metadata": {},
     "output_type": "execute_result"
    }
   ],
   "source": [
    "list(df.loc[df['domain'] == 'washingtonpost.com', 'URL_n'])[0:5]"
   ]
  },
  {
   "cell_type": "code",
   "execution_count": 139,
   "metadata": {},
   "outputs": [],
   "source": [
    "df.loc[df['domain'] == 'washingtonpost.com', 'URL_n'] = [re.sub('(/?)\\?(language|noredirect|wprss|tid|sid|hpid|nav|sub|referrer|arc404|utm_term|wp).*', '', x, flags=re.IGNORECASE) for x in df.loc[df['domain'] == 'washingtonpost.com', 'URL_n']]"
   ]
  },
  {
   "cell_type": "code",
   "execution_count": 140,
   "metadata": {},
   "outputs": [
    {
     "data": {
      "text/plain": [
       "['washingtonpost.com/wp-dyn/content/article/2005/07/29/AR2005072902133_pf.html',\n",
       " 'washingtonpost.com/ac2/wp-dyn?contentId=A43118-2001Mar8&node=&pagename=article',\n",
       " 'washingtonpost.com/wp-dyn/content/article/2007/04/24/AR2007042401973.html',\n",
       " 'washingtonpost.com/ac2/wp-dyn/A44371-2004Jun15',\n",
       " 'washingtonpost.com/ac2/wp-dyn/A45442-2004Jul12']"
      ]
     },
     "execution_count": 140,
     "metadata": {},
     "output_type": "execute_result"
    }
   ],
   "source": [
    "list(df.loc[df['domain'] == 'washingtonpost.com', 'URL_n'])[0:5]"
   ]
  },
  {
   "cell_type": "markdown",
   "metadata": {},
   "source": [
    "### 50. historicengland.org.uk"
   ]
  },
  {
   "cell_type": "markdown",
   "metadata": {},
   "source": [
    "No changes required."
   ]
  },
  {
   "cell_type": "code",
   "execution_count": 141,
   "metadata": {},
   "outputs": [
    {
     "data": {
      "text/plain": [
       "['historicengland.org.uk/listing/what-is-designation/listed-buildings',\n",
       " 'historicengland.org.uk/listing/what-is-designation/listed-buildings',\n",
       " 'historicengland.org.uk/listing/what-is-designation/listed-buildings',\n",
       " 'historicengland.org.uk/listing/what-is-designation/listed-buildings',\n",
       " 'historicengland.org.uk/listing/what-is-designation/listed-buildings']"
      ]
     },
     "execution_count": 141,
     "metadata": {},
     "output_type": "execute_result"
    }
   ],
   "source": [
    "list(df.loc[df['domain'] == 'historicengland.org.uk', 'URL_n'])[0:5]"
   ]
  },
  {
   "cell_type": "markdown",
   "metadata": {},
   "source": [
    "## Extra"
   ]
  },
  {
   "cell_type": "markdown",
   "metadata": {},
   "source": [
    "### 51. telegraph.co.uk"
   ]
  },
  {
   "cell_type": "markdown",
   "metadata": {},
   "source": [
    "Some parameters are removed."
   ]
  },
  {
   "cell_type": "code",
   "execution_count": 142,
   "metadata": {},
   "outputs": [
    {
     "data": {
      "text/plain": [
       "['telegraph.co.uk/health/main.jhtml?xml=/health/2006/04/04/hrowing01.xml#aa',\n",
       " 'telegraph.co.uk/money/main.jhtml?xml=/money/2002/09/13/cnwed113.xml',\n",
       " 'telegraph.co.uk/core/Content/displayPrintable.jhtml?page=0&site=5&xml=/news/2004/12/13/db1302.xml',\n",
       " 'telegraph.co.uk/sport/main.jhtml?xml=/sport/2007/11/08/uowoodward108.xml',\n",
       " 'telegraph.co.uk/news/uknews/1584599/Extravagance-uncovered-during-Saudi-arms-probe.html']"
      ]
     },
     "execution_count": 142,
     "metadata": {},
     "output_type": "execute_result"
    }
   ],
   "source": [
    "list(df.loc[df['domain'] == 'telegraph.co.uk', 'URL_n'])[0:5]"
   ]
  },
  {
   "cell_type": "code",
   "execution_count": 143,
   "metadata": {},
   "outputs": [],
   "source": [
    "df.loc[df['domain'] == 'telegraph.co.uk', 'URL_n'] = [re.sub('\\.html\\?(utm_|WT|li_medium).*', '.html', x, flags=re.IGNORECASE) for x in df.loc[df['domain'] == 'telegraph.co.uk', 'URL_n']]\n",
    "df.loc[df['domain'] == 'telegraph.co.uk', 'URL_n'] = [re.sub('[/]{0,1}\\?(utm_|WT|li_medium).*', '', x, flags=re.IGNORECASE) for x in df.loc[df['domain'] == 'telegraph.co.uk', 'URL_n']]\n",
    "df.loc[df['domain'] == 'telegraph.co.uk', 'URL_n'] = [re.sub('#disqus_thread$', '', x, flags=re.IGNORECASE) for x in df.loc[df['domain'] == 'telegraph.co.uk', 'URL_n']]"
   ]
  },
  {
   "cell_type": "code",
   "execution_count": 144,
   "metadata": {},
   "outputs": [
    {
     "data": {
      "text/plain": [
       "['telegraph.co.uk/health/main.jhtml?xml=/health/2006/04/04/hrowing01.xml#aa',\n",
       " 'telegraph.co.uk/money/main.jhtml?xml=/money/2002/09/13/cnwed113.xml',\n",
       " 'telegraph.co.uk/core/Content/displayPrintable.jhtml?page=0&site=5&xml=/news/2004/12/13/db1302.xml',\n",
       " 'telegraph.co.uk/sport/main.jhtml?xml=/sport/2007/11/08/uowoodward108.xml',\n",
       " 'telegraph.co.uk/news/uknews/1584599/Extravagance-uncovered-during-Saudi-arms-probe.html']"
      ]
     },
     "execution_count": 144,
     "metadata": {},
     "output_type": "execute_result"
    }
   ],
   "source": [
    "list(df.loc[df['domain'] == 'telegraph.co.uk', 'URL_n'])[0:5]"
   ]
  },
  {
   "cell_type": "markdown",
   "metadata": {},
   "source": [
    "### 52. independent.co.uk"
   ]
  },
  {
   "cell_type": "markdown",
   "metadata": {},
   "source": [
    "If \".hmtl\" is removed, in some cases, the URL does not work, but it makes possible to unify URL."
   ]
  },
  {
   "cell_type": "code",
   "execution_count": 145,
   "metadata": {},
   "outputs": [
    {
     "data": {
      "text/plain": [
       "['independent.co.uk/sport/football/internationals/israel-showed-they-are-honest-people--we-have-to-behave-in-the-same-way-400969.html',\n",
       " 'independent.co.uk/news/obituaries/boris-grushin-397539.html',\n",
       " 'independent.co.uk/news/obituaries/sir-john-brown-730102.html',\n",
       " 'independent.co.uk/arts-entertainment/films/features/ah-007-we-meet-again-a-brief-history-of-the-bond-villain-963852.html',\n",
       " 'independent.co.uk/arts-entertainment/theatre-dance/features/leo-butler-thats-not-an-usher-thats-the-author-662973.html']"
      ]
     },
     "execution_count": 145,
     "metadata": {},
     "output_type": "execute_result"
    }
   ],
   "source": [
    "list(df.loc[df['domain'] == 'independent.co.uk', 'URL_n'])[0:5]"
   ]
  },
  {
   "cell_type": "code",
   "execution_count": 146,
   "metadata": {},
   "outputs": [],
   "source": [
    "df.loc[df['domain'] == 'independent.co.uk', 'URL_n'] = [re.sub('\\.html\\?(amp|CMP|print|origin|dkdkd|service|r=).*', '.html', x, flags=re.IGNORECASE) for x in df.loc[df['domain'] == 'independent.co.uk', 'URL_n']]"
   ]
  },
  {
   "cell_type": "code",
   "execution_count": 147,
   "metadata": {},
   "outputs": [
    {
     "data": {
      "text/plain": [
       "['independent.co.uk/sport/football/internationals/israel-showed-they-are-honest-people--we-have-to-behave-in-the-same-way-400969.html',\n",
       " 'independent.co.uk/news/obituaries/boris-grushin-397539.html',\n",
       " 'independent.co.uk/news/obituaries/sir-john-brown-730102.html',\n",
       " 'independent.co.uk/arts-entertainment/films/features/ah-007-we-meet-again-a-brief-history-of-the-bond-villain-963852.html',\n",
       " 'independent.co.uk/arts-entertainment/theatre-dance/features/leo-butler-thats-not-an-usher-thats-the-author-662973.html']"
      ]
     },
     "execution_count": 147,
     "metadata": {},
     "output_type": "execute_result"
    }
   ],
   "source": [
    "list(df.loc[df['domain'] == 'independent.co.uk', 'URL_n'])[0:5]"
   ]
  },
  {
   "cell_type": "markdown",
   "metadata": {},
   "source": [
    "### 53. variety.com"
   ]
  },
  {
   "cell_type": "markdown",
   "metadata": {},
   "source": [
    "The use of parameters looks associated to an old web version. Parameters included in the *variety.com/index.asp* URL cannot be removed as well as category. In some cases if the category parameter is removed it doesn't work."
   ]
  },
  {
   "cell_type": "code",
   "execution_count": 148,
   "metadata": {},
   "outputs": [
    {
     "data": {
      "text/plain": [
       "['variety.com/review/VE1117793667.html?categoryid=31&cs=1&p=0',\n",
       " 'variety.com/index.asp?articleid=VR1117958975&content=jump&dept=berlin&jump=story&layout=features2007&nav=FBberlin',\n",
       " 'variety.com/ref.asp?p=H2BE&sid=VE1117931860&u=IMDB',\n",
       " 'variety.com/screening/la/default.asp?show=10',\n",
       " 'variety.com/screening/ny/default.asp?show=10']"
      ]
     },
     "execution_count": 148,
     "metadata": {},
     "output_type": "execute_result"
    }
   ],
   "source": [
    "list(df.loc[df['domain'] == 'variety.com', 'URL_n'])[0:5]"
   ]
  },
  {
   "cell_type": "code",
   "execution_count": null,
   "metadata": {},
   "outputs": [],
   "source": [
    "#df.loc[df['domain'] == 'variety.com', 'URL_n'] = [re.sub('\\.html\\?.*', '.html', x, flags=re.IGNORECASE) for x in df.loc[df['domain'] == 'variety.com', 'URL_n']]\n",
    "#df.loc[df['domain'] == 'variety.com', 'URL_n'] = [re.sub('([0-9]|/)(\\?.*)', r'\\1', x, flags=re.IGNORECASE) for x in df.loc[df['domain'] == 'variety.com', 'URL_n']]\n",
    "#df.loc[df['domain'] == 'variety.com', 'URL_n'] = [re.sub('\\?(refcatid|categoryid|printerfriendly).*', '', x, flags=re.IGNORECASE) for x in df.loc[df['domain'] == 'variety.com', 'URL_n']]"
   ]
  },
  {
   "cell_type": "code",
   "execution_count": 149,
   "metadata": {},
   "outputs": [
    {
     "data": {
      "text/plain": [
       "['variety.com/review/VE1117793667.html?categoryid=31&cs=1&p=0',\n",
       " 'variety.com/index.asp?articleid=VR1117958975&content=jump&dept=berlin&jump=story&layout=features2007&nav=FBberlin',\n",
       " 'variety.com/ref.asp?p=H2BE&sid=VE1117931860&u=IMDB',\n",
       " 'variety.com/screening/la/default.asp?show=10',\n",
       " 'variety.com/screening/ny/default.asp?show=10']"
      ]
     },
     "execution_count": 149,
     "metadata": {},
     "output_type": "execute_result"
    }
   ],
   "source": [
    "list(df.loc[df['domain'] == 'variety.com', 'URL_n'])[0:5]"
   ]
  },
  {
   "cell_type": "markdown",
   "metadata": {},
   "source": [
    "### 54. itunes.apple.com"
   ]
  },
  {
   "cell_type": "markdown",
   "metadata": {},
   "source": [
    "There are some parameters that could be included. mt and l (language) looks unuseful whereas i is for specific album songs. #see-all and #fullText would be removed."
   ]
  },
  {
   "cell_type": "code",
   "execution_count": 150,
   "metadata": {},
   "outputs": [
    {
     "data": {
      "text/plain": [
       "['itunes.apple.com/gb/album/they-may-talk-ep/id359886387',\n",
       " 'itunes.apple.com/gb/album/an-emotional-victory/id373520393',\n",
       " 'itunes.apple.com/us/album/turning-point/id366481125',\n",
       " 'itunes.apple.com/us/album/jerk-single/id412674162',\n",
       " 'itunes.apple.com/us/album/flaws-and-all-live/id268305666?i=268305829']"
      ]
     },
     "execution_count": 150,
     "metadata": {},
     "output_type": "execute_result"
    }
   ],
   "source": [
    "list(df.loc[df['domain'] == 'itunes.apple.com', 'URL_n'])[0:5]"
   ]
  },
  {
   "cell_type": "code",
   "execution_count": 151,
   "metadata": {},
   "outputs": [],
   "source": [
    "df.loc[df['domain'] == 'itunes.apple.com', 'URL_n'] = [re.sub('(\\?mt=|&mt=|\\?l=|&l=).*#', '#', x, flags=re.IGNORECASE) for x in df.loc[df['domain'] == 'itunes.apple.com', 'URL_n']]\n",
    "df.loc[df['domain'] == 'itunes.apple.com', 'URL_n'] = [re.sub('(\\?mt=|&mt=).*', '', x, flags=re.IGNORECASE) for x in df.loc[df['domain'] == 'itunes.apple.com', 'URL_n']]\n",
    "df.loc[df['domain'] == 'itunes.apple.com', 'URL_n'] = [re.sub('(\\?l=|&l=).*', '', x, flags=re.IGNORECASE) for x in df.loc[df['domain'] == 'itunes.apple.com', 'URL_n']]\n",
    "df.loc[df['domain'] == 'itunes.apple.com', 'URL_n'] = [re.sub('\\?app.*?&', '?', x, flags=re.IGNORECASE) for x in df.loc[df['domain'] == 'itunes.apple.com', 'URL_n']]\n",
    "df.loc[df['domain'] == 'itunes.apple.com', 'URL_n'] = [re.sub('\\?app.*#', '#', x, flags=re.IGNORECASE) for x in df.loc[df['domain'] == 'itunes.apple.com', 'URL_n']]\n",
    "df.loc[df['domain'] == 'itunes.apple.com', 'URL_n'] = [re.sub('\\?app.*', '', x, flags=re.IGNORECASE) for x in df.loc[df['domain'] == 'itunes.apple.com', 'URL_n']]"
   ]
  },
  {
   "cell_type": "code",
   "execution_count": 152,
   "metadata": {},
   "outputs": [
    {
     "data": {
      "text/plain": [
       "['itunes.apple.com/gb/album/they-may-talk-ep/id359886387',\n",
       " 'itunes.apple.com/gb/album/an-emotional-victory/id373520393',\n",
       " 'itunes.apple.com/us/album/turning-point/id366481125',\n",
       " 'itunes.apple.com/us/album/jerk-single/id412674162',\n",
       " 'itunes.apple.com/us/album/flaws-and-all-live/id268305666?i=268305829']"
      ]
     },
     "execution_count": 152,
     "metadata": {},
     "output_type": "execute_result"
    }
   ],
   "source": [
    "list(df.loc[df['domain'] == 'itunes.apple.com', 'URL_n'])[0:5]"
   ]
  },
  {
   "cell_type": "markdown",
   "metadata": {},
   "source": [
    "### 55. timesofindia.indiatimes.com"
   ]
  },
  {
   "cell_type": "markdown",
   "metadata": {},
   "source": [
    "Some parameters are removed."
   ]
  },
  {
   "cell_type": "code",
   "execution_count": 153,
   "metadata": {},
   "outputs": [
    {
     "data": {
      "text/plain": [
       "['timesofindia.indiatimes.com/articleshow/1180863.cms',\n",
       " 'timesofindia.indiatimes.com/articleshow/903897.cms',\n",
       " 'timesofindia.indiatimes.com/articleshow/431188.cms',\n",
       " 'timesofindia.indiatimes.com/articleshow/11243699.cms',\n",
       " 'timesofindia.indiatimes.com/articleshow/msid-21724548,prtpage-1.cms']"
      ]
     },
     "execution_count": 153,
     "metadata": {},
     "output_type": "execute_result"
    }
   ],
   "source": [
    "list(df.loc[df['domain'] == 'timesofindia.indiatimes.com', 'URL_n'])[0:5]"
   ]
  },
  {
   "cell_type": "code",
   "execution_count": 154,
   "metadata": {},
   "outputs": [],
   "source": [
    "df.loc[df['domain'] == 'timesofindia.indiatimes.com', 'URL_n'] = [re.sub('\\.cms\\?(referral=|intenttarget=|null|from=).*', '.cms', x, flags=re.IGNORECASE) for x in df.loc[df['domain'] == 'timesofindia.indiatimes.com', 'URL_n']]\n",
    "df.loc[df['domain'] == 'timesofindia.indiatimes.com', 'URL_n'] = [re.sub('\\.cms(#write$|#ixzz.*)', '.cms', x, flags=re.IGNORECASE) for x in df.loc[df['domain'] == 'timesofindia.indiatimes.com', 'URL_n']]"
   ]
  },
  {
   "cell_type": "code",
   "execution_count": 155,
   "metadata": {},
   "outputs": [
    {
     "data": {
      "text/plain": [
       "['timesofindia.indiatimes.com/articleshow/1180863.cms',\n",
       " 'timesofindia.indiatimes.com/articleshow/903897.cms',\n",
       " 'timesofindia.indiatimes.com/articleshow/431188.cms',\n",
       " 'timesofindia.indiatimes.com/articleshow/11243699.cms',\n",
       " 'timesofindia.indiatimes.com/articleshow/msid-21724548,prtpage-1.cms']"
      ]
     },
     "execution_count": 155,
     "metadata": {},
     "output_type": "execute_result"
    }
   ],
   "source": [
    "list(df.loc[df['domain'] == 'timesofindia.indiatimes.com', 'URL_n'])[0:5]"
   ]
  },
  {
   "cell_type": "markdown",
   "metadata": {},
   "source": [
    "### 56. bbc.com"
   ]
  },
  {
   "cell_type": "markdown",
   "metadata": {},
   "source": [
    "The main unuseful parameters are removed."
   ]
  },
  {
   "cell_type": "code",
   "execution_count": 156,
   "metadata": {},
   "outputs": [
    {
     "data": {
      "text/plain": [
       "['bbc.com/bbcfour/documentaries/storyville/house-saud.shtml',\n",
       " 'bbc.com/cumbria/features/tall_ships/earl_of_pembroke.shtml',\n",
       " 'bbc.com/pressoffice/speeches/stories/dyke_mactaggart2000.shtml',\n",
       " 'bbc.com/dna/getwriting/module14',\n",
       " 'bbc.com/pressoffice/pressreleases/stories/2003/12_december/10/bbc3_factual.shtml']"
      ]
     },
     "execution_count": 156,
     "metadata": {},
     "output_type": "execute_result"
    }
   ],
   "source": [
    "list(df.loc[df['domain'] == 'bbc.com', 'URL_n'])[0:5]"
   ]
  },
  {
   "cell_type": "code",
   "execution_count": 157,
   "metadata": {},
   "outputs": [],
   "source": [
    "df.loc[df['domain'] == 'bbc.com', 'URL_n'] = [re.sub('\\?(ocid|intlink|print|ns_).*', '', x, flags=re.IGNORECASE) for x in df.loc[df['domain'] == 'bbc.com', 'URL_n']]\n",
    "df.loc[df['domain'] == 'bbc.com', 'URL_n'] = [re.sub('#TWEET.*', '', x, flags=re.IGNORECASE) for x in df.loc[df['domain'] == 'bbc.com', 'URL_n']]"
   ]
  },
  {
   "cell_type": "code",
   "execution_count": 158,
   "metadata": {
    "tags": []
   },
   "outputs": [
    {
     "data": {
      "text/plain": [
       "['bbc.com/bbcfour/documentaries/storyville/house-saud.shtml',\n",
       " 'bbc.com/cumbria/features/tall_ships/earl_of_pembroke.shtml',\n",
       " 'bbc.com/pressoffice/speeches/stories/dyke_mactaggart2000.shtml',\n",
       " 'bbc.com/dna/getwriting/module14',\n",
       " 'bbc.com/pressoffice/pressreleases/stories/2003/12_december/10/bbc3_factual.shtml']"
      ]
     },
     "execution_count": 158,
     "metadata": {},
     "output_type": "execute_result"
    }
   ],
   "source": [
    "list(df.loc[df['domain'] == 'bbc.com', 'URL_n'])[0:5]"
   ]
  },
  {
   "cell_type": "markdown",
   "metadata": {},
   "source": [
    "### 57. stat.gov.pl"
   ]
  },
  {
   "cell_type": "markdown",
   "metadata": {},
   "source": [
    "The index is fixed."
   ]
  },
  {
   "cell_type": "code",
   "execution_count": 159,
   "metadata": {},
   "outputs": [
    {
     "data": {
      "text/plain": [
       "['stat.gov.pl/bdren/bdrap.dane_cechter.czaskatpoag?P_NTS_ID=11&P_SZUKANIE=&P_TERY_ID=2788',\n",
       " 'stat.gov.pl/',\n",
       " 'stat.gov.pl/',\n",
       " 'stat.gov.pl/gus/45_655_PLK_HTML.htm',\n",
       " 'stat.gov.pl/gus/45_655_PLK_HTML.htm']"
      ]
     },
     "execution_count": 159,
     "metadata": {},
     "output_type": "execute_result"
    }
   ],
   "source": [
    "list(df.loc[df['domain'] == 'stat.gov.pl', 'URL_n'])[0:5] "
   ]
  },
  {
   "cell_type": "code",
   "execution_count": 160,
   "metadata": {},
   "outputs": [],
   "source": [
    "df.loc[df['domain'] == 'stat.gov.pl', 'URL_n'] = [re.sub('\\.html\\?p_name.*', '.html', x, flags=re.IGNORECASE) for x in df.loc[df['domain'] == 'stat.gov.pl', 'URL_n']]"
   ]
  },
  {
   "cell_type": "code",
   "execution_count": 161,
   "metadata": {},
   "outputs": [
    {
     "data": {
      "text/plain": [
       "['stat.gov.pl/bdren/bdrap.dane_cechter.czaskatpoag?P_NTS_ID=11&P_SZUKANIE=&P_TERY_ID=2788',\n",
       " 'stat.gov.pl/',\n",
       " 'stat.gov.pl/',\n",
       " 'stat.gov.pl/gus/45_655_PLK_HTML.htm',\n",
       " 'stat.gov.pl/gus/45_655_PLK_HTML.htm']"
      ]
     },
     "execution_count": 161,
     "metadata": {},
     "output_type": "execute_result"
    }
   ],
   "source": [
    "list(df.loc[df['domain'] == 'stat.gov.pl', 'URL_n'])[0:5] "
   ]
  },
  {
   "cell_type": "markdown",
   "metadata": {},
   "source": [
    "### 58. hollywoodreporter.com"
   ]
  },
  {
   "cell_type": "markdown",
   "metadata": {},
   "source": [
    "URLs with *article_display.jsp* can not be transformed."
   ]
  },
  {
   "cell_type": "code",
   "execution_count": 162,
   "metadata": {},
   "outputs": [
    {
     "data": {
      "text/plain": [
       "['hollywoodreporter.com/thr/television/brief_display.jsp?vnu_content_id=1000698662',\n",
       " 'hollywoodreporter.com/thr/awards/sundance/reviews_display.jsp?vnu_content_id=1000760661',\n",
       " 'hollywoodreporter.com/thr/crafts/feature_display.jsp?vnu_content_id=1000865347',\n",
       " 'hollywoodreporter.com/thr/crafts/feature_display.jsp?vnu_content_id=1000865347',\n",
       " 'hollywoodreporter.com/thr/film/feature_display.jsp?vnu_content_id=1000863174']"
      ]
     },
     "execution_count": 162,
     "metadata": {},
     "output_type": "execute_result"
    }
   ],
   "source": [
    "list(df.loc[df['domain'] == 'hollywoodreporter.com', 'URL_n'])[0:5]"
   ]
  },
  {
   "cell_type": "code",
   "execution_count": 163,
   "metadata": {},
   "outputs": [],
   "source": [
    "df.loc[df['domain'] == 'hollywoodreporter.com', 'URL_n'] = [re.sub('([0-9a-zA-Z-]{4})(\\?(mobile_redirect|facebook).*)', r'\\1', x, flags=re.IGNORECASE) for x in df.loc[df['domain'] == 'hollywoodreporter.com', 'URL_n']]"
   ]
  },
  {
   "cell_type": "code",
   "execution_count": 164,
   "metadata": {},
   "outputs": [
    {
     "data": {
      "text/plain": [
       "['hollywoodreporter.com/thr/television/brief_display.jsp?vnu_content_id=1000698662',\n",
       " 'hollywoodreporter.com/thr/awards/sundance/reviews_display.jsp?vnu_content_id=1000760661',\n",
       " 'hollywoodreporter.com/thr/crafts/feature_display.jsp?vnu_content_id=1000865347',\n",
       " 'hollywoodreporter.com/thr/crafts/feature_display.jsp?vnu_content_id=1000865347',\n",
       " 'hollywoodreporter.com/thr/film/feature_display.jsp?vnu_content_id=1000863174']"
      ]
     },
     "execution_count": 164,
     "metadata": {},
     "output_type": "execute_result"
    }
   ],
   "source": [
    "list(df.loc[df['domain'] == 'hollywoodreporter.com', 'URL_n'])[0:5]"
   ]
  },
  {
   "cell_type": "markdown",
   "metadata": {},
   "source": [
    "### 59. deadline.com"
   ]
  },
  {
   "cell_type": "markdown",
   "metadata": {},
   "source": [
    "Some parameters are removed."
   ]
  },
  {
   "cell_type": "code",
   "execution_count": 165,
   "metadata": {},
   "outputs": [
    {
     "data": {
      "text/plain": [
       "['deadline.com/2010/01/imagine-does-transmedia-storytelling-deal',\n",
       " 'deadline.com/2009/05/an-attempt-to-stop-the-disney-machine',\n",
       " 'deadline.com/2010/05/maura-tierney-in-negotiations-for-abcs-whole-truth',\n",
       " 'deadline.com/2010/06/maura-tierney-set-for-the-whole-truth',\n",
       " 'deadline.com/2010/08/sony-pic-billboards-offer-help-for-virgins-and-cause-nationwide-controversy']"
      ]
     },
     "execution_count": 165,
     "metadata": {},
     "output_type": "execute_result"
    }
   ],
   "source": [
    "list(df.loc[df['domain'] == 'deadline.com', 'URL_n'])[0:5]"
   ]
  },
  {
   "cell_type": "code",
   "execution_count": 166,
   "metadata": {},
   "outputs": [],
   "source": [
    "df.loc[df['domain'] == 'deadline.com', 'URL_n'] = [re.sub('(/?)\\?(iframe|_escaped_fragment).*', '', x, flags=re.IGNORECASE) for x in df.loc[df['domain'] == 'deadline.com', 'URL_n']]"
   ]
  },
  {
   "cell_type": "code",
   "execution_count": 167,
   "metadata": {},
   "outputs": [
    {
     "data": {
      "text/plain": [
       "['deadline.com/2010/01/imagine-does-transmedia-storytelling-deal',\n",
       " 'deadline.com/2009/05/an-attempt-to-stop-the-disney-machine',\n",
       " 'deadline.com/2010/05/maura-tierney-in-negotiations-for-abcs-whole-truth',\n",
       " 'deadline.com/2010/06/maura-tierney-set-for-the-whole-truth',\n",
       " 'deadline.com/2010/08/sony-pic-billboards-offer-help-for-virgins-and-cause-nationwide-controversy']"
      ]
     },
     "execution_count": 167,
     "metadata": {},
     "output_type": "execute_result"
    }
   ],
   "source": [
    "list(df.loc[df['domain'] == 'deadline.com', 'URL_n'])[0:5]"
   ]
  },
  {
   "cell_type": "markdown",
   "metadata": {},
   "source": [
    "### 60. animenewsnetwork.com"
   ]
  },
  {
   "cell_type": "markdown",
   "metadata": {},
   "source": [
    "No changes required."
   ]
  },
  {
   "cell_type": "code",
   "execution_count": 168,
   "metadata": {},
   "outputs": [
    {
     "data": {
      "text/plain": [
       "['animenewsnetwork.com/article.php?id=2714',\n",
       " 'animenewsnetwork.com/feature.php?id=161',\n",
       " 'animenewsnetwork.com/feature.php?id=155',\n",
       " 'animenewsnetwork.com/article.php?id=6081',\n",
       " 'animenewsnetwork.com/article.php?id=7985']"
      ]
     },
     "execution_count": 168,
     "metadata": {},
     "output_type": "execute_result"
    }
   ],
   "source": [
    "list(df.loc[df['domain'] == 'animenewsnetwork.com', 'URL_n'])[0:5]"
   ]
  },
  {
   "cell_type": "markdown",
   "metadata": {},
   "source": [
    "### 61. reuters.com"
   ]
  },
  {
   "cell_type": "markdown",
   "metadata": {},
   "source": [
    "Here is more complex to identify the key parameters. "
   ]
  },
  {
   "cell_type": "code",
   "execution_count": 169,
   "metadata": {},
   "outputs": [
    {
     "data": {
      "text/plain": [
       "['reuters.com/newsArticle.jhtml?section=news&storyID=6725339&type=worldNews',\n",
       " 'reuters.com/news_article.jhtml;jsessionid=1BRREDIJMOGRKCRBAELCFEY?StoryID=1493221&type=topnews',\n",
       " 'reuters.com/article/businessNews/idUSTRE5507X420090601',\n",
       " 'reuters.com/article/pressrelease/idus211064+23-Jun-2008+PRN20080623',\n",
       " 'reuters.com/newsArticle.jhtml?section=news&storyID=6679582&type=worldNews']"
      ]
     },
     "execution_count": 169,
     "metadata": {},
     "output_type": "execute_result"
    }
   ],
   "source": [
    "list(df.loc[df['domain'] == 'reuters.com', 'URL_n'])[0:5]"
   ]
  },
  {
   "cell_type": "code",
   "execution_count": 170,
   "metadata": {},
   "outputs": [],
   "source": [
    "df.loc[df['domain'] == 'reuters.com', 'URL_n'] = [re.sub('(irpc=|sp=|rpc=|feedtype=|feedname=|il=|locale=|type=|virtualbrandchannel=|view=).*?(&|$)', '', x, flags=re.IGNORECASE) for x in df.loc[df['domain'] == 'reuters.com', 'URL_n']]\n",
    "df.loc[df['domain'] == 'reuters.com', 'URL_n'] = [re.sub('(#[a-zA-Z0-9]+\\.[0-9]{2}$|#targetText.*)', '', x, flags=re.IGNORECASE) for x in df.loc[df['domain'] == 'reuters.com', 'URL_n']]\n",
    "df.loc[df['domain'] == 'reuters.com', 'URL_n'] = [re.sub('(\\?$|\\?&$|&$)', '', x, flags=re.IGNORECASE) for x in df.loc[df['domain'] == 'reuters.com', 'URL_n']]"
   ]
  },
  {
   "cell_type": "code",
   "execution_count": 171,
   "metadata": {},
   "outputs": [
    {
     "data": {
      "text/plain": [
       "['reuters.com/newsArticle.jhtml?section=news&storyID=6725339',\n",
       " 'reuters.com/news_article.jhtml;jsessionid=1BRREDIJMOGRKCRBAELCFEY?StoryID=1493221',\n",
       " 'reuters.com/article/businessNews/idUSTRE5507X420090601',\n",
       " 'reuters.com/article/pressrelease/idus211064+23-Jun-2008+PRN20080623',\n",
       " 'reuters.com/newsArticle.jhtml?section=news&storyID=6679582']"
      ]
     },
     "execution_count": 171,
     "metadata": {},
     "output_type": "execute_result"
    }
   ],
   "source": [
    "list(df.loc[df['domain'] == 'reuters.com', 'URL_n'])[0:5]"
   ]
  },
  {
   "cell_type": "markdown",
   "metadata": {},
   "source": [
    "### 62. thehindu.com"
   ]
  },
  {
   "cell_type": "markdown",
   "metadata": {},
   "source": [
    "Some parameters are removed."
   ]
  },
  {
   "cell_type": "code",
   "execution_count": 172,
   "metadata": {},
   "outputs": [
    {
     "data": {
      "text/plain": [
       "['thehindu.com/thehindu/mp/2003/02/06/stories/2003020600890100.htm',\n",
       " 'thehindu.com/thehindu/2003/03/20/stories/2003032005180300.htm',\n",
       " 'thehindu.com/2009/08/13/stories/2009081352170300.htm',\n",
       " 'thehindu.com/mag/2007/07/22/stories/2007072250030400.htm',\n",
       " 'thehindu.com/2009/03/27/stories/2009032758310300.html']"
      ]
     },
     "execution_count": 172,
     "metadata": {},
     "output_type": "execute_result"
    }
   ],
   "source": [
    "list(df.loc[df['domain'] == 'thehindu.com', 'URL_n'])[0:5]"
   ]
  },
  {
   "cell_type": "code",
   "execution_count": 173,
   "metadata": {},
   "outputs": [],
   "source": [
    "df.loc[df['domain'] == 'thehindu.com', 'URL_n'] = [re.sub('\\?(homepage|css|sec|test|ref|_escaped_fragment_).*#', '#', x, flags=re.IGNORECASE) for x in df.loc[df['domain'] == 'thehindu.com', 'URL_n']]\n",
    "df.loc[df['domain'] == 'thehindu.com', 'URL_n'] = [re.sub('\\?(homepage|css|sec|test|ref|_escaped_fragment_).*', '', x, flags=re.IGNORECASE) for x in df.loc[df['domain'] == 'thehindu.com', 'URL_n']]"
   ]
  },
  {
   "cell_type": "code",
   "execution_count": 174,
   "metadata": {},
   "outputs": [
    {
     "data": {
      "text/plain": [
       "['thehindu.com/thehindu/mp/2003/02/06/stories/2003020600890100.htm',\n",
       " 'thehindu.com/thehindu/2003/03/20/stories/2003032005180300.htm',\n",
       " 'thehindu.com/2009/08/13/stories/2009081352170300.htm',\n",
       " 'thehindu.com/mag/2007/07/22/stories/2007072250030400.htm',\n",
       " 'thehindu.com/2009/03/27/stories/2009032758310300.html']"
      ]
     },
     "execution_count": 174,
     "metadata": {},
     "output_type": "execute_result"
    }
   ],
   "source": [
    "list(df.loc[df['domain'] == 'thehindu.com', 'URL_n'])[0:5]"
   ]
  },
  {
   "cell_type": "markdown",
   "metadata": {},
   "source": [
    "### 63. cricketarchive.com"
   ]
  },
  {
   "cell_type": "markdown",
   "metadata": {},
   "source": [
    "A very few URLs include parameters, but it appears be the same."
   ]
  },
  {
   "cell_type": "code",
   "execution_count": 175,
   "metadata": {},
   "outputs": [
    {
     "data": {
      "text/plain": [
       "['cricketarchive.com/Archive/Grounds/4/10174.html',\n",
       " 'cricketarchive.com/Archive/Players/187/187174/187174.html',\n",
       " 'cricketarchive.com/Archive/Players/158/158668/158668.html',\n",
       " 'cricketarchive.com/Kerala/Players/260/260744/260744.html',\n",
       " 'cricketarchive.com/Archive/Players/28/28331/28331.html']"
      ]
     },
     "execution_count": 175,
     "metadata": {},
     "output_type": "execute_result"
    }
   ],
   "source": [
    "list(df.loc[df['domain'] == 'cricketarchive.com', 'URL_n'])[0:5]"
   ]
  },
  {
   "cell_type": "markdown",
   "metadata": {},
   "source": [
    "### 64. articles.latimes.com"
   ]
  },
  {
   "cell_type": "markdown",
   "metadata": {},
   "source": [
    "No changes required."
   ]
  },
  {
   "cell_type": "code",
   "execution_count": 176,
   "metadata": {},
   "outputs": [
    {
     "data": {
      "text/plain": [
       "['articles.latimes.com/2007/07/25/calendar/et-scriptland25',\n",
       " 'articles.latimes.com/2007/aug/03/entertainment/et-doublesuicide3',\n",
       " 'articles.latimes.com/2004/apr/20/entertainment/et-dutka20',\n",
       " 'articles.latimes.com/2007/jun/12/entertainment/et-shehori12',\n",
       " 'articles.latimes.com/2008/jan/20/world/fg-farc20']"
      ]
     },
     "execution_count": 176,
     "metadata": {},
     "output_type": "execute_result"
    }
   ],
   "source": [
    "list(df.loc[df['domain'] == 'articles.latimes.com', 'URL_n'])[0:5]"
   ]
  },
  {
   "cell_type": "markdown",
   "metadata": {},
   "source": [
    "### 65. discogs.com"
   ]
  },
  {
   "cell_type": "markdown",
   "metadata": {},
   "source": [
    "The main parameters are anv, filter_anv, noanv (these are used to link with alternative names) and release."
   ]
  },
  {
   "cell_type": "code",
   "execution_count": 177,
   "metadata": {},
   "outputs": [
    {
     "data": {
      "text/plain": [
       "['discogs.com/release/559377',\n",
       " 'discogs.com/label/Digital+Hardcore+Recordings+(DHR)',\n",
       " 'discogs.com/label/Cheap',\n",
       " 'discogs.com/label/Stigmata',\n",
       " 'discogs.com/artist/Imatran+Voima']"
      ]
     },
     "execution_count": 177,
     "metadata": {},
     "output_type": "execute_result"
    }
   ],
   "source": [
    "list(df.loc[df['domain'] == 'discogs.com', 'URL_n'])[0:5]"
   ]
  },
  {
   "cell_type": "code",
   "execution_count": 178,
   "metadata": {},
   "outputs": [],
   "source": [
    "df.loc[df['domain'] == 'discogs.com', 'URL_n'] = [re.sub('(layout=).*?(&|$)', '', x, flags=re.IGNORECASE) for x in df.loc[df['domain'] == 'discogs.com', 'URL_n']]\n",
    "df.loc[df['domain'] == 'discogs.com', 'URL_n'] = [re.sub('(\\?$|\\?&$|&$)', '', x, flags=re.IGNORECASE) for x in df.loc[df['domain'] == 'discogs.com', 'URL_n']]"
   ]
  },
  {
   "cell_type": "code",
   "execution_count": 179,
   "metadata": {},
   "outputs": [
    {
     "data": {
      "text/plain": [
       "['discogs.com/release/559377',\n",
       " 'discogs.com/label/Digital+Hardcore+Recordings+(DHR)',\n",
       " 'discogs.com/label/Cheap',\n",
       " 'discogs.com/label/Stigmata',\n",
       " 'discogs.com/artist/Imatran+Voima']"
      ]
     },
     "execution_count": 179,
     "metadata": {},
     "output_type": "execute_result"
    }
   ],
   "source": [
    "list(df.loc[df['domain'] == 'discogs.com', 'URL_n'])[0:5]"
   ]
  },
  {
   "cell_type": "markdown",
   "metadata": {},
   "source": [
    "### 66. officialcharts.com"
   ]
  },
  {
   "cell_type": "markdown",
   "metadata": {},
   "source": [
    "No changes required."
   ]
  },
  {
   "cell_type": "code",
   "execution_count": 180,
   "metadata": {},
   "outputs": [
    {
     "data": {
      "text/plain": [
       "['officialcharts.com/artist/_/cocteau%20twins/#albums',\n",
       " 'officialcharts.com/artist/_/kelly%20clarkson',\n",
       " 'officialcharts.com/singles-chart',\n",
       " 'officialcharts.com/artist/_/bruce%20springsteen/#albums',\n",
       " 'officialcharts.com/artist/_/nick%20cave%20&%20the%20bad%20seeds/#albums']"
      ]
     },
     "execution_count": 180,
     "metadata": {},
     "output_type": "execute_result"
    }
   ],
   "source": [
    "list(df.loc[df['domain'] == 'officialcharts.com', 'URL_n'])[0:5]"
   ]
  },
  {
   "cell_type": "markdown",
   "metadata": {},
   "source": [
    "### 67. metacritic.com"
   ]
  },
  {
   "cell_type": "markdown",
   "metadata": {},
   "source": [
    "There are several parameters (filter, q, sort, page, ref, ftag, part, tag...) but only a few can be removed."
   ]
  },
  {
   "cell_type": "code",
   "execution_count": 181,
   "metadata": {},
   "outputs": [
    {
     "data": {
      "text/plain": [
       "['metacritic.com/video/titles/diamondmen',\n",
       " 'metacritic.com/music/artists/explosionsinthesky/earthisnotacolddeadplace',\n",
       " 'metacritic.com/music/artists/futureheads/futureheads',\n",
       " 'metacritic.com/games/platforms/ps2/fullmetalalchemistdreamcarnival',\n",
       " 'metacritic.com/music/artists/coxongraham/goldend']"
      ]
     },
     "execution_count": 181,
     "metadata": {},
     "output_type": "execute_result"
    }
   ],
   "source": [
    "list(df.loc[df['domain'] == 'metacritic.com', 'URL_n'])[0:5]"
   ]
  },
  {
   "cell_type": "code",
   "execution_count": 182,
   "metadata": {},
   "outputs": [],
   "source": [
    "df.loc[df['domain'] == 'metacritic.com', 'URL_n'] = [re.sub('\\?q=.*#', '#', x, flags=re.IGNORECASE) for x in df.loc[df['domain'] == 'metacritic.com', 'URL_n']]\n",
    "df.loc[df['domain'] == 'metacritic.com', 'URL_n'] = [re.sub('\\?(q=|part=).*', '', x, flags=re.IGNORECASE) for x in df.loc[df['domain'] == 'metacritic.com', 'URL_n']]"
   ]
  },
  {
   "cell_type": "code",
   "execution_count": 183,
   "metadata": {},
   "outputs": [
    {
     "data": {
      "text/plain": [
       "['metacritic.com/video/titles/diamondmen',\n",
       " 'metacritic.com/music/artists/explosionsinthesky/earthisnotacolddeadplace',\n",
       " 'metacritic.com/music/artists/futureheads/futureheads',\n",
       " 'metacritic.com/games/platforms/ps2/fullmetalalchemistdreamcarnival',\n",
       " 'metacritic.com/music/artists/coxongraham/goldend']"
      ]
     },
     "execution_count": 183,
     "metadata": {},
     "output_type": "execute_result"
    }
   ],
   "source": [
    "list(df.loc[df['domain'] == 'metacritic.com', 'URL_n'])[0:5]"
   ]
  },
  {
   "cell_type": "markdown",
   "metadata": {},
   "source": [
    "### 68. abc.net.au"
   ]
  },
  {
   "cell_type": "markdown",
   "metadata": {},
   "source": [
    "Some parameters are removed."
   ]
  },
  {
   "cell_type": "code",
   "execution_count": null,
   "metadata": {},
   "outputs": [],
   "source": [
    "list(df.loc[df['domain'] == 'abc.net.au', 'URL_n'])[0:5]"
   ]
  },
  {
   "cell_type": "code",
   "execution_count": null,
   "metadata": {},
   "outputs": [],
   "source": [
    "df.loc[df['domain'] == 'abc.net.au', 'URL_n'] = [re.sub('\\.htm\\?(site|section).*#', '.htm#', x, flags=re.IGNORECASE) for x in df.loc[df['domain'] == 'abc.net.au', 'URL_n']]\n",
    "df.loc[df['domain'] == 'abc.net.au', 'URL_n'] = [re.sub('\\.htm\\?(site|section).*', '.htm', x, flags=re.IGNORECASE) for x in df.loc[df['domain'] == 'abc.net.au', 'URL_n']]\n",
    "df.loc[df['domain'] == 'abc.net.au', 'URL_n'] = [re.sub('(/\\?|\\?)(site|section).*', '', x, flags=re.IGNORECASE) for x in df.loc[df['domain'] == 'abc.net.au', 'URL_n']]"
   ]
  },
  {
   "cell_type": "code",
   "execution_count": null,
   "metadata": {},
   "outputs": [],
   "source": [
    "list(df.loc[df['domain'] == 'abc.net.au', 'URL_n'])[0:5]"
   ]
  },
  {
   "cell_type": "markdown",
   "metadata": {},
   "source": [
    "### 69. books.google.co.uk"
   ]
  },
  {
   "cell_type": "markdown",
   "metadata": {},
   "source": [
    "These URLs require a lot of transformations to be reduced."
   ]
  },
  {
   "cell_type": "code",
   "execution_count": 184,
   "metadata": {},
   "outputs": [
    {
     "data": {
      "text/plain": [
       "['books.google.co.uk/books?isbn=0304706566',\n",
       " 'books.google.co.uk/books?dq=Mr+Coughron+mathematician&ei=Cz7jT_CrKInS0QXu7_SaAw&hl=en&id=MukGAAAAYAAJ&lpg=RA1-PA225&ots=3Mt8cBxmf7&pg=RA1-PA225&sa=X&sig=f1rBp8xK75LJuIF5pMWffUHP6Fg&source=bl&sqi=2&ved=0CDsQ6AEwAw#v%3Donepage%26q%3DMr%20Coughron%20mathematician%26f%3Dfalse',\n",
       " 'books.google.co.uk/books?dq=james+robson+of+the+pretenders+army&ei=TgHiT-fcGaii0QX3tfXEAw&hl=en&id=-RtNAAAAMAAJ&lpg=PA69&ots=4sHitgd86J&pg=PA69&sa=X&sig=LoZRCHcysfZzSQHOw7RdY-kkXk0&source=bl&sqi=2&ved=0CDkQ6AEwAQ#v%3Dsnippet%26q%3Djames%20robson%26f%3Dfalse',\n",
       " 'books.google.co.uk/books?cad=0&id=MB4IAAAAQAAJ&printsec=frontcover&source=gbs_ge_summary_r#v%3Donepage%26q%26f%3Dfalse',\n",
       " 'books.google.co.uk/books?dq=ambassador+peter+onu&ei=rAOHVLzDCYvnUr2ugIgH&hl=en&id=S9NKCCXbzbQC&lpg=PA98&ots=SpY1hfSZ1K&pg=PA98&sa=X&sig=9NqfSmLJvEFih9ccn4dmU_bs6Y4&source=bl&ved=0CDkQ6AEwBA#v%3Donepage%26q%3Dambassador%20peter%20onu%26f%3Dfalse']"
      ]
     },
     "execution_count": 184,
     "metadata": {},
     "output_type": "execute_result"
    }
   ],
   "source": [
    "list(df.loc[df['domain'] == 'books.google.co.uk', 'URL_n'])[0:5]"
   ]
  },
  {
   "cell_type": "code",
   "execution_count": 185,
   "metadata": {},
   "outputs": [],
   "source": [
    "df.loc[df['domain'] == 'books.google.co.uk', 'URL_n'] = [re.sub('\\?.*&id=', '?id=', x, flags=re.IGNORECASE) for x in df.loc[df['domain'] == 'books.google.co.uk', 'URL_n']]\n",
    "df.loc[df['domain'] == 'books.google.co.uk', 'URL_n'] = [re.sub('(\\?id=.*?&)(.*)', r'\\1', x, flags=re.IGNORECASE) for x in df.loc[df['domain'] == 'books.google.co.uk', 'URL_n']]\n",
    "df.loc[df['domain'] == 'books.google.co.uk', 'URL_n'] = [re.sub('\\?.*&q=', '?q=', x, flags=re.IGNORECASE) for x in df.loc[df['domain'] == 'books.google.co.uk', 'URL_n']]\n",
    "df.loc[df['domain'] == 'books.google.co.uk', 'URL_n'] = [re.sub('ngrams/graph\\?.*&content=', 'ngrams/graph?content=', x, flags=re.IGNORECASE) for x in df.loc[df['domain'] == 'books.google.co.uk', 'URL_n']]\n",
    "df.loc[df['domain'] == 'books.google.co.uk', 'URL_n'] = [re.sub('&.*', '', x, flags=re.IGNORECASE) for x in df.loc[df['domain'] == 'books.google.co.uk', 'URL_n']]\n",
    "df.loc[df['domain'] == 'books.google.co.uk', 'URL_n'] = [re.sub('/books.*\\?id=', '/?id=', x, flags=re.IGNORECASE) for x in df.loc[df['domain'] == 'books.google.co.uk', 'URL_n']]\n",
    "df.loc[df['domain'] == 'books.google.co.uk', 'URL_n'] = [re.sub('/books.*\\?vid=', '/?vid=', x, flags=re.IGNORECASE) for x in df.loc[df['domain'] == 'books.google.co.uk', 'URL_n']]\n",
    "df.loc[df['domain'] == 'books.google.co.uk', 'URL_n'] = [re.sub('/books.*\\?q=', '/?q=', x, flags=re.IGNORECASE) for x in df.loc[df['domain'] == 'books.google.co.uk', 'URL_n']]\n",
    "df.loc[df['domain'] == 'books.google.co.uk', 'URL_n'] = [re.sub('#(v|search).*', '', x, flags=re.IGNORECASE) for x in df.loc[df['domain'] == 'books.google.co.uk', 'URL_n']]"
   ]
  },
  {
   "cell_type": "code",
   "execution_count": 186,
   "metadata": {},
   "outputs": [
    {
     "data": {
      "text/plain": [
       "['books.google.co.uk/books?isbn=0304706566',\n",
       " 'books.google.co.uk/?id=MukGAAAAYAAJ',\n",
       " 'books.google.co.uk/?id=-RtNAAAAMAAJ',\n",
       " 'books.google.co.uk/?id=MB4IAAAAQAAJ',\n",
       " 'books.google.co.uk/?id=S9NKCCXbzbQC']"
      ]
     },
     "execution_count": 186,
     "metadata": {},
     "output_type": "execute_result"
    }
   ],
   "source": [
    "list(df.loc[df['domain'] == 'books.google.co.uk', 'URL_n'])[0:5]"
   ]
  },
  {
   "cell_type": "markdown",
   "metadata": {},
   "source": [
    "### 70. facebook.com"
   ]
  },
  {
   "cell_type": "markdown",
   "metadata": {},
   "source": [
    "Some parameters are removed."
   ]
  },
  {
   "cell_type": "code",
   "execution_count": 187,
   "metadata": {},
   "outputs": [
    {
     "data": {
      "text/plain": [
       "['facebook.com/terms.php',\n",
       " 'facebook.com/apps/application.php?id=17895489176',\n",
       " 'facebook.com/policy.php',\n",
       " 'facebook.com/profile.php?id=789638867',\n",
       " 'facebook.com/pages/Ivoryton-CT/The-Ivoryton-Playhouse-Foundation/6553109986?ref=ts']"
      ]
     },
     "execution_count": 187,
     "metadata": {},
     "output_type": "execute_result"
    }
   ],
   "source": [
    "list(df.loc[df['domain'] == 'facebook.com', 'URL_n'])[0:5]"
   ]
  },
  {
   "cell_type": "code",
   "execution_count": 188,
   "metadata": {},
   "outputs": [],
   "source": [
    "df.loc[df['domain'] == 'facebook.com', 'URL_n'] = [re.sub('\\?(theater|theatre|stream_).*?(&|$)', '?', x, flags=re.IGNORECASE) for x in df.loc[df['domain'] == 'facebook.com', 'URL_n']]\n",
    "df.loc[df['domain'] == 'facebook.com', 'URL_n'] = [re.sub('(__tn__=|pnref=|fref=|type=|notif_t=|permpage=|total_comments=).*?(&|$)', '', x, flags=re.IGNORECASE) for x in df.loc[df['domain'] == 'facebook.com', 'URL_n']]\n",
    "df.loc[df['domain'] == 'facebook.com', 'URL_n'] = [re.sub('(\\?$|\\?&$|&$)', '', x, flags=re.IGNORECASE) for x in df.loc[df['domain'] == 'facebook.com', 'URL_n']]"
   ]
  },
  {
   "cell_type": "code",
   "execution_count": 189,
   "metadata": {},
   "outputs": [
    {
     "data": {
      "text/plain": [
       "['facebook.com/terms.php',\n",
       " 'facebook.com/apps/application.php?id=17895489176',\n",
       " 'facebook.com/policy.php',\n",
       " 'facebook.com/profile.php?id=789638867',\n",
       " 'facebook.com/pages/Ivoryton-CT/The-Ivoryton-Playhouse-Foundation/6553109986?ref=ts']"
      ]
     },
     "execution_count": 189,
     "metadata": {},
     "output_type": "execute_result"
    }
   ],
   "source": [
    "list(df.loc[df['domain'] == 'facebook.com', 'URL_n'])[0:5]"
   ]
  },
  {
   "cell_type": "markdown",
   "metadata": {},
   "source": [
    "### 71. cbc.ca"
   ]
  },
  {
   "cell_type": "markdown",
   "metadata": {},
   "source": [
    "Some parameters are removed."
   ]
  },
  {
   "cell_type": "code",
   "execution_count": 190,
   "metadata": {},
   "outputs": [
    {
     "data": {
      "text/plain": [
       "['cbc.ca/olympics/sports/skijumping/stories/index.shtml?/story/olympics/national/2006/01/01/Sports/jakub_janda060101.html',\n",
       " 'cbc.ca/canadavotes',\n",
       " 'cbc.ca/news/background/paris_riots',\n",
       " 'cbc.ca/canadavotes/riding/192',\n",
       " 'cbc.ca/canadavotes/riding/114']"
      ]
     },
     "execution_count": 190,
     "metadata": {},
     "output_type": "execute_result"
    }
   ],
   "source": [
    "list(df.loc[df['domain'] == 'cbc.ca', 'URL_n'])[0:5]"
   ]
  },
  {
   "cell_type": "code",
   "execution_count": 191,
   "metadata": {},
   "outputs": [],
   "source": [
    "df.loc[df['domain'] == 'cbc.ca', 'URL_n'] = [re.sub('#ixzz.*', '', x, flags=re.IGNORECASE) for x in df.loc[df['domain'] == 'cbc.ca', 'URL_n']]\n",
    "df.loc[df['domain'] == 'cbc.ca', 'URL_n'] = [re.sub('\\.html\\?(__vfz=|autoplay=|rss=|cmp=|ref=|print=|r=).*', '.html', x, flags=re.IGNORECASE) for x in df.loc[df['domain'] == 'cbc.ca', 'URL_n']]\n",
    "df.loc[df['domain'] == 'cbc.ca', 'URL_n'] = [re.sub('\\?(__vfz=|autoplay=|rss=|cmp=|ref=|print=|r=).*', '', x, flags=re.IGNORECASE) for x in df.loc[df['domain'] == 'cbc.ca', 'URL_n']]"
   ]
  },
  {
   "cell_type": "code",
   "execution_count": 192,
   "metadata": {},
   "outputs": [
    {
     "data": {
      "text/plain": [
       "['cbc.ca/olympics/sports/skijumping/stories/index.shtml?/story/olympics/national/2006/01/01/Sports/jakub_janda060101.html',\n",
       " 'cbc.ca/canadavotes',\n",
       " 'cbc.ca/news/background/paris_riots',\n",
       " 'cbc.ca/canadavotes/riding/192',\n",
       " 'cbc.ca/canadavotes/riding/114']"
      ]
     },
     "execution_count": 192,
     "metadata": {},
     "output_type": "execute_result"
    }
   ],
   "source": [
    "list(df.loc[df['domain'] == 'cbc.ca', 'URL_n'])[0:5]"
   ]
  },
  {
   "cell_type": "markdown",
   "metadata": {},
   "source": [
    "### 72. amazon.com"
   ]
  },
  {
   "cell_type": "markdown",
   "metadata": {},
   "source": [
    "ref= and keywords= can be removed not in all cases."
   ]
  },
  {
   "cell_type": "code",
   "execution_count": 193,
   "metadata": {},
   "outputs": [
    {
     "data": {
      "text/plain": [
       "['amazon.com/Nachume-Miller-Donald-B-Kuspit/dp/0913263206',\n",
       " 'amazon.com/gp/pdp/profile/A1LTNPL5JQN85U/104-3914805-7956713',\n",
       " 'amazon.com/Economic-Structures-of-Antiquity/dp/B000PY3KRQ',\n",
       " 'amazon.com/s?field-author=Milton%20V.%20Backman&ie=UTF8&index=books&page=1&search-type=ss',\n",
       " 'amazon.com/Childrens-Hospital-Chris-Adrian/dp/1932416609']"
      ]
     },
     "execution_count": 193,
     "metadata": {},
     "output_type": "execute_result"
    }
   ],
   "source": [
    "list(df.loc[df['domain'] == 'amazon.com', 'URL_n'])[0:5]"
   ]
  },
  {
   "cell_type": "code",
   "execution_count": 194,
   "metadata": {},
   "outputs": [],
   "source": [
    "df.loc[df['domain'] == 'amazon.com', 'URL_n'] = [re.sub('(\\?ie=|\\?_encoding=).*', '', x, flags=re.IGNORECASE) for x in df.loc[df['domain'] == 'amazon.com', 'URL_n']]\n",
    "df.loc[df['domain'] == 'amazon.com', 'URL_n'] = [re.sub('([0-9a-z]{2})(/ref=.*)', r'\\1', x, flags=re.IGNORECASE) for x in df.loc[df['domain'] == 'amazon.com', 'URL_n']]"
   ]
  },
  {
   "cell_type": "code",
   "execution_count": 195,
   "metadata": {},
   "outputs": [
    {
     "data": {
      "text/plain": [
       "['amazon.com/Nachume-Miller-Donald-B-Kuspit/dp/0913263206',\n",
       " 'amazon.com/gp/pdp/profile/A1LTNPL5JQN85U/104-3914805-7956713',\n",
       " 'amazon.com/Economic-Structures-of-Antiquity/dp/B000PY3KRQ',\n",
       " 'amazon.com/s?field-author=Milton%20V.%20Backman&ie=UTF8&index=books&page=1&search-type=ss',\n",
       " 'amazon.com/Childrens-Hospital-Chris-Adrian/dp/1932416609']"
      ]
     },
     "execution_count": 195,
     "metadata": {},
     "output_type": "execute_result"
    }
   ],
   "source": [
    "list(df.loc[df['domain'] == 'amazon.com', 'URL_n'])[0:5]"
   ]
  },
  {
   "cell_type": "markdown",
   "metadata": {},
   "source": [
    "### 73. espn.com"
   ]
  },
  {
   "cell_type": "markdown",
   "metadata": {},
   "source": [
    "No changes required."
   ]
  },
  {
   "cell_type": "code",
   "execution_count": 196,
   "metadata": {},
   "outputs": [
    {
     "data": {
      "text/plain": [
       "['espn.com/',\n",
       " 'espn.com/',\n",
       " 'espn.com/',\n",
       " 'espn.com/',\n",
       " 'espn.com/page2/s/1986/revisit/alcs.html']"
      ]
     },
     "execution_count": 196,
     "metadata": {},
     "output_type": "execute_result"
    }
   ],
   "source": [
    "list(df.loc[df['domain'] == 'espn.com', 'URL_n'])[0:5]"
   ]
  },
  {
   "cell_type": "markdown",
   "metadata": {},
   "source": [
    "### 74. latimes.com"
   ]
  },
  {
   "cell_type": "markdown",
   "metadata": {},
   "source": [
    "Some parameters are removed."
   ]
  },
  {
   "cell_type": "code",
   "execution_count": 197,
   "metadata": {},
   "outputs": [
    {
     "data": {
      "text/plain": [
       "['latimes.com/news/nationworld/nation/la-na-banker8jan08,0,1764103.story?coll=la-home-headlines&track=morenews',\n",
       " 'latimes.com/news/obituaries/la-me-pickett20jan20,0,2840087.story',\n",
       " 'latimes.com/news/obituaries/la-me-maynardsmith24apr24,0,6745983.story?coll=la-news-obituaries',\n",
       " 'latimes.com/news/science/la-sci-solarsail20jun20,1,2584884.story?coll=la-news-science&cset=true&ctrack=1',\n",
       " 'latimes.com/classified/realestate/printedition/la-re-guide23may23,0,1036326.story?coll=la-class-realestate']"
      ]
     },
     "execution_count": 197,
     "metadata": {},
     "output_type": "execute_result"
    }
   ],
   "source": [
    "list(df.loc[df['domain'] == 'latimes.com', 'URL_n'])[0:5]"
   ]
  },
  {
   "cell_type": "code",
   "execution_count": 198,
   "metadata": {},
   "outputs": [],
   "source": [
    "df.loc[df['domain'] == 'latimes.com', 'URL_n'] = [re.sub('(#axzz|#ixzz).*', '', x, flags=re.IGNORECASE) for x in df.loc[df['domain'] == 'latimes.com', 'URL_n']]\n",
    "df.loc[df['domain'] == 'latimes.com', 'URL_n'] = [re.sub('\\.html\\?(col|track|cset|_amp|outputType|barc|dlvrit).*#pag', '.html#pag', x, flags=re.IGNORECASE) for x in df.loc[df['domain'] == 'latimes.com', 'URL_n']]\n",
    "df.loc[df['domain'] == 'latimes.com', 'URL_n'] = [re.sub('\\.html\\?(col|track|cset|_amp|outputType|barc|dlvrit).*', '.html', x, flags=re.IGNORECASE) for x in df.loc[df['domain'] == 'latimes.com', 'URL_n']]\n",
    "df.loc[df['domain'] == 'latimes.com', 'URL_n'] = [re.sub('(\\?|\\.html\\?)(col|track|cset|_amp|outputType|barc|dlvrit).*', '', x, flags=re.IGNORECASE) for x in df.loc[df['domain'] == 'latimes.com', 'URL_n']]"
   ]
  },
  {
   "cell_type": "code",
   "execution_count": 199,
   "metadata": {},
   "outputs": [
    {
     "data": {
      "text/plain": [
       "['latimes.com/news/nationworld/nation/la-na-banker8jan08,0,1764103.story',\n",
       " 'latimes.com/news/obituaries/la-me-pickett20jan20,0,2840087.story',\n",
       " 'latimes.com/news/obituaries/la-me-maynardsmith24apr24,0,6745983.story',\n",
       " 'latimes.com/news/science/la-sci-solarsail20jun20,1,2584884.story',\n",
       " 'latimes.com/classified/realestate/printedition/la-re-guide23may23,0,1036326.story']"
      ]
     },
     "execution_count": 199,
     "metadata": {},
     "output_type": "execute_result"
    }
   ],
   "source": [
    "list(df.loc[df['domain'] == 'latimes.com', 'URL_n'])[0:5]"
   ]
  },
  {
   "cell_type": "markdown",
   "metadata": {},
   "source": [
    "### 75. usatoday.com "
   ]
  },
  {
   "cell_type": "markdown",
   "metadata": {},
   "source": [
    "Some parameters are removed."
   ]
  },
  {
   "cell_type": "code",
   "execution_count": 200,
   "metadata": {},
   "outputs": [
    {
     "data": {
      "text/plain": [
       "['usatoday.com/life/books/news/2006-07-17-magdalene-book_x.htm',\n",
       " 'usatoday.com/news/nation/2005-08-20-counter-protest_x.htm',\n",
       " 'usatoday.com/sports/college/football/2006-11-06-clock-loophole_x.htm?imw=Y',\n",
       " 'usatoday.com/sports/preps/football/2003-09-10-mckissick-milestone_x.htm',\n",
       " 'usatoday.com/sports/preps/football/2006-08-30-mckissick_x.htm']"
      ]
     },
     "execution_count": 200,
     "metadata": {},
     "output_type": "execute_result"
    }
   ],
   "source": [
    "list(df.loc[df['domain'] == 'usatoday.com', 'URL_n'])[0:5]"
   ]
  },
  {
   "cell_type": "code",
   "execution_count": 201,
   "metadata": {},
   "outputs": [],
   "source": [
    "df.loc[df['domain'] == 'usatoday.com', 'URL_n'] = [re.sub('\\.htm\\?(POE=|loc|csp=|dlvrit=).*#', '.htm#', x, flags=re.IGNORECASE) for x in df.loc[df['domain'] == 'usatoday.com', 'URL_n']]\n",
    "df.loc[df['domain'] == 'usatoday.com', 'URL_n'] = [re.sub('\\.htm\\?(POE=|loc|csp=|dlvrit=).*', '.htm', x, flags=re.IGNORECASE) for x in df.loc[df['domain'] == 'usatoday.com', 'URL_n']]\n",
    "df.loc[df['domain'] == 'usatoday.com', 'URL_n'] = [re.sub('(/\\?|/1\\?)(POE=|loc|csp=|dlvrit=).*', '', x, flags=re.IGNORECASE) for x in df.loc[df['domain'] == 'usatoday.com', 'URL_n']]"
   ]
  },
  {
   "cell_type": "code",
   "execution_count": 202,
   "metadata": {},
   "outputs": [
    {
     "data": {
      "text/plain": [
       "['usatoday.com/life/books/news/2006-07-17-magdalene-book_x.htm',\n",
       " 'usatoday.com/news/nation/2005-08-20-counter-protest_x.htm',\n",
       " 'usatoday.com/sports/college/football/2006-11-06-clock-loophole_x.htm?imw=Y',\n",
       " 'usatoday.com/sports/preps/football/2003-09-10-mckissick-milestone_x.htm',\n",
       " 'usatoday.com/sports/preps/football/2006-08-30-mckissick_x.htm']"
      ]
     },
     "execution_count": 202,
     "metadata": {},
     "output_type": "execute_result"
    }
   ],
   "source": [
    "list(df.loc[df['domain'] == 'usatoday.com', 'URL_n'])[0:5]"
   ]
  },
  {
   "cell_type": "markdown",
   "metadata": {},
   "source": [
    "### 76. rollingstone.com"
   ]
  },
  {
   "cell_type": "markdown",
   "metadata": {},
   "source": [
    "Similar to hollywoodreporter."
   ]
  },
  {
   "cell_type": "code",
   "execution_count": 203,
   "metadata": {},
   "outputs": [
    {
     "data": {
      "text/plain": [
       "['rollingstone.com/reviews/cd/review.asp?aid=12318&cf=',\n",
       " 'rollingstone.com/artists/theflaminglips/albums/album/88623/review/5946762/finally_the_punk_rockers_are_taking_acid_198388',\n",
       " 'rollingstone.com/rockdaily/index.php/2006/09/22/rs-exclusive-download-the-oohlas-tripped',\n",
       " 'rollingstone.com/',\n",
       " 'rollingstone.com/']"
      ]
     },
     "execution_count": 203,
     "metadata": {},
     "output_type": "execute_result"
    }
   ],
   "source": [
    "list(df.loc[df['domain'] == 'rollingstone.com', 'URL_n'])[0:5]"
   ]
  },
  {
   "cell_type": "code",
   "execution_count": 204,
   "metadata": {},
   "outputs": [],
   "source": [
    "df.loc[df['domain'] == 'rollingstone.com', 'URL_n'] = [re.sub('#ixzz.*', '', x, flags=re.IGNORECASE) for x in df.loc[df['domain'] == 'rollingstone.com', 'URL_n']]\n",
    "df.loc[df['domain'] == 'rollingstone.com', 'URL_n'] = [re.sub('\\?source.*', '', x, flags=re.IGNORECASE) for x in df.loc[df['domain'] == 'rollingstone.com', 'URL_n']]"
   ]
  },
  {
   "cell_type": "code",
   "execution_count": 205,
   "metadata": {},
   "outputs": [
    {
     "data": {
      "text/plain": [
       "['rollingstone.com/reviews/cd/review.asp?aid=12318&cf=',\n",
       " 'rollingstone.com/artists/theflaminglips/albums/album/88623/review/5946762/finally_the_punk_rockers_are_taking_acid_198388',\n",
       " 'rollingstone.com/rockdaily/index.php/2006/09/22/rs-exclusive-download-the-oohlas-tripped',\n",
       " 'rollingstone.com/',\n",
       " 'rollingstone.com/']"
      ]
     },
     "execution_count": 205,
     "metadata": {},
     "output_type": "execute_result"
    }
   ],
   "source": [
    "list(df.loc[df['domain'] == 'rollingstone.com', 'URL_n'])[0:5]"
   ]
  },
  {
   "cell_type": "markdown",
   "metadata": {},
   "source": [
    "### 77. smh.com.au"
   ]
  },
  {
   "cell_type": "markdown",
   "metadata": {},
   "source": [
    "Some parameters are removed."
   ]
  },
  {
   "cell_type": "code",
   "execution_count": 206,
   "metadata": {},
   "outputs": [
    {
     "data": {
      "text/plain": [
       "['smh.com.au/news/national/wall-street-comes-to-campus/2005/09/30/1127804663283.html',\n",
       " 'smh.com.au/news/sport/dale-begs-the-question-can-australia-win-a-mogul-medal-in-turin/2006/01/23/1137864864166.html',\n",
       " 'smh.com.au/articles/2004/05/19/1084917645003.html?from=storyrhs',\n",
       " 'smh.com.au/news/national/granny-killer-found-dead-in-cell/2005/09/09/1125772681493.html',\n",
       " 'smh.com.au/news/national/mystery-woman-pays-for-killers-funeral/2005/09/17/1126750168519.html']"
      ]
     },
     "execution_count": 206,
     "metadata": {},
     "output_type": "execute_result"
    }
   ],
   "source": [
    "list(df.loc[df['domain'] == 'smh.com.au', 'URL_n'])[0:5]"
   ]
  },
  {
   "cell_type": "code",
   "execution_count": 207,
   "metadata": {},
   "outputs": [],
   "source": [
    "df.loc[df['domain'] == 'smh.com.au', 'URL_n'] = [re.sub('#ixzz.*', '', x, flags=re.IGNORECASE) for x in df.loc[df['domain'] == 'smh.com.au', 'URL_n']]\n",
    "df.loc[df['domain'] == 'smh.com.au', 'URL_n'] = [re.sub('\\.html\\?(from=|skin=|oneclick=|s_cid=|autostart=|rand=|feed=|fbclid=|deviceType=|ref=).*#', '.html#', x, flags=re.IGNORECASE) for x in df.loc[df['domain'] == 'smh.com.au', 'URL_n']]\n",
    "df.loc[df['domain'] == 'smh.com.au', 'URL_n'] = [re.sub('\\.html\\?(from=|skin=|oneclick=|s_cid=|autostart=|rand=|feed=|fbclid=|deviceType=|ref=).*', '.html', x, flags=re.IGNORECASE) for x in df.loc[df['domain'] == 'smh.com.au', 'URL_n']]"
   ]
  },
  {
   "cell_type": "code",
   "execution_count": 208,
   "metadata": {},
   "outputs": [
    {
     "data": {
      "text/plain": [
       "['smh.com.au/news/national/wall-street-comes-to-campus/2005/09/30/1127804663283.html',\n",
       " 'smh.com.au/news/sport/dale-begs-the-question-can-australia-win-a-mogul-medal-in-turin/2006/01/23/1137864864166.html',\n",
       " 'smh.com.au/articles/2004/05/19/1084917645003.html',\n",
       " 'smh.com.au/news/national/granny-killer-found-dead-in-cell/2005/09/09/1125772681493.html',\n",
       " 'smh.com.au/news/national/mystery-woman-pays-for-killers-funeral/2005/09/17/1126750168519.html']"
      ]
     },
     "execution_count": 208,
     "metadata": {},
     "output_type": "execute_result"
    }
   ],
   "source": [
    "list(df.loc[df['domain'] == 'smh.com.au', 'URL_n'])[0:5]"
   ]
  },
  {
   "cell_type": "markdown",
   "metadata": {},
   "source": [
    "### 78. forbes.com"
   ]
  },
  {
   "cell_type": "markdown",
   "metadata": {},
   "source": [
    "Some paremeters such as list= can be removed but the page changes."
   ]
  },
  {
   "cell_type": "code",
   "execution_count": 209,
   "metadata": {},
   "outputs": [
    {
     "data": {
      "text/plain": [
       "['forbes.com/',\n",
       " 'forbes.com/finance/mktguideapps/personinfo/FromPersonIdPersonTearsheet.jhtml?passedPersonId=938304',\n",
       " 'forbes.com/technology/2004/03/04/cz_jw_0304soapbox.html',\n",
       " 'forbes.com/finance/mktguideapps/personinfo/FromPersonIdPersonTearsheet.jhtml?passedPersonId=1106729',\n",
       " 'forbes.com/finance/mktguideapps/personinfo/FromPersonIdPersonTearsheet.jhtml?passedPersonId=895590']"
      ]
     },
     "execution_count": 209,
     "metadata": {},
     "output_type": "execute_result"
    }
   ],
   "source": [
    "list(df.loc[df['domain'] == 'forbes.com', 'URL_n'])[0:5]"
   ]
  },
  {
   "cell_type": "code",
   "execution_count": 210,
   "metadata": {},
   "outputs": [],
   "source": [
    "df.loc[df['domain'] == 'forbes.com', 'URL_n'] = [re.sub('(/*)#[a-z0-9]{12}.*', '', x, flags=re.IGNORECASE) for x in df.loc[df['domain'] == 'forbes.com', 'URL_n']]\n",
    "df.loc[df['domain'] == 'forbes.com', 'URL_n'] = [re.sub('\\.html\\?(thisSpeed=|c=|boxes=).*#', '.html#', x, flags=re.IGNORECASE) for x in df.loc[df['domain'] == 'forbes.com', 'URL_n']]\n",
    "df.loc[df['domain'] == 'forbes.com', 'URL_n'] = [re.sub('\\.html\\?(thisSpeed=|c=|boxes=).*', '.html', x, flags=re.IGNORECASE) for x in df.loc[df['domain'] == 'forbes.com', 'URL_n']]\n",
    "df.loc[df['domain'] == 'forbes.com', 'URL_n'] = [re.sub('(/*)\\?(thisSpeed=|c=|boxes=).*#', '#', x, flags=re.IGNORECASE) for x in df.loc[df['domain'] == 'forbes.com', 'URL_n']]\n",
    "df.loc[df['domain'] == 'forbes.com', 'URL_n'] = [re.sub('(/*)\\?(thisSpeed=|c=|boxes=).*', '', x, flags=re.IGNORECASE) for x in df.loc[df['domain'] == 'forbes.com', 'URL_n']]"
   ]
  },
  {
   "cell_type": "code",
   "execution_count": 211,
   "metadata": {},
   "outputs": [
    {
     "data": {
      "text/plain": [
       "['forbes.com/',\n",
       " 'forbes.com/finance/mktguideapps/personinfo/FromPersonIdPersonTearsheet.jhtml?passedPersonId=938304',\n",
       " 'forbes.com/technology/2004/03/04/cz_jw_0304soapbox.html',\n",
       " 'forbes.com/finance/mktguideapps/personinfo/FromPersonIdPersonTearsheet.jhtml?passedPersonId=1106729',\n",
       " 'forbes.com/finance/mktguideapps/personinfo/FromPersonIdPersonTearsheet.jhtml?passedPersonId=895590']"
      ]
     },
     "execution_count": 211,
     "metadata": {},
     "output_type": "execute_result"
    }
   ],
   "source": [
    "list(df.loc[df['domain'] == 'forbes.com', 'URL_n'])[0:5]"
   ]
  },
  {
   "cell_type": "markdown",
   "metadata": {},
   "source": [
    "### 79. cnn.com"
   ]
  },
  {
   "cell_type": "markdown",
   "metadata": {},
   "source": [
    "Some parameters are removed."
   ]
  },
  {
   "cell_type": "code",
   "execution_count": 212,
   "metadata": {},
   "outputs": [
    {
     "data": {
      "text/plain": [
       "['cnn.com/2006/LAW/01/12/vermont.judge.ap',\n",
       " 'cnn.com/2003/EDUCATION/08/01/student.tracking/index.html',\n",
       " 'cnn.com/2006/POLITICS/01/03/abramoff.fallout',\n",
       " 'cnn.com/2006/POLITICS/01/04/lobbyist.fraud.ap/index.html',\n",
       " 'cnn.com/2005/LAW/03/11/atlanta.shooting/index.html']"
      ]
     },
     "execution_count": 212,
     "metadata": {},
     "output_type": "execute_result"
    }
   ],
   "source": [
    "list(df.loc[df['domain'] == 'cnn.com', 'URL_n'])[0:5]"
   ]
  },
  {
   "cell_type": "code",
   "execution_count": 213,
   "metadata": {},
   "outputs": [],
   "source": [
    "df.loc[df['domain'] == 'cnn.com', 'URL_n'] = [re.sub('(\\?|&)hpt=[a-z0-9_]+$', '', x, flags=re.IGNORECASE) for x in df.loc[df['domain'] == 'cnn.com', 'URL_n']]\n",
    "df.loc[df['domain'] == 'cnn.com', 'URL_n'] = [re.sub('(\\?|&)(eref|iref|section|_S)=.*', '', x, flags=re.IGNORECASE) for x in df.loc[df['domain'] == 'cnn.com', 'URL_n']]"
   ]
  },
  {
   "cell_type": "code",
   "execution_count": 214,
   "metadata": {},
   "outputs": [
    {
     "data": {
      "text/plain": [
       "['cnn.com/2006/LAW/01/12/vermont.judge.ap',\n",
       " 'cnn.com/2003/EDUCATION/08/01/student.tracking/index.html',\n",
       " 'cnn.com/2006/POLITICS/01/03/abramoff.fallout',\n",
       " 'cnn.com/2006/POLITICS/01/04/lobbyist.fraud.ap/index.html',\n",
       " 'cnn.com/2005/LAW/03/11/atlanta.shooting/index.html']"
      ]
     },
     "execution_count": 214,
     "metadata": {},
     "output_type": "execute_result"
    }
   ],
   "source": [
    "list(df.loc[df['domain'] == 'cnn.com', 'URL_n'])[0:5]"
   ]
  },
  {
   "cell_type": "markdown",
   "metadata": {},
   "source": [
    "## Final"
   ]
  },
  {
   "cell_type": "code",
   "execution_count": 216,
   "metadata": {},
   "outputs": [],
   "source": [
    "df['URL_n'] = [re.sub('(/+$|&+$|\\?+$)', '', x) for x in df['URL_n']]\n",
    "df['URL_n'] = [re.sub('(/+$|&+$|\\?+$)', '', x) for x in df['URL_n']]\n",
    "df['URL_n'] = [re.sub('(/+$|&+$|\\?+$)', '', x) for x in df['URL_n']]"
   ]
  },
  {
   "cell_type": "code",
   "execution_count": 219,
   "metadata": {},
   "outputs": [
    {
     "data": {
      "text/html": [
       "<div>\n",
       "<style scoped>\n",
       "    .dataframe tbody tr th:only-of-type {\n",
       "        vertical-align: middle;\n",
       "    }\n",
       "\n",
       "    .dataframe tbody tr th {\n",
       "        vertical-align: top;\n",
       "    }\n",
       "\n",
       "    .dataframe thead th {\n",
       "        text-align: right;\n",
       "    }\n",
       "</style>\n",
       "<table border=\"1\" class=\"dataframe\">\n",
       "  <thead>\n",
       "    <tr style=\"text-align: right;\">\n",
       "      <th></th>\n",
       "      <th>page_id</th>\n",
       "      <th>URL</th>\n",
       "      <th>URL_n</th>\n",
       "      <th>domain</th>\n",
       "    </tr>\n",
       "  </thead>\n",
       "  <tbody>\n",
       "    <tr>\n",
       "      <th>0</th>\n",
       "      <td>3850540</td>\n",
       "      <td>http://www.housing.berkeley.edu/housing/</td>\n",
       "      <td>housing.berkeley.edu/housing</td>\n",
       "      <td>housing.berkeley.edu</td>\n",
       "    </tr>\n",
       "    <tr>\n",
       "      <th>1</th>\n",
       "      <td>3850540</td>\n",
       "      <td>http://www.freebornhall.com/History/ResidenceH...</td>\n",
       "      <td>freebornhall.com/History/ResidenceHalls</td>\n",
       "      <td>freebornhall.com</td>\n",
       "    </tr>\n",
       "    <tr>\n",
       "      <th>4</th>\n",
       "      <td>840171</td>\n",
       "      <td>http://www.kloster-einsiedeln.ch</td>\n",
       "      <td>kloster-einsiedeln.ch</td>\n",
       "      <td>kloster-einsiedeln.ch</td>\n",
       "    </tr>\n",
       "    <tr>\n",
       "      <th>5</th>\n",
       "      <td>1290279</td>\n",
       "      <td>http://www.erbzine.com/mag1/0117.html</td>\n",
       "      <td>erbzine.com/mag1/0117.html</td>\n",
       "      <td>erbzine.com</td>\n",
       "    </tr>\n",
       "    <tr>\n",
       "      <th>6</th>\n",
       "      <td>3856533</td>\n",
       "      <td>http://freepages.genealogy.rootsweb.com/~vanrc...</td>\n",
       "      <td>freepages.genealogy.rootsweb.com/~vanrcwisner/...</td>\n",
       "      <td>freepages.genealogy.rootsweb.com</td>\n",
       "    </tr>\n",
       "  </tbody>\n",
       "</table>\n",
       "</div>"
      ],
      "text/plain": [
       "   page_id                                                URL  \\\n",
       "0  3850540           http://www.housing.berkeley.edu/housing/   \n",
       "1  3850540  http://www.freebornhall.com/History/ResidenceH...   \n",
       "4   840171                   http://www.kloster-einsiedeln.ch   \n",
       "5  1290279              http://www.erbzine.com/mag1/0117.html   \n",
       "6  3856533  http://freepages.genealogy.rootsweb.com/~vanrc...   \n",
       "\n",
       "                                               URL_n  \\\n",
       "0                       housing.berkeley.edu/housing   \n",
       "1            freebornhall.com/History/ResidenceHalls   \n",
       "4                              kloster-einsiedeln.ch   \n",
       "5                         erbzine.com/mag1/0117.html   \n",
       "6  freepages.genealogy.rootsweb.com/~vanrcwisner/...   \n",
       "\n",
       "                             domain  \n",
       "0              housing.berkeley.edu  \n",
       "1                  freebornhall.com  \n",
       "4             kloster-einsiedeln.ch  \n",
       "5                       erbzine.com  \n",
       "6  freepages.genealogy.rootsweb.com  "
      ]
     },
     "execution_count": 219,
     "metadata": {},
     "output_type": "execute_result"
    }
   ],
   "source": [
    "df = df.rename(columns={'el_from': 'page_id', 'el_to': 'URL'})\n",
    "df.head()"
   ]
  },
  {
   "cell_type": "markdown",
   "metadata": {},
   "source": [
    "There are 51,263,816 unique URLs."
   ]
  },
  {
   "cell_type": "code",
   "execution_count": 220,
   "metadata": {},
   "outputs": [
    {
     "data": {
      "text/plain": [
       "51263816"
      ]
     },
     "execution_count": 220,
     "metadata": {},
     "output_type": "execute_result"
    }
   ],
   "source": [
    "len(df.groupby('URL_n').count().index)"
   ]
  },
  {
   "cell_type": "code",
   "execution_count": 221,
   "metadata": {},
   "outputs": [],
   "source": [
    "df.to_csv('url_normalization/url_ext_norm.tsv', sep='\\t', index=False)"
   ]
  }
 ],
 "metadata": {
  "kernelspec": {
   "display_name": "Python 3 (ipykernel)",
   "language": "python",
   "name": "python3"
  },
  "language_info": {
   "codemirror_mode": {
    "name": "ipython",
    "version": 3
   },
   "file_extension": ".py",
   "mimetype": "text/x-python",
   "name": "python",
   "nbconvert_exporter": "python",
   "pygments_lexer": "ipython3",
   "version": "3.8.8"
  }
 },
 "nbformat": 4,
 "nbformat_minor": 4
}
