{
 "cells": [
  {
   "cell_type": "markdown",
   "metadata": {},
   "source": [
    "# URL normalization (references)"
   ]
  },
  {
   "cell_type": "markdown",
   "metadata": {},
   "source": [
    "In this Notebook, the normalization of external URLs included in references is carried out."
   ]
  },
  {
   "cell_type": "code",
   "execution_count": 1,
   "metadata": {},
   "outputs": [],
   "source": [
    "import re\n",
    "import urllib\n",
    "from url_normalize import url_normalize\n",
    "from scrapy.utils.url import canonicalize_url\n",
    "import pandas as pd"
   ]
  },
  {
   "cell_type": "markdown",
   "metadata": {},
   "source": [
    "# 0. Import the dataset"
   ]
  },
  {
   "cell_type": "markdown",
   "metadata": {},
   "source": [
    "Before applying the whole transformation process, a small test of the packages is carried out with the Wikipedia data. The dataset is composed by 29,276,667 rows."
   ]
  },
  {
   "cell_type": "code",
   "execution_count": 2,
   "metadata": {},
   "outputs": [
    {
     "data": {
      "text/html": [
       "<div>\n",
       "<style scoped>\n",
       "    .dataframe tbody tr th:only-of-type {\n",
       "        vertical-align: middle;\n",
       "    }\n",
       "\n",
       "    .dataframe tbody tr th {\n",
       "        vertical-align: top;\n",
       "    }\n",
       "\n",
       "    .dataframe thead th {\n",
       "        text-align: right;\n",
       "    }\n",
       "</style>\n",
       "<table border=\"1\" class=\"dataframe\">\n",
       "  <thead>\n",
       "    <tr style=\"text-align: right;\">\n",
       "      <th></th>\n",
       "      <th>id</th>\n",
       "      <th>type_of_citation</th>\n",
       "      <th>TitleType</th>\n",
       "      <th>Title</th>\n",
       "      <th>ID_list</th>\n",
       "      <th>URL</th>\n",
       "      <th>updated_identifier</th>\n",
       "    </tr>\n",
       "  </thead>\n",
       "  <tbody>\n",
       "    <tr>\n",
       "      <th>0</th>\n",
       "      <td>39495284</td>\n",
       "      <td>citation</td>\n",
       "      <td>NaN</td>\n",
       "      <td>Manhattan in 1628 as Described in the Recently...</td>\n",
       "      <td>NaN</td>\n",
       "      <td>http://www.columbia.edu/cu/lweb/digital/collec...</td>\n",
       "      <td>NaN</td>\n",
       "    </tr>\n",
       "    <tr>\n",
       "      <th>1</th>\n",
       "      <td>3528721</td>\n",
       "      <td>citation</td>\n",
       "      <td>NaN</td>\n",
       "      <td>Kikwete Wins Election By the Biggest Margin Ever</td>\n",
       "      <td>NaN</td>\n",
       "      <td>http://allafrica.com/stories/200512190886.html</td>\n",
       "      <td>NaN</td>\n",
       "    </tr>\n",
       "    <tr>\n",
       "      <th>2</th>\n",
       "      <td>17005434</td>\n",
       "      <td>citation</td>\n",
       "      <td>NaN</td>\n",
       "      <td>The Romance of Arthur</td>\n",
       "      <td>NaN</td>\n",
       "      <td>NaN</td>\n",
       "      <td>NaN</td>\n",
       "    </tr>\n",
       "    <tr>\n",
       "      <th>3</th>\n",
       "      <td>8552398</td>\n",
       "      <td>citation</td>\n",
       "      <td>NaN</td>\n",
       "      <td>The Thin Red Line</td>\n",
       "      <td>NaN</td>\n",
       "      <td>https://www.nytimes.com/1997/07/27/magazine/th...</td>\n",
       "      <td>NaN</td>\n",
       "    </tr>\n",
       "    <tr>\n",
       "      <th>4</th>\n",
       "      <td>23782313</td>\n",
       "      <td>citation</td>\n",
       "      <td>NaN</td>\n",
       "      <td>Skin Deep but Filled With Significance</td>\n",
       "      <td>NaN</td>\n",
       "      <td>https://www.nytimes.com/2005/07/19/arts/televi...</td>\n",
       "      <td>NaN</td>\n",
       "    </tr>\n",
       "    <tr>\n",
       "      <th>...</th>\n",
       "      <td>...</td>\n",
       "      <td>...</td>\n",
       "      <td>...</td>\n",
       "      <td>...</td>\n",
       "      <td>...</td>\n",
       "      <td>...</td>\n",
       "      <td>...</td>\n",
       "    </tr>\n",
       "    <tr>\n",
       "      <th>29276662</th>\n",
       "      <td>54814519</td>\n",
       "      <td>soccerbase season</td>\n",
       "      <td>NaN</td>\n",
       "      <td>NaN</td>\n",
       "      <td>NaN</td>\n",
       "      <td>NaN</td>\n",
       "      <td>NaN</td>\n",
       "    </tr>\n",
       "    <tr>\n",
       "      <th>29276663</th>\n",
       "      <td>59566627</td>\n",
       "      <td>soccerbase season</td>\n",
       "      <td>NaN</td>\n",
       "      <td>NaN</td>\n",
       "      <td>NaN</td>\n",
       "      <td>NaN</td>\n",
       "      <td>NaN</td>\n",
       "    </tr>\n",
       "    <tr>\n",
       "      <th>29276664</th>\n",
       "      <td>55285198</td>\n",
       "      <td>soccerbase season</td>\n",
       "      <td>NaN</td>\n",
       "      <td>NaN</td>\n",
       "      <td>NaN</td>\n",
       "      <td>NaN</td>\n",
       "      <td>NaN</td>\n",
       "    </tr>\n",
       "    <tr>\n",
       "      <th>29276665</th>\n",
       "      <td>55285198</td>\n",
       "      <td>soccerbase season</td>\n",
       "      <td>NaN</td>\n",
       "      <td>NaN</td>\n",
       "      <td>NaN</td>\n",
       "      <td>NaN</td>\n",
       "      <td>NaN</td>\n",
       "    </tr>\n",
       "    <tr>\n",
       "      <th>29276666</th>\n",
       "      <td>3500262</td>\n",
       "      <td>soccerbase season</td>\n",
       "      <td>NaN</td>\n",
       "      <td>NaN</td>\n",
       "      <td>NaN</td>\n",
       "      <td>NaN</td>\n",
       "      <td>NaN</td>\n",
       "    </tr>\n",
       "  </tbody>\n",
       "</table>\n",
       "<p>29276667 rows × 7 columns</p>\n",
       "</div>"
      ],
      "text/plain": [
       "                id   type_of_citation TitleType  \\\n",
       "0         39495284           citation       NaN   \n",
       "1          3528721           citation       NaN   \n",
       "2         17005434           citation       NaN   \n",
       "3          8552398           citation       NaN   \n",
       "4         23782313           citation       NaN   \n",
       "...            ...                ...       ...   \n",
       "29276662  54814519  soccerbase season       NaN   \n",
       "29276663  59566627  soccerbase season       NaN   \n",
       "29276664  55285198  soccerbase season       NaN   \n",
       "29276665  55285198  soccerbase season       NaN   \n",
       "29276666   3500262  soccerbase season       NaN   \n",
       "\n",
       "                                                      Title ID_list  \\\n",
       "0         Manhattan in 1628 as Described in the Recently...     NaN   \n",
       "1          Kikwete Wins Election By the Biggest Margin Ever     NaN   \n",
       "2                                     The Romance of Arthur     NaN   \n",
       "3                                         The Thin Red Line     NaN   \n",
       "4                    Skin Deep but Filled With Significance     NaN   \n",
       "...                                                     ...     ...   \n",
       "29276662                                                NaN     NaN   \n",
       "29276663                                                NaN     NaN   \n",
       "29276664                                                NaN     NaN   \n",
       "29276665                                                NaN     NaN   \n",
       "29276666                                                NaN     NaN   \n",
       "\n",
       "                                                        URL updated_identifier  \n",
       "0         http://www.columbia.edu/cu/lweb/digital/collec...                NaN  \n",
       "1            http://allafrica.com/stories/200512190886.html                NaN  \n",
       "2                                                       NaN                NaN  \n",
       "3         https://www.nytimes.com/1997/07/27/magazine/th...                NaN  \n",
       "4         https://www.nytimes.com/2005/07/19/arts/televi...                NaN  \n",
       "...                                                     ...                ...  \n",
       "29276662                                                NaN                NaN  \n",
       "29276663                                                NaN                NaN  \n",
       "29276664                                                NaN                NaN  \n",
       "29276665                                                NaN                NaN  \n",
       "29276666                                                NaN                NaN  \n",
       "\n",
       "[29276667 rows x 7 columns]"
      ]
     },
     "execution_count": 2,
     "metadata": {},
     "output_type": "execute_result"
    }
   ],
   "source": [
    "df = pd.read_csv('references/ref_data.csv')\n",
    "df"
   ]
  },
  {
   "cell_type": "markdown",
   "metadata": {},
   "source": [
    "These are the external links included in the Wikipedia page of The Strokes."
   ]
  },
  {
   "cell_type": "code",
   "execution_count": 3,
   "metadata": {},
   "outputs": [
    {
     "data": {
      "text/html": [
       "<div>\n",
       "<style scoped>\n",
       "    .dataframe tbody tr th:only-of-type {\n",
       "        vertical-align: middle;\n",
       "    }\n",
       "\n",
       "    .dataframe tbody tr th {\n",
       "        vertical-align: top;\n",
       "    }\n",
       "\n",
       "    .dataframe thead th {\n",
       "        text-align: right;\n",
       "    }\n",
       "</style>\n",
       "<table border=\"1\" class=\"dataframe\">\n",
       "  <thead>\n",
       "    <tr style=\"text-align: right;\">\n",
       "      <th></th>\n",
       "      <th>id</th>\n",
       "      <th>type_of_citation</th>\n",
       "      <th>TitleType</th>\n",
       "      <th>Title</th>\n",
       "      <th>ID_list</th>\n",
       "      <th>URL</th>\n",
       "      <th>updated_identifier</th>\n",
       "    </tr>\n",
       "  </thead>\n",
       "  <tbody>\n",
       "    <tr>\n",
       "      <th>268813</th>\n",
       "      <td>148546</td>\n",
       "      <td>cite web</td>\n",
       "      <td>NaN</td>\n",
       "      <td>The Strokes\\' \"Disagreement\" Over New Album \\u...</td>\n",
       "      <td>NaN</td>\n",
       "      <td>http://www.clashmusic.com/news/the-strokes-dis...</td>\n",
       "      <td>NaN</td>\n",
       "    </tr>\n",
       "    <tr>\n",
       "      <th>289085</th>\n",
       "      <td>148546</td>\n",
       "      <td>cite web</td>\n",
       "      <td>NaN</td>\n",
       "      <td>The Strokes Go New Wave on Latest Single \\u201...</td>\n",
       "      <td>NaN</td>\n",
       "      <td>https://www.rollingstone.com/music/music-news/...</td>\n",
       "      <td>NaN</td>\n",
       "    </tr>\n",
       "    <tr>\n",
       "      <th>353357</th>\n",
       "      <td>148546</td>\n",
       "      <td>cite news</td>\n",
       "      <td>NaN</td>\n",
       "      <td>The Strokes join Blur and Taylor Swift to head...</td>\n",
       "      <td>NaN</td>\n",
       "      <td>https://www.independent.co.uk/arts-entertainme...</td>\n",
       "      <td>NaN</td>\n",
       "    </tr>\n",
       "    <tr>\n",
       "      <th>423840</th>\n",
       "      <td>148546</td>\n",
       "      <td>cite web</td>\n",
       "      <td>NaN</td>\n",
       "      <td>The Strokes Return / Music / ShortList Magazine</td>\n",
       "      <td>NaN</td>\n",
       "      <td>http://www.shortlist.com/entertainment/music/a...</td>\n",
       "      <td>NaN</td>\n",
       "    </tr>\n",
       "    <tr>\n",
       "      <th>1019943</th>\n",
       "      <td>148546</td>\n",
       "      <td>cite web</td>\n",
       "      <td>NaN</td>\n",
       "      <td>The Strokes hit the studio to work on 'new ideas'</td>\n",
       "      <td>NaN</td>\n",
       "      <td>https://www.nme.com/news/the-strokes/56306</td>\n",
       "      <td>NaN</td>\n",
       "    </tr>\n",
       "    <tr>\n",
       "      <th>...</th>\n",
       "      <td>...</td>\n",
       "      <td>...</td>\n",
       "      <td>...</td>\n",
       "      <td>...</td>\n",
       "      <td>...</td>\n",
       "      <td>...</td>\n",
       "      <td>...</td>\n",
       "    </tr>\n",
       "    <tr>\n",
       "      <th>28927798</th>\n",
       "      <td>148546</td>\n",
       "      <td>cite web</td>\n",
       "      <td>NaN</td>\n",
       "      <td>Interview with Joe Chiccarelli</td>\n",
       "      <td>NaN</td>\n",
       "      <td>http://www.hitquarters.com/index.php3?page=int...</td>\n",
       "      <td>NaN</td>\n",
       "    </tr>\n",
       "    <tr>\n",
       "      <th>28970881</th>\n",
       "      <td>148546</td>\n",
       "      <td>cite web</td>\n",
       "      <td>NaN</td>\n",
       "      <td>Archived copy</td>\n",
       "      <td>NaN</td>\n",
       "      <td>http://www.thestrokes.com/us/event/2015/10/02/...</td>\n",
       "      <td>NaN</td>\n",
       "    </tr>\n",
       "    <tr>\n",
       "      <th>29089418</th>\n",
       "      <td>148546</td>\n",
       "      <td>cite web</td>\n",
       "      <td>NaN</td>\n",
       "      <td>Details: New Strokes Album On The Way</td>\n",
       "      <td>NaN</td>\n",
       "      <td>http://www.1077theend.com/Details--New-Strokes...</td>\n",
       "      <td>NaN</td>\n",
       "    </tr>\n",
       "    <tr>\n",
       "      <th>29139876</th>\n",
       "      <td>148546</td>\n",
       "      <td>cite news</td>\n",
       "      <td>NaN</td>\n",
       "      <td>Watch The Strokes play the \"biggest show\" of t...</td>\n",
       "      <td>NaN</td>\n",
       "      <td>https://www.nme.com/news/music/the-strokes-big...</td>\n",
       "      <td>NaN</td>\n",
       "    </tr>\n",
       "    <tr>\n",
       "      <th>29272602</th>\n",
       "      <td>148546</td>\n",
       "      <td>cite web</td>\n",
       "      <td>NaN</td>\n",
       "      <td>The Strokes begin recording fourth album with ...</td>\n",
       "      <td>NaN</td>\n",
       "      <td>https://www.nme.com/news/the-strokes/49559</td>\n",
       "      <td>NaN</td>\n",
       "    </tr>\n",
       "  </tbody>\n",
       "</table>\n",
       "<p>68 rows × 7 columns</p>\n",
       "</div>"
      ],
      "text/plain": [
       "              id type_of_citation TitleType  \\\n",
       "268813    148546         cite web       NaN   \n",
       "289085    148546         cite web       NaN   \n",
       "353357    148546        cite news       NaN   \n",
       "423840    148546         cite web       NaN   \n",
       "1019943   148546         cite web       NaN   \n",
       "...          ...              ...       ...   \n",
       "28927798  148546         cite web       NaN   \n",
       "28970881  148546         cite web       NaN   \n",
       "29089418  148546         cite web       NaN   \n",
       "29139876  148546        cite news       NaN   \n",
       "29272602  148546         cite web       NaN   \n",
       "\n",
       "                                                      Title ID_list  \\\n",
       "268813    The Strokes\\' \"Disagreement\" Over New Album \\u...     NaN   \n",
       "289085    The Strokes Go New Wave on Latest Single \\u201...     NaN   \n",
       "353357    The Strokes join Blur and Taylor Swift to head...     NaN   \n",
       "423840      The Strokes Return / Music / ShortList Magazine     NaN   \n",
       "1019943   The Strokes hit the studio to work on 'new ideas'     NaN   \n",
       "...                                                     ...     ...   \n",
       "28927798                     Interview with Joe Chiccarelli     NaN   \n",
       "28970881                                      Archived copy     NaN   \n",
       "29089418              Details: New Strokes Album On The Way     NaN   \n",
       "29139876  Watch The Strokes play the \"biggest show\" of t...     NaN   \n",
       "29272602  The Strokes begin recording fourth album with ...     NaN   \n",
       "\n",
       "                                                        URL updated_identifier  \n",
       "268813    http://www.clashmusic.com/news/the-strokes-dis...                NaN  \n",
       "289085    https://www.rollingstone.com/music/music-news/...                NaN  \n",
       "353357    https://www.independent.co.uk/arts-entertainme...                NaN  \n",
       "423840    http://www.shortlist.com/entertainment/music/a...                NaN  \n",
       "1019943          https://www.nme.com/news/the-strokes/56306                NaN  \n",
       "...                                                     ...                ...  \n",
       "28927798  http://www.hitquarters.com/index.php3?page=int...                NaN  \n",
       "28970881  http://www.thestrokes.com/us/event/2015/10/02/...                NaN  \n",
       "29089418  http://www.1077theend.com/Details--New-Strokes...                NaN  \n",
       "29139876  https://www.nme.com/news/music/the-strokes-big...                NaN  \n",
       "29272602         https://www.nme.com/news/the-strokes/49559                NaN  \n",
       "\n",
       "[68 rows x 7 columns]"
      ]
     },
     "execution_count": 3,
     "metadata": {},
     "output_type": "execute_result"
    }
   ],
   "source": [
    "df[df['id'] == 148546]"
   ]
  },
  {
   "cell_type": "code",
   "execution_count": 3,
   "metadata": {},
   "outputs": [
    {
     "data": {
      "text/html": [
       "<div>\n",
       "<style scoped>\n",
       "    .dataframe tbody tr th:only-of-type {\n",
       "        vertical-align: middle;\n",
       "    }\n",
       "\n",
       "    .dataframe tbody tr th {\n",
       "        vertical-align: top;\n",
       "    }\n",
       "\n",
       "    .dataframe thead th {\n",
       "        text-align: right;\n",
       "    }\n",
       "</style>\n",
       "<table border=\"1\" class=\"dataframe\">\n",
       "  <thead>\n",
       "    <tr style=\"text-align: right;\">\n",
       "      <th></th>\n",
       "      <th>id</th>\n",
       "      <th>type_of_citation</th>\n",
       "      <th>TitleType</th>\n",
       "      <th>Title</th>\n",
       "      <th>ID_list</th>\n",
       "      <th>URL</th>\n",
       "      <th>updated_identifier</th>\n",
       "    </tr>\n",
       "  </thead>\n",
       "  <tbody>\n",
       "    <tr>\n",
       "      <th>9755985</th>\n",
       "      <td>1911188</td>\n",
       "      <td>cite web</td>\n",
       "      <td>NaN</td>\n",
       "      <td>May 19, 2017 letter to Appalachian School of L...</td>\n",
       "      <td>NaN</td>\n",
       "      <td>https://www.americanbar.org/content/dam/aba/ad...</td>\n",
       "      <td>NaN</td>\n",
       "    </tr>\n",
       "    <tr>\n",
       "      <th>10035117</th>\n",
       "      <td>1911188</td>\n",
       "      <td>cite web</td>\n",
       "      <td>NaN</td>\n",
       "      <td>Appalachian School of Law</td>\n",
       "      <td>NaN</td>\n",
       "      <td>https://www.usnews.com/best-graduate-schools/t...</td>\n",
       "      <td>NaN</td>\n",
       "    </tr>\n",
       "    <tr>\n",
       "      <th>13518084</th>\n",
       "      <td>1911188</td>\n",
       "      <td>cite news</td>\n",
       "      <td>NaN</td>\n",
       "      <td>2 Florida Law Schools Among 10 Sanctioned by A...</td>\n",
       "      <td>NaN</td>\n",
       "      <td>https://www.law.com/dailybusinessreview/sites/...</td>\n",
       "      <td>NaN</td>\n",
       "    </tr>\n",
       "    <tr>\n",
       "      <th>23429079</th>\n",
       "      <td>1911188</td>\n",
       "      <td>cite web</td>\n",
       "      <td>NaN</td>\n",
       "      <td>McClanahan to serve as new law school dean</td>\n",
       "      <td>NaN</td>\n",
       "      <td>https://www.swvatoday.com/article_99cfe646-669...</td>\n",
       "      <td>NaN</td>\n",
       "    </tr>\n",
       "    <tr>\n",
       "      <th>27244267</th>\n",
       "      <td>1911188</td>\n",
       "      <td>cite web</td>\n",
       "      <td>NaN</td>\n",
       "      <td>The 2017 Bottom 10 Law Schools in the Country</td>\n",
       "      <td>NaN</td>\n",
       "      <td>http://www.thefacultylounge.org/2017/12/the-20...</td>\n",
       "      <td>NaN</td>\n",
       "    </tr>\n",
       "  </tbody>\n",
       "</table>\n",
       "</div>"
      ],
      "text/plain": [
       "               id type_of_citation TitleType  \\\n",
       "9755985   1911188         cite web       NaN   \n",
       "10035117  1911188         cite web       NaN   \n",
       "13518084  1911188        cite news       NaN   \n",
       "23429079  1911188         cite web       NaN   \n",
       "27244267  1911188         cite web       NaN   \n",
       "\n",
       "                                                      Title ID_list  \\\n",
       "9755985   May 19, 2017 letter to Appalachian School of L...     NaN   \n",
       "10035117                          Appalachian School of Law     NaN   \n",
       "13518084  2 Florida Law Schools Among 10 Sanctioned by A...     NaN   \n",
       "23429079         McClanahan to serve as new law school dean     NaN   \n",
       "27244267      The 2017 Bottom 10 Law Schools in the Country     NaN   \n",
       "\n",
       "                                                        URL updated_identifier  \n",
       "9755985   https://www.americanbar.org/content/dam/aba/ad...                NaN  \n",
       "10035117  https://www.usnews.com/best-graduate-schools/t...                NaN  \n",
       "13518084  https://www.law.com/dailybusinessreview/sites/...                NaN  \n",
       "23429079  https://www.swvatoday.com/article_99cfe646-669...                NaN  \n",
       "27244267  http://www.thefacultylounge.org/2017/12/the-20...                NaN  "
      ]
     },
     "execution_count": 3,
     "metadata": {},
     "output_type": "execute_result"
    }
   ],
   "source": [
    "df[df['id'] == 1911188]"
   ]
  },
  {
   "cell_type": "code",
   "execution_count": 6,
   "metadata": {},
   "outputs": [
    {
     "data": {
      "text/html": [
       "<div>\n",
       "<style scoped>\n",
       "    .dataframe tbody tr th:only-of-type {\n",
       "        vertical-align: middle;\n",
       "    }\n",
       "\n",
       "    .dataframe tbody tr th {\n",
       "        vertical-align: top;\n",
       "    }\n",
       "\n",
       "    .dataframe thead th {\n",
       "        text-align: right;\n",
       "    }\n",
       "</style>\n",
       "<table border=\"1\" class=\"dataframe\">\n",
       "  <thead>\n",
       "    <tr style=\"text-align: right;\">\n",
       "      <th></th>\n",
       "      <th>page_id</th>\n",
       "      <th>references</th>\n",
       "    </tr>\n",
       "  </thead>\n",
       "  <tbody>\n",
       "    <tr>\n",
       "      <th>0</th>\n",
       "      <td>12</td>\n",
       "      <td>92</td>\n",
       "    </tr>\n",
       "    <tr>\n",
       "      <th>1</th>\n",
       "      <td>25</td>\n",
       "      <td>226</td>\n",
       "    </tr>\n",
       "    <tr>\n",
       "      <th>2</th>\n",
       "      <td>39</td>\n",
       "      <td>37</td>\n",
       "    </tr>\n",
       "    <tr>\n",
       "      <th>3</th>\n",
       "      <td>290</td>\n",
       "      <td>30</td>\n",
       "    </tr>\n",
       "    <tr>\n",
       "      <th>4</th>\n",
       "      <td>303</td>\n",
       "      <td>207</td>\n",
       "    </tr>\n",
       "    <tr>\n",
       "      <th>...</th>\n",
       "      <td>...</td>\n",
       "      <td>...</td>\n",
       "    </tr>\n",
       "    <tr>\n",
       "      <th>3775226</th>\n",
       "      <td>63833859</td>\n",
       "      <td>4</td>\n",
       "    </tr>\n",
       "    <tr>\n",
       "      <th>3775227</th>\n",
       "      <td>63833892</td>\n",
       "      <td>11</td>\n",
       "    </tr>\n",
       "    <tr>\n",
       "      <th>3775228</th>\n",
       "      <td>63833916</td>\n",
       "      <td>3</td>\n",
       "    </tr>\n",
       "    <tr>\n",
       "      <th>3775229</th>\n",
       "      <td>63833956</td>\n",
       "      <td>1</td>\n",
       "    </tr>\n",
       "    <tr>\n",
       "      <th>3775230</th>\n",
       "      <td>63833964</td>\n",
       "      <td>2</td>\n",
       "    </tr>\n",
       "  </tbody>\n",
       "</table>\n",
       "<p>3775231 rows × 2 columns</p>\n",
       "</div>"
      ],
      "text/plain": [
       "          page_id  references\n",
       "0              12          92\n",
       "1              25         226\n",
       "2              39          37\n",
       "3             290          30\n",
       "4             303         207\n",
       "...           ...         ...\n",
       "3775226  63833859           4\n",
       "3775227  63833892          11\n",
       "3775228  63833916           3\n",
       "3775229  63833956           1\n",
       "3775230  63833964           2\n",
       "\n",
       "[3775231 rows x 2 columns]"
      ]
     },
     "execution_count": 6,
     "metadata": {},
     "output_type": "execute_result"
    }
   ],
   "source": [
    "df_freq = df.groupby('id').size().reset_index(name='references')\n",
    "df_freq.rename(columns={'id':'page_id'}, inplace=True)\n",
    "df_freq"
   ]
  },
  {
   "cell_type": "code",
   "execution_count": 10,
   "metadata": {},
   "outputs": [],
   "source": [
    "df_freq.to_csv('references/references_freq_total.tsv', sep='\\t', index=False)"
   ]
  },
  {
   "cell_type": "markdown",
   "metadata": {},
   "source": [
    "There are some missing URLs. In some cases a Wikipedia page does not include the URL tag correctly and this URL is not captured/parsed."
   ]
  },
  {
   "cell_type": "code",
   "execution_count": 4,
   "metadata": {},
   "outputs": [
    {
     "data": {
      "text/html": [
       "<div>\n",
       "<style scoped>\n",
       "    .dataframe tbody tr th:only-of-type {\n",
       "        vertical-align: middle;\n",
       "    }\n",
       "\n",
       "    .dataframe tbody tr th {\n",
       "        vertical-align: top;\n",
       "    }\n",
       "\n",
       "    .dataframe thead th {\n",
       "        text-align: right;\n",
       "    }\n",
       "</style>\n",
       "<table border=\"1\" class=\"dataframe\">\n",
       "  <thead>\n",
       "    <tr style=\"text-align: right;\">\n",
       "      <th></th>\n",
       "      <th>id</th>\n",
       "      <th>type_of_citation</th>\n",
       "      <th>TitleType</th>\n",
       "      <th>Title</th>\n",
       "      <th>ID_list</th>\n",
       "      <th>URL</th>\n",
       "      <th>updated_identifier</th>\n",
       "    </tr>\n",
       "  </thead>\n",
       "  <tbody>\n",
       "    <tr>\n",
       "      <th>2</th>\n",
       "      <td>17005434</td>\n",
       "      <td>citation</td>\n",
       "      <td>NaN</td>\n",
       "      <td>The Romance of Arthur</td>\n",
       "      <td>NaN</td>\n",
       "      <td>NaN</td>\n",
       "      <td>NaN</td>\n",
       "    </tr>\n",
       "    <tr>\n",
       "      <th>1169979</th>\n",
       "      <td>17005434</td>\n",
       "      <td>citation</td>\n",
       "      <td>NaN</td>\n",
       "      <td>The New Arthurian Encyclopedia</td>\n",
       "      <td>NaN</td>\n",
       "      <td>NaN</td>\n",
       "      <td>NaN</td>\n",
       "    </tr>\n",
       "    <tr>\n",
       "      <th>10246950</th>\n",
       "      <td>17005434</td>\n",
       "      <td>citation</td>\n",
       "      <td>NaN</td>\n",
       "      <td>The Romance of Arthur</td>\n",
       "      <td>NaN</td>\n",
       "      <td>NaN</td>\n",
       "      <td>NaN</td>\n",
       "    </tr>\n",
       "    <tr>\n",
       "      <th>15072275</th>\n",
       "      <td>17005434</td>\n",
       "      <td>citation</td>\n",
       "      <td>NaN</td>\n",
       "      <td>The Romance of Arthur</td>\n",
       "      <td>NaN</td>\n",
       "      <td>NaN</td>\n",
       "      <td>NaN</td>\n",
       "    </tr>\n",
       "    <tr>\n",
       "      <th>25027126</th>\n",
       "      <td>17005434</td>\n",
       "      <td>citation</td>\n",
       "      <td>NaN</td>\n",
       "      <td>The Romance of Arthur</td>\n",
       "      <td>NaN</td>\n",
       "      <td>NaN</td>\n",
       "      <td>NaN</td>\n",
       "    </tr>\n",
       "    <tr>\n",
       "      <th>28690763</th>\n",
       "      <td>17005434</td>\n",
       "      <td>citation</td>\n",
       "      <td>NaN</td>\n",
       "      <td>The Romance of Arthur</td>\n",
       "      <td>NaN</td>\n",
       "      <td>NaN</td>\n",
       "      <td>NaN</td>\n",
       "    </tr>\n",
       "  </tbody>\n",
       "</table>\n",
       "</div>"
      ],
      "text/plain": [
       "                id type_of_citation TitleType                           Title  \\\n",
       "2         17005434         citation       NaN           The Romance of Arthur   \n",
       "1169979   17005434         citation       NaN  The New Arthurian Encyclopedia   \n",
       "10246950  17005434         citation       NaN           The Romance of Arthur   \n",
       "15072275  17005434         citation       NaN           The Romance of Arthur   \n",
       "25027126  17005434         citation       NaN           The Romance of Arthur   \n",
       "28690763  17005434         citation       NaN           The Romance of Arthur   \n",
       "\n",
       "         ID_list  URL updated_identifier  \n",
       "2            NaN  NaN                NaN  \n",
       "1169979      NaN  NaN                NaN  \n",
       "10246950     NaN  NaN                NaN  \n",
       "15072275     NaN  NaN                NaN  \n",
       "25027126     NaN  NaN                NaN  \n",
       "28690763     NaN  NaN                NaN  "
      ]
     },
     "execution_count": 4,
     "metadata": {},
     "output_type": "execute_result"
    }
   ],
   "source": [
    "df[df['id'] == 17005434]"
   ]
  },
  {
   "cell_type": "code",
   "execution_count": 8,
   "metadata": {},
   "outputs": [
    {
     "data": {
      "text/html": [
       "<div>\n",
       "<style scoped>\n",
       "    .dataframe tbody tr th:only-of-type {\n",
       "        vertical-align: middle;\n",
       "    }\n",
       "\n",
       "    .dataframe tbody tr th {\n",
       "        vertical-align: top;\n",
       "    }\n",
       "\n",
       "    .dataframe thead th {\n",
       "        text-align: right;\n",
       "    }\n",
       "</style>\n",
       "<table border=\"1\" class=\"dataframe\">\n",
       "  <thead>\n",
       "    <tr style=\"text-align: right;\">\n",
       "      <th></th>\n",
       "      <th>id</th>\n",
       "      <th>type_of_citation</th>\n",
       "      <th>TitleType</th>\n",
       "      <th>Title</th>\n",
       "      <th>ID_list</th>\n",
       "      <th>URL</th>\n",
       "      <th>updated_identifier</th>\n",
       "    </tr>\n",
       "  </thead>\n",
       "  <tbody>\n",
       "    <tr>\n",
       "      <th>1067681</th>\n",
       "      <td>39</td>\n",
       "      <td>cite journal</td>\n",
       "      <td>NaN</td>\n",
       "      <td>The effect of spectral albedo on amorphous sil...</td>\n",
       "      <td>{BIBCODE=2013SoEn...91..233A, DOI=10.1016/j.so...</td>\n",
       "      <td>https://www.academia.edu/3081684</td>\n",
       "      <td>NaN</td>\n",
       "    </tr>\n",
       "    <tr>\n",
       "      <th>1883374</th>\n",
       "      <td>39</td>\n",
       "      <td>cite web</td>\n",
       "      <td>NaN</td>\n",
       "      <td>Baffled Scientists Say Less Sunlight Reaching ...</td>\n",
       "      <td>NaN</td>\n",
       "      <td>http://www.livescience.com/environment/060124_...</td>\n",
       "      <td>NaN</td>\n",
       "    </tr>\n",
       "    <tr>\n",
       "      <th>2019988</th>\n",
       "      <td>39</td>\n",
       "      <td>cite web</td>\n",
       "      <td>NaN</td>\n",
       "      <td>Albedo \\u2013 from Eric Weisstein's World of P...</td>\n",
       "      <td>NaN</td>\n",
       "      <td>http://scienceworld.wolfram.com/physics/Albedo...</td>\n",
       "      <td>NaN</td>\n",
       "    </tr>\n",
       "    <tr>\n",
       "      <th>3116732</th>\n",
       "      <td>39</td>\n",
       "      <td>cite journal</td>\n",
       "      <td>NaN</td>\n",
       "      <td>Boreal forests, aerosols and the impacts on cl...</td>\n",
       "      <td>{PMID=18826917, BIBCODE=2008RSPTA.366.4613S, D...</td>\n",
       "      <td>http://homepages.see.leeds.ac.uk/~eardvs/paper...</td>\n",
       "      <td>NaN</td>\n",
       "    </tr>\n",
       "    <tr>\n",
       "      <th>3516002</th>\n",
       "      <td>39</td>\n",
       "      <td>cite journal</td>\n",
       "      <td>NaN</td>\n",
       "      <td>Earthshine Observations of the Earth's Reflect...</td>\n",
       "      <td>{BIBCODE=2001GeoRL..28.1671G, DOI=10.1029/2000...</td>\n",
       "      <td>http://www.agu.org/journals/ABS/2001/2000GL012...</td>\n",
       "      <td>NaN</td>\n",
       "    </tr>\n",
       "    <tr>\n",
       "      <th>9122272</th>\n",
       "      <td>39</td>\n",
       "      <td>cite journal</td>\n",
       "      <td>NaN</td>\n",
       "      <td>The Study of the Ocean and the Land Surface fr...</td>\n",
       "      <td>{BIBCODE=1983RSPTA.309..285H, JSTOR=37357, DOI...</td>\n",
       "      <td>NaN</td>\n",
       "      <td>NaN</td>\n",
       "    </tr>\n",
       "    <tr>\n",
       "      <th>9411229</th>\n",
       "      <td>39</td>\n",
       "      <td>cite journal</td>\n",
       "      <td>NaN</td>\n",
       "      <td>Forests and Climate Change: Forcings, Feedback...</td>\n",
       "      <td>{PMID=18556546, BIBCODE=2008Sci...320.1444B, D...</td>\n",
       "      <td>https://zenodo.org/record/1230896</td>\n",
       "      <td>NaN</td>\n",
       "    </tr>\n",
       "    <tr>\n",
       "      <th>10961684</th>\n",
       "      <td>39</td>\n",
       "      <td>cite web</td>\n",
       "      <td>NaN</td>\n",
       "      <td>Health and Safety: Be Cool! (August 1997)</td>\n",
       "      <td>NaN</td>\n",
       "      <td>http://www.ranknfile-ue.org/h&amp;s0897.html</td>\n",
       "      <td>NaN</td>\n",
       "    </tr>\n",
       "    <tr>\n",
       "      <th>11243596</th>\n",
       "      <td>39</td>\n",
       "      <td>cite web</td>\n",
       "      <td>NaN</td>\n",
       "      <td>Spectral Approach To Calculate Specular reflec...</td>\n",
       "      <td>NaN</td>\n",
       "      <td>http://vih.freeshell.org/pp/01-ONW-St.Petersbu...</td>\n",
       "      <td>NaN</td>\n",
       "    </tr>\n",
       "    <tr>\n",
       "      <th>11318505</th>\n",
       "      <td>39</td>\n",
       "      <td>cite journal</td>\n",
       "      <td>NaN</td>\n",
       "      <td>The spherical bolometric albedo for planet Mer...</td>\n",
       "      <td>{ARXIV=1703.02670}</td>\n",
       "      <td>NaN</td>\n",
       "      <td>NaN</td>\n",
       "    </tr>\n",
       "    <tr>\n",
       "      <th>11451067</th>\n",
       "      <td>39</td>\n",
       "      <td>cite book</td>\n",
       "      <td>NaN</td>\n",
       "      <td>Environmental Encyclopedia</td>\n",
       "      <td>{ISBN=978-0-7876-5486-3}</td>\n",
       "      <td>https://archive.org/details/environmentalenc01...</td>\n",
       "      <td>NaN</td>\n",
       "    </tr>\n",
       "    <tr>\n",
       "      <th>11542129</th>\n",
       "      <td>39</td>\n",
       "      <td>cite web</td>\n",
       "      <td>NaN</td>\n",
       "      <td>Climate Change 2001: The Scientific Basis</td>\n",
       "      <td>NaN</td>\n",
       "      <td>http://www.grida.no/climate/ipcc_tar/wg1/231.h...</td>\n",
       "      <td>NaN</td>\n",
       "    </tr>\n",
       "    <tr>\n",
       "      <th>11903150</th>\n",
       "      <td>39</td>\n",
       "      <td>cite journal</td>\n",
       "      <td>NaN</td>\n",
       "      <td>The albedo, effective temperature, and energy ...</td>\n",
       "      <td>{BIBCODE=1991JGR....9618921P, DOI=10.1029/91JA...</td>\n",
       "      <td>NaN</td>\n",
       "      <td>NaN</td>\n",
       "    </tr>\n",
       "    <tr>\n",
       "      <th>13656968</th>\n",
       "      <td>39</td>\n",
       "      <td>cite journal</td>\n",
       "      <td>NaN</td>\n",
       "      <td>Albedo, internal heat flux, and energy balance...</td>\n",
       "      <td>{BIBCODE=1983Icar...53..262H, DOI=10.1016/0019...</td>\n",
       "      <td>NaN</td>\n",
       "      <td>NaN</td>\n",
       "    </tr>\n",
       "    <tr>\n",
       "      <th>14974310</th>\n",
       "      <td>39</td>\n",
       "      <td>cite journal</td>\n",
       "      <td>NaN</td>\n",
       "      <td>Radiative energy balance of Venus based on imp...</td>\n",
       "      <td>{BIBCODE=2016Icar..272..178H, DOI=10.1016/j.ic...</td>\n",
       "      <td>https://elib.dlr.de/109285/1/Haus%20et%20al%20...</td>\n",
       "      <td>NaN</td>\n",
       "    </tr>\n",
       "    <tr>\n",
       "      <th>14974374</th>\n",
       "      <td>39</td>\n",
       "      <td>cite journal</td>\n",
       "      <td>NaN</td>\n",
       "      <td>The Kuwait oil fires as seen by Landsat</td>\n",
       "      <td>{BIBCODE=1992JGR....9714565C, DOI=10.1029/92JD...</td>\n",
       "      <td>https://www.researchgate.net/publication/23842551</td>\n",
       "      <td>NaN</td>\n",
       "    </tr>\n",
       "    <tr>\n",
       "      <th>15487748</th>\n",
       "      <td>39</td>\n",
       "      <td>cite web</td>\n",
       "      <td>NaN</td>\n",
       "      <td>Effect of land albedo, CO2, orography, and oce...</td>\n",
       "      <td>NaN</td>\n",
       "      <td>http://www.clim-past.net/2/31/2006/cp-2-31-200...</td>\n",
       "      <td>NaN</td>\n",
       "    </tr>\n",
       "    <tr>\n",
       "      <th>15702013</th>\n",
       "      <td>39</td>\n",
       "      <td>cite journal</td>\n",
       "      <td>NaN</td>\n",
       "      <td>Offset of the potential carbon sink from borea...</td>\n",
       "      <td>{PMID=11089969, BIBCODE=2000Natur.408..187B, D...</td>\n",
       "      <td>NaN</td>\n",
       "      <td>NaN</td>\n",
       "    </tr>\n",
       "    <tr>\n",
       "      <th>15809731</th>\n",
       "      <td>39</td>\n",
       "      <td>cite journal</td>\n",
       "      <td>NaN</td>\n",
       "      <td>Anthropogenic Albedo Changes and the Earth's C...</td>\n",
       "      <td>{PMID=17739279, BIBCODE=1979Sci...206.1363S, J...</td>\n",
       "      <td>NaN</td>\n",
       "      <td>NaN</td>\n",
       "    </tr>\n",
       "    <tr>\n",
       "      <th>16957823</th>\n",
       "      <td>39</td>\n",
       "      <td>cite web</td>\n",
       "      <td>NaN</td>\n",
       "      <td>Global climate and ocean circulation on an aqu...</td>\n",
       "      <td>NaN</td>\n",
       "      <td>http://www.mpimet.mpg.de/fileadmin/staff/smith...</td>\n",
       "      <td>NaN</td>\n",
       "    </tr>\n",
       "    <tr>\n",
       "      <th>17757107</th>\n",
       "      <td>39</td>\n",
       "      <td>cite journal</td>\n",
       "      <td>NaN</td>\n",
       "      <td>The albedo, effective temperature, and energy ...</td>\n",
       "      <td>{BIBCODE=1990Icar...84...12P, DOI=10.1016/0019...</td>\n",
       "      <td>NaN</td>\n",
       "      <td>NaN</td>\n",
       "    </tr>\n",
       "    <tr>\n",
       "      <th>17760193</th>\n",
       "      <td>39</td>\n",
       "      <td>cite journal</td>\n",
       "      <td>NaN</td>\n",
       "      <td>Contrails reduce daily temperature range</td>\n",
       "      <td>{PMID=12167846, BIBCODE=2002Natur.418..601T, D...</td>\n",
       "      <td>http://facstaff.uww.edu/travisd/pdf/jetcontrai...</td>\n",
       "      <td>NaN</td>\n",
       "    </tr>\n",
       "    <tr>\n",
       "      <th>17834356</th>\n",
       "      <td>39</td>\n",
       "      <td>cite web</td>\n",
       "      <td>NaN</td>\n",
       "      <td>Climate Change 2001: The Scientific Basis</td>\n",
       "      <td>NaN</td>\n",
       "      <td>http://www.grida.no/climate/ipcc_tar/wg1/233.htm</td>\n",
       "      <td>NaN</td>\n",
       "    </tr>\n",
       "    <tr>\n",
       "      <th>19000412</th>\n",
       "      <td>39</td>\n",
       "      <td>cite web</td>\n",
       "      <td>NaN</td>\n",
       "      <td>Snowball Earth: Ice thickness on the tropical ...</td>\n",
       "      <td>NaN</td>\n",
       "      <td>http://www.atmos.washington.edu/~sgw/PAPERS/20...</td>\n",
       "      <td>NaN</td>\n",
       "    </tr>\n",
       "    <tr>\n",
       "      <th>19438694</th>\n",
       "      <td>39</td>\n",
       "      <td>cite web</td>\n",
       "      <td>NaN</td>\n",
       "      <td>The Climate System</td>\n",
       "      <td>NaN</td>\n",
       "      <td>http://www.ace.mmu.ac.uk/Resources/gcc/1-3-3.html</td>\n",
       "      <td>NaN</td>\n",
       "    </tr>\n",
       "    <tr>\n",
       "      <th>19471001</th>\n",
       "      <td>39</td>\n",
       "      <td>cite journal</td>\n",
       "      <td>NaN</td>\n",
       "      <td>The thawing Arctic threatens an environmental ...</td>\n",
       "      <td>NaN</td>\n",
       "      <td>https://www.economist.com/news/briefing/217213...</td>\n",
       "      <td>NaN</td>\n",
       "    </tr>\n",
       "    <tr>\n",
       "      <th>20239876</th>\n",
       "      <td>39</td>\n",
       "      <td>cite journal</td>\n",
       "      <td>NaN</td>\n",
       "      <td>Direct human influence of irrigation on atmosp...</td>\n",
       "      <td>{BIBCODE=2004ClDy...22..597B, DOI=10.1007/s003...</td>\n",
       "      <td>https://www.academia.edu/25329256</td>\n",
       "      <td>NaN</td>\n",
       "    </tr>\n",
       "    <tr>\n",
       "      <th>20683497</th>\n",
       "      <td>39</td>\n",
       "      <td>cite journal</td>\n",
       "      <td>NaN</td>\n",
       "      <td>Comprehensive wide-band magnitudes and albedos...</td>\n",
       "      <td>{BIBCODE=2017Icar..282...19M, ARXIV=1609.05048...</td>\n",
       "      <td>NaN</td>\n",
       "      <td>NaN</td>\n",
       "    </tr>\n",
       "    <tr>\n",
       "      <th>21224257</th>\n",
       "      <td>39</td>\n",
       "      <td>cite book</td>\n",
       "      <td>NaN</td>\n",
       "      <td>Encyclopedia of Climate and Weather: Abs-Ero</td>\n",
       "      <td>{ISBN=978-0-19-976532-4}</td>\n",
       "      <td>https://books.google.com/books?id=av7q4N8Ib6sC...</td>\n",
       "      <td>NaN</td>\n",
       "    </tr>\n",
       "    <tr>\n",
       "      <th>21224967</th>\n",
       "      <td>39</td>\n",
       "      <td>cite journal</td>\n",
       "      <td>NaN</td>\n",
       "      <td>Assessing the Coupling between Surface Albedo ...</td>\n",
       "      <td>{BIBCODE=2010RSEnv.114..738R, DOI=10.1016/j.rs...</td>\n",
       "      <td>https://www.academia.edu/406124</td>\n",
       "      <td>NaN</td>\n",
       "    </tr>\n",
       "    <tr>\n",
       "      <th>21452409</th>\n",
       "      <td>39</td>\n",
       "      <td>cite web</td>\n",
       "      <td>NaN</td>\n",
       "      <td>Reflectance and albedo, surface</td>\n",
       "      <td>NaN</td>\n",
       "      <td>http://curry.eas.gatech.edu/Courses/6140/ency/...</td>\n",
       "      <td>['10.1016/b0-12-227090-8/00069-5']</td>\n",
       "    </tr>\n",
       "    <tr>\n",
       "      <th>22947222</th>\n",
       "      <td>39</td>\n",
       "      <td>cite web</td>\n",
       "      <td>NaN</td>\n",
       "      <td>MODIS BRDF/Albedo Product: Algorithm Theoretic...</td>\n",
       "      <td>NaN</td>\n",
       "      <td>http://modis.gsfc.nasa.gov/data/atbd/atbd_mod0...</td>\n",
       "      <td>NaN</td>\n",
       "    </tr>\n",
       "    <tr>\n",
       "      <th>23166490</th>\n",
       "      <td>39</td>\n",
       "      <td>cite journal</td>\n",
       "      <td>NaN</td>\n",
       "      <td>Offset of the potential carbon sink from borea...</td>\n",
       "      <td>{PMID=11089969, BIBCODE=2000Natur.408..187B, D...</td>\n",
       "      <td>NaN</td>\n",
       "      <td>NaN</td>\n",
       "    </tr>\n",
       "    <tr>\n",
       "      <th>23316720</th>\n",
       "      <td>39</td>\n",
       "      <td>cite journal</td>\n",
       "      <td>NaN</td>\n",
       "      <td>Less absorbed solar energy and more internal h...</td>\n",
       "      <td>{PMID=30213944, PMC=6137063, DOI=10.1038/s4146...</td>\n",
       "      <td>//www.ncbi.nlm.nih.gov/pmc/articles/PMC6137063</td>\n",
       "      <td>NaN</td>\n",
       "    </tr>\n",
       "    <tr>\n",
       "      <th>23610320</th>\n",
       "      <td>39</td>\n",
       "      <td>cite journal</td>\n",
       "      <td>NaN</td>\n",
       "      <td>The Annual Course of Zonal Mean Albedo as Deri...</td>\n",
       "      <td>{BIBCODE=1971MWRv...99..818W, DOI=10.1175/1520...</td>\n",
       "      <td>NaN</td>\n",
       "      <td>NaN</td>\n",
       "    </tr>\n",
       "    <tr>\n",
       "      <th>24461603</th>\n",
       "      <td>39</td>\n",
       "      <td>cite web</td>\n",
       "      <td>NaN</td>\n",
       "      <td>Thermodynamics  Thermodynamics: Albedo  Nation...</td>\n",
       "      <td>NaN</td>\n",
       "      <td>https://nsidc.org/cryosphere/seaice/processes/...</td>\n",
       "      <td>NaN</td>\n",
       "    </tr>\n",
       "    <tr>\n",
       "      <th>24484932</th>\n",
       "      <td>39</td>\n",
       "      <td>cite journal</td>\n",
       "      <td>NaN</td>\n",
       "      <td>Effects of spectral albedo on solar photovolta...</td>\n",
       "      <td>{DOI=10.1016/j.solmat.2014.01.046}</td>\n",
       "      <td>https://www.academia.edu/6222506</td>\n",
       "      <td>NaN</td>\n",
       "    </tr>\n",
       "  </tbody>\n",
       "</table>\n",
       "</div>"
      ],
      "text/plain": [
       "          id type_of_citation TitleType  \\\n",
       "1067681   39     cite journal       NaN   \n",
       "1883374   39         cite web       NaN   \n",
       "2019988   39         cite web       NaN   \n",
       "3116732   39     cite journal       NaN   \n",
       "3516002   39     cite journal       NaN   \n",
       "9122272   39     cite journal       NaN   \n",
       "9411229   39     cite journal       NaN   \n",
       "10961684  39         cite web       NaN   \n",
       "11243596  39         cite web       NaN   \n",
       "11318505  39     cite journal       NaN   \n",
       "11451067  39        cite book       NaN   \n",
       "11542129  39         cite web       NaN   \n",
       "11903150  39     cite journal       NaN   \n",
       "13656968  39     cite journal       NaN   \n",
       "14974310  39     cite journal       NaN   \n",
       "14974374  39     cite journal       NaN   \n",
       "15487748  39         cite web       NaN   \n",
       "15702013  39     cite journal       NaN   \n",
       "15809731  39     cite journal       NaN   \n",
       "16957823  39         cite web       NaN   \n",
       "17757107  39     cite journal       NaN   \n",
       "17760193  39     cite journal       NaN   \n",
       "17834356  39         cite web       NaN   \n",
       "19000412  39         cite web       NaN   \n",
       "19438694  39         cite web       NaN   \n",
       "19471001  39     cite journal       NaN   \n",
       "20239876  39     cite journal       NaN   \n",
       "20683497  39     cite journal       NaN   \n",
       "21224257  39        cite book       NaN   \n",
       "21224967  39     cite journal       NaN   \n",
       "21452409  39         cite web       NaN   \n",
       "22947222  39         cite web       NaN   \n",
       "23166490  39     cite journal       NaN   \n",
       "23316720  39     cite journal       NaN   \n",
       "23610320  39     cite journal       NaN   \n",
       "24461603  39         cite web       NaN   \n",
       "24484932  39     cite journal       NaN   \n",
       "\n",
       "                                                      Title  \\\n",
       "1067681   The effect of spectral albedo on amorphous sil...   \n",
       "1883374   Baffled Scientists Say Less Sunlight Reaching ...   \n",
       "2019988   Albedo \\u2013 from Eric Weisstein's World of P...   \n",
       "3116732   Boreal forests, aerosols and the impacts on cl...   \n",
       "3516002   Earthshine Observations of the Earth's Reflect...   \n",
       "9122272   The Study of the Ocean and the Land Surface fr...   \n",
       "9411229   Forests and Climate Change: Forcings, Feedback...   \n",
       "10961684          Health and Safety: Be Cool! (August 1997)   \n",
       "11243596  Spectral Approach To Calculate Specular reflec...   \n",
       "11318505  The spherical bolometric albedo for planet Mer...   \n",
       "11451067                         Environmental Encyclopedia   \n",
       "11542129          Climate Change 2001: The Scientific Basis   \n",
       "11903150  The albedo, effective temperature, and energy ...   \n",
       "13656968  Albedo, internal heat flux, and energy balance...   \n",
       "14974310  Radiative energy balance of Venus based on imp...   \n",
       "14974374            The Kuwait oil fires as seen by Landsat   \n",
       "15487748  Effect of land albedo, CO2, orography, and oce...   \n",
       "15702013  Offset of the potential carbon sink from borea...   \n",
       "15809731  Anthropogenic Albedo Changes and the Earth's C...   \n",
       "16957823  Global climate and ocean circulation on an aqu...   \n",
       "17757107  The albedo, effective temperature, and energy ...   \n",
       "17760193           Contrails reduce daily temperature range   \n",
       "17834356          Climate Change 2001: The Scientific Basis   \n",
       "19000412  Snowball Earth: Ice thickness on the tropical ...   \n",
       "19438694                                 The Climate System   \n",
       "19471001  The thawing Arctic threatens an environmental ...   \n",
       "20239876  Direct human influence of irrigation on atmosp...   \n",
       "20683497  Comprehensive wide-band magnitudes and albedos...   \n",
       "21224257       Encyclopedia of Climate and Weather: Abs-Ero   \n",
       "21224967  Assessing the Coupling between Surface Albedo ...   \n",
       "21452409                    Reflectance and albedo, surface   \n",
       "22947222  MODIS BRDF/Albedo Product: Algorithm Theoretic...   \n",
       "23166490  Offset of the potential carbon sink from borea...   \n",
       "23316720  Less absorbed solar energy and more internal h...   \n",
       "23610320  The Annual Course of Zonal Mean Albedo as Deri...   \n",
       "24461603  Thermodynamics  Thermodynamics: Albedo  Nation...   \n",
       "24484932  Effects of spectral albedo on solar photovolta...   \n",
       "\n",
       "                                                    ID_list  \\\n",
       "1067681   {BIBCODE=2013SoEn...91..233A, DOI=10.1016/j.so...   \n",
       "1883374                                                 NaN   \n",
       "2019988                                                 NaN   \n",
       "3116732   {PMID=18826917, BIBCODE=2008RSPTA.366.4613S, D...   \n",
       "3516002   {BIBCODE=2001GeoRL..28.1671G, DOI=10.1029/2000...   \n",
       "9122272   {BIBCODE=1983RSPTA.309..285H, JSTOR=37357, DOI...   \n",
       "9411229   {PMID=18556546, BIBCODE=2008Sci...320.1444B, D...   \n",
       "10961684                                                NaN   \n",
       "11243596                                                NaN   \n",
       "11318505                                 {ARXIV=1703.02670}   \n",
       "11451067                           {ISBN=978-0-7876-5486-3}   \n",
       "11542129                                                NaN   \n",
       "11903150  {BIBCODE=1991JGR....9618921P, DOI=10.1029/91JA...   \n",
       "13656968  {BIBCODE=1983Icar...53..262H, DOI=10.1016/0019...   \n",
       "14974310  {BIBCODE=2016Icar..272..178H, DOI=10.1016/j.ic...   \n",
       "14974374  {BIBCODE=1992JGR....9714565C, DOI=10.1029/92JD...   \n",
       "15487748                                                NaN   \n",
       "15702013  {PMID=11089969, BIBCODE=2000Natur.408..187B, D...   \n",
       "15809731  {PMID=17739279, BIBCODE=1979Sci...206.1363S, J...   \n",
       "16957823                                                NaN   \n",
       "17757107  {BIBCODE=1990Icar...84...12P, DOI=10.1016/0019...   \n",
       "17760193  {PMID=12167846, BIBCODE=2002Natur.418..601T, D...   \n",
       "17834356                                                NaN   \n",
       "19000412                                                NaN   \n",
       "19438694                                                NaN   \n",
       "19471001                                                NaN   \n",
       "20239876  {BIBCODE=2004ClDy...22..597B, DOI=10.1007/s003...   \n",
       "20683497  {BIBCODE=2017Icar..282...19M, ARXIV=1609.05048...   \n",
       "21224257                           {ISBN=978-0-19-976532-4}   \n",
       "21224967  {BIBCODE=2010RSEnv.114..738R, DOI=10.1016/j.rs...   \n",
       "21452409                                                NaN   \n",
       "22947222                                                NaN   \n",
       "23166490  {PMID=11089969, BIBCODE=2000Natur.408..187B, D...   \n",
       "23316720  {PMID=30213944, PMC=6137063, DOI=10.1038/s4146...   \n",
       "23610320  {BIBCODE=1971MWRv...99..818W, DOI=10.1175/1520...   \n",
       "24461603                                                NaN   \n",
       "24484932                 {DOI=10.1016/j.solmat.2014.01.046}   \n",
       "\n",
       "                                                        URL  \\\n",
       "1067681                    https://www.academia.edu/3081684   \n",
       "1883374   http://www.livescience.com/environment/060124_...   \n",
       "2019988   http://scienceworld.wolfram.com/physics/Albedo...   \n",
       "3116732   http://homepages.see.leeds.ac.uk/~eardvs/paper...   \n",
       "3516002   http://www.agu.org/journals/ABS/2001/2000GL012...   \n",
       "9122272                                                 NaN   \n",
       "9411229                   https://zenodo.org/record/1230896   \n",
       "10961684           http://www.ranknfile-ue.org/h&s0897.html   \n",
       "11243596  http://vih.freeshell.org/pp/01-ONW-St.Petersbu...   \n",
       "11318505                                                NaN   \n",
       "11451067  https://archive.org/details/environmentalenc01...   \n",
       "11542129  http://www.grida.no/climate/ipcc_tar/wg1/231.h...   \n",
       "11903150                                                NaN   \n",
       "13656968                                                NaN   \n",
       "14974310  https://elib.dlr.de/109285/1/Haus%20et%20al%20...   \n",
       "14974374  https://www.researchgate.net/publication/23842551   \n",
       "15487748  http://www.clim-past.net/2/31/2006/cp-2-31-200...   \n",
       "15702013                                                NaN   \n",
       "15809731                                                NaN   \n",
       "16957823  http://www.mpimet.mpg.de/fileadmin/staff/smith...   \n",
       "17757107                                                NaN   \n",
       "17760193  http://facstaff.uww.edu/travisd/pdf/jetcontrai...   \n",
       "17834356   http://www.grida.no/climate/ipcc_tar/wg1/233.htm   \n",
       "19000412  http://www.atmos.washington.edu/~sgw/PAPERS/20...   \n",
       "19438694  http://www.ace.mmu.ac.uk/Resources/gcc/1-3-3.html   \n",
       "19471001  https://www.economist.com/news/briefing/217213...   \n",
       "20239876                  https://www.academia.edu/25329256   \n",
       "20683497                                                NaN   \n",
       "21224257  https://books.google.com/books?id=av7q4N8Ib6sC...   \n",
       "21224967                    https://www.academia.edu/406124   \n",
       "21452409  http://curry.eas.gatech.edu/Courses/6140/ency/...   \n",
       "22947222  http://modis.gsfc.nasa.gov/data/atbd/atbd_mod0...   \n",
       "23166490                                                NaN   \n",
       "23316720     //www.ncbi.nlm.nih.gov/pmc/articles/PMC6137063   \n",
       "23610320                                                NaN   \n",
       "24461603  https://nsidc.org/cryosphere/seaice/processes/...   \n",
       "24484932                   https://www.academia.edu/6222506   \n",
       "\n",
       "                          updated_identifier  \n",
       "1067681                                  NaN  \n",
       "1883374                                  NaN  \n",
       "2019988                                  NaN  \n",
       "3116732                                  NaN  \n",
       "3516002                                  NaN  \n",
       "9122272                                  NaN  \n",
       "9411229                                  NaN  \n",
       "10961684                                 NaN  \n",
       "11243596                                 NaN  \n",
       "11318505                                 NaN  \n",
       "11451067                                 NaN  \n",
       "11542129                                 NaN  \n",
       "11903150                                 NaN  \n",
       "13656968                                 NaN  \n",
       "14974310                                 NaN  \n",
       "14974374                                 NaN  \n",
       "15487748                                 NaN  \n",
       "15702013                                 NaN  \n",
       "15809731                                 NaN  \n",
       "16957823                                 NaN  \n",
       "17757107                                 NaN  \n",
       "17760193                                 NaN  \n",
       "17834356                                 NaN  \n",
       "19000412                                 NaN  \n",
       "19438694                                 NaN  \n",
       "19471001                                 NaN  \n",
       "20239876                                 NaN  \n",
       "20683497                                 NaN  \n",
       "21224257                                 NaN  \n",
       "21224967                                 NaN  \n",
       "21452409  ['10.1016/b0-12-227090-8/00069-5']  \n",
       "22947222                                 NaN  \n",
       "23166490                                 NaN  \n",
       "23316720                                 NaN  \n",
       "23610320                                 NaN  \n",
       "24461603                                 NaN  \n",
       "24484932                                 NaN  "
      ]
     },
     "execution_count": 8,
     "metadata": {},
     "output_type": "execute_result"
    }
   ],
   "source": [
    "df[df['id'] == 39]"
   ]
  },
  {
   "cell_type": "markdown",
   "metadata": {},
   "source": [
    "# 1. Preprocessing"
   ]
  },
  {
   "cell_type": "markdown",
   "metadata": {},
   "source": [
    "The dataset it is filtered to only URL mentions. Also this URLs are reviewed to remove erroneous strings assigned as URL."
   ]
  },
  {
   "cell_type": "code",
   "execution_count": 5,
   "metadata": {},
   "outputs": [
    {
     "data": {
      "text/html": [
       "<div>\n",
       "<style scoped>\n",
       "    .dataframe tbody tr th:only-of-type {\n",
       "        vertical-align: middle;\n",
       "    }\n",
       "\n",
       "    .dataframe tbody tr th {\n",
       "        vertical-align: top;\n",
       "    }\n",
       "\n",
       "    .dataframe thead th {\n",
       "        text-align: right;\n",
       "    }\n",
       "</style>\n",
       "<table border=\"1\" class=\"dataframe\">\n",
       "  <thead>\n",
       "    <tr style=\"text-align: right;\">\n",
       "      <th></th>\n",
       "      <th>id</th>\n",
       "      <th>URL</th>\n",
       "    </tr>\n",
       "  </thead>\n",
       "  <tbody>\n",
       "    <tr>\n",
       "      <th>0</th>\n",
       "      <td>39495284</td>\n",
       "      <td>http://www.columbia.edu/cu/lweb/digital/collec...</td>\n",
       "    </tr>\n",
       "    <tr>\n",
       "      <th>1</th>\n",
       "      <td>3528721</td>\n",
       "      <td>http://allafrica.com/stories/200512190886.html</td>\n",
       "    </tr>\n",
       "    <tr>\n",
       "      <th>3</th>\n",
       "      <td>8552398</td>\n",
       "      <td>https://www.nytimes.com/1997/07/27/magazine/th...</td>\n",
       "    </tr>\n",
       "    <tr>\n",
       "      <th>4</th>\n",
       "      <td>23782313</td>\n",
       "      <td>https://www.nytimes.com/2005/07/19/arts/televi...</td>\n",
       "    </tr>\n",
       "    <tr>\n",
       "      <th>6</th>\n",
       "      <td>17288329</td>\n",
       "      <td>http://www.ancientlibrary.com/smith-bio/0075.html</td>\n",
       "    </tr>\n",
       "  </tbody>\n",
       "</table>\n",
       "</div>"
      ],
      "text/plain": [
       "         id                                                URL\n",
       "0  39495284  http://www.columbia.edu/cu/lweb/digital/collec...\n",
       "1   3528721     http://allafrica.com/stories/200512190886.html\n",
       "3   8552398  https://www.nytimes.com/1997/07/27/magazine/th...\n",
       "4  23782313  https://www.nytimes.com/2005/07/19/arts/televi...\n",
       "6  17288329  http://www.ancientlibrary.com/smith-bio/0075.html"
      ]
     },
     "execution_count": 5,
     "metadata": {},
     "output_type": "execute_result"
    }
   ],
   "source": [
    "df = df[df[['id', 'URL']].notnull().all(axis=1)]\n",
    "df = df[['id', 'URL']]\n",
    "df = df[df.URL.str.contains('^http|^www[0-9]{0,2}')]\n",
    "df.head()"
   ]
  },
  {
   "cell_type": "markdown",
   "metadata": {},
   "source": [
    "Before obtaining the domains or modify the URLs the top [web archives](https://en.wikipedia.org/wiki/Wikipedia:List_of_web_archives_on_Wikipedia) URLs are transformed in order to take into account the real URLs. Then, all the URLs are filtered to remove erroenous URLs."
   ]
  },
  {
   "cell_type": "markdown",
   "metadata": {},
   "source": [
    "## 1.1 Web archive"
   ]
  },
  {
   "cell_type": "code",
   "execution_count": 6,
   "metadata": {},
   "outputs": [],
   "source": [
    "df['URL'] = [re.sub('http[s]{0,1}://(web\\.archive|waybackmachine)\\.org/.*http', 'http', x) for x in df['URL']]\n",
    "df['URL'] = [re.sub('http[s]{0,1}://(web\\.archive|waybackmachine)\\.org/.*www', 'www', x) for x in df['URL']]\n",
    "df['URL'] = [re.sub('http[s]{0,1}://(web\\.archive|waybackmachine)\\.org/web/([0-9a-z]*|[0-9a-z]*\\*|\\*)/|http[s]{0,1}://(web\\.archive|waybackmachine)\\.org/\\*/', '', x) for x in df['URL']]"
   ]
  },
  {
   "cell_type": "markdown",
   "metadata": {},
   "source": [
    "## 1.2 archive.today"
   ]
  },
  {
   "cell_type": "markdown",
   "metadata": {},
   "source": [
    "It should be noticed that not all URLs are encoded in the same way. Whereas some URLs include the archived URL others do not. There are also multiple domains."
   ]
  },
  {
   "cell_type": "code",
   "execution_count": 7,
   "metadata": {},
   "outputs": [],
   "source": [
    "df['URL'] = [re.sub('http[s]{0,1}://archive\\.(today|is|fo|li|vn|md)/.*http', 'http', x) for x in df['URL']]\n",
    "df['URL'] = [re.sub('http[s]{0,1}://archive\\.(today|is|fo|li|vn|md)/.*www', 'www', x) for x in df['URL']]"
   ]
  },
  {
   "cell_type": "markdown",
   "metadata": {},
   "source": [
    "## 1.3 Webcitation"
   ]
  },
  {
   "cell_type": "markdown",
   "metadata": {},
   "source": [
    "In this case, most of them does not include the archived URL."
   ]
  },
  {
   "cell_type": "code",
   "execution_count": 8,
   "metadata": {},
   "outputs": [],
   "source": [
    "df['URL'] = [re.sub('http[s]{0,1}://((www\\.)?)webcitation\\.org/.*http', 'http', x) for x in df['URL']]\n",
    "df['URL'] = [re.sub('http[s]{0,1}://((www\\.)?)webcitation\\.org/.*www', 'www', x) for x in df['URL']]"
   ]
  },
  {
   "cell_type": "markdown",
   "metadata": {},
   "source": [
    "Finally, they are cleaned to get only URLs strings."
   ]
  },
  {
   "cell_type": "code",
   "execution_count": 9,
   "metadata": {},
   "outputs": [],
   "source": [
    "df = df[df.URL.str.contains('^http|^www[0-9]{0,2}')]"
   ]
  },
  {
   "cell_type": "markdown",
   "metadata": {},
   "source": [
    "Before the preprocessing, there are 19,073,929 unique URLs."
   ]
  },
  {
   "cell_type": "code",
   "execution_count": 10,
   "metadata": {},
   "outputs": [
    {
     "data": {
      "text/plain": [
       "19073929"
      ]
     },
     "execution_count": 10,
     "metadata": {},
     "output_type": "execute_result"
    }
   ],
   "source": [
    "len(df.groupby('URL').count().index)"
   ]
  },
  {
   "cell_type": "markdown",
   "metadata": {},
   "source": [
    "A new column is created to normalize the URLs."
   ]
  },
  {
   "cell_type": "code",
   "execution_count": 11,
   "metadata": {},
   "outputs": [
    {
     "data": {
      "text/html": [
       "<div>\n",
       "<style scoped>\n",
       "    .dataframe tbody tr th:only-of-type {\n",
       "        vertical-align: middle;\n",
       "    }\n",
       "\n",
       "    .dataframe tbody tr th {\n",
       "        vertical-align: top;\n",
       "    }\n",
       "\n",
       "    .dataframe thead th {\n",
       "        text-align: right;\n",
       "    }\n",
       "</style>\n",
       "<table border=\"1\" class=\"dataframe\">\n",
       "  <thead>\n",
       "    <tr style=\"text-align: right;\">\n",
       "      <th></th>\n",
       "      <th>id</th>\n",
       "      <th>URL</th>\n",
       "      <th>URL_n</th>\n",
       "    </tr>\n",
       "  </thead>\n",
       "  <tbody>\n",
       "    <tr>\n",
       "      <th>0</th>\n",
       "      <td>39495284</td>\n",
       "      <td>http://www.columbia.edu/cu/lweb/digital/collec...</td>\n",
       "      <td>http://www.columbia.edu/cu/lweb/digital/collec...</td>\n",
       "    </tr>\n",
       "    <tr>\n",
       "      <th>1</th>\n",
       "      <td>3528721</td>\n",
       "      <td>http://allafrica.com/stories/200512190886.html</td>\n",
       "      <td>http://allafrica.com/stories/200512190886.html</td>\n",
       "    </tr>\n",
       "    <tr>\n",
       "      <th>3</th>\n",
       "      <td>8552398</td>\n",
       "      <td>https://www.nytimes.com/1997/07/27/magazine/th...</td>\n",
       "      <td>https://www.nytimes.com/1997/07/27/magazine/th...</td>\n",
       "    </tr>\n",
       "    <tr>\n",
       "      <th>4</th>\n",
       "      <td>23782313</td>\n",
       "      <td>https://www.nytimes.com/2005/07/19/arts/televi...</td>\n",
       "      <td>https://www.nytimes.com/2005/07/19/arts/televi...</td>\n",
       "    </tr>\n",
       "    <tr>\n",
       "      <th>6</th>\n",
       "      <td>17288329</td>\n",
       "      <td>http://www.ancientlibrary.com/smith-bio/0075.html</td>\n",
       "      <td>http://www.ancientlibrary.com/smith-bio/0075.html</td>\n",
       "    </tr>\n",
       "  </tbody>\n",
       "</table>\n",
       "</div>"
      ],
      "text/plain": [
       "         id                                                URL  \\\n",
       "0  39495284  http://www.columbia.edu/cu/lweb/digital/collec...   \n",
       "1   3528721     http://allafrica.com/stories/200512190886.html   \n",
       "3   8552398  https://www.nytimes.com/1997/07/27/magazine/th...   \n",
       "4  23782313  https://www.nytimes.com/2005/07/19/arts/televi...   \n",
       "6  17288329  http://www.ancientlibrary.com/smith-bio/0075.html   \n",
       "\n",
       "                                               URL_n  \n",
       "0  http://www.columbia.edu/cu/lweb/digital/collec...  \n",
       "1     http://allafrica.com/stories/200512190886.html  \n",
       "3  https://www.nytimes.com/1997/07/27/magazine/th...  \n",
       "4  https://www.nytimes.com/2005/07/19/arts/televi...  \n",
       "6  http://www.ancientlibrary.com/smith-bio/0075.html  "
      ]
     },
     "execution_count": 11,
     "metadata": {},
     "output_type": "execute_result"
    }
   ],
   "source": [
    "df['URL_n'] = [re.sub('^http://www[0-9]{0,2}\\\\.|^http://|^https://www[0-9]{0,2}\\\\.|^https://|^//www[0-9]{0,2}\\\\.', '', x) for x in df['URL']]\n",
    "df['URL_n'] = [re.sub('^http[s]{0,1}%3A%2F%2F((www\\.)?)', '', x) for x in df['URL']]\n",
    "#df.loc[:,'URL_n']  = df.loc[:,'URL_n'].str.lower()\n",
    "df.head()"
   ]
  },
  {
   "cell_type": "markdown",
   "metadata": {},
   "source": [
    "There are some characters that usually appear at the end of the URL, some of them escape characters, so they are removed."
   ]
  },
  {
   "cell_type": "code",
   "execution_count": 12,
   "metadata": {},
   "outputs": [
    {
     "data": {
      "text/html": [
       "<div>\n",
       "<style scoped>\n",
       "    .dataframe tbody tr th:only-of-type {\n",
       "        vertical-align: middle;\n",
       "    }\n",
       "\n",
       "    .dataframe tbody tr th {\n",
       "        vertical-align: top;\n",
       "    }\n",
       "\n",
       "    .dataframe thead th {\n",
       "        text-align: right;\n",
       "    }\n",
       "</style>\n",
       "<table border=\"1\" class=\"dataframe\">\n",
       "  <thead>\n",
       "    <tr style=\"text-align: right;\">\n",
       "      <th></th>\n",
       "      <th>id</th>\n",
       "      <th>URL</th>\n",
       "      <th>URL_n</th>\n",
       "    </tr>\n",
       "  </thead>\n",
       "  <tbody>\n",
       "    <tr>\n",
       "      <th>0</th>\n",
       "      <td>39495284</td>\n",
       "      <td>http://www.columbia.edu/cu/lweb/digital/collec...</td>\n",
       "      <td>http://www.columbia.edu/cu/lweb/digital/collec...</td>\n",
       "    </tr>\n",
       "    <tr>\n",
       "      <th>1</th>\n",
       "      <td>3528721</td>\n",
       "      <td>http://allafrica.com/stories/200512190886.html</td>\n",
       "      <td>http://allafrica.com/stories/200512190886.html</td>\n",
       "    </tr>\n",
       "    <tr>\n",
       "      <th>3</th>\n",
       "      <td>8552398</td>\n",
       "      <td>https://www.nytimes.com/1997/07/27/magazine/th...</td>\n",
       "      <td>https://www.nytimes.com/1997/07/27/magazine/th...</td>\n",
       "    </tr>\n",
       "    <tr>\n",
       "      <th>4</th>\n",
       "      <td>23782313</td>\n",
       "      <td>https://www.nytimes.com/2005/07/19/arts/televi...</td>\n",
       "      <td>https://www.nytimes.com/2005/07/19/arts/televi...</td>\n",
       "    </tr>\n",
       "    <tr>\n",
       "      <th>6</th>\n",
       "      <td>17288329</td>\n",
       "      <td>http://www.ancientlibrary.com/smith-bio/0075.html</td>\n",
       "      <td>http://www.ancientlibrary.com/smith-bio/0075.html</td>\n",
       "    </tr>\n",
       "  </tbody>\n",
       "</table>\n",
       "</div>"
      ],
      "text/plain": [
       "         id                                                URL  \\\n",
       "0  39495284  http://www.columbia.edu/cu/lweb/digital/collec...   \n",
       "1   3528721     http://allafrica.com/stories/200512190886.html   \n",
       "3   8552398  https://www.nytimes.com/1997/07/27/magazine/th...   \n",
       "4  23782313  https://www.nytimes.com/2005/07/19/arts/televi...   \n",
       "6  17288329  http://www.ancientlibrary.com/smith-bio/0075.html   \n",
       "\n",
       "                                               URL_n  \n",
       "0  http://www.columbia.edu/cu/lweb/digital/collec...  \n",
       "1     http://allafrica.com/stories/200512190886.html  \n",
       "3  https://www.nytimes.com/1997/07/27/magazine/th...  \n",
       "4  https://www.nytimes.com/2005/07/19/arts/televi...  \n",
       "6  http://www.ancientlibrary.com/smith-bio/0075.html  "
      ]
     },
     "execution_count": 12,
     "metadata": {},
     "output_type": "execute_result"
    }
   ],
   "source": [
    "#df['URL_n'] = [re.sub('#.*$', '', x) for x in df['URL_n']]\n",
    "#df['URL_n'] = [re.sub('#ixzz.*$', '', x) for x in df['URL_n']]\n",
    "df['URL_n'] = [re.sub('((\\\\\\\\[ntr])+)$|\\\\\\\\+$', '', x) for x in df['URL_n']]\n",
    "df['URL_n'] = [re.sub('/+$', '', x) for x in df['URL_n']]\n",
    "#df['URL_n'] = [re.sub('\\\\.[s]{0,1}(htm|html|xml)$|\\\\.[s]{0,1}(htm|html|xml)$|\\\\.[s]{0,1}(htm|html|xml)/+$|\\\\.[s]{0,1}(htm|html|xml)/+$', '', x) for x in df['URL_n']]\n",
    "df.head()"
   ]
  },
  {
   "cell_type": "markdown",
   "metadata": {},
   "source": [
    "Some URLs appear encoded whereas others do not, so all are decoded."
   ]
  },
  {
   "cell_type": "code",
   "execution_count": 13,
   "metadata": {},
   "outputs": [],
   "source": [
    "df['URL_n'] = [urllib.parse.unquote(x) for x in df['URL_n']]"
   ]
  },
  {
   "cell_type": "markdown",
   "metadata": {},
   "source": [
    "Then all URLs are normalized using the url_normalize Python package. If an error is returned no transformation is carried out. However, there are a few cases, as it is showed (127). Sometimes these erroneous URLs work but their structure is a bit strange, for this reason they are not removed."
   ]
  },
  {
   "cell_type": "code",
   "execution_count": 14,
   "metadata": {},
   "outputs": [
    {
     "name": "stdout",
     "output_type": "stream",
     "text": [
      "127\n"
     ]
    }
   ],
   "source": [
    "urls = df['URL_n'].tolist()\n",
    "err_urls = []\n",
    "\n",
    "for x in range(len(urls)):\n",
    "    try:\n",
    "        urls[x] = url_normalize(urls[x])\n",
    "    except:\n",
    "        err_urls.append(urls[x])\n",
    "\n",
    "print(len(err_urls))"
   ]
  },
  {
   "cell_type": "markdown",
   "metadata": {},
   "source": [
    "Then, the normalized URLs are included in the data.frame."
   ]
  },
  {
   "cell_type": "code",
   "execution_count": 15,
   "metadata": {},
   "outputs": [],
   "source": [
    "df['URL_n'] = urls"
   ]
  },
  {
   "cell_type": "markdown",
   "metadata": {},
   "source": [
    "After the normalization, the http is added, so it is removed again."
   ]
  },
  {
   "cell_type": "code",
   "execution_count": 16,
   "metadata": {},
   "outputs": [],
   "source": [
    "df['URL_n'] = [re.sub('^http://www[0-9]{0,2}\\\\.|^http://|^https://www[0-9]{0,2}\\\\.|^https://|^//www[0-9]{0,2}\\\\.', '', x) for x in df['URL_n']]"
   ]
  },
  {
   "cell_type": "markdown",
   "metadata": {},
   "source": [
    "The problem with escape characters is solved."
   ]
  },
  {
   "cell_type": "code",
   "execution_count": 17,
   "metadata": {},
   "outputs": [
    {
     "data": {
      "text/html": [
       "<div>\n",
       "<style scoped>\n",
       "    .dataframe tbody tr th:only-of-type {\n",
       "        vertical-align: middle;\n",
       "    }\n",
       "\n",
       "    .dataframe tbody tr th {\n",
       "        vertical-align: top;\n",
       "    }\n",
       "\n",
       "    .dataframe thead th {\n",
       "        text-align: right;\n",
       "    }\n",
       "</style>\n",
       "<table border=\"1\" class=\"dataframe\">\n",
       "  <thead>\n",
       "    <tr style=\"text-align: right;\">\n",
       "      <th></th>\n",
       "      <th>id</th>\n",
       "      <th>URL</th>\n",
       "      <th>URL_n</th>\n",
       "    </tr>\n",
       "  </thead>\n",
       "  <tbody>\n",
       "    <tr>\n",
       "      <th>1769</th>\n",
       "      <td>37852327</td>\n",
       "      <td>http://www.oxforddnb.com/view/article/52801\\n</td>\n",
       "      <td>oxforddnb.com/view/article/52801</td>\n",
       "    </tr>\n",
       "    <tr>\n",
       "      <th>6588248</th>\n",
       "      <td>37852327</td>\n",
       "      <td>http://www.oxforddnb.com/view/article/16103\\n</td>\n",
       "      <td>oxforddnb.com/view/article/16103</td>\n",
       "    </tr>\n",
       "    <tr>\n",
       "      <th>20929578</th>\n",
       "      <td>37852327</td>\n",
       "      <td>http://www.oxforddnb.com/view/article/24964\\n</td>\n",
       "      <td>oxforddnb.com/view/article/24964</td>\n",
       "    </tr>\n",
       "    <tr>\n",
       "      <th>21222439</th>\n",
       "      <td>37852327</td>\n",
       "      <td>http://www.oxforddnb.com/view/article/50229\\n</td>\n",
       "      <td>oxforddnb.com/view/article/50229</td>\n",
       "    </tr>\n",
       "  </tbody>\n",
       "</table>\n",
       "</div>"
      ],
      "text/plain": [
       "                id                                            URL  \\\n",
       "1769      37852327  http://www.oxforddnb.com/view/article/52801\\n   \n",
       "6588248   37852327  http://www.oxforddnb.com/view/article/16103\\n   \n",
       "20929578  37852327  http://www.oxforddnb.com/view/article/24964\\n   \n",
       "21222439  37852327  http://www.oxforddnb.com/view/article/50229\\n   \n",
       "\n",
       "                                     URL_n  \n",
       "1769      oxforddnb.com/view/article/52801  \n",
       "6588248   oxforddnb.com/view/article/16103  \n",
       "20929578  oxforddnb.com/view/article/24964  \n",
       "21222439  oxforddnb.com/view/article/50229  "
      ]
     },
     "execution_count": 17,
     "metadata": {},
     "output_type": "execute_result"
    }
   ],
   "source": [
    "df[df['id'] == 37852327]"
   ]
  },
  {
   "cell_type": "markdown",
   "metadata": {},
   "source": [
    "## 2. Domains"
   ]
  },
  {
   "cell_type": "markdown",
   "metadata": {},
   "source": [
    "Domain are obtained and the entire data.frame is filtered by normalized URL. Erroneous domains are removed."
   ]
  },
  {
   "cell_type": "code",
   "execution_count": 18,
   "metadata": {},
   "outputs": [
    {
     "data": {
      "text/html": [
       "<div>\n",
       "<style scoped>\n",
       "    .dataframe tbody tr th:only-of-type {\n",
       "        vertical-align: middle;\n",
       "    }\n",
       "\n",
       "    .dataframe tbody tr th {\n",
       "        vertical-align: top;\n",
       "    }\n",
       "\n",
       "    .dataframe thead th {\n",
       "        text-align: right;\n",
       "    }\n",
       "</style>\n",
       "<table border=\"1\" class=\"dataframe\">\n",
       "  <thead>\n",
       "    <tr style=\"text-align: right;\">\n",
       "      <th></th>\n",
       "      <th>id</th>\n",
       "      <th>URL</th>\n",
       "      <th>URL_n</th>\n",
       "      <th>domain</th>\n",
       "    </tr>\n",
       "  </thead>\n",
       "  <tbody>\n",
       "    <tr>\n",
       "      <th>0</th>\n",
       "      <td>39495284</td>\n",
       "      <td>http://www.columbia.edu/cu/lweb/digital/collec...</td>\n",
       "      <td>columbia.edu/cu/lweb/digital/collections/cul/t...</td>\n",
       "      <td>columbia.edu</td>\n",
       "    </tr>\n",
       "    <tr>\n",
       "      <th>1</th>\n",
       "      <td>3528721</td>\n",
       "      <td>http://allafrica.com/stories/200512190886.html</td>\n",
       "      <td>allafrica.com/stories/200512190886.html</td>\n",
       "      <td>allafrica.com</td>\n",
       "    </tr>\n",
       "    <tr>\n",
       "      <th>3</th>\n",
       "      <td>8552398</td>\n",
       "      <td>https://www.nytimes.com/1997/07/27/magazine/th...</td>\n",
       "      <td>nytimes.com/1997/07/27/magazine/the-thin-red-l...</td>\n",
       "      <td>nytimes.com</td>\n",
       "    </tr>\n",
       "    <tr>\n",
       "      <th>4</th>\n",
       "      <td>23782313</td>\n",
       "      <td>https://www.nytimes.com/2005/07/19/arts/televi...</td>\n",
       "      <td>nytimes.com/2005/07/19/arts/television/19heff....</td>\n",
       "      <td>nytimes.com</td>\n",
       "    </tr>\n",
       "    <tr>\n",
       "      <th>6</th>\n",
       "      <td>17288329</td>\n",
       "      <td>http://www.ancientlibrary.com/smith-bio/0075.html</td>\n",
       "      <td>ancientlibrary.com/smith-bio/0075.html</td>\n",
       "      <td>ancientlibrary.com</td>\n",
       "    </tr>\n",
       "  </tbody>\n",
       "</table>\n",
       "</div>"
      ],
      "text/plain": [
       "         id                                                URL  \\\n",
       "0  39495284  http://www.columbia.edu/cu/lweb/digital/collec...   \n",
       "1   3528721     http://allafrica.com/stories/200512190886.html   \n",
       "3   8552398  https://www.nytimes.com/1997/07/27/magazine/th...   \n",
       "4  23782313  https://www.nytimes.com/2005/07/19/arts/televi...   \n",
       "6  17288329  http://www.ancientlibrary.com/smith-bio/0075.html   \n",
       "\n",
       "                                               URL_n              domain  \n",
       "0  columbia.edu/cu/lweb/digital/collections/cul/t...        columbia.edu  \n",
       "1            allafrica.com/stories/200512190886.html       allafrica.com  \n",
       "3  nytimes.com/1997/07/27/magazine/the-thin-red-l...         nytimes.com  \n",
       "4  nytimes.com/2005/07/19/arts/television/19heff....         nytimes.com  \n",
       "6             ancientlibrary.com/smith-bio/0075.html  ancientlibrary.com  "
      ]
     },
     "execution_count": 18,
     "metadata": {},
     "output_type": "execute_result"
    }
   ],
   "source": [
    "df['domain'] = [re.sub('/.*', '', x) for x in df['URL_n']]\n",
    "df = df[df['domain'] != '']\n",
    "df = df[df['domain'].str.contains('.', regex=False)]\n",
    "df.head()"
   ]
  },
  {
   "cell_type": "markdown",
   "metadata": {},
   "source": [
    "Network of Wikipedia pages that reference domains."
   ]
  },
  {
   "cell_type": "code",
   "execution_count": null,
   "metadata": {},
   "outputs": [],
   "source": [
    "df_dom = df[['id', 'domain']]\n",
    "df_dom = df_dom.drop_duplicates()\n",
    "#df_dom.to_csv('references/domains.csv', index=False)"
   ]
  },
  {
   "cell_type": "code",
   "execution_count": null,
   "metadata": {},
   "outputs": [],
   "source": [
    "#sorted(set(df_dom['domain']), key=len)"
   ]
  },
  {
   "cell_type": "code",
   "execution_count": null,
   "metadata": {},
   "outputs": [],
   "source": [
    "df_dom"
   ]
  },
  {
   "cell_type": "markdown",
   "metadata": {},
   "source": [
    "## 3. Top domains modifications"
   ]
  },
  {
   "cell_type": "markdown",
   "metadata": {},
   "source": [
    "Taking into account the most mentioned domain, the following specific modifications have been carried out. Some of then do not require further modifications."
   ]
  },
  {
   "cell_type": "code",
   "execution_count": 19,
   "metadata": {},
   "outputs": [
    {
     "data": {
      "text/html": [
       "<div>\n",
       "<style scoped>\n",
       "    .dataframe tbody tr th:only-of-type {\n",
       "        vertical-align: middle;\n",
       "    }\n",
       "\n",
       "    .dataframe tbody tr th {\n",
       "        vertical-align: top;\n",
       "    }\n",
       "\n",
       "    .dataframe thead th {\n",
       "        text-align: right;\n",
       "    }\n",
       "</style>\n",
       "<table border=\"1\" class=\"dataframe\">\n",
       "  <thead>\n",
       "    <tr style=\"text-align: right;\">\n",
       "      <th></th>\n",
       "      <th>index</th>\n",
       "      <th>domain</th>\n",
       "    </tr>\n",
       "  </thead>\n",
       "  <tbody>\n",
       "    <tr>\n",
       "      <th>0</th>\n",
       "      <td>books.google.com</td>\n",
       "      <td>923122</td>\n",
       "    </tr>\n",
       "    <tr>\n",
       "      <th>1</th>\n",
       "      <td>archive.org</td>\n",
       "      <td>423102</td>\n",
       "    </tr>\n",
       "    <tr>\n",
       "      <th>2</th>\n",
       "      <td>nytimes.com</td>\n",
       "      <td>286826</td>\n",
       "    </tr>\n",
       "    <tr>\n",
       "      <th>3</th>\n",
       "      <td>bbc.co.uk</td>\n",
       "      <td>223213</td>\n",
       "    </tr>\n",
       "    <tr>\n",
       "      <th>4</th>\n",
       "      <td>theguardian.com</td>\n",
       "      <td>192147</td>\n",
       "    </tr>\n",
       "    <tr>\n",
       "      <th>5</th>\n",
       "      <td>census.gov</td>\n",
       "      <td>183571</td>\n",
       "    </tr>\n",
       "    <tr>\n",
       "      <th>6</th>\n",
       "      <td>news.bbc.co.uk</td>\n",
       "      <td>166409</td>\n",
       "    </tr>\n",
       "    <tr>\n",
       "      <th>7</th>\n",
       "      <td>billboard.com</td>\n",
       "      <td>166383</td>\n",
       "    </tr>\n",
       "    <tr>\n",
       "      <th>8</th>\n",
       "      <td>youtube.com</td>\n",
       "      <td>150286</td>\n",
       "    </tr>\n",
       "    <tr>\n",
       "      <th>9</th>\n",
       "      <td>news.google.com</td>\n",
       "      <td>127003</td>\n",
       "    </tr>\n",
       "    <tr>\n",
       "      <th>10</th>\n",
       "      <td>newspapers.com</td>\n",
       "      <td>126281</td>\n",
       "    </tr>\n",
       "    <tr>\n",
       "      <th>11</th>\n",
       "      <td>allmusic.com</td>\n",
       "      <td>102038</td>\n",
       "    </tr>\n",
       "    <tr>\n",
       "      <th>12</th>\n",
       "      <td>nla.gov.au</td>\n",
       "      <td>85595</td>\n",
       "    </tr>\n",
       "    <tr>\n",
       "      <th>13</th>\n",
       "      <td>washingtonpost.com</td>\n",
       "      <td>82528</td>\n",
       "    </tr>\n",
       "    <tr>\n",
       "      <th>14</th>\n",
       "      <td>telegraph.co.uk</td>\n",
       "      <td>82402</td>\n",
       "    </tr>\n",
       "    <tr>\n",
       "      <th>15</th>\n",
       "      <td>espncricinfo.com</td>\n",
       "      <td>64831</td>\n",
       "    </tr>\n",
       "    <tr>\n",
       "      <th>16</th>\n",
       "      <td>imdb.com</td>\n",
       "      <td>64811</td>\n",
       "    </tr>\n",
       "    <tr>\n",
       "      <th>17</th>\n",
       "      <td>independent.co.uk</td>\n",
       "      <td>62157</td>\n",
       "    </tr>\n",
       "    <tr>\n",
       "      <th>18</th>\n",
       "      <td>variety.com</td>\n",
       "      <td>60947</td>\n",
       "    </tr>\n",
       "    <tr>\n",
       "      <th>19</th>\n",
       "      <td>sports-reference.com</td>\n",
       "      <td>60094</td>\n",
       "    </tr>\n",
       "    <tr>\n",
       "      <th>20</th>\n",
       "      <td>itunes.apple.com</td>\n",
       "      <td>59753</td>\n",
       "    </tr>\n",
       "    <tr>\n",
       "      <th>21</th>\n",
       "      <td>tvbythenumbers.zap2it.com</td>\n",
       "      <td>58423</td>\n",
       "    </tr>\n",
       "    <tr>\n",
       "      <th>22</th>\n",
       "      <td>timesofindia.indiatimes.com</td>\n",
       "      <td>57209</td>\n",
       "    </tr>\n",
       "    <tr>\n",
       "      <th>23</th>\n",
       "      <td>baseball-reference.com</td>\n",
       "      <td>54085</td>\n",
       "    </tr>\n",
       "    <tr>\n",
       "      <th>24</th>\n",
       "      <td>bbc.com</td>\n",
       "      <td>53766</td>\n",
       "    </tr>\n",
       "    <tr>\n",
       "      <th>25</th>\n",
       "      <td>stat.gov.pl</td>\n",
       "      <td>52570</td>\n",
       "    </tr>\n",
       "    <tr>\n",
       "      <th>26</th>\n",
       "      <td>hollywoodreporter.com</td>\n",
       "      <td>49740</td>\n",
       "    </tr>\n",
       "    <tr>\n",
       "      <th>27</th>\n",
       "      <td>twitter.com</td>\n",
       "      <td>49593</td>\n",
       "    </tr>\n",
       "    <tr>\n",
       "      <th>28</th>\n",
       "      <td>deadline.com</td>\n",
       "      <td>48764</td>\n",
       "    </tr>\n",
       "    <tr>\n",
       "      <th>29</th>\n",
       "      <td>animenewsnetwork.com</td>\n",
       "      <td>48539</td>\n",
       "    </tr>\n",
       "    <tr>\n",
       "      <th>30</th>\n",
       "      <td>reuters.com</td>\n",
       "      <td>46484</td>\n",
       "    </tr>\n",
       "    <tr>\n",
       "      <th>31</th>\n",
       "      <td>thehindu.com</td>\n",
       "      <td>45421</td>\n",
       "    </tr>\n",
       "    <tr>\n",
       "      <th>32</th>\n",
       "      <td>cricketarchive.com</td>\n",
       "      <td>44185</td>\n",
       "    </tr>\n",
       "    <tr>\n",
       "      <th>33</th>\n",
       "      <td>articles.latimes.com</td>\n",
       "      <td>43631</td>\n",
       "    </tr>\n",
       "    <tr>\n",
       "      <th>34</th>\n",
       "      <td>discogs.com</td>\n",
       "      <td>42593</td>\n",
       "    </tr>\n",
       "    <tr>\n",
       "      <th>35</th>\n",
       "      <td>officialcharts.com</td>\n",
       "      <td>40671</td>\n",
       "    </tr>\n",
       "    <tr>\n",
       "      <th>36</th>\n",
       "      <td>metacritic.com</td>\n",
       "      <td>40639</td>\n",
       "    </tr>\n",
       "    <tr>\n",
       "      <th>37</th>\n",
       "      <td>abc.net.au</td>\n",
       "      <td>40033</td>\n",
       "    </tr>\n",
       "    <tr>\n",
       "      <th>38</th>\n",
       "      <td>books.google.co.uk</td>\n",
       "      <td>38686</td>\n",
       "    </tr>\n",
       "    <tr>\n",
       "      <th>39</th>\n",
       "      <td>facebook.com</td>\n",
       "      <td>38050</td>\n",
       "    </tr>\n",
       "    <tr>\n",
       "      <th>40</th>\n",
       "      <td>cbc.ca</td>\n",
       "      <td>37432</td>\n",
       "    </tr>\n",
       "    <tr>\n",
       "      <th>41</th>\n",
       "      <td>amazon.com</td>\n",
       "      <td>37369</td>\n",
       "    </tr>\n",
       "    <tr>\n",
       "      <th>42</th>\n",
       "      <td>espn.com</td>\n",
       "      <td>36873</td>\n",
       "    </tr>\n",
       "    <tr>\n",
       "      <th>43</th>\n",
       "      <td>latimes.com</td>\n",
       "      <td>36845</td>\n",
       "    </tr>\n",
       "    <tr>\n",
       "      <th>44</th>\n",
       "      <td>usatoday.com</td>\n",
       "      <td>36014</td>\n",
       "    </tr>\n",
       "    <tr>\n",
       "      <th>45</th>\n",
       "      <td>rollingstone.com</td>\n",
       "      <td>35805</td>\n",
       "    </tr>\n",
       "    <tr>\n",
       "      <th>46</th>\n",
       "      <td>smh.com.au</td>\n",
       "      <td>33732</td>\n",
       "    </tr>\n",
       "    <tr>\n",
       "      <th>47</th>\n",
       "      <td>int.soccerway.com</td>\n",
       "      <td>32651</td>\n",
       "    </tr>\n",
       "    <tr>\n",
       "      <th>48</th>\n",
       "      <td>forbes.com</td>\n",
       "      <td>32491</td>\n",
       "    </tr>\n",
       "    <tr>\n",
       "      <th>49</th>\n",
       "      <td>cnn.com</td>\n",
       "      <td>32465</td>\n",
       "    </tr>\n",
       "  </tbody>\n",
       "</table>\n",
       "</div>"
      ],
      "text/plain": [
       "                          index  domain\n",
       "0              books.google.com  923122\n",
       "1                   archive.org  423102\n",
       "2                   nytimes.com  286826\n",
       "3                     bbc.co.uk  223213\n",
       "4               theguardian.com  192147\n",
       "5                    census.gov  183571\n",
       "6                news.bbc.co.uk  166409\n",
       "7                 billboard.com  166383\n",
       "8                   youtube.com  150286\n",
       "9               news.google.com  127003\n",
       "10               newspapers.com  126281\n",
       "11                 allmusic.com  102038\n",
       "12                   nla.gov.au   85595\n",
       "13           washingtonpost.com   82528\n",
       "14              telegraph.co.uk   82402\n",
       "15             espncricinfo.com   64831\n",
       "16                     imdb.com   64811\n",
       "17            independent.co.uk   62157\n",
       "18                  variety.com   60947\n",
       "19         sports-reference.com   60094\n",
       "20             itunes.apple.com   59753\n",
       "21    tvbythenumbers.zap2it.com   58423\n",
       "22  timesofindia.indiatimes.com   57209\n",
       "23       baseball-reference.com   54085\n",
       "24                      bbc.com   53766\n",
       "25                  stat.gov.pl   52570\n",
       "26        hollywoodreporter.com   49740\n",
       "27                  twitter.com   49593\n",
       "28                 deadline.com   48764\n",
       "29         animenewsnetwork.com   48539\n",
       "30                  reuters.com   46484\n",
       "31                 thehindu.com   45421\n",
       "32           cricketarchive.com   44185\n",
       "33         articles.latimes.com   43631\n",
       "34                  discogs.com   42593\n",
       "35           officialcharts.com   40671\n",
       "36               metacritic.com   40639\n",
       "37                   abc.net.au   40033\n",
       "38           books.google.co.uk   38686\n",
       "39                 facebook.com   38050\n",
       "40                       cbc.ca   37432\n",
       "41                   amazon.com   37369\n",
       "42                     espn.com   36873\n",
       "43                  latimes.com   36845\n",
       "44                 usatoday.com   36014\n",
       "45             rollingstone.com   35805\n",
       "46                   smh.com.au   33732\n",
       "47            int.soccerway.com   32651\n",
       "48                   forbes.com   32491\n",
       "49                      cnn.com   32465"
      ]
     },
     "execution_count": 19,
     "metadata": {},
     "output_type": "execute_result"
    }
   ],
   "source": [
    "domains_freq = pd.value_counts(df.domain).to_frame().reset_index()\n",
    "domains_freq[0:50]"
   ]
  },
  {
   "cell_type": "markdown",
   "metadata": {},
   "source": [
    "The top 50 most mentioned domains represent the 20% of mentions."
   ]
  },
  {
   "cell_type": "code",
   "execution_count": 20,
   "metadata": {},
   "outputs": [
    {
     "data": {
      "text/plain": [
       "20.0160866128398"
      ]
     },
     "execution_count": 20,
     "metadata": {},
     "output_type": "execute_result"
    }
   ],
   "source": [
    "100*sum(pd.value_counts(df.domain).to_frame().reset_index()['domain'][0:50])/sum(pd.value_counts(df.domain).to_frame().reset_index()['domain'])"
   ]
  },
  {
   "cell_type": "markdown",
   "metadata": {},
   "source": [
    "There are a total of 1,590,478 different domains."
   ]
  },
  {
   "cell_type": "code",
   "execution_count": 21,
   "metadata": {},
   "outputs": [
    {
     "data": {
      "text/plain": [
       "1590478"
      ]
     },
     "execution_count": 21,
     "metadata": {},
     "output_type": "execute_result"
    }
   ],
   "source": [
    "len(pd.value_counts(df.domain).to_frame().reset_index())"
   ]
  },
  {
   "cell_type": "markdown",
   "metadata": {},
   "source": [
    "## Temporal files"
   ]
  },
  {
   "cell_type": "code",
   "execution_count": null,
   "metadata": {},
   "outputs": [],
   "source": [
    "df.to_csv('references/ref_url.csv', index=False)"
   ]
  },
  {
   "cell_type": "code",
   "execution_count": null,
   "metadata": {},
   "outputs": [],
   "source": [
    "df = pd.read_csv('references/ref_url.csv')"
   ]
  },
  {
   "cell_type": "code",
   "execution_count": null,
   "metadata": {},
   "outputs": [],
   "source": [
    "df"
   ]
  },
  {
   "cell_type": "markdown",
   "metadata": {},
   "source": [
    "### Methodological notes"
   ]
  },
  {
   "cell_type": "markdown",
   "metadata": {},
   "source": [
    "This is not an exhaustive process. Not all URLs are examined to detec all failures and normalize in a exhaustive way. In fact an alogithm was considered to clean all URLs, but i tas not possible. For instance, some website have change their URL structure over time (e.g. YouTube), others are case sensitive, some use parameters that in some cases are key (e.g. chart\\?f in billboard), some websites have been removed or are region-restricted (e.g. sports-reference.com)...\n",
    "\n",
    "When an URL include a parameter that points to a subsection inside the page, for instance a subheading or an album song, it is removed.\n",
    "\n",
    "Clustering could be dangerous: worldcat.org/search?fq=yr%3A1906&q=butmi worldcat.org/search?fq=yr%3A1907&q=butmi\n",
    "\n",
    "**Attention**: More URLs are examinated than showed. The are only showed as examples."
   ]
  },
  {
   "cell_type": "markdown",
   "metadata": {},
   "source": [
    "![title](URLs.png)"
   ]
  },
  {
   "cell_type": "markdown",
   "metadata": {},
   "source": [
    "### 1. books.google.com"
   ]
  },
  {
   "cell_type": "markdown",
   "metadata": {},
   "source": [
    "These URLs require a lot of transformations to be reduced."
   ]
  },
  {
   "cell_type": "code",
   "execution_count": 22,
   "metadata": {},
   "outputs": [
    {
     "data": {
      "text/plain": [
       "['books.google.com/books?id=DlZAAAAAIAAJ&pg=PA1#v%3Donepage%26q%26f%3Dfalse',\n",
       " 'books.google.com/?id=5367AAAAIAAJ',\n",
       " 'books.google.com/books?id=-CojUQpSS6wC',\n",
       " 'books.google.com/books?id=99IDuIGxckcC',\n",
       " 'books.google.com/books?id=2KSbTcdYv9QC&pg=PA1426']"
      ]
     },
     "execution_count": 22,
     "metadata": {},
     "output_type": "execute_result"
    }
   ],
   "source": [
    "list(df.loc[df['domain'] == 'books.google.com', 'URL_n'])[0:5]"
   ]
  },
  {
   "cell_type": "code",
   "execution_count": 23,
   "metadata": {},
   "outputs": [],
   "source": [
    "df.loc[df['domain'] == 'books.google.com', 'URL_n'] = [re.sub('\\?.*&id=', '?id=', x, flags=re.IGNORECASE) for x in df.loc[df['domain'] == 'books.google.com', 'URL_n']]\n",
    "df.loc[df['domain'] == 'books.google.com', 'URL_n'] = [re.sub('(\\?id=.*?&)(.*)', r'\\1', x, flags=re.IGNORECASE) for x in df.loc[df['domain'] == 'books.google.com', 'URL_n']]\n",
    "df.loc[df['domain'] == 'books.google.com', 'URL_n'] = [re.sub('\\?.*&q=', '?q=', x, flags=re.IGNORECASE) for x in df.loc[df['domain'] == 'books.google.com', 'URL_n']]\n",
    "df.loc[df['domain'] == 'books.google.com', 'URL_n'] = [re.sub('ngrams/graph\\?.*&content=', 'ngrams/graph?content=', x, flags=re.IGNORECASE) for x in df.loc[df['domain'] == 'books.google.com', 'URL_n']]\n",
    "df.loc[df['domain'] == 'books.google.com', 'URL_n'] = [re.sub('&.*', '', x, flags=re.IGNORECASE) for x in df.loc[df['domain'] == 'books.google.com', 'URL_n']]\n",
    "df.loc[df['domain'] == 'books.google.com', 'URL_n'] = [re.sub('/books.*\\?id=', '/?id=', x, flags=re.IGNORECASE) for x in df.loc[df['domain'] == 'books.google.com', 'URL_n']]\n",
    "df.loc[df['domain'] == 'books.google.com', 'URL_n'] = [re.sub('/books.*\\?vid=', '/?vid=', x, flags=re.IGNORECASE) for x in df.loc[df['domain'] == 'books.google.com', 'URL_n']]\n",
    "df.loc[df['domain'] == 'books.google.com', 'URL_n'] = [re.sub('/books.*\\?q=', '/?q=', x, flags=re.IGNORECASE) for x in df.loc[df['domain'] == 'books.google.com', 'URL_n']]\n",
    "df.loc[df['domain'] == 'books.google.com', 'URL_n'] = [re.sub('#(v|search).*', '', x, flags=re.IGNORECASE) for x in df.loc[df['domain'] == 'books.google.com', 'URL_n']]"
   ]
  },
  {
   "cell_type": "code",
   "execution_count": 24,
   "metadata": {},
   "outputs": [
    {
     "data": {
      "text/plain": [
       "['books.google.com/?id=DlZAAAAAIAAJ',\n",
       " 'books.google.com/?id=5367AAAAIAAJ',\n",
       " 'books.google.com/?id=-CojUQpSS6wC',\n",
       " 'books.google.com/?id=99IDuIGxckcC',\n",
       " 'books.google.com/?id=2KSbTcdYv9QC']"
      ]
     },
     "execution_count": 24,
     "metadata": {},
     "output_type": "execute_result"
    }
   ],
   "source": [
    "list(df[df['domain'] == 'books.google.com']['URL_n'])[0:5]"
   ]
  },
  {
   "cell_type": "markdown",
   "metadata": {},
   "source": [
    "### 2. archive.org"
   ]
  },
  {
   "cell_type": "markdown",
   "metadata": {},
   "source": [
    "Some tags are removed."
   ]
  },
  {
   "cell_type": "code",
   "execution_count": 25,
   "metadata": {},
   "outputs": [
    {
     "data": {
      "text/plain": [
       "['archive.org/details/recordsofgeneral00gene/page/n7',\n",
       " 'archive.org/details/eastasiacultural00ebre_0',\n",
       " 'archive.org/details/womenpoliticsinc0000maci/page/242',\n",
       " 'archive.org/details/beyondselfintere0000unse/page/133',\n",
       " 'archive.org/details/stayingonalone00alic']"
      ]
     },
     "execution_count": 25,
     "metadata": {},
     "output_type": "execute_result"
    }
   ],
   "source": [
    "list(df.loc[df['domain'] == 'archive.org', 'URL_n'])[0:5]"
   ]
  },
  {
   "cell_type": "code",
   "execution_count": 26,
   "metadata": {},
   "outputs": [],
   "source": [
    "df.loc[df['domain'] == 'archive.org', 'URL_n'] = [re.sub('/page/.*', '', x, flags=re.IGNORECASE) for x in df.loc[df['domain'] == 'archive.org', 'URL_n']]\n",
    "df.loc[df['domain'] == 'archive.org', 'URL_n'] = [re.sub('#(page|mode|start).*', '', x, flags=re.IGNORECASE) for x in df.loc[df['domain'] == 'archive.org', 'URL_n']]"
   ]
  },
  {
   "cell_type": "code",
   "execution_count": 27,
   "metadata": {},
   "outputs": [
    {
     "data": {
      "text/plain": [
       "['archive.org/details/recordsofgeneral00gene',\n",
       " 'archive.org/details/eastasiacultural00ebre_0',\n",
       " 'archive.org/details/womenpoliticsinc0000maci',\n",
       " 'archive.org/details/beyondselfintere0000unse',\n",
       " 'archive.org/details/stayingonalone00alic']"
      ]
     },
     "execution_count": 27,
     "metadata": {},
     "output_type": "execute_result"
    }
   ],
   "source": [
    "list(df.loc[df['domain'] == 'archive.org', 'URL_n'])[0:5]"
   ]
  },
  {
   "cell_type": "markdown",
   "metadata": {},
   "source": [
    "### 3. nytimes.com"
   ]
  },
  {
   "cell_type": "markdown",
   "metadata": {},
   "source": [
    "Removed after the .html."
   ]
  },
  {
   "cell_type": "code",
   "execution_count": 28,
   "metadata": {},
   "outputs": [
    {
     "data": {
      "text/plain": [
       "['nytimes.com/1997/07/27/magazine/the-thin-red-line.html?pagewanted=2',\n",
       " 'nytimes.com/2005/07/19/arts/television/19heff.html',\n",
       " 'nytimes.com/2009/09/10/science/10fish.html',\n",
       " 'nytimes.com/1986/06/18/us/the-supreme-court-man-in-the-news-judge-with-tenacity-and-charm-antonin-scalia.html',\n",
       " 'nytimes.com/2009/11/13/us/13sftattoo.html?pagewanted=all']"
      ]
     },
     "execution_count": 28,
     "metadata": {},
     "output_type": "execute_result"
    }
   ],
   "source": [
    "list(df.loc[df['domain'] == 'nytimes.com', 'URL_n'])[0:5]"
   ]
  },
  {
   "cell_type": "code",
   "execution_count": 29,
   "metadata": {},
   "outputs": [],
   "source": [
    "df.loc[df['domain'] == 'nytimes.com', 'URL_n'] = [re.sub('\\.html\\?.*', '.html', x, flags=re.IGNORECASE) for x in df.loc[df['domain'] == 'nytimes.com', 'URL_n']]\n",
    "df.loc[df['domain'] == 'nytimes.com', 'URL_n'] = [re.sub('\\.html#.*', '.html', x, flags=re.IGNORECASE) for x in df.loc[df['domain'] == 'nytimes.com', 'URL_n']]"
   ]
  },
  {
   "cell_type": "code",
   "execution_count": 30,
   "metadata": {},
   "outputs": [
    {
     "data": {
      "text/plain": [
       "['nytimes.com/1997/07/27/magazine/the-thin-red-line.html',\n",
       " 'nytimes.com/2005/07/19/arts/television/19heff.html',\n",
       " 'nytimes.com/2009/09/10/science/10fish.html',\n",
       " 'nytimes.com/1986/06/18/us/the-supreme-court-man-in-the-news-judge-with-tenacity-and-charm-antonin-scalia.html',\n",
       " 'nytimes.com/2009/11/13/us/13sftattoo.html']"
      ]
     },
     "execution_count": 30,
     "metadata": {},
     "output_type": "execute_result"
    }
   ],
   "source": [
    "list(df.loc[df['domain'] == 'nytimes.com', 'URL_n'])[0:5]"
   ]
  },
  {
   "cell_type": "markdown",
   "metadata": {},
   "source": [
    "### 4. bbc.co.uk"
   ]
  },
  {
   "cell_type": "markdown",
   "metadata": {},
   "source": [
    "Some old URLs can include parameters, but they cannot be removed."
   ]
  },
  {
   "cell_type": "code",
   "execution_count": 31,
   "metadata": {},
   "outputs": [
    {
     "data": {
      "text/plain": [
       "['bbc.co.uk/bbc7/comedy/progpages/pennydreadfuls.shtml',\n",
       " 'bbc.co.uk/programmes/p0093q14',\n",
       " 'bbc.co.uk/cult/buffy/angel/episodes/two/page12.shtml',\n",
       " 'bbc.co.uk/programmes/b00vrt97',\n",
       " 'bbc.co.uk/programmes/b04tlj7g']"
      ]
     },
     "execution_count": 31,
     "metadata": {},
     "output_type": "execute_result"
    }
   ],
   "source": [
    "list(df.loc[df['domain'] == 'bbc.co.uk', 'URL_n'])[0:5]"
   ]
  },
  {
   "cell_type": "code",
   "execution_count": 32,
   "metadata": {},
   "outputs": [],
   "source": [
    "df.loc[df['domain'] == 'bbc.co.uk', 'URL_n'] = [re.sub('\\?(ocid|intlink|print|ns_).*', '', x, flags=re.IGNORECASE) for x in df.loc[df['domain'] == 'bbc.co.uk', 'URL_n']]\n",
    "df.loc[df['domain'] == 'bbc.co.uk', 'URL_n'] = [re.sub('#TWEET.*', '', x, flags=re.IGNORECASE) for x in df.loc[df['domain'] == 'bbc.co.uk', 'URL_n']]"
   ]
  },
  {
   "cell_type": "code",
   "execution_count": 33,
   "metadata": {},
   "outputs": [
    {
     "data": {
      "text/plain": [
       "['bbc.co.uk/bbc7/comedy/progpages/pennydreadfuls.shtml',\n",
       " 'bbc.co.uk/programmes/p0093q14',\n",
       " 'bbc.co.uk/cult/buffy/angel/episodes/two/page12.shtml',\n",
       " 'bbc.co.uk/programmes/b00vrt97',\n",
       " 'bbc.co.uk/programmes/b04tlj7g']"
      ]
     },
     "execution_count": 33,
     "metadata": {},
     "output_type": "execute_result"
    }
   ],
   "source": [
    "list(df.loc[df['domain'] == 'bbc.co.uk', 'URL_n'])[0:5]"
   ]
  },
  {
   "cell_type": "markdown",
   "metadata": {},
   "source": [
    "### 5. theguardian.com"
   ]
  },
  {
   "cell_type": "markdown",
   "metadata": {},
   "source": [
    "Some parameters are not useful."
   ]
  },
  {
   "cell_type": "code",
   "execution_count": 34,
   "metadata": {},
   "outputs": [
    {
     "data": {
      "text/plain": [
       "['theguardian.com/world/2011/dec/04/slovenia-election-ljubljana-mayor-wins',\n",
       " 'theguardian.com/artanddesign/2011/oct/17/glasgow-turner-prize',\n",
       " 'theguardian.com/media/2004/jun/25/broadcasting.ITV',\n",
       " 'theguardian.com/theguardian/2009/mar/09/archive-1973-london-ira-bombs',\n",
       " 'theguardian.com/northerner/idx/0,,2292170,00.html']"
      ]
     },
     "execution_count": 34,
     "metadata": {},
     "output_type": "execute_result"
    }
   ],
   "source": [
    "list(df.loc[df['domain'] == 'theguardian.com', 'URL_n'])[0:5]"
   ]
  },
  {
   "cell_type": "code",
   "execution_count": 35,
   "metadata": {},
   "outputs": [],
   "source": [
    "df.loc[df['domain'] == 'theguardian.com', 'URL_n'] = [re.sub('\\?(INTCMP=|newsfeed=|cmp=|feed=).*#', '#', x, flags=re.IGNORECASE) for x in df.loc[df['domain'] == 'theguardian.com', 'URL_n']]\n",
    "df.loc[df['domain'] == 'theguardian.com', 'URL_n'] = [re.sub('\\?(INTCMP=|newsfeed=|cmp=|feed=).*', '', x, flags=re.IGNORECASE) for x in df.loc[df['domain'] == 'theguardian.com', 'URL_n']]"
   ]
  },
  {
   "cell_type": "code",
   "execution_count": 36,
   "metadata": {},
   "outputs": [
    {
     "data": {
      "text/plain": [
       "['theguardian.com/world/2011/dec/04/slovenia-election-ljubljana-mayor-wins',\n",
       " 'theguardian.com/artanddesign/2011/oct/17/glasgow-turner-prize',\n",
       " 'theguardian.com/media/2004/jun/25/broadcasting.ITV',\n",
       " 'theguardian.com/theguardian/2009/mar/09/archive-1973-london-ira-bombs',\n",
       " 'theguardian.com/northerner/idx/0,,2292170,00.html']"
      ]
     },
     "execution_count": 36,
     "metadata": {},
     "output_type": "execute_result"
    }
   ],
   "source": [
    "list(df.loc[df['domain'] == 'theguardian.com', 'URL_n'])[0:5]"
   ]
  },
  {
   "cell_type": "markdown",
   "metadata": {},
   "source": [
    "### 6. census.gov"
   ]
  },
  {
   "cell_type": "markdown",
   "metadata": {},
   "source": [
    "No changes required."
   ]
  },
  {
   "cell_type": "code",
   "execution_count": 37,
   "metadata": {},
   "outputs": [
    {
     "data": {
      "text/plain": [
       "['census.gov/', 'census.gov/', 'census.gov/', 'census.gov/', 'census.gov/']"
      ]
     },
     "execution_count": 37,
     "metadata": {},
     "output_type": "execute_result"
    }
   ],
   "source": [
    "list(df.loc[df['domain'] == 'census.gov', 'URL_n'])[0:5]"
   ]
  },
  {
   "cell_type": "markdown",
   "metadata": {},
   "source": [
    "### 7. news.bbc.co.uk"
   ]
  },
  {
   "cell_type": "markdown",
   "metadata": {},
   "source": [
    "Some parameters are not useful."
   ]
  },
  {
   "cell_type": "code",
   "execution_count": 38,
   "metadata": {},
   "outputs": [
    {
     "data": {
      "text/plain": [
       "['news.bbc.co.uk/1/hi/england/lancashire/8367849.stm',\n",
       " 'news.bbc.co.uk/sport1/hi/football/teams/q/qpr/6238710.stm',\n",
       " 'news.bbc.co.uk/1/hi/england/west_midlands/7278713.stm',\n",
       " 'news.bbc.co.uk/1/hi/8670037.stm',\n",
       " 'news.bbc.co.uk/1/hi/england/lincolnshire/6116660.stm']"
      ]
     },
     "execution_count": 38,
     "metadata": {},
     "output_type": "execute_result"
    }
   ],
   "source": [
    "list(df.loc[df['domain'] == 'news.bbc.co.uk', 'URL_n'])[0:5]"
   ]
  },
  {
   "cell_type": "code",
   "execution_count": 39,
   "metadata": {},
   "outputs": [],
   "source": [
    "df.loc[df['domain'] == 'news.bbc.co.uk', 'URL_n'] = [re.sub('\\?([a-zA-Z]{1,3}$|rss=.*|from=.*)', '', x, flags=re.IGNORECASE) for x in df.loc[df['domain'] == 'news.bbc.co.uk', 'URL_n']]"
   ]
  },
  {
   "cell_type": "code",
   "execution_count": 40,
   "metadata": {},
   "outputs": [
    {
     "data": {
      "text/plain": [
       "['news.bbc.co.uk/1/hi/england/lancashire/8367849.stm',\n",
       " 'news.bbc.co.uk/sport1/hi/football/teams/q/qpr/6238710.stm',\n",
       " 'news.bbc.co.uk/1/hi/england/west_midlands/7278713.stm',\n",
       " 'news.bbc.co.uk/1/hi/8670037.stm',\n",
       " 'news.bbc.co.uk/1/hi/england/lincolnshire/6116660.stm']"
      ]
     },
     "execution_count": 40,
     "metadata": {},
     "output_type": "execute_result"
    }
   ],
   "source": [
    "list(df.loc[df['domain'] == 'news.bbc.co.uk', 'URL_n'])[0:5]"
   ]
  },
  {
   "cell_type": "markdown",
   "metadata": {},
   "source": [
    "### 8. billboard.com"
   ]
  },
  {
   "cell_type": "markdown",
   "metadata": {},
   "source": [
    "chart/?f= is used to select charts, it cannot be removed. There are also other parameters, such as order, begin page or rank, that can alter the page."
   ]
  },
  {
   "cell_type": "code",
   "execution_count": 41,
   "metadata": {},
   "outputs": [
    {
     "data": {
      "text/plain": [
       "['billboard.com/articles/business/chart-beat/8540112/babymetal-metal-galaxy-no-1-top-rock-albums',\n",
       " 'billboard.com/articles/columns/k-town/8046914/bts-steve-aoki-k-pop-drop-mic-drop-remix-desiigner-edm',\n",
       " 'billboard.com/articles/news/8496682/chrissy-teigen-kanye-john-legend-drama-behindthetweets-video',\n",
       " 'billboard.com/biz/articles/news/global/5645344/imagem-music-uk-sign-cathy-dennis-to-global-deal',\n",
       " 'billboard.com/biz/articles/news/global/5645344/imagem-music-uk-sign-cathy-dennis-to-global-deal']"
      ]
     },
     "execution_count": 41,
     "metadata": {},
     "output_type": "execute_result"
    }
   ],
   "source": [
    "list(df.loc[df['domain'] == 'billboard.com', 'URL_n'])[0:5]"
   ]
  },
  {
   "cell_type": "markdown",
   "metadata": {},
   "source": [
    "### 9. youtube.com"
   ]
  },
  {
   "cell_type": "markdown",
   "metadata": {},
   "source": [
    "Specific time parameter and unuseful parameters are removed."
   ]
  },
  {
   "cell_type": "code",
   "execution_count": 42,
   "metadata": {},
   "outputs": [
    {
     "data": {
      "text/plain": [
       "['youtube.com/watch?v=b9iBulMMfLI',\n",
       " 'youtube.com/watch?v=PSFUW_rwkr8',\n",
       " 'youtube.com/watch?v=TG7KBuzLqfE',\n",
       " 'youtube.com/watch?v=iP3MuvYnDok',\n",
       " 'youtube.com/watch?v=CDoT2pmtQYA']"
      ]
     },
     "execution_count": 42,
     "metadata": {},
     "output_type": "execute_result"
    }
   ],
   "source": [
    "list(df.loc[df['domain'] == 'youtube.com', 'URL_n'])[0:5]"
   ]
  },
  {
   "cell_type": "code",
   "execution_count": 43,
   "metadata": {},
   "outputs": [],
   "source": [
    "df.loc[df['domain'] == 'youtube.com', 'URL_n'] = [re.sub('\\?t=.*&', '?', x, flags=re.IGNORECASE) for x in df.loc[df['domain'] == 'youtube.com', 'URL_n']]\n",
    "df.loc[df['domain'] == 'youtube.com', 'URL_n'] = [re.sub('\\?t=.*$', '', x, flags=re.IGNORECASE) for x in df.loc[df['domain'] == 'youtube.com', 'URL_n']]\n",
    "df.loc[df['domain'] == 'youtube.com', 'URL_n'] = [re.sub('\\?.*&v=', '?v=', x, flags=re.IGNORECASE) for x in df.loc[df['domain'] == 'youtube.com', 'URL_n']]\n",
    "df.loc[df['domain'] == 'youtube.com', 'URL_n'] = [re.sub('\\?.*&search_query=', '?search_query=', x, flags=re.IGNORECASE) for x in df.loc[df['domain'] == 'youtube.com', 'URL_n']]\n",
    "df.loc[df['domain'] == 'youtube.com', 'URL_n'] = [re.sub('&.*', '', x, flags=re.IGNORECASE) for x in df.loc[df['domain'] == 'youtube.com', 'URL_n']]\n",
    "df.loc[df['domain'] == 'youtube.com', 'URL_n'] = [re.sub('\\?(flow|feat).*', '', x, flags=re.IGNORECASE) for x in df.loc[df['domain'] == 'youtube.com', 'URL_n']]\n",
    "df.loc[df['domain'] == 'youtube.com', 'URL_n'] = [re.sub('(;t=|#t|#at).*', '', x, flags=re.IGNORECASE) for x in df.loc[df['domain'] == 'youtube.com', 'URL_n']]"
   ]
  },
  {
   "cell_type": "code",
   "execution_count": 44,
   "metadata": {},
   "outputs": [
    {
     "data": {
      "text/plain": [
       "['youtube.com/watch?v=b9iBulMMfLI',\n",
       " 'youtube.com/watch?v=PSFUW_rwkr8',\n",
       " 'youtube.com/watch?v=TG7KBuzLqfE',\n",
       " 'youtube.com/watch?v=iP3MuvYnDok',\n",
       " 'youtube.com/watch?v=CDoT2pmtQYA']"
      ]
     },
     "execution_count": 44,
     "metadata": {},
     "output_type": "execute_result"
    }
   ],
   "source": [
    "list(df.loc[df['domain'] == 'youtube.com', 'URL_n'])[0:5]"
   ]
  },
  {
   "cell_type": "markdown",
   "metadata": {},
   "source": [
    "### 10. news.google.com"
   ]
  },
  {
   "cell_type": "markdown",
   "metadata": {},
   "source": [
    "In this case, there is not a clear parameter, because if sjid, nid or id are removed the URL not works. For example in news.google.com/newspapers?nid=1873&dat=19610313&id=qpkoAAAAIBAJ&sjid=h8wEAAAAIBAJ&pg=6269,2359408. But the language (hl) and highlighted terms (dq) can be removed."
   ]
  },
  {
   "cell_type": "code",
   "execution_count": 45,
   "metadata": {},
   "outputs": [
    {
     "data": {
      "text/plain": [
       "['news.google.com/newspapers?dq=prince-william-of-baden&hl=en&id=xaU9AAAAIBAJ&pg=5655,5310963&sjid=DykDAAAAIBAJ',\n",
       " 'news.google.com/newspapers?dat=19100515&hl=en&nid=0oeUc68sgesC&printsec=frontpage',\n",
       " 'news.google.com/newspapers?id=WvZUAAAAIBAJ&pg=4936,3495665&sjid=eJIDAAAAIBAJ',\n",
       " 'news.google.com/newspapers?id=o4lDAAAAIBAJ&pg=3185,3405383&sjid=da4MAAAAIBAJ',\n",
       " 'news.google.com/newspapers?dq=columbus+panhandles&hl=en&id=mypKAAAAIBAJ&pg=4140,5163320&sjid=-YUMAAAAIBAJ']"
      ]
     },
     "execution_count": 45,
     "metadata": {},
     "output_type": "execute_result"
    }
   ],
   "source": [
    "list(df.loc[df['domain'] == 'news.google.com', 'URL_n'])[0:5]"
   ]
  },
  {
   "cell_type": "code",
   "execution_count": 46,
   "metadata": {},
   "outputs": [],
   "source": [
    "df.loc[df['domain'] == 'news.google.com', 'URL_n'] = [re.sub('(hl=.*?&|&hl=[a-zA-Z-]{2,6}$)', '', x, flags=re.IGNORECASE) for x in df.loc[df['domain'] == 'news.google.com', 'URL_n']]\n",
    "df.loc[df['domain'] == 'news.google.com', 'URL_n'] = [re.sub('\\?dq=.*?&', '?', x, flags=re.IGNORECASE) for x in df.loc[df['domain'] == 'news.google.com', 'URL_n']]"
   ]
  },
  {
   "cell_type": "code",
   "execution_count": 47,
   "metadata": {
    "tags": []
   },
   "outputs": [
    {
     "data": {
      "text/plain": [
       "['news.google.com/newspapers?id=xaU9AAAAIBAJ&pg=5655,5310963&sjid=DykDAAAAIBAJ',\n",
       " 'news.google.com/newspapers?dat=19100515&nid=0oeUc68sgesC&printsec=frontpage',\n",
       " 'news.google.com/newspapers?id=WvZUAAAAIBAJ&pg=4936,3495665&sjid=eJIDAAAAIBAJ',\n",
       " 'news.google.com/newspapers?id=o4lDAAAAIBAJ&pg=3185,3405383&sjid=da4MAAAAIBAJ',\n",
       " 'news.google.com/newspapers?id=mypKAAAAIBAJ&pg=4140,5163320&sjid=-YUMAAAAIBAJ']"
      ]
     },
     "execution_count": 47,
     "metadata": {},
     "output_type": "execute_result"
    }
   ],
   "source": [
    "list(df.loc[df['domain'] == 'news.google.com', 'URL_n'])[0:5]"
   ]
  },
  {
   "cell_type": "markdown",
   "metadata": {},
   "source": [
    "### 11. newspapers.com"
   ]
  },
  {
   "cell_type": "markdown",
   "metadata": {},
   "source": [
    "In this case some URLs can include parameters"
   ]
  },
  {
   "cell_type": "code",
   "execution_count": 48,
   "metadata": {},
   "outputs": [
    {
     "data": {
      "text/plain": [
       "['newspapers.com/image/53909207',\n",
       " 'newspapers.com/clip/38636482/hollywood',\n",
       " 'newspapers.com/clip/7518073/charles_monett_obituary_oct_10_1888',\n",
       " 'newspapers.com/clip/10887596/death_announcement_and_life_story_of',\n",
       " 'newspapers.com/clip/12596707/det_free_press_20_jun_1896_sat_p3death']"
      ]
     },
     "execution_count": 48,
     "metadata": {},
     "output_type": "execute_result"
    }
   ],
   "source": [
    "list(df.loc[df['domain'] == 'newspapers.com', 'URL_n'])[0:5]"
   ]
  },
  {
   "cell_type": "code",
   "execution_count": 49,
   "metadata": {},
   "outputs": [],
   "source": [
    "df.loc[df['domain'] == 'newspapers.com', 'URL_n'] = [re.sub('(/[0-9].*/)([a-zA-Z0-9?].*$)', r'\\1', x, flags=re.IGNORECASE) for x in df.loc[df['domain'] == 'newspapers.com', 'URL_n']]\n",
    "df.loc[df['domain'] == 'newspapers.com', 'URL_n'] = [re.sub('fcfToken=.*?&', '', x, flags=re.IGNORECASE) for x in df.loc[df['domain'] == 'newspapers.com', 'URL_n']]\n",
    "df.loc[df['domain'] == 'newspapers.com', 'URL_n'] = [re.sub('&fcfToken=.*', '', x, flags=re.IGNORECASE) for x in df.loc[df['domain'] == 'newspapers.com', 'URL_n']]\n",
    "df.loc[df['domain'] == 'newspapers.com', 'URL_n'] = [re.sub('/$', '', x, flags=re.IGNORECASE) for x in df.loc[df['domain'] == 'newspapers.com', 'URL_n']]"
   ]
  },
  {
   "cell_type": "code",
   "execution_count": 50,
   "metadata": {},
   "outputs": [
    {
     "data": {
      "text/plain": [
       "['newspapers.com/image/53909207',\n",
       " 'newspapers.com/clip/38636482',\n",
       " 'newspapers.com/clip/7518073',\n",
       " 'newspapers.com/clip/10887596',\n",
       " 'newspapers.com/clip/12596707']"
      ]
     },
     "execution_count": 50,
     "metadata": {},
     "output_type": "execute_result"
    }
   ],
   "source": [
    "list(df.loc[df['domain'] == 'newspapers.com', 'URL_n'])[0:5]"
   ]
  },
  {
   "cell_type": "markdown",
   "metadata": {},
   "source": [
    "### 12. allmusic.com"
   ]
  },
  {
   "cell_type": "markdown",
   "metadata": {},
   "source": [
    "One tag is removed."
   ]
  },
  {
   "cell_type": "code",
   "execution_count": 51,
   "metadata": {},
   "outputs": [
    {
     "data": {
      "text/plain": [
       "['allmusic.com/artist/the-spencer-davis-group-mn0000482600',\n",
       " 'allmusic.com/artist/terry-gerry-mn0001807180/biography',\n",
       " 'allmusic.com/album/new-mother-mw0000256935/credits',\n",
       " 'allmusic.com/artist/big-l-p144340/charts-awards/billboard-singles',\n",
       " 'allmusic.com/artist/cyro-baptista-mn0000630439/credits']"
      ]
     },
     "execution_count": 51,
     "metadata": {},
     "output_type": "execute_result"
    }
   ],
   "source": [
    "list(df.loc[df['domain'] == 'allmusic.com', 'URL_n'])[0:5]"
   ]
  },
  {
   "cell_type": "code",
   "execution_count": 52,
   "metadata": {},
   "outputs": [],
   "source": [
    "df.loc[df['domain'] == 'allmusic.com', 'URL_n'] = [re.sub('#no-js$', '', x, flags=re.IGNORECASE) for x in df.loc[df['domain'] == 'allmusic.com', 'URL_n']]"
   ]
  },
  {
   "cell_type": "code",
   "execution_count": 53,
   "metadata": {},
   "outputs": [
    {
     "data": {
      "text/plain": [
       "['allmusic.com/artist/the-spencer-davis-group-mn0000482600',\n",
       " 'allmusic.com/artist/terry-gerry-mn0001807180/biography',\n",
       " 'allmusic.com/album/new-mother-mw0000256935/credits',\n",
       " 'allmusic.com/artist/big-l-p144340/charts-awards/billboard-singles',\n",
       " 'allmusic.com/artist/cyro-baptista-mn0000630439/credits']"
      ]
     },
     "execution_count": 53,
     "metadata": {},
     "output_type": "execute_result"
    }
   ],
   "source": [
    "list(df.loc[df['domain'] == 'allmusic.com', 'URL_n'])[0:5]"
   ]
  },
  {
   "cell_type": "markdown",
   "metadata": {},
   "source": [
    "### 13. nla.gov.au"
   ]
  },
  {
   "cell_type": "markdown",
   "metadata": {},
   "source": [
    "Some parameters are only use to highlight some terms."
   ]
  },
  {
   "cell_type": "code",
   "execution_count": 54,
   "metadata": {},
   "outputs": [
    {
     "data": {
      "text/plain": [
       "['nla.gov.au/nla.party-607386',\n",
       " 'nla.gov.au/nla.news-article2215553',\n",
       " 'nla.gov.au/nla.news-article225613522',\n",
       " 'nla.gov.au/nla.news-article32142885',\n",
       " 'nla.gov.au/nla.news-article37697593']"
      ]
     },
     "execution_count": 54,
     "metadata": {},
     "output_type": "execute_result"
    }
   ],
   "source": [
    "list(df.loc[df['domain'] == 'nla.gov.au', 'URL_n'])[0:5]"
   ]
  },
  {
   "cell_type": "code",
   "execution_count": 55,
   "metadata": {},
   "outputs": [],
   "source": [
    "df.loc[df['domain'] == 'nla.gov.au', 'URL_n'] = [re.sub('(#page|#pstart).*', '', x, flags=re.IGNORECASE) for x in df.loc[df['domain'] == 'nla.gov.au', 'URL_n']]\n",
    "df.loc[df['domain'] == 'nla.gov.au', 'URL_n'] = [re.sub('(\\?search|\\?zoom|/view).*#', '#', x, flags=re.IGNORECASE) for x in df.loc[df['domain'] == 'nla.gov.au', 'URL_n']]\n",
    "df.loc[df['domain'] == 'nla.gov.au', 'URL_n'] = [re.sub('(\\?search|\\?zoom|/view).*', '', x, flags=re.IGNORECASE) for x in df.loc[df['domain'] == 'nla.gov.au', 'URL_n']]"
   ]
  },
  {
   "cell_type": "code",
   "execution_count": 56,
   "metadata": {},
   "outputs": [
    {
     "data": {
      "text/plain": [
       "['nla.gov.au/nla.party-607386',\n",
       " 'nla.gov.au/nla.news-article2215553',\n",
       " 'nla.gov.au/nla.news-article225613522',\n",
       " 'nla.gov.au/nla.news-article32142885',\n",
       " 'nla.gov.au/nla.news-article37697593']"
      ]
     },
     "execution_count": 56,
     "metadata": {},
     "output_type": "execute_result"
    }
   ],
   "source": [
    "list(df.loc[df['domain'] == 'nla.gov.au', 'URL_n'])[0:5]"
   ]
  },
  {
   "cell_type": "markdown",
   "metadata": {},
   "source": [
    "### 14. washingtonpost.com"
   ]
  },
  {
   "cell_type": "markdown",
   "metadata": {},
   "source": [
    "Some parameters are removed."
   ]
  },
  {
   "cell_type": "code",
   "execution_count": 57,
   "metadata": {},
   "outputs": [
    {
     "data": {
      "text/plain": [
       "['washingtonpost.com/wp-dyn/content/article/2007/08/22/AR2007082200970.html',\n",
       " 'washingtonpost.com/news/wonkblog/wp/2015/10/01/the-hidden-inequality-of-who-dies-in-car-crashes',\n",
       " 'washingtonpost.com/wp-srv/local/daily/april99/supermax18.htm',\n",
       " 'washingtonpost.com/wp-dyn/content/article/2006/05/28/AR2006052801090.html',\n",
       " 'washingtonpost.com/blogs/football-insider/wp/2013/11/08/chris-thompson-headed-for-ir-with-shoulder-surgery']"
      ]
     },
     "execution_count": 57,
     "metadata": {},
     "output_type": "execute_result"
    }
   ],
   "source": [
    "list(df.loc[df['domain'] == 'washingtonpost.com', 'URL_n'])[0:5]"
   ]
  },
  {
   "cell_type": "code",
   "execution_count": 58,
   "metadata": {},
   "outputs": [],
   "source": [
    "df.loc[df['domain'] == 'washingtonpost.com', 'URL_n'] = [re.sub('(/?)\\?(language|noredirect|wprss|tid|sid|hpid|nav|sub|referrer|arc404|utm_term|wp).*', '', x, flags=re.IGNORECASE) for x in df.loc[df['domain'] == 'washingtonpost.com', 'URL_n']]"
   ]
  },
  {
   "cell_type": "code",
   "execution_count": 59,
   "metadata": {},
   "outputs": [
    {
     "data": {
      "text/plain": [
       "['washingtonpost.com/wp-dyn/content/article/2007/08/22/AR2007082200970.html',\n",
       " 'washingtonpost.com/news/wonkblog/wp/2015/10/01/the-hidden-inequality-of-who-dies-in-car-crashes',\n",
       " 'washingtonpost.com/wp-srv/local/daily/april99/supermax18.htm',\n",
       " 'washingtonpost.com/wp-dyn/content/article/2006/05/28/AR2006052801090.html',\n",
       " 'washingtonpost.com/blogs/football-insider/wp/2013/11/08/chris-thompson-headed-for-ir-with-shoulder-surgery']"
      ]
     },
     "execution_count": 59,
     "metadata": {},
     "output_type": "execute_result"
    }
   ],
   "source": [
    "list(df.loc[df['domain'] == 'washingtonpost.com', 'URL_n'])[0:5]"
   ]
  },
  {
   "cell_type": "markdown",
   "metadata": {},
   "source": [
    "### 15. telegraph.co.uk"
   ]
  },
  {
   "cell_type": "markdown",
   "metadata": {},
   "source": [
    "Some parameters are removed."
   ]
  },
  {
   "cell_type": "code",
   "execution_count": 60,
   "metadata": {},
   "outputs": [
    {
     "data": {
      "text/plain": [
       "['telegraph.co.uk/journalists/bernadette-mcnulty/3561197/The-Streets-will-make-only-one-more-album-says-Mike-Skinner.html',\n",
       " 'telegraph.co.uk/news/worldnews/asia/southkorea/7890316/South-Korea-targets-Japanese-collaborators-descendants.html',\n",
       " 'telegraph.co.uk/news/2018/10/01/north-south-korea-begin-removing-landmines-along-fortified-border',\n",
       " 'telegraph.co.uk/sport/football/teams/bolton-wanderers/9786281/Bolton-Wanderers-manager-Dougie-Freedman-reveals-Marvin-Sordells-Twitter-obsession.html',\n",
       " 'telegraph.co.uk/comment/telegraph-view/8474987/William-Morris-and-the-joy-of-giving.html']"
      ]
     },
     "execution_count": 60,
     "metadata": {},
     "output_type": "execute_result"
    }
   ],
   "source": [
    "list(df.loc[df['domain'] == 'telegraph.co.uk', 'URL_n'])[0:5]"
   ]
  },
  {
   "cell_type": "code",
   "execution_count": 61,
   "metadata": {},
   "outputs": [],
   "source": [
    "df.loc[df['domain'] == 'telegraph.co.uk', 'URL_n'] = [re.sub('\\.html\\?(utm_|WT|li_medium).*', '.html', x, flags=re.IGNORECASE) for x in df.loc[df['domain'] == 'telegraph.co.uk', 'URL_n']]\n",
    "df.loc[df['domain'] == 'telegraph.co.uk', 'URL_n'] = [re.sub('[/]{0,1}\\?(utm_|WT|li_medium).*', '', x, flags=re.IGNORECASE) for x in df.loc[df['domain'] == 'telegraph.co.uk', 'URL_n']]\n",
    "df.loc[df['domain'] == 'telegraph.co.uk', 'URL_n'] = [re.sub('#disqus_thread$', '', x, flags=re.IGNORECASE) for x in df.loc[df['domain'] == 'telegraph.co.uk', 'URL_n']]"
   ]
  },
  {
   "cell_type": "code",
   "execution_count": 62,
   "metadata": {},
   "outputs": [
    {
     "data": {
      "text/plain": [
       "['telegraph.co.uk/journalists/bernadette-mcnulty/3561197/The-Streets-will-make-only-one-more-album-says-Mike-Skinner.html',\n",
       " 'telegraph.co.uk/news/worldnews/asia/southkorea/7890316/South-Korea-targets-Japanese-collaborators-descendants.html',\n",
       " 'telegraph.co.uk/news/2018/10/01/north-south-korea-begin-removing-landmines-along-fortified-border',\n",
       " 'telegraph.co.uk/sport/football/teams/bolton-wanderers/9786281/Bolton-Wanderers-manager-Dougie-Freedman-reveals-Marvin-Sordells-Twitter-obsession.html',\n",
       " 'telegraph.co.uk/comment/telegraph-view/8474987/William-Morris-and-the-joy-of-giving.html']"
      ]
     },
     "execution_count": 62,
     "metadata": {},
     "output_type": "execute_result"
    }
   ],
   "source": [
    "list(df.loc[df['domain'] == 'telegraph.co.uk', 'URL_n'])[0:5]"
   ]
  },
  {
   "cell_type": "markdown",
   "metadata": {},
   "source": [
    "### 16. espncricinfo.com"
   ]
  },
  {
   "cell_type": "markdown",
   "metadata": {},
   "source": [
    "In this case, if \".html\" is removed, the URL does not work, but it allows to unify. Only specific parameters can be removed."
   ]
  },
  {
   "cell_type": "code",
   "execution_count": 63,
   "metadata": {},
   "outputs": [
    {
     "data": {
      "text/plain": [
       "['espncricinfo.com/ci/engine/match/65167.html',\n",
       " 'espncricinfo.com/ci/engine/match/67264.html',\n",
       " 'espncricinfo.com/magazine/content/story/438795.html',\n",
       " 'espncricinfo.com/story/_/id/18289545/steven-smith-owns-edge-97',\n",
       " 'espncricinfo.com/wcldiv4/content/story/473698.html?object=460181']"
      ]
     },
     "execution_count": 63,
     "metadata": {},
     "output_type": "execute_result"
    }
   ],
   "source": [
    "list(df.loc[df['domain'] == 'espncricinfo.com', 'URL_n'])[0:5]"
   ]
  },
  {
   "cell_type": "code",
   "execution_count": 64,
   "metadata": {},
   "outputs": [],
   "source": [
    "df.loc[df['domain'] == 'espncricinfo.com', 'URL_n'] = [re.sub('(\\.html\\?template|\\.html\\?view|\\.html\\?cmp|\\.html\\?version|\\.html\\?comments|\\.html\\?ex_cid|\\.html\\?innings|\\.html\\?index).*#', '.html#', x, flags=re.IGNORECASE) for x in df.loc[df['domain'] == 'espncricinfo.com', 'URL_n']]\n",
    "df.loc[df['domain'] == 'espncricinfo.com', 'URL_n'] = [re.sub('(\\.html\\?template|\\.html\\?view|\\.html\\?cmp|\\.html\\?version|\\.html\\?comments|\\.html\\?ex_cid|\\.html\\?innings|\\.html\\?index).*', '.html', x, flags=re.IGNORECASE) for x in df.loc[df['domain'] == 'espncricinfo.com', 'URL_n']]"
   ]
  },
  {
   "cell_type": "code",
   "execution_count": 65,
   "metadata": {},
   "outputs": [
    {
     "data": {
      "text/plain": [
       "['espncricinfo.com/ci/engine/match/65167.html',\n",
       " 'espncricinfo.com/ci/engine/match/67264.html',\n",
       " 'espncricinfo.com/magazine/content/story/438795.html',\n",
       " 'espncricinfo.com/story/_/id/18289545/steven-smith-owns-edge-97',\n",
       " 'espncricinfo.com/wcldiv4/content/story/473698.html?object=460181']"
      ]
     },
     "execution_count": 65,
     "metadata": {},
     "output_type": "execute_result"
    }
   ],
   "source": [
    "list(df.loc[df['domain'] == 'espncricinfo.com', 'URL_n'])[0:5]"
   ]
  },
  {
   "cell_type": "markdown",
   "metadata": {},
   "source": [
    "### 17. imdb.com"
   ]
  },
  {
   "cell_type": "markdown",
   "metadata": {},
   "source": [
    "Here sometimes the same resource are linked but pointing to different sections of it, for example a specific year of awards or the cast of a movie."
   ]
  },
  {
   "cell_type": "code",
   "execution_count": 66,
   "metadata": {},
   "outputs": [
    {
     "data": {
      "text/plain": [
       "['imdb.com/title/tt0166593/awards',\n",
       " 'imdb.com/title/tt6080232/?ref_=adv_li_tt',\n",
       " 'imdb.com/title/tt6409234/?ref_=adv_li_tt',\n",
       " 'imdb.com/title/tt5593606/?ref_=nm_flmg_dr_1',\n",
       " 'imdb.com/title/tt5604272/combined']"
      ]
     },
     "execution_count": 66,
     "metadata": {},
     "output_type": "execute_result"
    }
   ],
   "source": [
    "list(df.loc[df['domain'] == 'imdb.com', 'URL_n'])[0:5]"
   ]
  },
  {
   "cell_type": "code",
   "execution_count": 67,
   "metadata": {},
   "outputs": [],
   "source": [
    "df.loc[df['domain'] == 'imdb.com', 'URL_n'] = [re.sub('\\?(ref_|ref)=[a-z0-9_]+&', '?', x, flags=re.IGNORECASE) for x in df.loc[df['domain'] == 'imdb.com', 'URL_n']]\n",
    "df.loc[df['domain'] == 'imdb.com', 'URL_n'] = [re.sub('&(ref_|ref)=[a-z0-9_]+&', '', x, flags=re.IGNORECASE) for x in df.loc[df['domain'] == 'imdb.com', 'URL_n']]\n",
    "df.loc[df['domain'] == 'imdb.com', 'URL_n'] = [re.sub('(\\?|&)(ref_|ref)=[a-z0-9_]+#', '#', x, flags=re.IGNORECASE) for x in df.loc[df['domain'] == 'imdb.com', 'URL_n']]\n",
    "df.loc[df['domain'] == 'imdb.com', 'URL_n'] = [re.sub('(\\?|&)(ref_|ref)=[a-z0-9_]+$', '', x, flags=re.IGNORECASE) for x in df.loc[df['domain'] == 'imdb.com', 'URL_n']]\n",
    "df.loc[df['domain'] == 'imdb.com', 'URL_n'] = [re.sub('\\?mode=[a-z]+&', '?', x, flags=re.IGNORECASE) for x in df.loc[df['domain'] == 'imdb.com', 'URL_n']]\n",
    "df.loc[df['domain'] == 'imdb.com', 'URL_n'] = [re.sub('&mode=[a-z]+&', '&', x, flags=re.IGNORECASE) for x in df.loc[df['domain'] == 'imdb.com', 'URL_n']]\n",
    "df.loc[df['domain'] == 'imdb.com', 'URL_n'] = [re.sub('(\\?|&)mode=[a-z]+#', '#', x, flags=re.IGNORECASE) for x in df.loc[df['domain'] == 'imdb.com', 'URL_n']]\n",
    "df.loc[df['domain'] == 'imdb.com', 'URL_n'] = [re.sub('(\\?|&)mode=[a-z]+$', '', x, flags=re.IGNORECASE) for x in df.loc[df['domain'] == 'imdb.com', 'URL_n']]\n",
    "df.loc[df['domain'] == 'imdb.com', 'URL_n'] = [re.sub('\\?(&+)', '?', x, flags=re.IGNORECASE) for x in df.loc[df['domain'] == 'imdb.com', 'URL_n']]"
   ]
  },
  {
   "cell_type": "code",
   "execution_count": 68,
   "metadata": {},
   "outputs": [
    {
     "data": {
      "text/plain": [
       "['imdb.com/title/tt0166593/awards',\n",
       " 'imdb.com/title/tt6080232/',\n",
       " 'imdb.com/title/tt6409234/',\n",
       " 'imdb.com/title/tt5593606/',\n",
       " 'imdb.com/title/tt5604272/combined']"
      ]
     },
     "execution_count": 68,
     "metadata": {},
     "output_type": "execute_result"
    }
   ],
   "source": [
    "list(df.loc[df['domain'] == 'imdb.com', 'URL_n'])[0:5]"
   ]
  },
  {
   "cell_type": "markdown",
   "metadata": {},
   "source": [
    "### 18. independent.co.uk"
   ]
  },
  {
   "cell_type": "markdown",
   "metadata": {},
   "source": [
    "If \".hmtl\" is removed, in some cases, the URL does not work, but it makes possible to unify URL."
   ]
  },
  {
   "cell_type": "code",
   "execution_count": 69,
   "metadata": {},
   "outputs": [
    {
     "data": {
      "text/plain": [
       "['independent.co.uk/arts-entertainment/books/news/delight-as-lost-enid-blyton-book-is-discovered-2222818.html',\n",
       " 'independent.co.uk/news/education/education-news/new-head-master-of-eton-is-an-old-boy-678919.html',\n",
       " 'independent.co.uk/news/uk/police-failed-to-act-on-killers-warning-1556002.html',\n",
       " 'independent.co.uk/sport/football/premier-league/newcastle-scramble-to-find-robson-replacement-558471.html',\n",
       " 'independent.co.uk/sport/football/worldcup/stuart-pearce-takes-positives-from-under21-defeat-2136476.html']"
      ]
     },
     "execution_count": 69,
     "metadata": {},
     "output_type": "execute_result"
    }
   ],
   "source": [
    "list(df.loc[df['domain'] == 'independent.co.uk', 'URL_n'])[0:5]"
   ]
  },
  {
   "cell_type": "code",
   "execution_count": 70,
   "metadata": {},
   "outputs": [],
   "source": [
    "df.loc[df['domain'] == 'independent.co.uk', 'URL_n'] = [re.sub('\\.html\\?(amp|CMP|print|origin|dkdkd|service|r=).*', '.html', x, flags=re.IGNORECASE) for x in df.loc[df['domain'] == 'independent.co.uk', 'URL_n']]"
   ]
  },
  {
   "cell_type": "code",
   "execution_count": 71,
   "metadata": {},
   "outputs": [
    {
     "data": {
      "text/plain": [
       "['independent.co.uk/arts-entertainment/books/news/delight-as-lost-enid-blyton-book-is-discovered-2222818.html',\n",
       " 'independent.co.uk/news/education/education-news/new-head-master-of-eton-is-an-old-boy-678919.html',\n",
       " 'independent.co.uk/news/uk/police-failed-to-act-on-killers-warning-1556002.html',\n",
       " 'independent.co.uk/sport/football/premier-league/newcastle-scramble-to-find-robson-replacement-558471.html',\n",
       " 'independent.co.uk/sport/football/worldcup/stuart-pearce-takes-positives-from-under21-defeat-2136476.html']"
      ]
     },
     "execution_count": 71,
     "metadata": {},
     "output_type": "execute_result"
    }
   ],
   "source": [
    "list(df.loc[df['domain'] == 'independent.co.uk', 'URL_n'])[0:5]"
   ]
  },
  {
   "cell_type": "markdown",
   "metadata": {},
   "source": [
    "### 19. variety.com"
   ]
  },
  {
   "cell_type": "markdown",
   "metadata": {},
   "source": [
    "The use of parameters looks associated to an old web version. Parameters included in the *variety.com/index.asp* URL cannot be removed as well as category. In some cases if the category parameter is removed it doesn't work."
   ]
  },
  {
   "cell_type": "code",
   "execution_count": 72,
   "metadata": {},
   "outputs": [
    {
     "data": {
      "text/plain": [
       "['variety.com/review/VE1117934225.html?categoryid=31&cs=1',\n",
       " 'variety.com/2017/film/news/2018-sag-award-nominations-list-nominees-1202638033',\n",
       " 'variety.com/2017/film/news/steven-spielberg-tom-hanks-meryl-streep-oscars-1202392948',\n",
       " 'variety.com/2018/film/news/saturn-awards-nominations-2018-black-panther-walking-dead-1202727752',\n",
       " 'variety.com/2018/music/news/drake-scorpion-michael-jackson-vocal-newborn-son-1202861457']"
      ]
     },
     "execution_count": 72,
     "metadata": {},
     "output_type": "execute_result"
    }
   ],
   "source": [
    "list(df.loc[df['domain'] == 'variety.com', 'URL_n'])[0:5]"
   ]
  },
  {
   "cell_type": "code",
   "execution_count": null,
   "metadata": {},
   "outputs": [],
   "source": [
    "#df.loc[df['domain'] == 'variety.com', 'URL_n'] = [re.sub('\\.html\\?.*', '.html', x, flags=re.IGNORECASE) for x in df.loc[df['domain'] == 'variety.com', 'URL_n']]\n",
    "#df.loc[df['domain'] == 'variety.com', 'URL_n'] = [re.sub('([0-9]|/)(\\?.*)', r'\\1', x, flags=re.IGNORECASE) for x in df.loc[df['domain'] == 'variety.com', 'URL_n']]\n",
    "#df.loc[df['domain'] == 'variety.com', 'URL_n'] = [re.sub('\\?(refcatid|categoryid|printerfriendly).*', '', x, flags=re.IGNORECASE) for x in df.loc[df['domain'] == 'variety.com', 'URL_n']]"
   ]
  },
  {
   "cell_type": "code",
   "execution_count": 73,
   "metadata": {},
   "outputs": [
    {
     "data": {
      "text/plain": [
       "['variety.com/review/VE1117934225.html?categoryid=31&cs=1',\n",
       " 'variety.com/2017/film/news/2018-sag-award-nominations-list-nominees-1202638033',\n",
       " 'variety.com/2017/film/news/steven-spielberg-tom-hanks-meryl-streep-oscars-1202392948',\n",
       " 'variety.com/2018/film/news/saturn-awards-nominations-2018-black-panther-walking-dead-1202727752',\n",
       " 'variety.com/2018/music/news/drake-scorpion-michael-jackson-vocal-newborn-son-1202861457']"
      ]
     },
     "execution_count": 73,
     "metadata": {},
     "output_type": "execute_result"
    }
   ],
   "source": [
    "list(df.loc[df['domain'] == 'variety.com', 'URL_n'])[0:5]"
   ]
  },
  {
   "cell_type": "markdown",
   "metadata": {},
   "source": [
    "### 20. sports-reference.com"
   ]
  },
  {
   "cell_type": "markdown",
   "metadata": {},
   "source": [
    "No changes required."
   ]
  },
  {
   "cell_type": "code",
   "execution_count": 74,
   "metadata": {},
   "outputs": [
    {
     "data": {
      "text/plain": [
       "['sports-reference.com/olympics/countries/GDR/summer/1968/CAN',\n",
       " 'sports-reference.com/olympics/countries/GBR/summer/1980/ROW',\n",
       " 'sports-reference.com/olympics/athletes/gr/louis-gressier-1.html',\n",
       " 'sports-reference.com/olympics/athletes/bo/marcel-boigegrain-1.html',\n",
       " 'sports-reference.com/olympics/athletes/bo/renate-boy-garisch-culmberger-1.html']"
      ]
     },
     "execution_count": 74,
     "metadata": {},
     "output_type": "execute_result"
    }
   ],
   "source": [
    "list(df.loc[df['domain'] == 'sports-reference.com', 'URL_n'])[0:5]"
   ]
  },
  {
   "cell_type": "markdown",
   "metadata": {},
   "source": [
    "### 21. itunes.apple.com"
   ]
  },
  {
   "cell_type": "markdown",
   "metadata": {},
   "source": [
    "There are some parameters that could be included. mt and l (language) looks unuseful whereas i is for specific album songs. #see-all and #fullText would be removed."
   ]
  },
  {
   "cell_type": "code",
   "execution_count": 75,
   "metadata": {},
   "outputs": [
    {
     "data": {
      "text/plain": [
       "['itunes.apple.com/us/album/son-of-a-pimp-pt-2/1106027496?i=1106028125',\n",
       " 'itunes.apple.com/us/album/all-mine-single/1166331833',\n",
       " 'itunes.apple.com/us/album/bad-bitch-commandments/1443985955',\n",
       " 'itunes.apple.com/us/album/dreamland/1091810836',\n",
       " 'itunes.apple.com/au/album/monstercat-5-year-anniversary/1130112867']"
      ]
     },
     "execution_count": 75,
     "metadata": {},
     "output_type": "execute_result"
    }
   ],
   "source": [
    "list(df.loc[df['domain'] == 'itunes.apple.com', 'URL_n'])[0:5]"
   ]
  },
  {
   "cell_type": "code",
   "execution_count": 76,
   "metadata": {},
   "outputs": [],
   "source": [
    "df.loc[df['domain'] == 'itunes.apple.com', 'URL_n'] = [re.sub('(\\?mt=|&mt=|\\?l=|&l=).*#', '#', x, flags=re.IGNORECASE) for x in df.loc[df['domain'] == 'itunes.apple.com', 'URL_n']]\n",
    "df.loc[df['domain'] == 'itunes.apple.com', 'URL_n'] = [re.sub('(\\?mt=|&mt=).*', '', x, flags=re.IGNORECASE) for x in df.loc[df['domain'] == 'itunes.apple.com', 'URL_n']]\n",
    "df.loc[df['domain'] == 'itunes.apple.com', 'URL_n'] = [re.sub('(\\?l=|&l=).*', '', x, flags=re.IGNORECASE) for x in df.loc[df['domain'] == 'itunes.apple.com', 'URL_n']]\n",
    "df.loc[df['domain'] == 'itunes.apple.com', 'URL_n'] = [re.sub('\\?app.*?&', '?', x, flags=re.IGNORECASE) for x in df.loc[df['domain'] == 'itunes.apple.com', 'URL_n']]\n",
    "df.loc[df['domain'] == 'itunes.apple.com', 'URL_n'] = [re.sub('\\?app.*#', '#', x, flags=re.IGNORECASE) for x in df.loc[df['domain'] == 'itunes.apple.com', 'URL_n']]\n",
    "df.loc[df['domain'] == 'itunes.apple.com', 'URL_n'] = [re.sub('\\?app.*', '', x, flags=re.IGNORECASE) for x in df.loc[df['domain'] == 'itunes.apple.com', 'URL_n']]"
   ]
  },
  {
   "cell_type": "code",
   "execution_count": 77,
   "metadata": {},
   "outputs": [
    {
     "data": {
      "text/plain": [
       "['itunes.apple.com/us/album/son-of-a-pimp-pt-2/1106027496?i=1106028125',\n",
       " 'itunes.apple.com/us/album/all-mine-single/1166331833',\n",
       " 'itunes.apple.com/us/album/bad-bitch-commandments/1443985955',\n",
       " 'itunes.apple.com/us/album/dreamland/1091810836',\n",
       " 'itunes.apple.com/au/album/monstercat-5-year-anniversary/1130112867']"
      ]
     },
     "execution_count": 77,
     "metadata": {},
     "output_type": "execute_result"
    }
   ],
   "source": [
    "list(df.loc[df['domain'] == 'itunes.apple.com', 'URL_n'])[0:5]"
   ]
  },
  {
   "cell_type": "markdown",
   "metadata": {},
   "source": [
    "### 22. tvbythenumbers.zap2it.com"
   ]
  },
  {
   "cell_type": "markdown",
   "metadata": {},
   "source": [
    "No changes required."
   ]
  },
  {
   "cell_type": "code",
   "execution_count": 78,
   "metadata": {},
   "outputs": [
    {
     "data": {
      "text/plain": [
       "['tvbythenumbers.zap2it.com/2010/09/10/nikita-takes-aim-at-record-ratings-for-the-cw-matching-all-time-highs-in-time-period-with-women-18-34/62886',\n",
       " 'tvbythenumbers.zap2it.com/dvr-ratings/week-33-broadcast-live-7-ratings-may-1-7-2017',\n",
       " 'tvbythenumbers.zap2it.com/2015/04/09/wednesday-final-ratings-survivor-the-voice-the-middle-criminal-minds-csicyber-and-the-goldbergs-adjusted-up/386711',\n",
       " 'tvbythenumbers.zap2it.com/2015/06/02/sunday-cable-ratings-game-of-thrones-tops-night-keeping-up-with-the-kardashians-silicon-valley-naked-and-afraid-more/411032',\n",
       " 'tvbythenumbers.zap2it.com/2016/05/09/broadcast-live-7-ratings-april-18-24-2016']"
      ]
     },
     "execution_count": 78,
     "metadata": {},
     "output_type": "execute_result"
    }
   ],
   "source": [
    "list(df.loc[df['domain'] == 'tvbythenumbers.zap2it.com', 'URL_n'])[0:5]"
   ]
  },
  {
   "cell_type": "markdown",
   "metadata": {},
   "source": [
    "### 23. timesofindia.indiatimes.com"
   ]
  },
  {
   "cell_type": "markdown",
   "metadata": {},
   "source": [
    "Some parameters are removed."
   ]
  },
  {
   "cell_type": "code",
   "execution_count": 79,
   "metadata": {},
   "outputs": [
    {
     "data": {
      "text/plain": [
       "['timesofindia.indiatimes.com/entertainment/hindi/movie-details/3-dev/movieshow/63499260.cms',\n",
       " 'timesofindia.indiatimes.com/entertainment/telugu/movie-reviews/neevevaro/movie-review/65525405.cms',\n",
       " 'timesofindia.indiatimes.com/city/chennai/Bid-to-re-release-Sivaji-classic-ends-up-in-court/articleshow/15485560.cms',\n",
       " 'timesofindia.indiatimes.com/entertainment/hindi/bollywood/news/Motherland-turns-25/articleshow/3090758.cms',\n",
       " 'timesofindia.indiatimes.com/entertainment/telugu/movies/news/Preserving-Tollywoods-timeless-classics/articleshow/30226239.cms']"
      ]
     },
     "execution_count": 79,
     "metadata": {},
     "output_type": "execute_result"
    }
   ],
   "source": [
    "list(df.loc[df['domain'] == 'timesofindia.indiatimes.com', 'URL_n'])[0:5]"
   ]
  },
  {
   "cell_type": "code",
   "execution_count": 80,
   "metadata": {},
   "outputs": [],
   "source": [
    "df.loc[df['domain'] == 'timesofindia.indiatimes.com', 'URL_n'] = [re.sub('\\.cms\\?(referral=|intenttarget=|null|from=).*', '.cms', x, flags=re.IGNORECASE) for x in df.loc[df['domain'] == 'timesofindia.indiatimes.com', 'URL_n']]\n",
    "df.loc[df['domain'] == 'timesofindia.indiatimes.com', 'URL_n'] = [re.sub('\\.cms(#write$|#ixzz.*)', '.cms', x, flags=re.IGNORECASE) for x in df.loc[df['domain'] == 'timesofindia.indiatimes.com', 'URL_n']]"
   ]
  },
  {
   "cell_type": "code",
   "execution_count": 81,
   "metadata": {},
   "outputs": [
    {
     "data": {
      "text/plain": [
       "['timesofindia.indiatimes.com/entertainment/hindi/movie-details/3-dev/movieshow/63499260.cms',\n",
       " 'timesofindia.indiatimes.com/entertainment/telugu/movie-reviews/neevevaro/movie-review/65525405.cms',\n",
       " 'timesofindia.indiatimes.com/city/chennai/Bid-to-re-release-Sivaji-classic-ends-up-in-court/articleshow/15485560.cms',\n",
       " 'timesofindia.indiatimes.com/entertainment/hindi/bollywood/news/Motherland-turns-25/articleshow/3090758.cms',\n",
       " 'timesofindia.indiatimes.com/entertainment/telugu/movies/news/Preserving-Tollywoods-timeless-classics/articleshow/30226239.cms']"
      ]
     },
     "execution_count": 81,
     "metadata": {},
     "output_type": "execute_result"
    }
   ],
   "source": [
    "list(df.loc[df['domain'] == 'timesofindia.indiatimes.com', 'URL_n'])[0:5]"
   ]
  },
  {
   "cell_type": "markdown",
   "metadata": {},
   "source": [
    "### 24. baseball-reference.com"
   ]
  },
  {
   "cell_type": "markdown",
   "metadata": {},
   "source": [
    "No changes required. Some # have change and they do not work."
   ]
  },
  {
   "cell_type": "code",
   "execution_count": 82,
   "metadata": {},
   "outputs": [
    {
     "data": {
      "text/plain": [
       "['baseball-reference.com/leagues/MLB/misc.shtml',\n",
       " 'baseball-reference.com/players/j/johnssi01.shtml',\n",
       " 'baseball-reference.com/players/t/taylosa02.shtml',\n",
       " 'baseball-reference.com/bullpen/Clear_Lake_Fish_Eaters',\n",
       " 'baseball-reference.com/bullpen/Pearisburg,_VA']"
      ]
     },
     "execution_count": 82,
     "metadata": {},
     "output_type": "execute_result"
    }
   ],
   "source": [
    "list(df.loc[df['domain'] == 'baseball-reference.com', 'URL_n'])[0:5]"
   ]
  },
  {
   "cell_type": "markdown",
   "metadata": {},
   "source": [
    "### 25. bbc.com"
   ]
  },
  {
   "cell_type": "markdown",
   "metadata": {},
   "source": [
    "The main unuseful parameters are removed."
   ]
  },
  {
   "cell_type": "code",
   "execution_count": 83,
   "metadata": {},
   "outputs": [
    {
     "data": {
      "text/plain": [
       "['bbc.com/news/blogs-trending-41384799',\n",
       " 'bbc.com/news/health-52018477',\n",
       " 'bbc.com/sport/0/football/34667042',\n",
       " 'bbc.com/sport/football/16632432',\n",
       " 'bbc.com/news/uk-england-beds-bucks-herts-42037832']"
      ]
     },
     "execution_count": 83,
     "metadata": {},
     "output_type": "execute_result"
    }
   ],
   "source": [
    "list(df.loc[df['domain'] == 'bbc.com', 'URL_n'])[0:5]"
   ]
  },
  {
   "cell_type": "code",
   "execution_count": 84,
   "metadata": {},
   "outputs": [],
   "source": [
    "df.loc[df['domain'] == 'bbc.com', 'URL_n'] = [re.sub('\\?(ocid|intlink|print|ns_).*', '', x, flags=re.IGNORECASE) for x in df.loc[df['domain'] == 'bbc.com', 'URL_n']]\n",
    "df.loc[df['domain'] == 'bbc.com', 'URL_n'] = [re.sub('#TWEET.*', '', x, flags=re.IGNORECASE) for x in df.loc[df['domain'] == 'bbc.com', 'URL_n']]"
   ]
  },
  {
   "cell_type": "code",
   "execution_count": 85,
   "metadata": {
    "tags": []
   },
   "outputs": [
    {
     "data": {
      "text/plain": [
       "['bbc.com/news/blogs-trending-41384799',\n",
       " 'bbc.com/news/health-52018477',\n",
       " 'bbc.com/sport/0/football/34667042',\n",
       " 'bbc.com/sport/football/16632432',\n",
       " 'bbc.com/news/uk-england-beds-bucks-herts-42037832']"
      ]
     },
     "execution_count": 85,
     "metadata": {},
     "output_type": "execute_result"
    }
   ],
   "source": [
    "list(df.loc[df['domain'] == 'bbc.com', 'URL_n'])[0:5]"
   ]
  },
  {
   "cell_type": "markdown",
   "metadata": {},
   "source": [
    "### 26. stat.gov.pl"
   ]
  },
  {
   "cell_type": "markdown",
   "metadata": {},
   "source": [
    "The index is fixed."
   ]
  },
  {
   "cell_type": "code",
   "execution_count": 86,
   "metadata": {},
   "outputs": [
    {
     "data": {
      "text/plain": [
       "['stat.gov.pl/download/gfx/portalinformacyjny/pl/defaultaktualnosci/5468/6/21/1/stan_i_struktura_ludno_oraz_ruch_naturalny_w_przekroju_teryt_stan-na-31-12-2016.pdf',\n",
       " 'stat.gov.pl/en/topics/population/population/population-size-and-structure-and-vital-statistics-in-poland-by-territorial-divison-in-2019-as-of-30th-june,3,26.html',\n",
       " 'stat.gov.pl/en/topics/population/population/population-size-and-structure-and-vital-statistics-in-poland-by-territorial-divison-in-2019-as-of-30th-june,3,26.html',\n",
       " 'stat.gov.pl/broker/access/prefile/listPreFiles.jspa',\n",
       " 'stat.gov.pl/broker/access/prefile/listPreFiles.jspa']"
      ]
     },
     "execution_count": 86,
     "metadata": {},
     "output_type": "execute_result"
    }
   ],
   "source": [
    "list(df.loc[df['domain'] == 'stat.gov.pl', 'URL_n'])[0:5] "
   ]
  },
  {
   "cell_type": "code",
   "execution_count": 87,
   "metadata": {},
   "outputs": [],
   "source": [
    "df.loc[df['domain'] == 'stat.gov.pl', 'URL_n'] = [re.sub('\\.html\\?p_name.*', '.html', x, flags=re.IGNORECASE) for x in df.loc[df['domain'] == 'stat.gov.pl', 'URL_n']]"
   ]
  },
  {
   "cell_type": "code",
   "execution_count": 88,
   "metadata": {},
   "outputs": [
    {
     "data": {
      "text/plain": [
       "['stat.gov.pl/download/gfx/portalinformacyjny/pl/defaultaktualnosci/5468/6/21/1/stan_i_struktura_ludno_oraz_ruch_naturalny_w_przekroju_teryt_stan-na-31-12-2016.pdf',\n",
       " 'stat.gov.pl/en/topics/population/population/population-size-and-structure-and-vital-statistics-in-poland-by-territorial-divison-in-2019-as-of-30th-june,3,26.html',\n",
       " 'stat.gov.pl/en/topics/population/population/population-size-and-structure-and-vital-statistics-in-poland-by-territorial-divison-in-2019-as-of-30th-june,3,26.html',\n",
       " 'stat.gov.pl/broker/access/prefile/listPreFiles.jspa',\n",
       " 'stat.gov.pl/broker/access/prefile/listPreFiles.jspa']"
      ]
     },
     "execution_count": 88,
     "metadata": {},
     "output_type": "execute_result"
    }
   ],
   "source": [
    "list(df.loc[df['domain'] == 'stat.gov.pl', 'URL_n'])[0:5] "
   ]
  },
  {
   "cell_type": "markdown",
   "metadata": {},
   "source": [
    "### 27. hollywoodreporter.com"
   ]
  },
  {
   "cell_type": "markdown",
   "metadata": {},
   "source": [
    "URLs with *article_display.jsp* can not be transformed."
   ]
  },
  {
   "cell_type": "code",
   "execution_count": 89,
   "metadata": {},
   "outputs": [
    {
     "data": {
      "text/plain": [
       "['hollywoodreporter.com/hr/content_display/news/e3i06056b3e43453484224e31d8724c2a46',\n",
       " 'hollywoodreporter.com/news/syfy-produce-killjoys-drama-canadas-700145',\n",
       " 'hollywoodreporter.com/heat-vision/jungle-book-2-works-jon-882624',\n",
       " 'hollywoodreporter.com/heat-vision/mulan-disney-casts-yoson-an-as-love-interest-live-action-movie-1116949',\n",
       " 'hollywoodreporter.com/behind-screen/vfx-house-milk-raises-25-million-names-ivan-dunleavy-chairman-1014135']"
      ]
     },
     "execution_count": 89,
     "metadata": {},
     "output_type": "execute_result"
    }
   ],
   "source": [
    "list(df.loc[df['domain'] == 'hollywoodreporter.com', 'URL_n'])[0:5]"
   ]
  },
  {
   "cell_type": "code",
   "execution_count": 90,
   "metadata": {},
   "outputs": [],
   "source": [
    "df.loc[df['domain'] == 'hollywoodreporter.com', 'URL_n'] = [re.sub('([0-9a-zA-Z-]{4})(\\?(mobile_redirect|facebook).*)', r'\\1', x, flags=re.IGNORECASE) for x in df.loc[df['domain'] == 'hollywoodreporter.com', 'URL_n']]"
   ]
  },
  {
   "cell_type": "code",
   "execution_count": 91,
   "metadata": {},
   "outputs": [
    {
     "data": {
      "text/plain": [
       "['hollywoodreporter.com/hr/content_display/news/e3i06056b3e43453484224e31d8724c2a46',\n",
       " 'hollywoodreporter.com/news/syfy-produce-killjoys-drama-canadas-700145',\n",
       " 'hollywoodreporter.com/heat-vision/jungle-book-2-works-jon-882624',\n",
       " 'hollywoodreporter.com/heat-vision/mulan-disney-casts-yoson-an-as-love-interest-live-action-movie-1116949',\n",
       " 'hollywoodreporter.com/behind-screen/vfx-house-milk-raises-25-million-names-ivan-dunleavy-chairman-1014135']"
      ]
     },
     "execution_count": 91,
     "metadata": {},
     "output_type": "execute_result"
    }
   ],
   "source": [
    "list(df.loc[df['domain'] == 'hollywoodreporter.com', 'URL_n'])[0:5]"
   ]
  },
  {
   "cell_type": "markdown",
   "metadata": {},
   "source": [
    "### 28. twitter.com"
   ]
  },
  {
   "cell_type": "markdown",
   "metadata": {},
   "source": [
    "Some parameters are removed."
   ]
  },
  {
   "cell_type": "code",
   "execution_count": 92,
   "metadata": {},
   "outputs": [
    {
     "data": {
      "text/plain": [
       "['twitter.com/braintreetownfc/status/1183642849692278785',\n",
       " 'twitter.com/CrayValleyPM/status/1028652342479085568',\n",
       " 'twitter.com/RoxannWhitebean/status/819790339581972481',\n",
       " 'twitter.com/SpringHillEnt/status/1042488739832913920',\n",
       " 'twitter.com/WORLDMUSICAWARD/status/987705869944217601']"
      ]
     },
     "execution_count": 92,
     "metadata": {},
     "output_type": "execute_result"
    }
   ],
   "source": [
    "list(df.loc[df['domain'] == 'twitter.com', 'URL_n'])[0:5]"
   ]
  },
  {
   "cell_type": "code",
   "execution_count": 93,
   "metadata": {},
   "outputs": [],
   "source": [
    "df.loc[df['domain'] == 'twitter.com', 'URL_n'] = [re.sub('\\?.*q=', '?q=', x, flags=re.IGNORECASE) for x in df.loc[df['domain'] == 'twitter.com', 'URL_n']]\n",
    "df.loc[df['domain'] == 'twitter.com', 'URL_n'] = [re.sub('\\?(lang|ref|s=|p=|tw_e=|dec).*', '', x, flags=re.IGNORECASE) for x in df.loc[df['domain'] == 'twitter.com', 'URL_n']]\n",
    "df.loc[df['domain'] == 'twitter.com', 'URL_n'] = [re.sub('\\.html$', '', x, flags=re.IGNORECASE) for x in df.loc[df['domain'] == 'twitter.com', 'URL_n']]"
   ]
  },
  {
   "cell_type": "code",
   "execution_count": 94,
   "metadata": {},
   "outputs": [
    {
     "data": {
      "text/plain": [
       "['twitter.com/braintreetownfc/status/1183642849692278785',\n",
       " 'twitter.com/CrayValleyPM/status/1028652342479085568',\n",
       " 'twitter.com/RoxannWhitebean/status/819790339581972481',\n",
       " 'twitter.com/SpringHillEnt/status/1042488739832913920',\n",
       " 'twitter.com/WORLDMUSICAWARD/status/987705869944217601']"
      ]
     },
     "execution_count": 94,
     "metadata": {},
     "output_type": "execute_result"
    }
   ],
   "source": [
    "list(df.loc[df['domain'] == 'twitter.com', 'URL_n'])[0:5]"
   ]
  },
  {
   "cell_type": "markdown",
   "metadata": {},
   "source": [
    "### 29. deadline.com"
   ]
  },
  {
   "cell_type": "markdown",
   "metadata": {},
   "source": [
    "Some parameters are removed."
   ]
  },
  {
   "cell_type": "code",
   "execution_count": 95,
   "metadata": {},
   "outputs": [
    {
     "data": {
      "text/plain": [
       "['deadline.com/2013/12/legendary-acquires-asylum-entertainment',\n",
       " 'deadline.com/2010/05/full-series-rankings-for-the-2009-10-broadcast-season-44277',\n",
       " 'deadline.com/2016/12/fx-buys-autobiographical-comedy-robert-kelly-denis-leary-1201863758',\n",
       " 'deadline.com/2017/06/lilly-singh-fahrenheit-451-cast-hbo-movie-1202114653',\n",
       " 'deadline.com/2017/10/naomi-watts-the-wolf-hour-movie-alistair-banks-griffin-1202192036']"
      ]
     },
     "execution_count": 95,
     "metadata": {},
     "output_type": "execute_result"
    }
   ],
   "source": [
    "list(df.loc[df['domain'] == 'deadline.com', 'URL_n'])[0:5]"
   ]
  },
  {
   "cell_type": "code",
   "execution_count": 96,
   "metadata": {},
   "outputs": [],
   "source": [
    "df.loc[df['domain'] == 'deadline.com', 'URL_n'] = [re.sub('(/?)\\?(iframe|_escaped_fragment).*', '', x, flags=re.IGNORECASE) for x in df.loc[df['domain'] == 'deadline.com', 'URL_n']]"
   ]
  },
  {
   "cell_type": "code",
   "execution_count": 97,
   "metadata": {},
   "outputs": [
    {
     "data": {
      "text/plain": [
       "['deadline.com/2013/12/legendary-acquires-asylum-entertainment',\n",
       " 'deadline.com/2010/05/full-series-rankings-for-the-2009-10-broadcast-season-44277',\n",
       " 'deadline.com/2016/12/fx-buys-autobiographical-comedy-robert-kelly-denis-leary-1201863758',\n",
       " 'deadline.com/2017/06/lilly-singh-fahrenheit-451-cast-hbo-movie-1202114653',\n",
       " 'deadline.com/2017/10/naomi-watts-the-wolf-hour-movie-alistair-banks-griffin-1202192036']"
      ]
     },
     "execution_count": 97,
     "metadata": {},
     "output_type": "execute_result"
    }
   ],
   "source": [
    "list(df.loc[df['domain'] == 'deadline.com', 'URL_n'])[0:5]"
   ]
  },
  {
   "cell_type": "markdown",
   "metadata": {},
   "source": [
    "### 30. animenewsnetwork.com"
   ]
  },
  {
   "cell_type": "markdown",
   "metadata": {},
   "source": [
    "No changes required."
   ]
  },
  {
   "cell_type": "code",
   "execution_count": 98,
   "metadata": {},
   "outputs": [
    {
     "data": {
      "text/plain": [
       "['animenewsnetwork.com/review/witchblade/dvd-1',\n",
       " 'animenewsnetwork.com/news/2002-04-19/media-blasters-acquires-babel-ii',\n",
       " 'animenewsnetwork.com/news/2013-06-20/genshiken/2nd-season-manga-to-bundle-original-anime-dvd',\n",
       " 'animenewsnetwork.com/news/2014-09-25/assassination-classroom-tv-anime-casts-jun-fukuyama-tomokazu-sugita-shizuka-itou/.79189',\n",
       " 'animenewsnetwork.com/news/2015-05-10/undefeated-bahamut-chronicle-light-novel-series-gets-tv-anime/.88013']"
      ]
     },
     "execution_count": 98,
     "metadata": {},
     "output_type": "execute_result"
    }
   ],
   "source": [
    "list(df.loc[df['domain'] == 'animenewsnetwork.com', 'URL_n'])[0:5]"
   ]
  },
  {
   "cell_type": "markdown",
   "metadata": {},
   "source": [
    "### 31. reuters.com"
   ]
  },
  {
   "cell_type": "markdown",
   "metadata": {},
   "source": [
    "Here is more complex to identify the key parameters. "
   ]
  },
  {
   "cell_type": "code",
   "execution_count": 99,
   "metadata": {},
   "outputs": [
    {
     "data": {
      "text/plain": [
       "['reuters.com/article/2014/04/24/us-thailand-protest-idUSBREA3N0BJ20140424',\n",
       " 'reuters.com/article/ousiv/idUSTRE57R3B920090828',\n",
       " 'reuters.com/article/newsOne/idUSTRE50C5JX20090113',\n",
       " 'reuters.com/article/us-apple-ipad/apple-ipad-reaches-1-million-sales-faster-than-iphone-idUSTRE64002T20100503',\n",
       " 'reuters.com/article/2014/09/20/us-hongkong-china-idUSKBN0HF0MR20140920']"
      ]
     },
     "execution_count": 99,
     "metadata": {},
     "output_type": "execute_result"
    }
   ],
   "source": [
    "list(df.loc[df['domain'] == 'reuters.com', 'URL_n'])[0:5]"
   ]
  },
  {
   "cell_type": "code",
   "execution_count": 100,
   "metadata": {},
   "outputs": [],
   "source": [
    "df.loc[df['domain'] == 'reuters.com', 'URL_n'] = [re.sub('(irpc=|sp=|rpc=|feedtype=|feedname=|il=|locale=|type=|virtualbrandchannel=|view=).*?(&|$)', '', x, flags=re.IGNORECASE) for x in df.loc[df['domain'] == 'reuters.com', 'URL_n']]\n",
    "df.loc[df['domain'] == 'reuters.com', 'URL_n'] = [re.sub('(#[a-zA-Z0-9]+\\.[0-9]{2}$|#targetText.*)', '', x, flags=re.IGNORECASE) for x in df.loc[df['domain'] == 'reuters.com', 'URL_n']]\n",
    "df.loc[df['domain'] == 'reuters.com', 'URL_n'] = [re.sub('(\\?$|\\?&$|&$)', '', x, flags=re.IGNORECASE) for x in df.loc[df['domain'] == 'reuters.com', 'URL_n']]"
   ]
  },
  {
   "cell_type": "code",
   "execution_count": 101,
   "metadata": {},
   "outputs": [
    {
     "data": {
      "text/plain": [
       "['reuters.com/article/2014/04/24/us-thailand-protest-idUSBREA3N0BJ20140424',\n",
       " 'reuters.com/article/ousiv/idUSTRE57R3B920090828',\n",
       " 'reuters.com/article/newsOne/idUSTRE50C5JX20090113',\n",
       " 'reuters.com/article/us-apple-ipad/apple-ipad-reaches-1-million-sales-faster-than-iphone-idUSTRE64002T20100503',\n",
       " 'reuters.com/article/2014/09/20/us-hongkong-china-idUSKBN0HF0MR20140920']"
      ]
     },
     "execution_count": 101,
     "metadata": {},
     "output_type": "execute_result"
    }
   ],
   "source": [
    "list(df.loc[df['domain'] == 'reuters.com', 'URL_n'])[0:5]"
   ]
  },
  {
   "cell_type": "markdown",
   "metadata": {},
   "source": [
    "### 32. thehindu.com"
   ]
  },
  {
   "cell_type": "markdown",
   "metadata": {},
   "source": [
    "Some parameters are removed."
   ]
  },
  {
   "cell_type": "code",
   "execution_count": 102,
   "metadata": {},
   "outputs": [
    {
     "data": {
      "text/plain": [
       "['thehindu.com/entertainment/music/living-his-dream/article19209189.ece',\n",
       " 'thehindu.com/news/cities/Kochi/when-kochi-developed-these-banking-institutions-stood-as-pillars-of-support/article4526767.ece',\n",
       " 'thehindu.com/sci-tech/health/breakthrough-dentistry/article5076022.ece',\n",
       " 'thehindu.com/todays-paper/tp-features/tp-cinemaplus/why-i-like-server-sundaram/article3021498.ece',\n",
       " 'thehindu.com/features/cinema/wellserved/article5512081.ece']"
      ]
     },
     "execution_count": 102,
     "metadata": {},
     "output_type": "execute_result"
    }
   ],
   "source": [
    "list(df.loc[df['domain'] == 'thehindu.com', 'URL_n'])[0:5]"
   ]
  },
  {
   "cell_type": "code",
   "execution_count": 103,
   "metadata": {},
   "outputs": [],
   "source": [
    "df.loc[df['domain'] == 'thehindu.com', 'URL_n'] = [re.sub('\\?(homepage|css|sec|test|ref|_escaped_fragment_).*#', '#', x, flags=re.IGNORECASE) for x in df.loc[df['domain'] == 'thehindu.com', 'URL_n']]\n",
    "df.loc[df['domain'] == 'thehindu.com', 'URL_n'] = [re.sub('\\?(homepage|css|sec|test|ref|_escaped_fragment_).*', '', x, flags=re.IGNORECASE) for x in df.loc[df['domain'] == 'thehindu.com', 'URL_n']]"
   ]
  },
  {
   "cell_type": "code",
   "execution_count": 104,
   "metadata": {},
   "outputs": [
    {
     "data": {
      "text/plain": [
       "['thehindu.com/entertainment/music/living-his-dream/article19209189.ece',\n",
       " 'thehindu.com/news/cities/Kochi/when-kochi-developed-these-banking-institutions-stood-as-pillars-of-support/article4526767.ece',\n",
       " 'thehindu.com/sci-tech/health/breakthrough-dentistry/article5076022.ece',\n",
       " 'thehindu.com/todays-paper/tp-features/tp-cinemaplus/why-i-like-server-sundaram/article3021498.ece',\n",
       " 'thehindu.com/features/cinema/wellserved/article5512081.ece']"
      ]
     },
     "execution_count": 104,
     "metadata": {},
     "output_type": "execute_result"
    }
   ],
   "source": [
    "list(df.loc[df['domain'] == 'thehindu.com', 'URL_n'])[0:5]"
   ]
  },
  {
   "cell_type": "markdown",
   "metadata": {},
   "source": [
    "### 33. cricketarchive.com"
   ]
  },
  {
   "cell_type": "markdown",
   "metadata": {},
   "source": [
    "A very few URLs include parameters, but it appears be the same."
   ]
  },
  {
   "cell_type": "code",
   "execution_count": 105,
   "metadata": {},
   "outputs": [
    {
     "data": {
      "text/plain": [
       "['cricketarchive.com/Archive/Scorecards/21/21454.html',\n",
       " 'cricketarchive.com/Archive/Scorecards/15/15483.html',\n",
       " 'cricketarchive.com/Archive/Articles/0/792.html',\n",
       " 'cricketarchive.com/Archive/Scorecards/14/14110.html',\n",
       " 'cricketarchive.com/Archive/Players/1350/1350473/1350473.html']"
      ]
     },
     "execution_count": 105,
     "metadata": {},
     "output_type": "execute_result"
    }
   ],
   "source": [
    "list(df.loc[df['domain'] == 'cricketarchive.com', 'URL_n'])[0:5]"
   ]
  },
  {
   "cell_type": "markdown",
   "metadata": {},
   "source": [
    "### 34. articles.latimes.com"
   ]
  },
  {
   "cell_type": "markdown",
   "metadata": {},
   "source": [
    "No changes required."
   ]
  },
  {
   "cell_type": "code",
   "execution_count": 106,
   "metadata": {},
   "outputs": [
    {
     "data": {
      "text/plain": [
       "['articles.latimes.com/1997-02-19/food/fo-30082_1_italian-wines',\n",
       " 'articles.latimes.com/2000/may/02/news/mn-25793',\n",
       " 'articles.latimes.com/1989-04-30/news/mn-2867_1_fsx-japan-s-ambassador-nobuo-matsunaga-japan-s-mitsubishi-heavy-industries',\n",
       " 'articles.latimes.com/1996-03-13/entertainment/ca-46373_1_swift-justice',\n",
       " 'articles.latimes.com/1996-11-26/sports/sp-2970_1_pitt-coach']"
      ]
     },
     "execution_count": 106,
     "metadata": {},
     "output_type": "execute_result"
    }
   ],
   "source": [
    "list(df.loc[df['domain'] == 'articles.latimes.com', 'URL_n'])[0:5]"
   ]
  },
  {
   "cell_type": "markdown",
   "metadata": {},
   "source": [
    "### 35. discogs.com"
   ]
  },
  {
   "cell_type": "markdown",
   "metadata": {},
   "source": [
    "The main parameters are anv, filter_anv, noanv (these are used to link with alternative names) and release."
   ]
  },
  {
   "cell_type": "code",
   "execution_count": 107,
   "metadata": {},
   "outputs": [
    {
     "data": {
      "text/plain": [
       "['discogs.com/Mariah-Carey-All-I-Want-For-Christmas-Is-You/release/2504461',\n",
       " 'discogs.com/Elton-John-Captain-Fantastic-And-The-Brown-Dirt-Cowboy/release/2175776',\n",
       " 'discogs.com/Ilaiyaraaja-Raja-Paarvai/release/10735362',\n",
       " 'discogs.com/release/10776167-American-Dream/images',\n",
       " 'discogs.com/Hooton-Tennis-Club-Kathleen-Sat-On-The-Arm-Of-Her-Favourite-Chair/release/6920006']"
      ]
     },
     "execution_count": 107,
     "metadata": {},
     "output_type": "execute_result"
    }
   ],
   "source": [
    "list(df.loc[df['domain'] == 'discogs.com', 'URL_n'])[0:5]"
   ]
  },
  {
   "cell_type": "code",
   "execution_count": 108,
   "metadata": {},
   "outputs": [],
   "source": [
    "df.loc[df['domain'] == 'discogs.com', 'URL_n'] = [re.sub('(layout=).*?(&|$)', '', x, flags=re.IGNORECASE) for x in df.loc[df['domain'] == 'discogs.com', 'URL_n']]\n",
    "df.loc[df['domain'] == 'discogs.com', 'URL_n'] = [re.sub('(\\?$|\\?&$|&$)', '', x, flags=re.IGNORECASE) for x in df.loc[df['domain'] == 'discogs.com', 'URL_n']]"
   ]
  },
  {
   "cell_type": "code",
   "execution_count": 109,
   "metadata": {},
   "outputs": [
    {
     "data": {
      "text/plain": [
       "['discogs.com/Mariah-Carey-All-I-Want-For-Christmas-Is-You/release/2504461',\n",
       " 'discogs.com/Elton-John-Captain-Fantastic-And-The-Brown-Dirt-Cowboy/release/2175776',\n",
       " 'discogs.com/Ilaiyaraaja-Raja-Paarvai/release/10735362',\n",
       " 'discogs.com/release/10776167-American-Dream/images',\n",
       " 'discogs.com/Hooton-Tennis-Club-Kathleen-Sat-On-The-Arm-Of-Her-Favourite-Chair/release/6920006']"
      ]
     },
     "execution_count": 109,
     "metadata": {},
     "output_type": "execute_result"
    }
   ],
   "source": [
    "list(df.loc[df['domain'] == 'discogs.com', 'URL_n'])[0:5]"
   ]
  },
  {
   "cell_type": "markdown",
   "metadata": {},
   "source": [
    "### 36. officialcharts.com"
   ]
  },
  {
   "cell_type": "markdown",
   "metadata": {},
   "source": [
    "No changes required."
   ]
  },
  {
   "cell_type": "code",
   "execution_count": 110,
   "metadata": {},
   "outputs": [
    {
     "data": {
      "text/plain": [
       "['officialcharts.com/artists',\n",
       " 'officialcharts.com/charts/albums-chart/19780702/7502',\n",
       " 'officialcharts.com/artist/16720/buzzcocks',\n",
       " 'officialcharts.com/search/singles/going%20down%20to%20liverpool',\n",
       " 'officialcharts.com/charts/physical-singles-chart/20100418/1']"
      ]
     },
     "execution_count": 110,
     "metadata": {},
     "output_type": "execute_result"
    }
   ],
   "source": [
    "list(df.loc[df['domain'] == 'officialcharts.com', 'URL_n'])[0:5]"
   ]
  },
  {
   "cell_type": "markdown",
   "metadata": {},
   "source": [
    "### 37. metacritic.com"
   ]
  },
  {
   "cell_type": "markdown",
   "metadata": {},
   "source": [
    "There are several parameters (filter, q, sort, page, ref, ftag, part, tag...) but only a few can be removed."
   ]
  },
  {
   "cell_type": "code",
   "execution_count": 111,
   "metadata": {},
   "outputs": [
    {
     "data": {
      "text/plain": [
       "['metacritic.com/movie/x-men-origins-wolverine',\n",
       " 'metacritic.com/game/3ds/brain-age-concentration-training',\n",
       " 'metacritic.com/game/pc/warcraft-iii-reign-of-chaos',\n",
       " 'metacritic.com/game/pc/doki-doki-literature-club!',\n",
       " 'metacritic.com/movie/miss-americana']"
      ]
     },
     "execution_count": 111,
     "metadata": {},
     "output_type": "execute_result"
    }
   ],
   "source": [
    "list(df.loc[df['domain'] == 'metacritic.com', 'URL_n'])[0:5]"
   ]
  },
  {
   "cell_type": "code",
   "execution_count": 112,
   "metadata": {},
   "outputs": [],
   "source": [
    "df.loc[df['domain'] == 'metacritic.com', 'URL_n'] = [re.sub('\\?q=.*#', '#', x, flags=re.IGNORECASE) for x in df.loc[df['domain'] == 'metacritic.com', 'URL_n']]\n",
    "df.loc[df['domain'] == 'metacritic.com', 'URL_n'] = [re.sub('\\?(q=|part=).*', '', x, flags=re.IGNORECASE) for x in df.loc[df['domain'] == 'metacritic.com', 'URL_n']]"
   ]
  },
  {
   "cell_type": "code",
   "execution_count": 113,
   "metadata": {},
   "outputs": [
    {
     "data": {
      "text/plain": [
       "['metacritic.com/movie/x-men-origins-wolverine',\n",
       " 'metacritic.com/game/3ds/brain-age-concentration-training',\n",
       " 'metacritic.com/game/pc/warcraft-iii-reign-of-chaos',\n",
       " 'metacritic.com/game/pc/doki-doki-literature-club!',\n",
       " 'metacritic.com/movie/miss-americana']"
      ]
     },
     "execution_count": 113,
     "metadata": {},
     "output_type": "execute_result"
    }
   ],
   "source": [
    "list(df.loc[df['domain'] == 'metacritic.com', 'URL_n'])[0:5]"
   ]
  },
  {
   "cell_type": "markdown",
   "metadata": {},
   "source": [
    "### 38. abc.net.au"
   ]
  },
  {
   "cell_type": "markdown",
   "metadata": {},
   "source": [
    "Some parameters are removed."
   ]
  },
  {
   "cell_type": "code",
   "execution_count": 114,
   "metadata": {},
   "outputs": [
    {
     "data": {
      "text/plain": [
       "[\"abc.net.au/news/2016-08-30/protesters-arrested-in-kalgoorlie-riot-after-teen's-death/7797804\",\n",
       " 'abc.net.au/lateline/interview-mark-tedeschi-qc,-new-south-wales/6906896',\n",
       " 'abc.net.au/news/2011-06-10/spinnaker-island-weed-burn/2754288',\n",
       " 'abc.net.au/news/2012-08-23/government-announces-increase-in-humanitarian-intake/4217962',\n",
       " \"abc.net.au/news/2016-09-01/plans-for-new-suburb-in-melbourne's-inner-north-unveiled/7804530\"]"
      ]
     },
     "execution_count": 114,
     "metadata": {},
     "output_type": "execute_result"
    }
   ],
   "source": [
    "list(df.loc[df['domain'] == 'abc.net.au', 'URL_n'])[0:5]"
   ]
  },
  {
   "cell_type": "code",
   "execution_count": 115,
   "metadata": {},
   "outputs": [],
   "source": [
    "df.loc[df['domain'] == 'abc.net.au', 'URL_n'] = [re.sub('\\.htm\\?(site|section).*#', '.htm#', x, flags=re.IGNORECASE) for x in df.loc[df['domain'] == 'abc.net.au', 'URL_n']]\n",
    "df.loc[df['domain'] == 'abc.net.au', 'URL_n'] = [re.sub('\\.htm\\?(site|section).*', '.htm', x, flags=re.IGNORECASE) for x in df.loc[df['domain'] == 'abc.net.au', 'URL_n']]\n",
    "df.loc[df['domain'] == 'abc.net.au', 'URL_n'] = [re.sub('(/\\?|\\?)(site|section).*', '', x, flags=re.IGNORECASE) for x in df.loc[df['domain'] == 'abc.net.au', 'URL_n']]"
   ]
  },
  {
   "cell_type": "code",
   "execution_count": 116,
   "metadata": {},
   "outputs": [
    {
     "data": {
      "text/plain": [
       "[\"abc.net.au/news/2016-08-30/protesters-arrested-in-kalgoorlie-riot-after-teen's-death/7797804\",\n",
       " 'abc.net.au/lateline/interview-mark-tedeschi-qc,-new-south-wales/6906896',\n",
       " 'abc.net.au/news/2011-06-10/spinnaker-island-weed-burn/2754288',\n",
       " 'abc.net.au/news/2012-08-23/government-announces-increase-in-humanitarian-intake/4217962',\n",
       " \"abc.net.au/news/2016-09-01/plans-for-new-suburb-in-melbourne's-inner-north-unveiled/7804530\"]"
      ]
     },
     "execution_count": 116,
     "metadata": {},
     "output_type": "execute_result"
    }
   ],
   "source": [
    "list(df.loc[df['domain'] == 'abc.net.au', 'URL_n'])[0:5]"
   ]
  },
  {
   "cell_type": "markdown",
   "metadata": {},
   "source": [
    "### 39. books.google.co.uk"
   ]
  },
  {
   "cell_type": "markdown",
   "metadata": {},
   "source": [
    "These URLs require a lot of transformations to be reduced."
   ]
  },
  {
   "cell_type": "code",
   "execution_count": 117,
   "metadata": {},
   "outputs": [
    {
     "data": {
      "text/plain": [
       "['books.google.co.uk/books?id=Qn6vBwAAQBAJ&pg=PA116#v%3Donepage%26q%26f%3Dfalse',\n",
       " 'books.google.co.uk/books?id=WSLUAwAAQBAJ&pg=PA5',\n",
       " 'books.google.co.uk/books?id=Pv4BuiVPe_YC&pg=PA31',\n",
       " 'books.google.co.uk/books?id=TsrT1et_iCAC&pg=PA133',\n",
       " 'books.google.co.uk/books?id=b_kTU8LfcqAC&lpg=PA335&pg=PA335']"
      ]
     },
     "execution_count": 117,
     "metadata": {},
     "output_type": "execute_result"
    }
   ],
   "source": [
    "list(df.loc[df['domain'] == 'books.google.co.uk', 'URL_n'])[0:5]"
   ]
  },
  {
   "cell_type": "code",
   "execution_count": 118,
   "metadata": {},
   "outputs": [],
   "source": [
    "df.loc[df['domain'] == 'books.google.co.uk', 'URL_n'] = [re.sub('\\?.*&id=', '?id=', x, flags=re.IGNORECASE) for x in df.loc[df['domain'] == 'books.google.co.uk', 'URL_n']]\n",
    "df.loc[df['domain'] == 'books.google.co.uk', 'URL_n'] = [re.sub('(\\?id=.*?&)(.*)', r'\\1', x, flags=re.IGNORECASE) for x in df.loc[df['domain'] == 'books.google.co.uk', 'URL_n']]\n",
    "df.loc[df['domain'] == 'books.google.co.uk', 'URL_n'] = [re.sub('\\?.*&q=', '?q=', x, flags=re.IGNORECASE) for x in df.loc[df['domain'] == 'books.google.co.uk', 'URL_n']]\n",
    "df.loc[df['domain'] == 'books.google.co.uk', 'URL_n'] = [re.sub('ngrams/graph\\?.*&content=', 'ngrams/graph?content=', x, flags=re.IGNORECASE) for x in df.loc[df['domain'] == 'books.google.co.uk', 'URL_n']]\n",
    "df.loc[df['domain'] == 'books.google.co.uk', 'URL_n'] = [re.sub('&.*', '', x, flags=re.IGNORECASE) for x in df.loc[df['domain'] == 'books.google.co.uk', 'URL_n']]\n",
    "df.loc[df['domain'] == 'books.google.co.uk', 'URL_n'] = [re.sub('/books.*\\?id=', '/?id=', x, flags=re.IGNORECASE) for x in df.loc[df['domain'] == 'books.google.co.uk', 'URL_n']]\n",
    "df.loc[df['domain'] == 'books.google.co.uk', 'URL_n'] = [re.sub('/books.*\\?vid=', '/?vid=', x, flags=re.IGNORECASE) for x in df.loc[df['domain'] == 'books.google.co.uk', 'URL_n']]\n",
    "df.loc[df['domain'] == 'books.google.co.uk', 'URL_n'] = [re.sub('/books.*\\?q=', '/?q=', x, flags=re.IGNORECASE) for x in df.loc[df['domain'] == 'books.google.co.uk', 'URL_n']]\n",
    "df.loc[df['domain'] == 'books.google.co.uk', 'URL_n'] = [re.sub('#(v|search).*', '', x, flags=re.IGNORECASE) for x in df.loc[df['domain'] == 'books.google.co.uk', 'URL_n']]"
   ]
  },
  {
   "cell_type": "code",
   "execution_count": 119,
   "metadata": {},
   "outputs": [
    {
     "data": {
      "text/plain": [
       "['books.google.co.uk/?id=Qn6vBwAAQBAJ',\n",
       " 'books.google.co.uk/?id=WSLUAwAAQBAJ',\n",
       " 'books.google.co.uk/?id=Pv4BuiVPe_YC',\n",
       " 'books.google.co.uk/?id=TsrT1et_iCAC',\n",
       " 'books.google.co.uk/?id=b_kTU8LfcqAC']"
      ]
     },
     "execution_count": 119,
     "metadata": {},
     "output_type": "execute_result"
    }
   ],
   "source": [
    "list(df.loc[df['domain'] == 'books.google.co.uk', 'URL_n'])[0:5]"
   ]
  },
  {
   "cell_type": "markdown",
   "metadata": {},
   "source": [
    "### 40. facebook.com"
   ]
  },
  {
   "cell_type": "markdown",
   "metadata": {},
   "source": [
    "Some parameters are removed."
   ]
  },
  {
   "cell_type": "code",
   "execution_count": 120,
   "metadata": {},
   "outputs": [
    {
     "data": {
      "text/plain": [
       "['facebook.com/NowThisPolitics/videos/2058599324171547/UzpfSTEwMDAxNjUyOTIwNTg3MzoyNTA1Njc2Nzg4Mzc1Mzc/?id=100016529205873',\n",
       " 'facebook.com/teamarmstrongcurling/posts/1061917074201489?__tn__=-R',\n",
       " 'facebook.com/groups/FriendsofMike',\n",
       " 'facebook.com/themeparkarchive/photos/a.755965204471431.1073741829.754391131295505/1159264867474794/?theater&type=1',\n",
       " 'facebook.com/fcpafos/photos/a.386976711496854.1073741829.386700621524463/850246115169909/?theater&type=3']"
      ]
     },
     "execution_count": 120,
     "metadata": {},
     "output_type": "execute_result"
    }
   ],
   "source": [
    "list(df.loc[df['domain'] == 'facebook.com', 'URL_n'])[0:5]"
   ]
  },
  {
   "cell_type": "code",
   "execution_count": 121,
   "metadata": {},
   "outputs": [],
   "source": [
    "df.loc[df['domain'] == 'facebook.com', 'URL_n'] = [re.sub('\\?(theater|theatre|stream_).*?(&|$)', '?', x, flags=re.IGNORECASE) for x in df.loc[df['domain'] == 'facebook.com', 'URL_n']]\n",
    "df.loc[df['domain'] == 'facebook.com', 'URL_n'] = [re.sub('(__tn__=|pnref=|fref=|type=|notif_t=|permpage=|total_comments=).*?(&|$)', '', x, flags=re.IGNORECASE) for x in df.loc[df['domain'] == 'facebook.com', 'URL_n']]\n",
    "df.loc[df['domain'] == 'facebook.com', 'URL_n'] = [re.sub('(\\?$|\\?&$|&$)', '', x, flags=re.IGNORECASE) for x in df.loc[df['domain'] == 'facebook.com', 'URL_n']]"
   ]
  },
  {
   "cell_type": "code",
   "execution_count": 122,
   "metadata": {},
   "outputs": [
    {
     "data": {
      "text/plain": [
       "['facebook.com/NowThisPolitics/videos/2058599324171547/UzpfSTEwMDAxNjUyOTIwNTg3MzoyNTA1Njc2Nzg4Mzc1Mzc/?id=100016529205873',\n",
       " 'facebook.com/teamarmstrongcurling/posts/1061917074201489',\n",
       " 'facebook.com/groups/FriendsofMike',\n",
       " 'facebook.com/themeparkarchive/photos/a.755965204471431.1073741829.754391131295505/1159264867474794/',\n",
       " 'facebook.com/fcpafos/photos/a.386976711496854.1073741829.386700621524463/850246115169909/']"
      ]
     },
     "execution_count": 122,
     "metadata": {},
     "output_type": "execute_result"
    }
   ],
   "source": [
    "list(df.loc[df['domain'] == 'facebook.com', 'URL_n'])[0:5]"
   ]
  },
  {
   "cell_type": "markdown",
   "metadata": {},
   "source": [
    "### 41. cbc.ca"
   ]
  },
  {
   "cell_type": "markdown",
   "metadata": {},
   "source": [
    "Some parameters are removed."
   ]
  },
  {
   "cell_type": "code",
   "execution_count": 123,
   "metadata": {},
   "outputs": [
    {
     "data": {
      "text/plain": [
       "['cbc.ca/news/canada/montreal/montreal-street-to-be-named-daisy-peterson-sweeney-1.4250647',\n",
       " 'cbc.ca/sports/soccer/whitecaps-fire-head-coach-martin-rennie-1.2274991',\n",
       " 'cbc.ca/news/canada/saskatchewan/moe-federal-election-1.5282354?__vfz=medium=sharebar',\n",
       " 'cbc.ca/news/canada/toronto/line-1-subway-update-1.4861277',\n",
       " 'cbc.ca/news/canada/story/2011/07/07/f-vp-valpy-young-royals.html']"
      ]
     },
     "execution_count": 123,
     "metadata": {},
     "output_type": "execute_result"
    }
   ],
   "source": [
    "list(df.loc[df['domain'] == 'cbc.ca', 'URL_n'])[0:5]"
   ]
  },
  {
   "cell_type": "code",
   "execution_count": 124,
   "metadata": {},
   "outputs": [],
   "source": [
    "df.loc[df['domain'] == 'cbc.ca', 'URL_n'] = [re.sub('#ixzz.*', '', x, flags=re.IGNORECASE) for x in df.loc[df['domain'] == 'cbc.ca', 'URL_n']]\n",
    "df.loc[df['domain'] == 'cbc.ca', 'URL_n'] = [re.sub('\\.html\\?(__vfz=|autoplay=|rss=|cmp=|ref=|print=|r=).*', '.html', x, flags=re.IGNORECASE) for x in df.loc[df['domain'] == 'cbc.ca', 'URL_n']]\n",
    "df.loc[df['domain'] == 'cbc.ca', 'URL_n'] = [re.sub('\\?(__vfz=|autoplay=|rss=|cmp=|ref=|print=|r=).*', '', x, flags=re.IGNORECASE) for x in df.loc[df['domain'] == 'cbc.ca', 'URL_n']]"
   ]
  },
  {
   "cell_type": "code",
   "execution_count": 125,
   "metadata": {},
   "outputs": [
    {
     "data": {
      "text/plain": [
       "['cbc.ca/news/canada/montreal/montreal-street-to-be-named-daisy-peterson-sweeney-1.4250647',\n",
       " 'cbc.ca/sports/soccer/whitecaps-fire-head-coach-martin-rennie-1.2274991',\n",
       " 'cbc.ca/news/canada/saskatchewan/moe-federal-election-1.5282354',\n",
       " 'cbc.ca/news/canada/toronto/line-1-subway-update-1.4861277',\n",
       " 'cbc.ca/news/canada/story/2011/07/07/f-vp-valpy-young-royals.html']"
      ]
     },
     "execution_count": 125,
     "metadata": {},
     "output_type": "execute_result"
    }
   ],
   "source": [
    "list(df.loc[df['domain'] == 'cbc.ca', 'URL_n'])[0:5]"
   ]
  },
  {
   "cell_type": "markdown",
   "metadata": {},
   "source": [
    "### 42. amazon.com"
   ]
  },
  {
   "cell_type": "markdown",
   "metadata": {},
   "source": [
    "ref= and keywords= can be removed not in all cases."
   ]
  },
  {
   "cell_type": "code",
   "execution_count": 126,
   "metadata": {},
   "outputs": [
    {
     "data": {
      "text/plain": [
       "['amazon.com/Sympathy-for-the-Devil-HD/dp/B003XI83H8',\n",
       " 'amazon.com/Family-Business-Carl-Weber/dp/1601627092/ref=la_B001IQZOJ2_1_2?ie=UTF8&qid=1456022103&s=books&sr=1-2',\n",
       " 'amazon.com/Chickenshit-Club-Department-Prosecute-Executives/dp/1501121367',\n",
       " 'amazon.com/Crapitalism-Liberals-Millions-Swiping-Dollars/dp/1476750424/ref=sr_1_1?ie=UTF8&keywords=crapitalism+liberals+who+make+millions+swiping+your+tax+dollars&qid=1505862438&s=books&sr=1-1',\n",
       " 'amazon.com/Spook-Mary-Roach-Sep-2006/dp/B00D820F2A/ref=sr_1_2?ie=UTF8&keywords=spook+roach&qid=1533166658&s=books&sr=1-2']"
      ]
     },
     "execution_count": 126,
     "metadata": {},
     "output_type": "execute_result"
    }
   ],
   "source": [
    "list(df.loc[df['domain'] == 'amazon.com', 'URL_n'])[0:5]"
   ]
  },
  {
   "cell_type": "code",
   "execution_count": 127,
   "metadata": {},
   "outputs": [],
   "source": [
    "df.loc[df['domain'] == 'amazon.com', 'URL_n'] = [re.sub('(\\?ie=|\\?_encoding=).*', '', x, flags=re.IGNORECASE) for x in df.loc[df['domain'] == 'amazon.com', 'URL_n']]\n",
    "df.loc[df['domain'] == 'amazon.com', 'URL_n'] = [re.sub('([0-9a-z]{2})(/ref=.*)', r'\\1', x, flags=re.IGNORECASE) for x in df.loc[df['domain'] == 'amazon.com', 'URL_n']]"
   ]
  },
  {
   "cell_type": "code",
   "execution_count": 128,
   "metadata": {},
   "outputs": [
    {
     "data": {
      "text/plain": [
       "['amazon.com/Sympathy-for-the-Devil-HD/dp/B003XI83H8',\n",
       " 'amazon.com/Family-Business-Carl-Weber/dp/1601627092',\n",
       " 'amazon.com/Chickenshit-Club-Department-Prosecute-Executives/dp/1501121367',\n",
       " 'amazon.com/Crapitalism-Liberals-Millions-Swiping-Dollars/dp/1476750424',\n",
       " 'amazon.com/Spook-Mary-Roach-Sep-2006/dp/B00D820F2A']"
      ]
     },
     "execution_count": 128,
     "metadata": {},
     "output_type": "execute_result"
    }
   ],
   "source": [
    "list(df.loc[df['domain'] == 'amazon.com', 'URL_n'])[0:5]"
   ]
  },
  {
   "cell_type": "markdown",
   "metadata": {},
   "source": [
    "### 43. espn.com"
   ]
  },
  {
   "cell_type": "markdown",
   "metadata": {},
   "source": [
    "No changes required."
   ]
  },
  {
   "cell_type": "code",
   "execution_count": 129,
   "metadata": {},
   "outputs": [
    {
     "data": {
      "text/plain": [
       "['espn.com/blog/nflnation/post/_/id/220441/raiders-prove-they-are-the-real-deal-with-thumping-of-broncos',\n",
       " 'espn.com/golf/story/_/id/22996264/drive-chip-putt-winners-crowned-augusta-national-ahead-masters',\n",
       " 'espn.com/mens-college-basketball/story/_/id/15160931/georgia-tech-yellow-jackets-hire-josh-pastner-head-coach',\n",
       " 'espn.com/mlb/story/_/id/25938532/reliever-brad-boxberger-agrees-deal-kansas-city-royals',\n",
       " 'espn.com/nba/playoffs/2016/story/_/id/16351029/lebron-james-cleveland-cavaliers-named-unanimous-nba-finals-mvp']"
      ]
     },
     "execution_count": 129,
     "metadata": {},
     "output_type": "execute_result"
    }
   ],
   "source": [
    "list(df.loc[df['domain'] == 'espn.com', 'URL_n'])[0:5]"
   ]
  },
  {
   "cell_type": "markdown",
   "metadata": {},
   "source": [
    "### 44. latimes.com"
   ]
  },
  {
   "cell_type": "markdown",
   "metadata": {},
   "source": [
    "Some parameters are removed."
   ]
  },
  {
   "cell_type": "code",
   "execution_count": 130,
   "metadata": {},
   "outputs": [
    {
     "data": {
      "text/plain": [
       "['latimes.com/local/lanow/la-me-ln-kansas-swatting-records-20180126-story.html',\n",
       " 'latimes.com/world/asia/la-fg-japan-abe-wins-downbeat-election-20141214-story.html#page%3D1',\n",
       " 'latimes.com/entertainment/envelope/tv/la-et-st-emmy-awards-2015-list-nominees-winners-story.html',\n",
       " 'latimes.com/local/obituaries/la-me-foch7-2008dec07-story.html',\n",
       " 'latimes.com/news/nationworld/world/la-fg-israel-katsav-20101231,0,4453115.story']"
      ]
     },
     "execution_count": 130,
     "metadata": {},
     "output_type": "execute_result"
    }
   ],
   "source": [
    "list(df.loc[df['domain'] == 'latimes.com', 'URL_n'])[0:5]"
   ]
  },
  {
   "cell_type": "code",
   "execution_count": 131,
   "metadata": {},
   "outputs": [],
   "source": [
    "df.loc[df['domain'] == 'latimes.com', 'URL_n'] = [re.sub('(#axzz|#ixzz).*', '', x, flags=re.IGNORECASE) for x in df.loc[df['domain'] == 'latimes.com', 'URL_n']]\n",
    "df.loc[df['domain'] == 'latimes.com', 'URL_n'] = [re.sub('\\.html\\?(col|track|cset|_amp|outputType|barc|dlvrit).*#pag', '.html#pag', x, flags=re.IGNORECASE) for x in df.loc[df['domain'] == 'latimes.com', 'URL_n']]\n",
    "df.loc[df['domain'] == 'latimes.com', 'URL_n'] = [re.sub('\\.html\\?(col|track|cset|_amp|outputType|barc|dlvrit).*', '.html', x, flags=re.IGNORECASE) for x in df.loc[df['domain'] == 'latimes.com', 'URL_n']]\n",
    "df.loc[df['domain'] == 'latimes.com', 'URL_n'] = [re.sub('(\\?|\\.html\\?)(col|track|cset|_amp|outputType|barc|dlvrit).*', '', x, flags=re.IGNORECASE) for x in df.loc[df['domain'] == 'latimes.com', 'URL_n']]"
   ]
  },
  {
   "cell_type": "code",
   "execution_count": 132,
   "metadata": {},
   "outputs": [
    {
     "data": {
      "text/plain": [
       "['latimes.com/local/lanow/la-me-ln-kansas-swatting-records-20180126-story.html',\n",
       " 'latimes.com/world/asia/la-fg-japan-abe-wins-downbeat-election-20141214-story.html#page%3D1',\n",
       " 'latimes.com/entertainment/envelope/tv/la-et-st-emmy-awards-2015-list-nominees-winners-story.html',\n",
       " 'latimes.com/local/obituaries/la-me-foch7-2008dec07-story.html',\n",
       " 'latimes.com/news/nationworld/world/la-fg-israel-katsav-20101231,0,4453115.story']"
      ]
     },
     "execution_count": 132,
     "metadata": {},
     "output_type": "execute_result"
    }
   ],
   "source": [
    "list(df.loc[df['domain'] == 'latimes.com', 'URL_n'])[0:5]"
   ]
  },
  {
   "cell_type": "markdown",
   "metadata": {},
   "source": [
    "### 45. usatoday.com "
   ]
  },
  {
   "cell_type": "markdown",
   "metadata": {},
   "source": [
    "Some parameters are removed."
   ]
  },
  {
   "cell_type": "code",
   "execution_count": 133,
   "metadata": {},
   "outputs": [
    {
     "data": {
      "text/plain": [
       "['usatoday.com/story/money/cars/2014/08/08/gm-victims-fund-death-claims/13792833',\n",
       " 'usatoday.com/sports/soccer/2004-11-11-asked-harkes_x.htm',\n",
       " 'usatoday.com/story/sports/nfl/redskins/2014/09/14/robert-griffin-iii-rg3-rgiii-left-ankle-cast-jaguars-washington/15629039',\n",
       " 'usatoday.com/news/washington/2011-01-12-defense12_ST_N.htm',\n",
       " 'usatoday.com/sports/olympics/2009-06-12-1009615793_x.htm']"
      ]
     },
     "execution_count": 133,
     "metadata": {},
     "output_type": "execute_result"
    }
   ],
   "source": [
    "list(df.loc[df['domain'] == 'usatoday.com', 'URL_n'])[0:5]"
   ]
  },
  {
   "cell_type": "code",
   "execution_count": 134,
   "metadata": {},
   "outputs": [],
   "source": [
    "df.loc[df['domain'] == 'usatoday.com', 'URL_n'] = [re.sub('\\.htm\\?(POE=|loc|csp=|dlvrit=).*#', '.htm#', x, flags=re.IGNORECASE) for x in df.loc[df['domain'] == 'usatoday.com', 'URL_n']]\n",
    "df.loc[df['domain'] == 'usatoday.com', 'URL_n'] = [re.sub('\\.htm\\?(POE=|loc|csp=|dlvrit=).*', '.htm', x, flags=re.IGNORECASE) for x in df.loc[df['domain'] == 'usatoday.com', 'URL_n']]\n",
    "df.loc[df['domain'] == 'usatoday.com', 'URL_n'] = [re.sub('(/\\?|/1\\?)(POE=|loc|csp=|dlvrit=).*', '', x, flags=re.IGNORECASE) for x in df.loc[df['domain'] == 'usatoday.com', 'URL_n']]"
   ]
  },
  {
   "cell_type": "code",
   "execution_count": 135,
   "metadata": {},
   "outputs": [
    {
     "data": {
      "text/plain": [
       "['usatoday.com/story/money/cars/2014/08/08/gm-victims-fund-death-claims/13792833',\n",
       " 'usatoday.com/sports/soccer/2004-11-11-asked-harkes_x.htm',\n",
       " 'usatoday.com/story/sports/nfl/redskins/2014/09/14/robert-griffin-iii-rg3-rgiii-left-ankle-cast-jaguars-washington/15629039',\n",
       " 'usatoday.com/news/washington/2011-01-12-defense12_ST_N.htm',\n",
       " 'usatoday.com/sports/olympics/2009-06-12-1009615793_x.htm']"
      ]
     },
     "execution_count": 135,
     "metadata": {},
     "output_type": "execute_result"
    }
   ],
   "source": [
    "list(df.loc[df['domain'] == 'usatoday.com', 'URL_n'])[0:5]"
   ]
  },
  {
   "cell_type": "markdown",
   "metadata": {},
   "source": [
    "### 46. rollingstone.com"
   ]
  },
  {
   "cell_type": "markdown",
   "metadata": {},
   "source": [
    "Similar to hollywoodreporter."
   ]
  },
  {
   "cell_type": "code",
   "execution_count": 136,
   "metadata": {},
   "outputs": [
    {
     "data": {
      "text/plain": [
       "['rollingstone.com/news/story/5938755/the_vines/print',\n",
       " 'rollingstone.com/music/albumreviews/carly-simon-19710401',\n",
       " 'rollingstone.com/music/albumreviews/the-open-door-20061005',\n",
       " 'rollingstone.com/music/features/how-weezers-pinkerton-went-from-embarrassing-to-essential-w441144',\n",
       " 'rollingstone.com/music/features/the-rolling-stone-interview-keith-richard-20150123']"
      ]
     },
     "execution_count": 136,
     "metadata": {},
     "output_type": "execute_result"
    }
   ],
   "source": [
    "list(df.loc[df['domain'] == 'rollingstone.com', 'URL_n'])[0:5]"
   ]
  },
  {
   "cell_type": "code",
   "execution_count": 137,
   "metadata": {},
   "outputs": [],
   "source": [
    "df.loc[df['domain'] == 'rollingstone.com', 'URL_n'] = [re.sub('#ixzz.*', '', x, flags=re.IGNORECASE) for x in df.loc[df['domain'] == 'rollingstone.com', 'URL_n']]\n",
    "df.loc[df['domain'] == 'rollingstone.com', 'URL_n'] = [re.sub('\\?source.*', '', x, flags=re.IGNORECASE) for x in df.loc[df['domain'] == 'rollingstone.com', 'URL_n']]"
   ]
  },
  {
   "cell_type": "code",
   "execution_count": 138,
   "metadata": {},
   "outputs": [
    {
     "data": {
      "text/plain": [
       "['rollingstone.com/news/story/5938755/the_vines/print',\n",
       " 'rollingstone.com/music/albumreviews/carly-simon-19710401',\n",
       " 'rollingstone.com/music/albumreviews/the-open-door-20061005',\n",
       " 'rollingstone.com/music/features/how-weezers-pinkerton-went-from-embarrassing-to-essential-w441144',\n",
       " 'rollingstone.com/music/features/the-rolling-stone-interview-keith-richard-20150123']"
      ]
     },
     "execution_count": 138,
     "metadata": {},
     "output_type": "execute_result"
    }
   ],
   "source": [
    "list(df.loc[df['domain'] == 'rollingstone.com', 'URL_n'])[0:5]"
   ]
  },
  {
   "cell_type": "markdown",
   "metadata": {},
   "source": [
    "### 47. smh.com.au"
   ]
  },
  {
   "cell_type": "markdown",
   "metadata": {},
   "source": [
    "Some parameters are removed."
   ]
  },
  {
   "cell_type": "code",
   "execution_count": 139,
   "metadata": {},
   "outputs": [
    {
     "data": {
      "text/plain": [
       "['smh.com.au/small-business/startup/making-sweet-sweet-music-20130711-2pt59.html',\n",
       " 'smh.com.au/world/denmarks-princess-alexandra-to-remarry-20070208-gdpfh4.html',\n",
       " 'smh.com.au/entertainment/music/national-treasure-made-music-until-the-end-20100715-10clx.html',\n",
       " 'smh.com.au/environment/whale-watch/another-ocean-giant-meets-a-tragic-end-20120208-1rkfj.html',\n",
       " 'smh.com.au/national/a-star-is-forlorn-ageing-theatre-queen-cries-out-for-a-little-makeup-20080808-3sem.html']"
      ]
     },
     "execution_count": 139,
     "metadata": {},
     "output_type": "execute_result"
    }
   ],
   "source": [
    "list(df.loc[df['domain'] == 'smh.com.au', 'URL_n'])[0:5]"
   ]
  },
  {
   "cell_type": "code",
   "execution_count": 140,
   "metadata": {},
   "outputs": [],
   "source": [
    "df.loc[df['domain'] == 'smh.com.au', 'URL_n'] = [re.sub('#ixzz.*', '', x, flags=re.IGNORECASE) for x in df.loc[df['domain'] == 'smh.com.au', 'URL_n']]\n",
    "df.loc[df['domain'] == 'smh.com.au', 'URL_n'] = [re.sub('\\.html\\?(from=|skin=|oneclick=|s_cid=|autostart=|rand=|feed=|fbclid=|deviceType=|ref=).*#', '.html#', x, flags=re.IGNORECASE) for x in df.loc[df['domain'] == 'smh.com.au', 'URL_n']]\n",
    "df.loc[df['domain'] == 'smh.com.au', 'URL_n'] = [re.sub('\\.html\\?(from=|skin=|oneclick=|s_cid=|autostart=|rand=|feed=|fbclid=|deviceType=|ref=).*', '.html', x, flags=re.IGNORECASE) for x in df.loc[df['domain'] == 'smh.com.au', 'URL_n']]"
   ]
  },
  {
   "cell_type": "code",
   "execution_count": 141,
   "metadata": {},
   "outputs": [
    {
     "data": {
      "text/plain": [
       "['smh.com.au/small-business/startup/making-sweet-sweet-music-20130711-2pt59.html',\n",
       " 'smh.com.au/world/denmarks-princess-alexandra-to-remarry-20070208-gdpfh4.html',\n",
       " 'smh.com.au/entertainment/music/national-treasure-made-music-until-the-end-20100715-10clx.html',\n",
       " 'smh.com.au/environment/whale-watch/another-ocean-giant-meets-a-tragic-end-20120208-1rkfj.html',\n",
       " 'smh.com.au/national/a-star-is-forlorn-ageing-theatre-queen-cries-out-for-a-little-makeup-20080808-3sem.html']"
      ]
     },
     "execution_count": 141,
     "metadata": {},
     "output_type": "execute_result"
    }
   ],
   "source": [
    "list(df.loc[df['domain'] == 'smh.com.au', 'URL_n'])[0:5]"
   ]
  },
  {
   "cell_type": "markdown",
   "metadata": {},
   "source": [
    "### 48. int.soccerway.com"
   ]
  },
  {
   "cell_type": "markdown",
   "metadata": {},
   "source": [
    "One parameter is removed."
   ]
  },
  {
   "cell_type": "code",
   "execution_count": 142,
   "metadata": {},
   "outputs": [
    {
     "data": {
      "text/plain": [
       "['int.soccerway.com/matches/2016/09/03/england/conference-n--s/boston-united-fc/fc-united-of-manchester/2264825',\n",
       " 'int.soccerway.com/matches/2016/11/09/england/football-league-trophy/carlisle-united-fc/fleetwood-town-fc/2319442',\n",
       " 'int.soccerway.com/players/frazer-shaw/412906',\n",
       " 'int.soccerway.com/matches/2010/03/20/england/league-two/hereford-united-fc/bradford-city-afc/783838',\n",
       " 'int.soccerway.com/players/stefan-mols/454421']"
      ]
     },
     "execution_count": 142,
     "metadata": {},
     "output_type": "execute_result"
    }
   ],
   "source": [
    "list(df.loc[df['domain'] == 'int.soccerway.com', 'URL_n'])[0:5]"
   ]
  },
  {
   "cell_type": "code",
   "execution_count": 143,
   "metadata": {},
   "outputs": [],
   "source": [
    "df.loc[df['domain'] == 'int.soccerway.com', 'URL_n'] = [re.sub('/\\?icid=.*', '', x, flags=re.IGNORECASE) for x in df.loc[df['domain'] == 'int.soccerway.com', 'URL_n']]"
   ]
  },
  {
   "cell_type": "code",
   "execution_count": 144,
   "metadata": {},
   "outputs": [
    {
     "data": {
      "text/plain": [
       "['int.soccerway.com/matches/2016/09/03/england/conference-n--s/boston-united-fc/fc-united-of-manchester/2264825',\n",
       " 'int.soccerway.com/matches/2016/11/09/england/football-league-trophy/carlisle-united-fc/fleetwood-town-fc/2319442',\n",
       " 'int.soccerway.com/players/frazer-shaw/412906',\n",
       " 'int.soccerway.com/matches/2010/03/20/england/league-two/hereford-united-fc/bradford-city-afc/783838',\n",
       " 'int.soccerway.com/players/stefan-mols/454421']"
      ]
     },
     "execution_count": 144,
     "metadata": {},
     "output_type": "execute_result"
    }
   ],
   "source": [
    "list(df.loc[df['domain'] == 'int.soccerway.com', 'URL_n'])[0:5]"
   ]
  },
  {
   "cell_type": "markdown",
   "metadata": {},
   "source": [
    "### 49. forbes.com"
   ]
  },
  {
   "cell_type": "markdown",
   "metadata": {},
   "source": [
    "Some paremeters such as list= can be removed but the page changes."
   ]
  },
  {
   "cell_type": "code",
   "execution_count": 145,
   "metadata": {},
   "outputs": [
    {
     "data": {
      "text/plain": [
       "['forbes.com/sites/halahtouryalai/2011/10/12/volcker-rule-is-out-how-much-will-it-hurt',\n",
       " 'forbes.com/enterprisetech/2004/08/04/cz_dl_0804sco.html',\n",
       " 'forbes.com/sites/matthewnewton/2011/09/08/hypebeast-founder-talks-influencers-and-authenticity/#45acafe87f69',\n",
       " 'forbes.com/sites/andygreenberg/2011/02/11/palantir-apologizes-for-wikileaks-attack-proposal-cuts-ties-with-hbgary',\n",
       " 'forbes.com/2008/02/28/most-expensive-watches-forbeslife-time08-cx_nr_0229watch_slide.html']"
      ]
     },
     "execution_count": 145,
     "metadata": {},
     "output_type": "execute_result"
    }
   ],
   "source": [
    "list(df.loc[df['domain'] == 'forbes.com', 'URL_n'])[0:5]"
   ]
  },
  {
   "cell_type": "code",
   "execution_count": 146,
   "metadata": {},
   "outputs": [],
   "source": [
    "df.loc[df['domain'] == 'forbes.com', 'URL_n'] = [re.sub('(/*)#[a-z0-9]{12}.*', '', x, flags=re.IGNORECASE) for x in df.loc[df['domain'] == 'forbes.com', 'URL_n']]\n",
    "df.loc[df['domain'] == 'forbes.com', 'URL_n'] = [re.sub('\\.html\\?(thisSpeed=|c=|boxes=).*#', '.html#', x, flags=re.IGNORECASE) for x in df.loc[df['domain'] == 'forbes.com', 'URL_n']]\n",
    "df.loc[df['domain'] == 'forbes.com', 'URL_n'] = [re.sub('\\.html\\?(thisSpeed=|c=|boxes=).*', '.html', x, flags=re.IGNORECASE) for x in df.loc[df['domain'] == 'forbes.com', 'URL_n']]\n",
    "df.loc[df['domain'] == 'forbes.com', 'URL_n'] = [re.sub('(/*)\\?(thisSpeed=|c=|boxes=).*#', '#', x, flags=re.IGNORECASE) for x in df.loc[df['domain'] == 'forbes.com', 'URL_n']]\n",
    "df.loc[df['domain'] == 'forbes.com', 'URL_n'] = [re.sub('(/*)\\?(thisSpeed=|c=|boxes=).*', '', x, flags=re.IGNORECASE) for x in df.loc[df['domain'] == 'forbes.com', 'URL_n']]"
   ]
  },
  {
   "cell_type": "code",
   "execution_count": 147,
   "metadata": {},
   "outputs": [
    {
     "data": {
      "text/plain": [
       "['forbes.com/sites/halahtouryalai/2011/10/12/volcker-rule-is-out-how-much-will-it-hurt',\n",
       " 'forbes.com/enterprisetech/2004/08/04/cz_dl_0804sco.html',\n",
       " 'forbes.com/sites/matthewnewton/2011/09/08/hypebeast-founder-talks-influencers-and-authenticity',\n",
       " 'forbes.com/sites/andygreenberg/2011/02/11/palantir-apologizes-for-wikileaks-attack-proposal-cuts-ties-with-hbgary',\n",
       " 'forbes.com/2008/02/28/most-expensive-watches-forbeslife-time08-cx_nr_0229watch_slide.html']"
      ]
     },
     "execution_count": 147,
     "metadata": {},
     "output_type": "execute_result"
    }
   ],
   "source": [
    "list(df.loc[df['domain'] == 'forbes.com', 'URL_n'])[0:5]"
   ]
  },
  {
   "cell_type": "markdown",
   "metadata": {},
   "source": [
    "### 50. cnn.com"
   ]
  },
  {
   "cell_type": "markdown",
   "metadata": {},
   "source": [
    "Some parameters are removed."
   ]
  },
  {
   "cell_type": "code",
   "execution_count": 148,
   "metadata": {},
   "outputs": [
    {
     "data": {
      "text/plain": [
       "['cnn.com/SHOWBIZ/9605/29/imposssibles',\n",
       " 'cnn.com/videos/tv/2019/03/02/exp-gps-0303-kroenig-on-trumps-approach.cnn',\n",
       " 'cnn.com/2004/LAW/10/26/malvo.plea/index.html',\n",
       " 'cnn.com/2017/06/16/politics/john-dowd-lawyer-donald-trump/index.html',\n",
       " 'cnn.com/2015/08/11/health/trumps-comb-over/index.html']"
      ]
     },
     "execution_count": 148,
     "metadata": {},
     "output_type": "execute_result"
    }
   ],
   "source": [
    "list(df.loc[df['domain'] == 'cnn.com', 'URL_n'])[0:5]"
   ]
  },
  {
   "cell_type": "code",
   "execution_count": 149,
   "metadata": {},
   "outputs": [],
   "source": [
    "df.loc[df['domain'] == 'cnn.com', 'URL_n'] = [re.sub('(\\?|&)hpt=[a-z0-9_]+$', '', x, flags=re.IGNORECASE) for x in df.loc[df['domain'] == 'cnn.com', 'URL_n']]\n",
    "df.loc[df['domain'] == 'cnn.com', 'URL_n'] = [re.sub('(\\?|&)(eref|iref|section|_S)=.*', '', x, flags=re.IGNORECASE) for x in df.loc[df['domain'] == 'cnn.com', 'URL_n']]"
   ]
  },
  {
   "cell_type": "code",
   "execution_count": 150,
   "metadata": {},
   "outputs": [
    {
     "data": {
      "text/plain": [
       "['cnn.com/SHOWBIZ/9605/29/imposssibles',\n",
       " 'cnn.com/videos/tv/2019/03/02/exp-gps-0303-kroenig-on-trumps-approach.cnn',\n",
       " 'cnn.com/2004/LAW/10/26/malvo.plea/index.html',\n",
       " 'cnn.com/2017/06/16/politics/john-dowd-lawyer-donald-trump/index.html',\n",
       " 'cnn.com/2015/08/11/health/trumps-comb-over/index.html']"
      ]
     },
     "execution_count": 150,
     "metadata": {},
     "output_type": "execute_result"
    }
   ],
   "source": [
    "list(df.loc[df['domain'] == 'cnn.com', 'URL_n'])[0:5]"
   ]
  },
  {
   "cell_type": "markdown",
   "metadata": {},
   "source": [
    "### 51. wikidata.org"
   ]
  },
  {
   "cell_type": "markdown",
   "metadata": {},
   "source": [
    "Minor changes related to the language."
   ]
  },
  {
   "cell_type": "code",
   "execution_count": 151,
   "metadata": {},
   "outputs": [
    {
     "data": {
      "text/plain": [
       "['wikidata.org/wiki/Q63848025',\n",
       " 'wikidata.org/wiki/Help:Sources#Scientific%2C_newspaper_or_magazine_article',\n",
       " 'wikidata.org/wiki/Q3554335',\n",
       " 'wikidata.org/wiki/Property:P2026',\n",
       " 'wikidata.org/wiki/Q54899015']"
      ]
     },
     "execution_count": 151,
     "metadata": {},
     "output_type": "execute_result"
    }
   ],
   "source": [
    "list(df.loc[df['domain'] == 'wikidata.org', 'URL_n'])[0:5]"
   ]
  },
  {
   "cell_type": "code",
   "execution_count": 152,
   "metadata": {},
   "outputs": [],
   "source": [
    "df.loc[df['domain'] == 'wikidata.org', 'URL_n'] = [re.sub('\\?uselang=.*#', '#', x, flags=re.IGNORECASE) for x in df.loc[df['domain'] == 'wikidata.org', 'URL_n']]\n",
    "df.loc[df['domain'] == 'wikidata.org', 'URL_n'] = [re.sub('\\?uselang=.*', '', x, flags=re.IGNORECASE) for x in df.loc[df['domain'] == 'wikidata.org', 'URL_n']]"
   ]
  },
  {
   "cell_type": "code",
   "execution_count": 153,
   "metadata": {},
   "outputs": [
    {
     "data": {
      "text/plain": [
       "['wikidata.org/wiki/Q63848025',\n",
       " 'wikidata.org/wiki/Help:Sources#Scientific%2C_newspaper_or_magazine_article',\n",
       " 'wikidata.org/wiki/Q3554335',\n",
       " 'wikidata.org/wiki/Property:P2026',\n",
       " 'wikidata.org/wiki/Q54899015']"
      ]
     },
     "execution_count": 153,
     "metadata": {},
     "output_type": "execute_result"
    }
   ],
   "source": [
    "list(df.loc[df['domain'] == 'wikidata.org', 'URL_n'])[0:5]"
   ]
  },
  {
   "cell_type": "markdown",
   "metadata": {},
   "source": [
    "### 52. worldcat.org"
   ]
  },
  {
   "cell_type": "markdown",
   "metadata": {},
   "source": [
    "Some tags are removed."
   ]
  },
  {
   "cell_type": "code",
   "execution_count": 154,
   "metadata": {},
   "outputs": [
    {
     "data": {
      "text/plain": [
       "['worldcat.org/oclc/40856843',\n",
       " 'worldcat.org/title/suma-povrs-i-zupci-u-hercegovini/oclc/28403830',\n",
       " 'worldcat.org/title/regensburger-domorganisten-zum-150-todestag-von-carl-proske-1794-1861-und-zum-80-geburtstag-von-eberhard-kraus-1931-2003-ausstellung-in-der-bischoflichen-zentralbibliothek-regensburg-st-petersweg-11-13-20-mai-bis-22-juli-2011/oclc/734051627&referer=brief_results',\n",
       " 'worldcat.org/oclc/884013323',\n",
       " 'worldcat.org/oclc/61758538']"
      ]
     },
     "execution_count": 154,
     "metadata": {},
     "output_type": "execute_result"
    }
   ],
   "source": [
    "list(df[df['domain'] == 'worldcat.org']['URL_n'])[0:5]"
   ]
  },
  {
   "cell_type": "code",
   "execution_count": 155,
   "metadata": {},
   "outputs": [],
   "source": [
    "df.loc[df['domain'] == 'worldcat.org', 'URL_n'] = [re.sub('(referer=|tab=|ht=|qt=|submit=).*?(&|$)', '', x, flags=re.IGNORECASE) for x in df.loc[df['domain'] == 'worldcat.org', 'URL_n']]\n",
    "df.loc[df['domain'] == 'worldcat.org', 'URL_n'] = [re.sub('(\\?$|\\?&+$|&+$)', '', x, flags=re.IGNORECASE) for x in df.loc[df['domain'] == 'worldcat.org', 'URL_n']]"
   ]
  },
  {
   "cell_type": "code",
   "execution_count": 156,
   "metadata": {},
   "outputs": [
    {
     "data": {
      "text/plain": [
       "['worldcat.org/oclc/40856843',\n",
       " 'worldcat.org/title/suma-povrs-i-zupci-u-hercegovini/oclc/28403830',\n",
       " 'worldcat.org/title/regensburger-domorganisten-zum-150-todestag-von-carl-proske-1794-1861-und-zum-80-geburtstag-von-eberhard-kraus-1931-2003-ausstellung-in-der-bischoflichen-zentralbibliothek-regensburg-st-petersweg-11-13-20-mai-bis-22-juli-2011/oclc/734051627',\n",
       " 'worldcat.org/oclc/884013323',\n",
       " 'worldcat.org/oclc/61758538']"
      ]
     },
     "execution_count": 156,
     "metadata": {},
     "output_type": "execute_result"
    }
   ],
   "source": [
    "list(df[df['domain'] == 'worldcat.org']['URL_n'])[0:5]"
   ]
  },
  {
   "cell_type": "markdown",
   "metadata": {},
   "source": [
    "### 53. viaf.org"
   ]
  },
  {
   "cell_type": "markdown",
   "metadata": {},
   "source": [
    "Some tags are removed."
   ]
  },
  {
   "cell_type": "code",
   "execution_count": 157,
   "metadata": {},
   "outputs": [
    {
     "data": {
      "text/plain": [
       "['viaf.org/viaf/9770413/#Kim%2C_My%C5%8Fng-ch%CA%BB%C5%8Fl%2C_1944-',\n",
       " 'viaf.org/viaf/315862217',\n",
       " 'viaf.org/viaf/14920296',\n",
       " 'viaf.org/viaf/44363103',\n",
       " 'viaf.org/viaf/311398419/#Galula-Ericson%2C_Magda_%281929-_%29']"
      ]
     },
     "execution_count": 157,
     "metadata": {},
     "output_type": "execute_result"
    }
   ],
   "source": [
    "list(df[df['domain'] == 'viaf.org']['URL_n'])[0:5]"
   ]
  },
  {
   "cell_type": "code",
   "execution_count": 158,
   "metadata": {},
   "outputs": [],
   "source": [
    "df.loc[df['domain'] == 'viaf.org', 'URL_n'] = [re.sub('&sortkeys=.*', '', x, flags=re.IGNORECASE) for x in df.loc[df['domain'] == 'viaf.org', 'URL_n']]\n",
    "df.loc[df['domain'] == 'viaf.org', 'URL_n'] = [re.sub('/#.*', '', x, flags=re.IGNORECASE) for x in df.loc[df['domain'] == 'viaf.org', 'URL_n']]"
   ]
  },
  {
   "cell_type": "code",
   "execution_count": 159,
   "metadata": {},
   "outputs": [
    {
     "data": {
      "text/plain": [
       "['viaf.org/viaf/9770413',\n",
       " 'viaf.org/viaf/315862217',\n",
       " 'viaf.org/viaf/14920296',\n",
       " 'viaf.org/viaf/44363103',\n",
       " 'viaf.org/viaf/311398419']"
      ]
     },
     "execution_count": 159,
     "metadata": {},
     "output_type": "execute_result"
    }
   ],
   "source": [
    "list(df[df['domain'] == 'viaf.org']['URL_n'])[0:5]"
   ]
  },
  {
   "cell_type": "markdown",
   "metadata": {},
   "source": [
    "### 54. jstor.org"
   ]
  },
  {
   "cell_type": "markdown",
   "metadata": {},
   "source": [
    "Some tags are removed."
   ]
  },
  {
   "cell_type": "code",
   "execution_count": 160,
   "metadata": {},
   "outputs": [
    {
     "data": {
      "text/plain": [
       "['jstor.org/stable/j.ctv75db7c',\n",
       " 'jstor.org/',\n",
       " 'jstor.org/stable/3661092',\n",
       " 'jstor.org/stable/pdf/43462546.pdf?seq=1',\n",
       " 'jstor.org/action/doBasicSearch?Query=au:%22Joseph+D.+Reid%22+&acc=off&fc=off&group=none&wc=on']"
      ]
     },
     "execution_count": 160,
     "metadata": {},
     "output_type": "execute_result"
    }
   ],
   "source": [
    "list(df.loc[df['domain'] == 'jstor.org', 'URL_n'])[0:5]"
   ]
  },
  {
   "cell_type": "code",
   "execution_count": 161,
   "metadata": {},
   "outputs": [],
   "source": [
    "df.loc[df['domain'] == 'jstor.org', 'URL_n'] = [re.sub('([0-9])(\\?(seq=|sid=|cookieSet=|origin=|ref=).*)', r'\\1', x, flags=re.IGNORECASE) for x in df.loc[df['domain'] == 'jstor.org', 'URL_n']]\n",
    "df.loc[df['domain'] == 'jstor.org', 'URL_n'] = [re.sub('#(page|meta|fndtn).*', '', x, flags=re.IGNORECASE) for x in df.loc[df['domain'] == 'jstor.org', 'URL_n']]"
   ]
  },
  {
   "cell_type": "code",
   "execution_count": 162,
   "metadata": {},
   "outputs": [
    {
     "data": {
      "text/plain": [
       "['jstor.org/stable/j.ctv75db7c',\n",
       " 'jstor.org/',\n",
       " 'jstor.org/stable/3661092',\n",
       " 'jstor.org/stable/pdf/43462546.pdf?seq=1',\n",
       " 'jstor.org/action/doBasicSearch?Query=au:%22Joseph+D.+Reid%22+&acc=off&fc=off&group=none&wc=on']"
      ]
     },
     "execution_count": 162,
     "metadata": {},
     "output_type": "execute_result"
    }
   ],
   "source": [
    "list(df.loc[df['domain'] == 'jstor.org', 'URL_n'])[0:5]"
   ]
  },
  {
   "cell_type": "markdown",
   "metadata": {},
   "source": [
    "### 55. id.loc.gov"
   ]
  },
  {
   "cell_type": "markdown",
   "metadata": {},
   "source": [
    "No changes required."
   ]
  },
  {
   "cell_type": "code",
   "execution_count": 163,
   "metadata": {},
   "outputs": [
    {
     "data": {
      "text/plain": [
       "['id.loc.gov/authorities/names/nr97035180.html',\n",
       " 'id.loc.gov/authorities/names/n79052939.html',\n",
       " 'id.loc.gov/authorities/names/nr2002015127.html',\n",
       " 'id.loc.gov/authorities/names/n84198664.html',\n",
       " 'id.loc.gov/authorities/names/n88030903.html']"
      ]
     },
     "execution_count": 163,
     "metadata": {},
     "output_type": "execute_result"
    }
   ],
   "source": [
    "list(df.loc[df['domain'] == 'id.loc.gov', 'URL_n'])[0:5]"
   ]
  },
  {
   "cell_type": "markdown",
   "metadata": {},
   "source": [
    "### 56. ssd.jpl.nasa.gov"
   ]
  },
  {
   "cell_type": "markdown",
   "metadata": {},
   "source": [
    "No changes required."
   ]
  },
  {
   "cell_type": "code",
   "execution_count": 164,
   "metadata": {},
   "outputs": [
    {
     "data": {
      "text/plain": [
       "['ssd.jpl.nasa.gov/sbdb.cgi?sstr=610;cad=1',\n",
       " 'ssd.jpl.nasa.gov/sbdb.cgi?sstr=2015DQ224;cad=1#cad',\n",
       " 'ssd.jpl.nasa.gov/sbdb.cgi?sstr=yi-SWAN;orb=1;cov=0;log=0;cad=0#orb',\n",
       " 'ssd.jpl.nasa.gov/sbdb.cgi?sstr=126',\n",
       " 'ssd.jpl.nasa.gov/sbdb.cgi?sstr=C/2007+K5']"
      ]
     },
     "execution_count": 164,
     "metadata": {},
     "output_type": "execute_result"
    }
   ],
   "source": [
    "list(df.loc[df['domain'] == 'ssd.jpl.nasa.gov', 'URL_n'])[0:5]"
   ]
  },
  {
   "cell_type": "markdown",
   "metadata": {},
   "source": [
    "### 57. minorplanetcenter.net"
   ]
  },
  {
   "cell_type": "markdown",
   "metadata": {},
   "source": [
    "One minor tag removed."
   ]
  },
  {
   "cell_type": "code",
   "execution_count": 165,
   "metadata": {},
   "outputs": [
    {
     "data": {
      "text/plain": [
       "['minorplanetcenter.net/db_search/show_object?object_id=52246',\n",
       " 'minorplanetcenter.net/iau/ECS/MPCArchive/MPCArchive_TBL.html',\n",
       " 'minorplanetcenter.net/iau/ECS/MPCArchive/MPCArchive_TBL.html',\n",
       " 'minorplanetcenter.net/db_search/show_object?object_id=51985',\n",
       " 'minorplanetcenter.net/mpec/K18/K18O11.html']"
      ]
     },
     "execution_count": 165,
     "metadata": {},
     "output_type": "execute_result"
    }
   ],
   "source": [
    "list(df.loc[df['domain'] == 'minorplanetcenter.net', 'URL_n'])[0:5]"
   ]
  },
  {
   "cell_type": "code",
   "execution_count": 166,
   "metadata": {},
   "outputs": [],
   "source": [
    "df.loc[df['domain'] == 'minorplanetcenter.net', 'URL_n'] = [re.sub('commit=show&', '', x, flags=re.IGNORECASE) for x in df.loc[df['domain'] == 'minorplanetcenter.net', 'URL_n']]"
   ]
  },
  {
   "cell_type": "code",
   "execution_count": 167,
   "metadata": {},
   "outputs": [
    {
     "data": {
      "text/plain": [
       "['minorplanetcenter.net/db_search/show_object?object_id=52246',\n",
       " 'minorplanetcenter.net/iau/ECS/MPCArchive/MPCArchive_TBL.html',\n",
       " 'minorplanetcenter.net/iau/ECS/MPCArchive/MPCArchive_TBL.html',\n",
       " 'minorplanetcenter.net/db_search/show_object?object_id=51985',\n",
       " 'minorplanetcenter.net/mpec/K18/K18O11.html']"
      ]
     },
     "execution_count": 167,
     "metadata": {},
     "output_type": "execute_result"
    }
   ],
   "source": [
    "list(df.loc[df['domain'] == 'minorplanetcenter.net', 'URL_n'])[0:5]"
   ]
  },
  {
   "cell_type": "markdown",
   "metadata": {},
   "source": [
    "### 58. isni.org"
   ]
  },
  {
   "cell_type": "markdown",
   "metadata": {},
   "source": [
    "No changes required."
   ]
  },
  {
   "cell_type": "code",
   "execution_count": 168,
   "metadata": {},
   "outputs": [
    {
     "data": {
      "text/plain": [
       "['isni.org/isni/0000000079077342',\n",
       " 'isni.org/isni/0000000045012479',\n",
       " 'isni.org/content/isni-members',\n",
       " 'isni.org/isni/0000000122839155',\n",
       " 'isni.org/isni_and_orcid']"
      ]
     },
     "execution_count": 168,
     "metadata": {},
     "output_type": "execute_result"
    }
   ],
   "source": [
    "list(df.loc[df['domain'] == 'isni.org', 'URL_n'])[0:5]"
   ]
  },
  {
   "cell_type": "markdown",
   "metadata": {},
   "source": [
    "### 59. ncbi.nlm.nih.gov"
   ]
  },
  {
   "cell_type": "markdown",
   "metadata": {},
   "source": [
    "One minor tag removed"
   ]
  },
  {
   "cell_type": "code",
   "execution_count": 169,
   "metadata": {},
   "outputs": [
    {
     "data": {
      "text/plain": [
       "['ncbi.nlm.nih.gov/books/NBK470280',\n",
       " 'ncbi.nlm.nih.gov/books/NBK21054',\n",
       " 'ncbi.nlm.nih.gov/books/NBK201460',\n",
       " 'ncbi.nlm.nih.gov/pubmed/14602247',\n",
       " 'ncbi.nlm.nih.gov/pmc/articles/PMC6784102']"
      ]
     },
     "execution_count": 169,
     "metadata": {},
     "output_type": "execute_result"
    }
   ],
   "source": [
    "list(df.loc[df['domain'] == 'ncbi.nlm.nih.gov', 'URL_n'])[0:5]"
   ]
  },
  {
   "cell_type": "code",
   "execution_count": 170,
   "metadata": {},
   "outputs": [],
   "source": [
    "df.loc[df['domain'] == 'ncbi.nlm.nih.gov', 'URL_n'] = [re.sub('/\\?page.*', '', x, flags=re.IGNORECASE) for x in df.loc[df['domain'] == 'ncbi.nlm.nih.gov', 'URL_n']]"
   ]
  },
  {
   "cell_type": "code",
   "execution_count": 171,
   "metadata": {},
   "outputs": [
    {
     "data": {
      "text/plain": [
       "['ncbi.nlm.nih.gov/books/NBK470280',\n",
       " 'ncbi.nlm.nih.gov/books/NBK21054',\n",
       " 'ncbi.nlm.nih.gov/books/NBK201460',\n",
       " 'ncbi.nlm.nih.gov/pubmed/14602247',\n",
       " 'ncbi.nlm.nih.gov/pmc/articles/PMC6784102']"
      ]
     },
     "execution_count": 171,
     "metadata": {},
     "output_type": "execute_result"
    }
   ],
   "source": [
    "list(df.loc[df['domain'] == 'ncbi.nlm.nih.gov', 'URL_n'])[0:5]"
   ]
  },
  {
   "cell_type": "markdown",
   "metadata": {},
   "source": [
    "### 60. d-nb.info"
   ]
  },
  {
   "cell_type": "markdown",
   "metadata": {},
   "source": [
    "No changes required."
   ]
  },
  {
   "cell_type": "code",
   "execution_count": 172,
   "metadata": {},
   "outputs": [
    {
     "data": {
      "text/plain": [
       "['d-nb.info/97558300X/about/html',\n",
       " 'd-nb.info/946113483',\n",
       " 'd-nb.info/gnd/124696945',\n",
       " 'd-nb.info/1026265320/34',\n",
       " 'd-nb.info/750425016']"
      ]
     },
     "execution_count": 172,
     "metadata": {},
     "output_type": "execute_result"
    }
   ],
   "source": [
    "list(df.loc[df['domain'] == 'd-nb.info', 'URL_n'])[0:5]"
   ]
  },
  {
   "cell_type": "markdown",
   "metadata": {},
   "source": [
    "### 61. gbif.org"
   ]
  },
  {
   "cell_type": "markdown",
   "metadata": {},
   "source": [
    "No changes required."
   ]
  },
  {
   "cell_type": "code",
   "execution_count": 173,
   "metadata": {},
   "outputs": [
    {
     "data": {
      "text/plain": [
       "['gbif.org/species/8964145',\n",
       " 'gbif.org/species/156101076',\n",
       " 'gbif.org/species/2118627',\n",
       " 'gbif.org/species/6003314',\n",
       " 'gbif.org/species/2020839']"
      ]
     },
     "execution_count": 173,
     "metadata": {},
     "output_type": "execute_result"
    }
   ],
   "source": [
    "list(df.loc[df['domain'] == 'gbif.org', 'URL_n'])[0:5]"
   ]
  },
  {
   "cell_type": "markdown",
   "metadata": {},
   "source": [
    "### 62. api.semanticscholar.org"
   ]
  },
  {
   "cell_type": "markdown",
   "metadata": {},
   "source": [
    "No changes required."
   ]
  },
  {
   "cell_type": "code",
   "execution_count": 174,
   "metadata": {},
   "outputs": [
    {
     "data": {
      "text/plain": [
       "['api.semanticscholar.org/CorpusID:33224883',\n",
       " 'api.semanticscholar.org/CorpusID:1749330',\n",
       " 'api.semanticscholar.org/CorpusID:120313863']"
      ]
     },
     "execution_count": 174,
     "metadata": {},
     "output_type": "execute_result"
    }
   ],
   "source": [
    "list(df.loc[df['domain'] == 'api.semanticscholar.org', 'URL_n'])[0:5]"
   ]
  },
  {
   "cell_type": "markdown",
   "metadata": {},
   "source": [
    "### 63. musicbrainz.org"
   ]
  },
  {
   "cell_type": "markdown",
   "metadata": {},
   "source": [
    "No changes required."
   ]
  },
  {
   "cell_type": "code",
   "execution_count": 175,
   "metadata": {},
   "outputs": [
    {
     "data": {
      "text/plain": [
       "['musicbrainz.org/release/dca8e8d9-7ff2-4b0b-9520-52158724e0e0',\n",
       " 'musicbrainz.org/release/dd1e6496-4112-4196-98d0-5c49dddebb88',\n",
       " 'musicbrainz.org/work/7acb03e5-c341-41bf-a6e4-86cfa8ee5f06',\n",
       " 'musicbrainz.org/release/aeb18fcf-8450-4358-8fa7-ba6a909c3ce8.html',\n",
       " 'musicbrainz.org/release/45d067fe-d523-4e7a-b9f3-79ae8ca9c12b']"
      ]
     },
     "execution_count": 175,
     "metadata": {},
     "output_type": "execute_result"
    }
   ],
   "source": [
    "list(df.loc[df['domain'] == 'musicbrainz.org', 'URL_n'])[0:5]"
   ]
  },
  {
   "cell_type": "markdown",
   "metadata": {},
   "source": [
    "### 64. data.bnf.fr"
   ]
  },
  {
   "cell_type": "markdown",
   "metadata": {},
   "source": [
    "No changes required."
   ]
  },
  {
   "cell_type": "code",
   "execution_count": 176,
   "metadata": {},
   "outputs": [
    {
     "data": {
      "text/plain": [
       "['data.bnf.fr/17056759/gustave_flaxland_editeur',\n",
       " 'data.bnf.fr/en/14852692/amelie_legallois',\n",
       " 'data.bnf.fr/10720282/edmond_de_martimprey',\n",
       " 'data.bnf.fr/11117206/yves_le_trocquer',\n",
       " 'data.bnf.fr/fr/11900968/bernard_dufosse']"
      ]
     },
     "execution_count": 176,
     "metadata": {},
     "output_type": "execute_result"
    }
   ],
   "source": [
    "list(df.loc[df['domain'] == 'data.bnf.fr', 'URL_n'])[0:5]"
   ]
  },
  {
   "cell_type": "markdown",
   "metadata": {},
   "source": [
    "### 65. catalogue.bnf.fr"
   ]
  },
  {
   "cell_type": "markdown",
   "metadata": {},
   "source": [
    "No changes required."
   ]
  },
  {
   "cell_type": "code",
   "execution_count": 177,
   "metadata": {},
   "outputs": [
    {
     "data": {
      "text/plain": [
       "['catalogue.bnf.fr/ark:/12148/cb12237668c',\n",
       " 'catalogue.bnf.fr/ark:/12148/cb34418441f',\n",
       " 'catalogue.bnf.fr/ark:/12148/cb125334311',\n",
       " 'catalogue.bnf.fr/ark:/12148/cb11907656t',\n",
       " 'catalogue.bnf.fr/ark:/12148/cb322671006/ISBD']"
      ]
     },
     "execution_count": 177,
     "metadata": {},
     "output_type": "execute_result"
    }
   ],
   "source": [
    "list(df.loc[df['domain'] == 'catalogue.bnf.fr', 'URL_n'])[0:5]"
   ]
  },
  {
   "cell_type": "markdown",
   "metadata": {},
   "source": [
    "### 66. npgallery.nps.gov"
   ]
  },
  {
   "cell_type": "markdown",
   "metadata": {},
   "source": [
    "One minor tag removed"
   ]
  },
  {
   "cell_type": "code",
   "execution_count": 178,
   "metadata": {},
   "outputs": [
    {
     "data": {
      "text/plain": [
       "['npgallery.nps.gov/AssetDetail/NRIS/02000094',\n",
       " 'npgallery.nps.gov/AssetDetail/NRIS/85001968',\n",
       " 'npgallery.nps.gov/AssetDetail/6196891a-c658-40aa-9b52-ec622dae4202',\n",
       " 'npgallery.nps.gov/GetAsset?assetID=8bd4eb28-fafe-4ed8-8c5a-c0b07e883c88',\n",
       " 'npgallery.nps.gov/AssetDetail/NRIS/08001327%22']"
      ]
     },
     "execution_count": 178,
     "metadata": {},
     "output_type": "execute_result"
    }
   ],
   "source": [
    "list(df.loc[df['domain'] == 'npgallery.nps.gov', 'URL_n'])[0:5]"
   ]
  },
  {
   "cell_type": "code",
   "execution_count": 179,
   "metadata": {},
   "outputs": [],
   "source": [
    "df.loc[df['domain'] == 'npgallery.nps.gov', 'URL_n'] = [re.sub('#page.*', '', x, flags=re.IGNORECASE) for x in df.loc[df['domain'] == 'npgallery.nps.gov', 'URL_n']]"
   ]
  },
  {
   "cell_type": "code",
   "execution_count": 180,
   "metadata": {},
   "outputs": [
    {
     "data": {
      "text/plain": [
       "['npgallery.nps.gov/AssetDetail/NRIS/02000094',\n",
       " 'npgallery.nps.gov/AssetDetail/NRIS/85001968',\n",
       " 'npgallery.nps.gov/AssetDetail/6196891a-c658-40aa-9b52-ec622dae4202',\n",
       " 'npgallery.nps.gov/GetAsset?assetID=8bd4eb28-fafe-4ed8-8c5a-c0b07e883c88',\n",
       " 'npgallery.nps.gov/AssetDetail/NRIS/08001327%22']"
      ]
     },
     "execution_count": 180,
     "metadata": {},
     "output_type": "execute_result"
    }
   ],
   "source": [
    "list(df.loc[df['domain'] == 'npgallery.nps.gov', 'URL_n'])[0:5]"
   ]
  },
  {
   "cell_type": "markdown",
   "metadata": {},
   "source": [
    "### 67. amigo.geneontology.org"
   ]
  },
  {
   "cell_type": "markdown",
   "metadata": {},
   "source": [
    "One minor error is fixed."
   ]
  },
  {
   "cell_type": "code",
   "execution_count": 181,
   "metadata": {},
   "outputs": [
    {
     "data": {
      "text/plain": [
       "['amigo.geneontology.org/amigo/term/GO:0004252',\n",
       " 'amigo.geneontology.org/',\n",
       " 'amigo.geneontology.org/cgi-bin/amigo/blast.cgi',\n",
       " 'amigo.geneontology.org/amigo/gene_product/UniProtKB:P68032',\n",
       " 'amigo.geneontology.org/cgi-bin/amigo/term-assoc.cgi?action=filter&evcode=all&gptype=all&speciesdb=all&taxid=9606&term=GO:0035253&term_assocs=all']"
      ]
     },
     "execution_count": 181,
     "metadata": {},
     "output_type": "execute_result"
    }
   ],
   "source": [
    "list(df.loc[df['domain'] == 'amigo.geneontology.org', 'URL_n'])[0:5]"
   ]
  },
  {
   "cell_type": "code",
   "execution_count": 182,
   "metadata": {},
   "outputs": [],
   "source": [
    "df.loc[df['domain'] == 'amigo.geneontology.org', 'URL_n'] = [re.sub(',$', '', x, flags=re.IGNORECASE) for x in df.loc[df['domain'] == 'amigo.geneontology.org', 'URL_n']]"
   ]
  },
  {
   "cell_type": "code",
   "execution_count": 183,
   "metadata": {},
   "outputs": [
    {
     "data": {
      "text/plain": [
       "['amigo.geneontology.org/amigo/term/GO:0004252',\n",
       " 'amigo.geneontology.org/',\n",
       " 'amigo.geneontology.org/cgi-bin/amigo/blast.cgi',\n",
       " 'amigo.geneontology.org/amigo/gene_product/UniProtKB:P68032',\n",
       " 'amigo.geneontology.org/cgi-bin/amigo/term-assoc.cgi?action=filter&evcode=all&gptype=all&speciesdb=all&taxid=9606&term=GO:0035253&term_assocs=all']"
      ]
     },
     "execution_count": 183,
     "metadata": {},
     "output_type": "execute_result"
    }
   ],
   "source": [
    "list(df.loc[df['domain'] == 'amigo.geneontology.org', 'URL_n'])[0:5]"
   ]
  },
  {
   "cell_type": "markdown",
   "metadata": {},
   "source": [
    "### 68. irmng.org"
   ]
  },
  {
   "cell_type": "markdown",
   "metadata": {},
   "source": [
    "No changes required."
   ]
  },
  {
   "cell_type": "code",
   "execution_count": 184,
   "metadata": {},
   "outputs": [
    {
     "data": {
      "text/plain": [
       "['irmng.org/aphia.php?id=10234335&p=taxdetails',\n",
       " 'irmng.org/aphia.php?id=1110082&p=taxdetails',\n",
       " 'irmng.org/aphia.php?id=111246&p=taxdetails',\n",
       " 'irmng.org/',\n",
       " 'irmng.org/aphia.php?id=1297141&p=taxdetails']"
      ]
     },
     "execution_count": 184,
     "metadata": {},
     "output_type": "execute_result"
    }
   ],
   "source": [
    "list(df.loc[df['domain'] == 'irmng.org', 'URL_n'])[0:5]"
   ]
  },
  {
   "cell_type": "markdown",
   "metadata": {},
   "source": [
    "### 69. ui.adsabs.harvard.edu"
   ]
  },
  {
   "cell_type": "markdown",
   "metadata": {},
   "source": [
    "By default it goes to \"abstract\"."
   ]
  },
  {
   "cell_type": "code",
   "execution_count": 185,
   "metadata": {},
   "outputs": [
    {
     "data": {
      "text/plain": [
       "['ui.adsabs.harvard.edu/abs/1993A&A...268..714C',\n",
       " 'ui.adsabs.harvard.edu/2018AGUFM.P12A..06H/abstract',\n",
       " 'ui.adsabs.harvard.edu/2013EGUGA..1512869C/abstract',\n",
       " 'ui.adsabs.harvard.edu/abs/1913HarCi.179....1L/abstract',\n",
       " 'ui.adsabs.harvard.edu/2003LRR.....6....5S/abstract']"
      ]
     },
     "execution_count": 185,
     "metadata": {},
     "output_type": "execute_result"
    }
   ],
   "source": [
    "list(df.loc[df['domain'] == 'ui.adsabs.harvard.edu', 'URL_n'])[0:5]"
   ]
  },
  {
   "cell_type": "code",
   "execution_count": 186,
   "metadata": {},
   "outputs": [],
   "source": [
    "df.loc[df['domain'] == 'ui.adsabs.harvard.edu', 'URL_n'] = [re.sub('/abstract$', '', x, flags=re.IGNORECASE) for x in df.loc[df['domain'] == 'ui.adsabs.harvard.edu', 'URL_n']]"
   ]
  },
  {
   "cell_type": "code",
   "execution_count": 187,
   "metadata": {},
   "outputs": [
    {
     "data": {
      "text/plain": [
       "['ui.adsabs.harvard.edu/abs/1993A&A...268..714C',\n",
       " 'ui.adsabs.harvard.edu/2018AGUFM.P12A..06H',\n",
       " 'ui.adsabs.harvard.edu/2013EGUGA..1512869C',\n",
       " 'ui.adsabs.harvard.edu/abs/1913HarCi.179....1L',\n",
       " 'ui.adsabs.harvard.edu/2003LRR.....6....5S']"
      ]
     },
     "execution_count": 187,
     "metadata": {},
     "output_type": "execute_result"
    }
   ],
   "source": [
    "list(df.loc[df['domain'] == 'ui.adsabs.harvard.edu', 'URL_n'])[0:5]"
   ]
  },
  {
   "cell_type": "markdown",
   "metadata": {},
   "source": [
    "### 70. inaturalist.org"
   ]
  },
  {
   "cell_type": "markdown",
   "metadata": {},
   "source": [
    "No changes required."
   ]
  },
  {
   "cell_type": "code",
   "execution_count": 188,
   "metadata": {},
   "outputs": [
    {
     "data": {
      "text/plain": [
       "['inaturalist.org/observations?place_id=1&taxon_id=123634',\n",
       " 'inaturalist.org/observations/1630409',\n",
       " 'inaturalist.org/taxa/141102-Dioscorea-orizabensis',\n",
       " 'inaturalist.org/taxa/634314-Pyrops-karenius',\n",
       " 'inaturalist.org/assessments/474-hippocampus-histrix']"
      ]
     },
     "execution_count": 188,
     "metadata": {},
     "output_type": "execute_result"
    }
   ],
   "source": [
    "list(df.loc[df['domain'] == 'inaturalist.org', 'URL_n'])[0:5]"
   ]
  },
  {
   "cell_type": "markdown",
   "metadata": {},
   "source": [
    "### 71. eol.org"
   ]
  },
  {
   "cell_type": "markdown",
   "metadata": {},
   "source": [
    "One parameter is removed."
   ]
  },
  {
   "cell_type": "code",
   "execution_count": 189,
   "metadata": {},
   "outputs": [
    {
     "data": {
      "text/plain": [
       "['eol.org/pages/80348/overview',\n",
       " 'eol.org/pages/3775992/overview',\n",
       " 'eol.org/pages/3200189/overview',\n",
       " 'eol.org/pages/226633/overview',\n",
       " 'eol.org/pages/3832567/overview']"
      ]
     },
     "execution_count": 189,
     "metadata": {},
     "output_type": "execute_result"
    }
   ],
   "source": [
    "list(df.loc[df['domain'] == 'eol.org', 'URL_n'])[0:5]"
   ]
  },
  {
   "cell_type": "code",
   "execution_count": 190,
   "metadata": {},
   "outputs": [],
   "source": [
    "df.loc[df['domain'] == 'eol.org', 'URL_n'] = [re.sub('\\?category_id.*', '', x, flags=re.IGNORECASE) for x in df.loc[df['domain'] == 'eol.org', 'URL_n']]"
   ]
  },
  {
   "cell_type": "code",
   "execution_count": 191,
   "metadata": {},
   "outputs": [
    {
     "data": {
      "text/plain": [
       "['eol.org/pages/80348/overview',\n",
       " 'eol.org/pages/3775992/overview',\n",
       " 'eol.org/pages/3200189/overview',\n",
       " 'eol.org/pages/226633/overview',\n",
       " 'eol.org/pages/3832567/overview']"
      ]
     },
     "execution_count": 191,
     "metadata": {},
     "output_type": "execute_result"
    }
   ],
   "source": [
    "list(df.loc[df['domain'] == 'eol.org', 'URL_n'])[0:5]"
   ]
  },
  {
   "cell_type": "markdown",
   "metadata": {},
   "source": [
    "### 72. idref.fr"
   ]
  },
  {
   "cell_type": "markdown",
   "metadata": {},
   "source": [
    "No changes required."
   ]
  },
  {
   "cell_type": "code",
   "execution_count": 192,
   "metadata": {},
   "outputs": [
    {
     "data": {
      "text/plain": [
       "['idref.fr/026930528',\n",
       " 'idref.fr/03111170X',\n",
       " 'idref.fr/073946540',\n",
       " 'idref.fr/030573068',\n",
       " 'idref.fr/056983204']"
      ]
     },
     "execution_count": 192,
     "metadata": {},
     "output_type": "execute_result"
    }
   ],
   "source": [
    "list(df.loc[df['domain'] == 'idref.fr', 'URL_n'])[0:5]"
   ]
  },
  {
   "cell_type": "markdown",
   "metadata": {},
   "source": [
    "### 73. data.bibliotheken.nl"
   ]
  },
  {
   "cell_type": "markdown",
   "metadata": {},
   "source": [
    "No changes required."
   ]
  },
  {
   "cell_type": "code",
   "execution_count": 193,
   "metadata": {},
   "outputs": [
    {
     "data": {
      "text/plain": [
       "['data.bibliotheken.nl/doc/thes/p069373124',\n",
       " 'data.bibliotheken.nl/doc/thes/p070549419']"
      ]
     },
     "execution_count": 193,
     "metadata": {},
     "output_type": "execute_result"
    }
   ],
   "source": [
    "list(df.loc[df['domain'] == 'data.bibliotheken.nl', 'URL_n'])[0:5]"
   ]
  },
  {
   "cell_type": "markdown",
   "metadata": {},
   "source": [
    "### 74. id.worldcat.org"
   ]
  },
  {
   "cell_type": "markdown",
   "metadata": {},
   "source": [
    "No changes required."
   ]
  },
  {
   "cell_type": "code",
   "execution_count": 194,
   "metadata": {},
   "outputs": [
    {
     "data": {
      "text/plain": [
       "['id.worldcat.org/fast/1532152']"
      ]
     },
     "execution_count": 194,
     "metadata": {},
     "output_type": "execute_result"
    }
   ],
   "source": [
    "list(df.loc[df['domain'] == 'id.worldcat.org', 'URL_n'])[0:5]"
   ]
  },
  {
   "cell_type": "markdown",
   "metadata": {},
   "source": [
    "### 75. aleph.nkp.cz"
   ]
  },
  {
   "cell_type": "markdown",
   "metadata": {},
   "source": [
    "No changes required."
   ]
  },
  {
   "cell_type": "code",
   "execution_count": 195,
   "metadata": {},
   "outputs": [
    {
     "data": {
      "text/plain": [
       "['aleph.nkp.cz/F/?ccl_term=ica=mzk2009502406&func=find-c&local_base=aut',\n",
       " 'aleph.nkp.cz/F/?CON_LNG=ENG&ccl_term=ica=ola2012681060&func=find-c&local_base=aut',\n",
       " 'aleph.nkp.cz/F/1A499YXG83AQYGS6GL8T6XVVNGI11LQDMDX2UKVNMHQ4ETXT9N-12379?func=short-jump&jump=000001',\n",
       " 'aleph.nkp.cz/F/Q1R11TLHQUE9GRN8DS5LLCKB7BXMG8NNNEKTTMKCBFL4DRXIFU-21478?acc_sequence=000233700&func=accref',\n",
       " 'aleph.nkp.cz/F/?ccl_term=wau=jk01151786+or+wkw=jk01151786&func=find-c&local_base=nkc']"
      ]
     },
     "execution_count": 195,
     "metadata": {},
     "output_type": "execute_result"
    }
   ],
   "source": [
    "list(df.loc[df['domain'] == 'aleph.nkp.cz', 'URL_n'])[0:5]"
   ]
  },
  {
   "cell_type": "markdown",
   "metadata": {},
   "source": [
    "### 76. itis.gov"
   ]
  },
  {
   "cell_type": "markdown",
   "metadata": {},
   "source": [
    "Some parameters are removed."
   ]
  },
  {
   "cell_type": "code",
   "execution_count": 196,
   "metadata": {},
   "outputs": [
    {
     "data": {
      "text/plain": [
       "['itis.gov/servlet/SingleRpt/SingleRpt?search_topic=TSN&search_value=128079',\n",
       " 'itis.gov/servlet/SingleRpt/SingleRpt?search_topic=TSN&search_value=108321',\n",
       " 'itis.gov/servlet/SingleRpt/SingleRpt?search_topic=TSN&search_value=771729',\n",
       " 'itis.gov/servlet/SingleRpt/SingleRpt?search_topic=TSN&search_value=771749',\n",
       " 'itis.gov/servlet/SingleRpt/SingleRpt?search_topic=TSN&search_value=933828']"
      ]
     },
     "execution_count": 196,
     "metadata": {},
     "output_type": "execute_result"
    }
   ],
   "source": [
    "list(df.loc[df['domain'] == 'itis.gov', 'URL_n'])[0:5]"
   ]
  },
  {
   "cell_type": "code",
   "execution_count": 197,
   "metadata": {},
   "outputs": [],
   "source": [
    "df.loc[df['domain'] == 'itis.gov', 'URL_n'] = [re.sub('#null$', '', x, flags=re.IGNORECASE) for x in df.loc[df['domain'] == 'itis.gov', 'URL_n']]\n",
    "df.loc[df['domain'] == 'itis.gov', 'URL_n'] = [re.sub('(print_version=prt&|&source=(to_print|from_print|html)$)', '', x, flags=re.IGNORECASE) for x in df.loc[df['domain'] == 'itis.gov', 'URL_n']]"
   ]
  },
  {
   "cell_type": "code",
   "execution_count": 198,
   "metadata": {},
   "outputs": [
    {
     "data": {
      "text/plain": [
       "['itis.gov/servlet/SingleRpt/SingleRpt?search_topic=TSN&search_value=128079',\n",
       " 'itis.gov/servlet/SingleRpt/SingleRpt?search_topic=TSN&search_value=108321',\n",
       " 'itis.gov/servlet/SingleRpt/SingleRpt?search_topic=TSN&search_value=771729',\n",
       " 'itis.gov/servlet/SingleRpt/SingleRpt?search_topic=TSN&search_value=771749',\n",
       " 'itis.gov/servlet/SingleRpt/SingleRpt?search_topic=TSN&search_value=933828']"
      ]
     },
     "execution_count": 198,
     "metadata": {},
     "output_type": "execute_result"
    }
   ],
   "source": [
    "list(df.loc[df['domain'] == 'itis.gov', 'URL_n'])[0:5]"
   ]
  },
  {
   "cell_type": "markdown",
   "metadata": {},
   "source": [
    "### 77. geonames.usgs.gov"
   ]
  },
  {
   "cell_type": "markdown",
   "metadata": {},
   "source": [
    "Tags are removed."
   ]
  },
  {
   "cell_type": "code",
   "execution_count": 199,
   "metadata": {},
   "outputs": [
    {
     "data": {
      "text/plain": [
       "['geonames.usgs.gov/pls/gnispublic/f?p=132:3:4314539870447431::NO:3:P3_FID,P3_TITLE:1533909',\n",
       " 'geonames.usgs.gov/pls/gnispublic/f?p=132:3:3417380616610539::NO:3:P3_FID,P3_TITLE:1506304',\n",
       " 'geonames.usgs.gov/pls/gnispublic/f?p=132:3:3439465086258793::NO:3:P3_FID,P3_TITLE:1507015',\n",
       " 'geonames.usgs.gov/pls/gnispublic/f?p=132:3:3439465086258793::NO::P3_FID,P3_TITLE:1524711',\n",
       " 'geonames.usgs.gov/pls/gnispublic/f?p=gnispq:3:::NO::P3_FID:1199873']"
      ]
     },
     "execution_count": 199,
     "metadata": {},
     "output_type": "execute_result"
    }
   ],
   "source": [
    "list(df.loc[df['domain'] == 'geonames.usgs.gov', 'URL_n'])[0:5]"
   ]
  },
  {
   "cell_type": "code",
   "execution_count": 200,
   "metadata": {},
   "outputs": [],
   "source": [
    "df.loc[df['domain'] == 'geonames.usgs.gov', 'URL_n'] = [re.sub('#.*', '', x, flags=re.IGNORECASE) for x in df.loc[df['domain'] == 'geonames.usgs.gov', 'URL_n']]"
   ]
  },
  {
   "cell_type": "code",
   "execution_count": 201,
   "metadata": {},
   "outputs": [
    {
     "data": {
      "text/plain": [
       "['geonames.usgs.gov/pls/gnispublic/f?p=132:3:4314539870447431::NO:3:P3_FID,P3_TITLE:1533909',\n",
       " 'geonames.usgs.gov/pls/gnispublic/f?p=132:3:3417380616610539::NO:3:P3_FID,P3_TITLE:1506304',\n",
       " 'geonames.usgs.gov/pls/gnispublic/f?p=132:3:3439465086258793::NO:3:P3_FID,P3_TITLE:1507015',\n",
       " 'geonames.usgs.gov/pls/gnispublic/f?p=132:3:3439465086258793::NO::P3_FID,P3_TITLE:1524711',\n",
       " 'geonames.usgs.gov/pls/gnispublic/f?p=gnispq:3:::NO::P3_FID:1199873']"
      ]
     },
     "execution_count": 201,
     "metadata": {},
     "output_type": "execute_result"
    }
   ],
   "source": [
    "list(df.loc[df['domain'] == 'geonames.usgs.gov', 'URL_n'])[0:5]"
   ]
  },
  {
   "cell_type": "markdown",
   "metadata": {},
   "source": [
    "### 78. geohack.toolforge.org"
   ]
  },
  {
   "cell_type": "code",
   "execution_count": 202,
   "metadata": {},
   "outputs": [
    {
     "data": {
      "text/plain": [
       "[]"
      ]
     },
     "execution_count": 202,
     "metadata": {},
     "output_type": "execute_result"
    }
   ],
   "source": [
    "list(df.loc[df['domain'] == 'geohack.toolforge.org', 'URL_n'])[0:5]"
   ]
  },
  {
   "cell_type": "markdown",
   "metadata": {},
   "source": [
    "### 79. historicengland.org.uk"
   ]
  },
  {
   "cell_type": "markdown",
   "metadata": {},
   "source": [
    "No changes required."
   ]
  },
  {
   "cell_type": "code",
   "execution_count": 203,
   "metadata": {},
   "outputs": [
    {
     "data": {
      "text/plain": [
       "['historicengland.org.uk/listing/what-is-designation/listed-buildings',\n",
       " 'historicengland.org.uk/listing/what-is-designation/listed-buildings',\n",
       " 'historicengland.org.uk/listing/what-is-designation/listed-buildings',\n",
       " 'historicengland.org.uk/listing/what-is-designation/listed-buildings',\n",
       " 'historicengland.org.uk/listing/what-is-designation/listed-buildings']"
      ]
     },
     "execution_count": 203,
     "metadata": {},
     "output_type": "execute_result"
    }
   ],
   "source": [
    "list(df.loc[df['domain'] == 'historicengland.org.uk', 'URL_n'])[0:5]"
   ]
  },
  {
   "cell_type": "markdown",
   "metadata": {},
   "source": [
    "### Final data processing"
   ]
  },
  {
   "cell_type": "code",
   "execution_count": 204,
   "metadata": {},
   "outputs": [],
   "source": [
    "df['URL_n'] = [re.sub('(/+$|&+$|\\?+$)', '', x) for x in df['URL_n']]\n",
    "df['URL_n'] = [re.sub('(/+$|&+$|\\?+$)', '', x) for x in df['URL_n']]\n",
    "df['URL_n'] = [re.sub('(/+$|&+$|\\?+$)', '', x) for x in df['URL_n']]"
   ]
  },
  {
   "cell_type": "code",
   "execution_count": 206,
   "metadata": {},
   "outputs": [
    {
     "data": {
      "text/html": [
       "<div>\n",
       "<style scoped>\n",
       "    .dataframe tbody tr th:only-of-type {\n",
       "        vertical-align: middle;\n",
       "    }\n",
       "\n",
       "    .dataframe tbody tr th {\n",
       "        vertical-align: top;\n",
       "    }\n",
       "\n",
       "    .dataframe thead th {\n",
       "        text-align: right;\n",
       "    }\n",
       "</style>\n",
       "<table border=\"1\" class=\"dataframe\">\n",
       "  <thead>\n",
       "    <tr style=\"text-align: right;\">\n",
       "      <th></th>\n",
       "      <th>page_id</th>\n",
       "      <th>URL</th>\n",
       "      <th>URL_n</th>\n",
       "      <th>domain</th>\n",
       "    </tr>\n",
       "  </thead>\n",
       "  <tbody>\n",
       "    <tr>\n",
       "      <th>0</th>\n",
       "      <td>39495284</td>\n",
       "      <td>http://www.columbia.edu/cu/lweb/digital/collec...</td>\n",
       "      <td>columbia.edu/cu/lweb/digital/collections/cul/t...</td>\n",
       "      <td>columbia.edu</td>\n",
       "    </tr>\n",
       "    <tr>\n",
       "      <th>1</th>\n",
       "      <td>3528721</td>\n",
       "      <td>http://allafrica.com/stories/200512190886.html</td>\n",
       "      <td>allafrica.com/stories/200512190886.html</td>\n",
       "      <td>allafrica.com</td>\n",
       "    </tr>\n",
       "    <tr>\n",
       "      <th>3</th>\n",
       "      <td>8552398</td>\n",
       "      <td>https://www.nytimes.com/1997/07/27/magazine/th...</td>\n",
       "      <td>nytimes.com/1997/07/27/magazine/the-thin-red-l...</td>\n",
       "      <td>nytimes.com</td>\n",
       "    </tr>\n",
       "    <tr>\n",
       "      <th>4</th>\n",
       "      <td>23782313</td>\n",
       "      <td>https://www.nytimes.com/2005/07/19/arts/televi...</td>\n",
       "      <td>nytimes.com/2005/07/19/arts/television/19heff....</td>\n",
       "      <td>nytimes.com</td>\n",
       "    </tr>\n",
       "    <tr>\n",
       "      <th>6</th>\n",
       "      <td>17288329</td>\n",
       "      <td>http://www.ancientlibrary.com/smith-bio/0075.html</td>\n",
       "      <td>ancientlibrary.com/smith-bio/0075.html</td>\n",
       "      <td>ancientlibrary.com</td>\n",
       "    </tr>\n",
       "  </tbody>\n",
       "</table>\n",
       "</div>"
      ],
      "text/plain": [
       "    page_id                                                URL  \\\n",
       "0  39495284  http://www.columbia.edu/cu/lweb/digital/collec...   \n",
       "1   3528721     http://allafrica.com/stories/200512190886.html   \n",
       "3   8552398  https://www.nytimes.com/1997/07/27/magazine/th...   \n",
       "4  23782313  https://www.nytimes.com/2005/07/19/arts/televi...   \n",
       "6  17288329  http://www.ancientlibrary.com/smith-bio/0075.html   \n",
       "\n",
       "                                               URL_n              domain  \n",
       "0  columbia.edu/cu/lweb/digital/collections/cul/t...        columbia.edu  \n",
       "1            allafrica.com/stories/200512190886.html       allafrica.com  \n",
       "3  nytimes.com/1997/07/27/magazine/the-thin-red-l...         nytimes.com  \n",
       "4  nytimes.com/2005/07/19/arts/television/19heff....         nytimes.com  \n",
       "6             ancientlibrary.com/smith-bio/0075.html  ancientlibrary.com  "
      ]
     },
     "execution_count": 206,
     "metadata": {},
     "output_type": "execute_result"
    }
   ],
   "source": [
    "df = df.rename(columns={'id': 'page_id'})\n",
    "df.head()"
   ]
  },
  {
   "cell_type": "markdown",
   "metadata": {},
   "source": [
    "There are 18,501,868 unique URLs."
   ]
  },
  {
   "cell_type": "code",
   "execution_count": 207,
   "metadata": {},
   "outputs": [
    {
     "data": {
      "text/plain": [
       "18501868"
      ]
     },
     "execution_count": 207,
     "metadata": {},
     "output_type": "execute_result"
    }
   ],
   "source": [
    "len(df.groupby('URL_n').count().index)"
   ]
  },
  {
   "cell_type": "code",
   "execution_count": 208,
   "metadata": {},
   "outputs": [],
   "source": [
    "df.to_csv('references/url_ref_norm.tsv', sep='\\t', index=False)"
   ]
  }
 ],
 "metadata": {
  "kernelspec": {
   "display_name": "Python 3 (ipykernel)",
   "language": "python",
   "name": "python3"
  },
  "language_info": {
   "codemirror_mode": {
    "name": "ipython",
    "version": 3
   },
   "file_extension": ".py",
   "mimetype": "text/x-python",
   "name": "python",
   "nbconvert_exporter": "python",
   "pygments_lexer": "ipython3",
   "version": "3.8.8"
  }
 },
 "nbformat": 4,
 "nbformat_minor": 4
}
